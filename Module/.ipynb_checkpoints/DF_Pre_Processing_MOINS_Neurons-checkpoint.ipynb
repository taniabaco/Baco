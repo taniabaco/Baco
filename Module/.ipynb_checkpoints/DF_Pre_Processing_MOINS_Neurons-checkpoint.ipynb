{
 "cells": [
  {
   "cell_type": "markdown",
   "metadata": {},
   "source": [
    "# Data Frames Pre-Pocessing"
   ]
  },
  {
   "cell_type": "markdown",
   "metadata": {},
   "source": [
    "## On enleve les rectangles de nos donnees et on essaye d avoir autant de neurones que d astrocytes dans notre dataframe"
   ]
  },
  {
   "cell_type": "code",
   "execution_count": 1,
   "metadata": {
    "collapsed": true
   },
   "outputs": [],
   "source": [
    "%run ./Import_CSV_data_COnvert_to_DataFrames.ipynb"
   ]
  },
  {
   "cell_type": "code",
   "execution_count": 3,
   "metadata": {
    "collapsed": true
   },
   "outputs": [],
   "source": [
    "%run ./configure.ipynb"
   ]
  },
  {
   "cell_type": "code",
   "execution_count": 2,
   "metadata": {
    "collapsed": true
   },
   "outputs": [],
   "source": [
    "dfpoints=read_csv(projectpath+'io/Input/Bloc01_pointes_first_mod.csv')"
   ]
  },
  {
   "cell_type": "markdown",
   "metadata": {},
   "source": [
    "## Index the Clones"
   ]
  },
  {
   "cell_type": "code",
   "execution_count": 2,
   "metadata": {
    "collapsed": true
   },
   "outputs": [],
   "source": [
    "def Get_Clones(Data_frame):\n",
    "    ROI_Index=np.arange(0,Data_frame.shape[0])\n",
    "    ROI_Index=np.zeros(ROI_Index.shape[0])\n",
    "    ROI_Index=ROI_Index.reshape(-1,1)\n",
    "    \n",
    "    for k in range(1,Data_frame.shape[0]) :\n",
    "        if Data_frame.Name[k]=='r' :\n",
    "            ROI_Index[k]=ROI_Index[k-1]+1\n",
    "        else :\n",
    "            ROI_Index[k]=ROI_Index[k-1]\n",
    "        ROI_Index\n",
    "    \n",
    "    Data_frame['Clone']=ROI_Index\n",
    "    np.concatenate((Data_frame,ROI_Index), axis=1)\n",
    "    return(Data_frame)   "
   ]
  },
  {
   "cell_type": "code",
   "execution_count": 3,
   "metadata": {
    "collapsed": true
   },
   "outputs": [],
   "source": [
    "dfpoints=Get_Clones(dfpoints)"
   ]
  },
  {
   "cell_type": "markdown",
   "metadata": {},
   "source": [
    "# Index the type ( 0 : None, 1: Astrocyte, 2: Neuron)"
   ]
  },
  {
   "cell_type": "code",
   "execution_count": 4,
   "metadata": {
    "collapsed": true
   },
   "outputs": [],
   "source": [
    "def Get_Type(Data_frame):\n",
    "    index_Type=np.arange(0,Data_frame.shape[0])\n",
    "    index_Type=np.zeros(index_Type.shape[0])\n",
    "    index_Type=index_Type.reshape(-1,1)\n",
    "    \n",
    "    for l in range(0, dfpoints.shape[0]):\n",
    "        if Data_frame.Name[l]=='m' :\n",
    "            index_Type[l]=1\n",
    "        elif Data_frame.Name[l]=='r':\n",
    "            index_Type[l]=0\n",
    "        else :\n",
    "            index_Type[l]=2\n",
    "        index_Type    \n",
    "    \n",
    "    Data_frame['TYPE']=index_Type\n",
    "    np.concatenate((Data_frame,index_Type), axis=1)\n",
    "    \n",
    "    return(Data_frame)   "
   ]
  },
  {
   "cell_type": "code",
   "execution_count": 5,
   "metadata": {
    "collapsed": true
   },
   "outputs": [],
   "source": [
    "dfpoints=Get_Type(dfpoints)"
   ]
  },
  {
   "cell_type": "code",
   "execution_count": 8,
   "metadata": {},
   "outputs": [
    {
     "data": {
      "text/html": [
       "<div>\n",
       "<table border=\"1\" class=\"dataframe\">\n",
       "  <thead>\n",
       "    <tr style=\"text-align: right;\">\n",
       "      <th></th>\n",
       "      <th>Index</th>\n",
       "      <th>Name</th>\n",
       "      <th>Type</th>\n",
       "      <th>X</th>\n",
       "      <th>Y</th>\n",
       "      <th>Width</th>\n",
       "      <th>Height</th>\n",
       "      <th>Color</th>\n",
       "      <th>Fill</th>\n",
       "      <th>LWidth</th>\n",
       "      <th>Pos</th>\n",
       "      <th>C</th>\n",
       "      <th>Z</th>\n",
       "      <th>T</th>\n",
       "      <th>Clone</th>\n",
       "      <th>TYPE</th>\n",
       "    </tr>\n",
       "  </thead>\n",
       "  <tbody>\n",
       "    <tr>\n",
       "      <th>1</th>\n",
       "      <td>1</td>\n",
       "      <td>m</td>\n",
       "      <td>Point</td>\n",
       "      <td>1244</td>\n",
       "      <td>3615</td>\n",
       "      <td>1</td>\n",
       "      <td>1</td>\n",
       "      <td>none</td>\n",
       "      <td>none</td>\n",
       "      <td>0</td>\n",
       "      <td>31</td>\n",
       "      <td>0</td>\n",
       "      <td>0</td>\n",
       "      <td>0</td>\n",
       "      <td>0.0</td>\n",
       "      <td>1.0</td>\n",
       "    </tr>\n",
       "    <tr>\n",
       "      <th>2</th>\n",
       "      <td>2</td>\n",
       "      <td>m</td>\n",
       "      <td>Point</td>\n",
       "      <td>1281</td>\n",
       "      <td>3551</td>\n",
       "      <td>1</td>\n",
       "      <td>1</td>\n",
       "      <td>none</td>\n",
       "      <td>none</td>\n",
       "      <td>0</td>\n",
       "      <td>38</td>\n",
       "      <td>0</td>\n",
       "      <td>0</td>\n",
       "      <td>0</td>\n",
       "      <td>0.0</td>\n",
       "      <td>1.0</td>\n",
       "    </tr>\n",
       "    <tr>\n",
       "      <th>3</th>\n",
       "      <td>3</td>\n",
       "      <td>0012-3590-1256</td>\n",
       "      <td>Point</td>\n",
       "      <td>1256</td>\n",
       "      <td>3590</td>\n",
       "      <td>1</td>\n",
       "      <td>1</td>\n",
       "      <td>none</td>\n",
       "      <td>none</td>\n",
       "      <td>0</td>\n",
       "      <td>12</td>\n",
       "      <td>0</td>\n",
       "      <td>0</td>\n",
       "      <td>0</td>\n",
       "      <td>0.0</td>\n",
       "      <td>2.0</td>\n",
       "    </tr>\n",
       "    <tr>\n",
       "      <th>4</th>\n",
       "      <td>4</td>\n",
       "      <td>0016-3610-1267</td>\n",
       "      <td>Point</td>\n",
       "      <td>1267</td>\n",
       "      <td>3610</td>\n",
       "      <td>1</td>\n",
       "      <td>1</td>\n",
       "      <td>none</td>\n",
       "      <td>none</td>\n",
       "      <td>0</td>\n",
       "      <td>16</td>\n",
       "      <td>0</td>\n",
       "      <td>0</td>\n",
       "      <td>0</td>\n",
       "      <td>0.0</td>\n",
       "      <td>2.0</td>\n",
       "    </tr>\n",
       "    <tr>\n",
       "      <th>5</th>\n",
       "      <td>5</td>\n",
       "      <td>0020-3567-1233</td>\n",
       "      <td>Point</td>\n",
       "      <td>1233</td>\n",
       "      <td>3567</td>\n",
       "      <td>1</td>\n",
       "      <td>1</td>\n",
       "      <td>none</td>\n",
       "      <td>none</td>\n",
       "      <td>0</td>\n",
       "      <td>20</td>\n",
       "      <td>0</td>\n",
       "      <td>0</td>\n",
       "      <td>0</td>\n",
       "      <td>0.0</td>\n",
       "      <td>2.0</td>\n",
       "    </tr>\n",
       "  </tbody>\n",
       "</table>\n",
       "</div>"
      ],
      "text/plain": [
       "   Index            Name   Type     X     Y  Width  Height Color  Fill  \\\n",
       "1      1               m  Point  1244  3615      1       1  none  none   \n",
       "2      2               m  Point  1281  3551      1       1  none  none   \n",
       "3      3  0012-3590-1256  Point  1256  3590      1       1  none  none   \n",
       "4      4  0016-3610-1267  Point  1267  3610      1       1  none  none   \n",
       "5      5  0020-3567-1233  Point  1233  3567      1       1  none  none   \n",
       "\n",
       "   LWidth  Pos  C  Z  T  Clone  TYPE  \n",
       "1       0   31  0  0  0    0.0   1.0  \n",
       "2       0   38  0  0  0    0.0   1.0  \n",
       "3       0   12  0  0  0    0.0   2.0  \n",
       "4       0   16  0  0  0    0.0   2.0  \n",
       "5       0   20  0  0  0    0.0   2.0  "
      ]
     },
     "execution_count": 8,
     "metadata": {},
     "output_type": "execute_result"
    }
   ],
   "source": [
    "dfpoints=dfpoints.loc[dfpoints.TYPE!=0].copy()"
   ]
  },
  {
   "cell_type": "code",
   "execution_count": 18,
   "metadata": {
    "collapsed": true
   },
   "outputs": [],
   "source": [
    "# Reduire le nombre de neurones de la base de donnees\n",
    "data_Astrocytes=dfpoints.loc[dfpoints.TYPE==1.0].copy()\n",
    "data_Astrocytes.head()\n",
    "\n",
    "data_Neurons=dfpoints.loc[dfpoints.TYPE==2.0].copy()\n",
    "idx = np.random.randint(0,len(data_Neurons),size=(len(data_Astrocytes),))\n",
    "data_Neurons=data_Neurons.iloc[idx].copy()\n",
    "\n",
    "dfpoints= data_Neurons.append(data_Astrocytes).copy()"
   ]
  },
  {
   "cell_type": "code",
   "execution_count": 59,
   "metadata": {
    "collapsed": true
   },
   "outputs": [],
   "source": [
    "## QUAND ON CONSIDERE AUSSI LES RECTANGLES\n",
    "\n",
    "# # Reduire le nombre de neurones de la base de donnees\n",
    "# data_Astrocytes=dfpoints.loc[dfpoints.TYPE==1.0].copy()\n",
    "# data_Astrocytes.head()\n",
    "\n",
    "# data_Neurons=dfpoints.loc[dfpoints.TYPE==2.0].copy()\n",
    "# idx = np.random.randint(0,len(data_Neurons),size=(len(data_Astrocytes),))\n",
    "# data_Neurons=data_Neurons.iloc[idx].copy()\n",
    "\n",
    "# data_Rect=dfpoints.loc[dfpoints.TYPE==0.0].copy()\n",
    "\n",
    "# dfpoints= data_Neurons.append(data_Astrocytes).copy()\n",
    "# dfpoints= dfpoints.append(data_Rect).copy()\n"
   ]
  },
  {
   "cell_type": "code",
   "execution_count": null,
   "metadata": {
    "collapsed": true
   },
   "outputs": [],
   "source": []
  },
  {
   "cell_type": "markdown",
   "metadata": {},
   "source": [
    "# Get image Informations"
   ]
  },
  {
   "cell_type": "code",
   "execution_count": 19,
   "metadata": {
    "collapsed": true
   },
   "outputs": [],
   "source": [
    "%run ../Connection_to_server.ipynb\n",
    "imageId = 451\n",
    "image = conn.getObject(\"Image\", imageId)\n",
    "pixels = image.getPrimaryPixels() # get raw pixels information"
   ]
  },
  {
   "cell_type": "markdown",
   "metadata": {},
   "source": [
    "## DATA FRAMES"
   ]
  },
  {
   "cell_type": "code",
   "execution_count": 20,
   "metadata": {
    "collapsed": true
   },
   "outputs": [],
   "source": [
    "# Index Image's ID\n",
    "def Get_Data_frame(imageId, Data_frame):\n",
    "    D_Index=np.arange(0,Data_frame.shape[0])\n",
    "    D_Index=np.ones(D_Index.shape[0])\n",
    "    D_Index=imageId*D_Index.reshape(-1,1)\n",
    "    Data_frame['ID_Image']=D_Index\n",
    "    return(Data_frame)   "
   ]
  },
  {
   "cell_type": "code",
   "execution_count": 24,
   "metadata": {
    "collapsed": true
   },
   "outputs": [],
   "source": [
    "def getDF(DF):\n",
    "    D_Indexc=np.arange(0,DF.shape[0])\n",
    "    D_Indexc=np.ones(D_Indexc.shape[0])\n",
    "    D_Indexc=D_Indexc.reshape(-1,1)\n",
    "    for i in range(0, DF.shape[0]):\n",
    "        D_Indexc[i]=i*D_Indexc[i]\n",
    "    D_Indexc\n",
    "    DFS=DF\n",
    "    DFS['indice']=D_Indexc\n",
    "    return(DFS)"
   ]
  },
  {
   "cell_type": "markdown",
   "metadata": {},
   "source": [
    "### Get Astrocytes' and Neurons' DF"
   ]
  },
  {
   "cell_type": "code",
   "execution_count": 25,
   "metadata": {
    "collapsed": true
   },
   "outputs": [],
   "source": [
    "def Switch_Indices(DF):\n",
    "    (DF.index)=(DF.indice)[:]\n",
    "    return(DF)"
   ]
  },
  {
   "cell_type": "code",
   "execution_count": 26,
   "metadata": {
    "collapsed": true
   },
   "outputs": [],
   "source": [
    "DF_=Get_Data_frame(imageId, dfpoints)"
   ]
  },
  {
   "cell_type": "code",
   "execution_count": 27,
   "metadata": {
    "collapsed": true
   },
   "outputs": [],
   "source": [
    "Data_FRAMES=getDF(DF_)"
   ]
  },
  {
   "cell_type": "code",
   "execution_count": 28,
   "metadata": {
    "collapsed": true
   },
   "outputs": [],
   "source": [
    "Data_FRAMES=Switch_Indices(Data_FRAMES)"
   ]
  },
  {
   "cell_type": "markdown",
   "metadata": {},
   "source": [
    "## Borders conditions to exclude data"
   ]
  },
  {
   "cell_type": "code",
   "execution_count": 29,
   "metadata": {
    "collapsed": true
   },
   "outputs": [],
   "source": [
    "# Exclure les x et y negatifs sinon ca ne fonctionne pas!\n",
    "def exclure(dfin,weight,height):\n",
    "    a=dfin.loc[dfin.X>=(weight/2)]\n",
    "    b=a.loc[a.Y!=2446] # POUR NOTRE CAS\n",
    "    c=b.loc[b.Y>=(height/2)]\n",
    "    d=c.loc[c.Y<=(max(c.Y)-height/2)]\n",
    "    dfout=d.loc[d.X<=(max(d.X)-weight/2)]\n",
    "    return(dfout)"
   ]
  },
  {
   "cell_type": "code",
   "execution_count": 30,
   "metadata": {
    "collapsed": true
   },
   "outputs": [],
   "source": [
    "# Data_FRAMES=exclure(Data_FRAMES,50,50)"
   ]
  },
  {
   "cell_type": "code",
   "execution_count": null,
   "metadata": {
    "collapsed": true
   },
   "outputs": [],
   "source": [
    "# TEST AVEC W=H=25\n",
    "Data_FRAMES=exclure(Data_FRAMES,25, 25)"
   ]
  },
  {
   "cell_type": "code",
   "execution_count": 31,
   "metadata": {
    "collapsed": true
   },
   "outputs": [],
   "source": [
    "D_F=getDF(Data_FRAMES)"
   ]
  },
  {
   "cell_type": "code",
   "execution_count": 32,
   "metadata": {
    "collapsed": true
   },
   "outputs": [],
   "source": [
    "Data_FRAMES=Switch_Indices(D_F)"
   ]
  },
  {
   "cell_type": "markdown",
   "metadata": {},
   "source": [
    "# Save the Data Frames "
   ]
  },
  {
   "cell_type": "code",
   "execution_count": 72,
   "metadata": {
    "collapsed": true
   },
   "outputs": [],
   "source": [
    "import pickle\n",
    "import pandas as pd"
   ]
  },
  {
   "cell_type": "code",
   "execution_count": 73,
   "metadata": {
    "collapsed": true
   },
   "outputs": [],
   "source": [
    "Data_FRAMES.to_pickle(projectpath+'io/Output/Data_FRAMES.pkl')"
   ]
  },
  {
   "cell_type": "code",
   "execution_count": null,
   "metadata": {
    "collapsed": true
   },
   "outputs": [],
   "source": []
  }
 ],
 "metadata": {
  "kernelspec": {
   "display_name": "Python 2",
   "language": "python",
   "name": "python2"
  },
  "language_info": {
   "codemirror_mode": {
    "name": "ipython",
    "version": 2
   },
   "file_extension": ".py",
   "mimetype": "text/x-python",
   "name": "python",
   "nbconvert_exporter": "python",
   "pygments_lexer": "ipython2",
   "version": "2.7.12"
  }
 },
 "nbformat": 4,
 "nbformat_minor": 2
}
