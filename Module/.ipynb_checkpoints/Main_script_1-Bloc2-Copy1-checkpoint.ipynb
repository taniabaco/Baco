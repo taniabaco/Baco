{
 "cells": [
  {
   "cell_type": "markdown",
   "metadata": {},
   "source": [
    "# Pipeline : \n",
    "### data processing of the manually annoted dataset\n",
    "### image processing : extraction of RGB volumes\n",
    "### classifier based on WND-charm Model\n",
    "### PCA & RDF\n",
    "### Build a classifier\n",
    "### Analyse False Positives\n",
    "### Prediction of Neurons, Astrocytes, Background in ROI's clone"
   ]
  },
  {
   "cell_type": "code",
   "execution_count": 1,
   "metadata": {
    "collapsed": true
   },
   "outputs": [],
   "source": [
    "import numpy as np\n",
    "import pandas as pd\n",
    "from functools import partial\n",
    "import multiprocessing\n",
    "%matplotlib notebook\n",
    "import matplotlib.pyplot as plt\n",
    "import matplotlib.image as mpimg\n",
    "import matplotlib.colors as cm\n",
    "import pickle\n",
    "import time\n",
    "from pandas import DataFrame, read_csv,concat,merge"
   ]
  },
  {
   "cell_type": "code",
   "execution_count": 2,
   "metadata": {
    "collapsed": true
   },
   "outputs": [],
   "source": [
    "%run ./configure.ipynb"
   ]
  },
  {
   "cell_type": "code",
   "execution_count": 3,
   "metadata": {
    "collapsed": true
   },
   "outputs": [],
   "source": [
    "%run ../Connection_to_server.ipynb"
   ]
  },
  {
   "cell_type": "code",
   "execution_count": 31,
   "metadata": {
    "collapsed": true
   },
   "outputs": [],
   "source": [
    "imageId = 462 #451\n",
    "weight=25\n",
    "height=25"
   ]
  },
  {
   "cell_type": "markdown",
   "metadata": {},
   "source": [
    "## Pre-pocessing of the manually annotated Dataset"
   ]
  },
  {
   "cell_type": "code",
   "execution_count": 5,
   "metadata": {
    "collapsed": true
   },
   "outputs": [],
   "source": [
    "import Pre_Processing_the_annotated_dataset as pp\n",
    "reload(pp);\n",
    "import Add_tiles_to_dataFrame as Adt\n",
    "reload(Adt);"
   ]
  },
  {
   "cell_type": "code",
   "execution_count": 6,
   "metadata": {
    "collapsed": true
   },
   "outputs": [],
   "source": [
    "dfpoints1=read_csv(projectpath+'io/Input/Bloc01_pointes_first_mod.csv')\n"
   ]
  },
  {
   "cell_type": "raw",
   "metadata": {},
   "source": [
    "dfpoints11=Adt.Add_tiles_to_dataFrame(dfpoints1, weight, height)"
   ]
  },
  {
   "cell_type": "raw",
   "metadata": {},
   "source": [
    "dfpoints11.to_pickle(projectpath+'io/Output/dfpoints11.pkl')"
   ]
  },
  {
   "cell_type": "code",
   "execution_count": 7,
   "metadata": {
    "collapsed": true
   },
   "outputs": [],
   "source": [
    "dfpoints11=pd.read_pickle(projectpath+'io/Output/dfpoints11.pkl')"
   ]
  },
  {
   "cell_type": "code",
   "execution_count": 14,
   "metadata": {
    "collapsed": true
   },
   "outputs": [],
   "source": [
    "# Bloc 2\n",
    "dfpoints2=read_csv(projectpath+'io/Input/Bloc02_pointes_second.csv')"
   ]
  },
  {
   "cell_type": "raw",
   "metadata": {},
   "source": [
    "dfpoints22=Adt.Add_tiles_to_dataFrame(dfpoints2, weight, height)"
   ]
  },
  {
   "cell_type": "raw",
   "metadata": {},
   "source": [
    "dfpoints22.to_pickle(projectpath+'io/Output/dfpoints22.pkl')"
   ]
  },
  {
   "cell_type": "code",
   "execution_count": 17,
   "metadata": {
    "collapsed": true
   },
   "outputs": [],
   "source": [
    "dfpoints22=pd.read_pickle(projectpath+'io/Output/dfpoints22.pkl')"
   ]
  },
  {
   "cell_type": "code",
   "execution_count": null,
   "metadata": {},
   "outputs": [],
   "source": []
  },
  {
   "cell_type": "code",
   "execution_count": 21,
   "metadata": {
    "collapsed": true
   },
   "outputs": [],
   "source": [
    "import Pre_Classification_process as pcp\n",
    "reload(pcp);"
   ]
  },
  {
   "cell_type": "raw",
   "metadata": {},
   "source": [
    "%%time\n",
    "(ffv1, dtf1)=pcp.Get_informations_for_classifier(imageId, weight, height, dfpoints11,projectpath)\n",
    "#CPU times: user 36.5 s, sys: 3min 14s, total: 3min 50s\n",
    "#Wall time: 1h 23min"
   ]
  },
  {
   "cell_type": "code",
   "execution_count": 23,
   "metadata": {
    "collapsed": true
   },
   "outputs": [],
   "source": [
    "filename_Features_bloc1=projectpath+'io/Output/Features_bloc1.npy'"
   ]
  },
  {
   "cell_type": "raw",
   "metadata": {},
   "source": [
    "np.save(filename_Features_bloc1,ffv1)"
   ]
  },
  {
   "cell_type": "code",
   "execution_count": 25,
   "metadata": {
    "collapsed": true
   },
   "outputs": [],
   "source": [
    "Features_bloc1=np.load(filename_Features_bloc1)"
   ]
  },
  {
   "cell_type": "raw",
   "metadata": {},
   "source": [
    "dtf1.to_pickle(projectpath+'io/Output/Data_FRAMES_bloc1.pkl')"
   ]
  },
  {
   "cell_type": "code",
   "execution_count": 27,
   "metadata": {
    "collapsed": true
   },
   "outputs": [],
   "source": [
    "Data_FRAMES_bloc1=pd.read_pickle(projectpath+'io/Output/Data_FRAMES_bloc1.pkl')"
   ]
  },
  {
   "cell_type": "raw",
   "metadata": {},
   "source": [
    "%%time\n",
    "(ffv, dtf)=pcp.Get_informations_for_classifier(imageId, weight, height, dfpoints22,projectpath)\n",
    "#CPU times: user 1h 7min 40s, sys: 1min 45s, total: 1h 9min 25s\n",
    "#Wall time: 2h 40min 38s"
   ]
  },
  {
   "cell_type": "code",
   "execution_count": 33,
   "metadata": {
    "collapsed": true
   },
   "outputs": [],
   "source": [
    "filename_Features_bloc2=projectpath+'io/Output/Features_bloc2.npy'"
   ]
  },
  {
   "cell_type": "raw",
   "metadata": {},
   "source": [
    "np.save(filename_Features_bloc2,ffv)"
   ]
  },
  {
   "cell_type": "code",
   "execution_count": 35,
   "metadata": {
    "collapsed": true
   },
   "outputs": [],
   "source": [
    "Features_bloc2=np.load(filename_Features_bloc2)"
   ]
  },
  {
   "cell_type": "raw",
   "metadata": {},
   "source": [
    "dtf.to_pickle(projectpath+'io/Output/Data_FRAMES_bloc2.pkl')"
   ]
  },
  {
   "cell_type": "code",
   "execution_count": 38,
   "metadata": {},
   "outputs": [
    {
     "data": {
      "text/plain": [
       "(6662, 18)"
      ]
     },
     "execution_count": 38,
     "metadata": {},
     "output_type": "execute_result"
    }
   ],
   "source": [
    "Data_FRAMES_bloc2.shape"
   ]
  },
  {
   "cell_type": "code",
   "execution_count": 37,
   "metadata": {
    "collapsed": true
   },
   "outputs": [],
   "source": [
    "Data_FRAMES_bloc2=pd.read_pickle(projectpath+'io/Output/Data_FRAMES_bloc2.pkl')"
   ]
  },
  {
   "cell_type": "markdown",
   "metadata": {},
   "source": [
    "# Create the full data Frame ( 1135 Adtrocytes, 1135 Neurons, 1151 background) "
   ]
  },
  {
   "cell_type": "code",
   "execution_count": 39,
   "metadata": {
    "collapsed": true
   },
   "outputs": [],
   "source": [
    "import join_two_blocs as jt\n",
    "reload(jt);\n",
    "import Fonctions_used_for_many_DF_pre_processing as fct_pp\n",
    "reload(fct_pp);"
   ]
  },
  {
   "cell_type": "raw",
   "metadata": {},
   "source": [
    "%%time\n",
    "(Dataframe_, feat_vect)=jt.join_blocs(Data_FRAMES_bloc1,Data_FRAMES_bloc2, Features_bloc1, Features_bloc2)"
   ]
  },
  {
   "cell_type": "raw",
   "metadata": {
    "collapsed": true
   },
   "source": [
    "Dataframe_=fct_pp.getDF(Dataframe_)\n",
    "Dataframe_=fct_pp.Switch_Indices(Dataframe_)\n",
    "Dataframe_.to_pickle(projectpath+'io/Output/Dataframe_.pkl')"
   ]
  },
  {
   "cell_type": "code",
   "execution_count": 42,
   "metadata": {
    "collapsed": true
   },
   "outputs": [],
   "source": [
    "Data_FRAMES=pd.read_pickle(projectpath+'io/Output/Dataframe_.pkl')"
   ]
  },
  {
   "cell_type": "code",
   "execution_count": 43,
   "metadata": {
    "collapsed": true
   },
   "outputs": [],
   "source": [
    "filename_Features_two_blocs=projectpath+'io/Output/Features_two_blocs.npy'"
   ]
  },
  {
   "cell_type": "raw",
   "metadata": {
    "collapsed": true
   },
   "source": [
    "np.save(filename_Features_two_blocs,feat_vect)"
   ]
  },
  {
   "cell_type": "code",
   "execution_count": 45,
   "metadata": {
    "collapsed": true
   },
   "outputs": [],
   "source": [
    "Features_two_blocs=np.load(filename_Features_two_blocs)"
   ]
  },
  {
   "cell_type": "markdown",
   "metadata": {},
   "source": [
    "# PCA & Random Forest Classification"
   ]
  },
  {
   "cell_type": "code",
   "execution_count": 48,
   "metadata": {},
   "outputs": [
    {
     "name": "stderr",
     "output_type": "stream",
     "text": [
      "/home/tbacoyannis/.local/lib/python2.7/site-packages/sklearn/cross_validation.py:44: DeprecationWarning: This module was deprecated in version 0.18 in favor of the model_selection module into which all the refactored classes and functions are moved. Also note that the interface of the new CV iterators are different from that of this module. This module will be removed in 0.20.\n",
      "  \"This module will be removed in 0.20.\", DeprecationWarning)\n",
      "/home/tbacoyannis/.local/lib/python2.7/site-packages/sklearn/grid_search.py:43: DeprecationWarning: This module was deprecated in version 0.18 in favor of the model_selection module into which all the refactored classes and functions are moved. This module will be removed in 0.20.\n",
      "  DeprecationWarning)\n"
     ]
    },
    {
     "name": "stdout",
     "output_type": "stream",
     "text": [
      "Pipeline(steps=[('reduce_dim', PCA(copy=True, iterated_power='auto', n_components=90, random_state=None,\n",
      "  svd_solver='auto', tol=0.0, whiten=False)), ('Random_Forest', RandomForestClassifier(bootstrap=True, class_weight=None, criterion='gini',\n",
      "            max_depth=None, max_features='auto', max_leaf_nodes=...stimators=200, n_jobs=1, oob_score=False, random_state=0,\n",
      "            verbose=0, warm_start=False))])\n"
     ]
    },
    {
     "data": {
      "application/javascript": [
       "/* Put everything inside the global mpl namespace */\n",
       "window.mpl = {};\n",
       "\n",
       "\n",
       "mpl.get_websocket_type = function() {\n",
       "    if (typeof(WebSocket) !== 'undefined') {\n",
       "        return WebSocket;\n",
       "    } else if (typeof(MozWebSocket) !== 'undefined') {\n",
       "        return MozWebSocket;\n",
       "    } else {\n",
       "        alert('Your browser does not have WebSocket support.' +\n",
       "              'Please try Chrome, Safari or Firefox ≥ 6. ' +\n",
       "              'Firefox 4 and 5 are also supported but you ' +\n",
       "              'have to enable WebSockets in about:config.');\n",
       "    };\n",
       "}\n",
       "\n",
       "mpl.figure = function(figure_id, websocket, ondownload, parent_element) {\n",
       "    this.id = figure_id;\n",
       "\n",
       "    this.ws = websocket;\n",
       "\n",
       "    this.supports_binary = (this.ws.binaryType != undefined);\n",
       "\n",
       "    if (!this.supports_binary) {\n",
       "        var warnings = document.getElementById(\"mpl-warnings\");\n",
       "        if (warnings) {\n",
       "            warnings.style.display = 'block';\n",
       "            warnings.textContent = (\n",
       "                \"This browser does not support binary websocket messages. \" +\n",
       "                    \"Performance may be slow.\");\n",
       "        }\n",
       "    }\n",
       "\n",
       "    this.imageObj = new Image();\n",
       "\n",
       "    this.context = undefined;\n",
       "    this.message = undefined;\n",
       "    this.canvas = undefined;\n",
       "    this.rubberband_canvas = undefined;\n",
       "    this.rubberband_context = undefined;\n",
       "    this.format_dropdown = undefined;\n",
       "\n",
       "    this.image_mode = 'full';\n",
       "\n",
       "    this.root = $('<div/>');\n",
       "    this._root_extra_style(this.root)\n",
       "    this.root.attr('style', 'display: inline-block');\n",
       "\n",
       "    $(parent_element).append(this.root);\n",
       "\n",
       "    this._init_header(this);\n",
       "    this._init_canvas(this);\n",
       "    this._init_toolbar(this);\n",
       "\n",
       "    var fig = this;\n",
       "\n",
       "    this.waiting = false;\n",
       "\n",
       "    this.ws.onopen =  function () {\n",
       "            fig.send_message(\"supports_binary\", {value: fig.supports_binary});\n",
       "            fig.send_message(\"send_image_mode\", {});\n",
       "            if (mpl.ratio != 1) {\n",
       "                fig.send_message(\"set_dpi_ratio\", {'dpi_ratio': mpl.ratio});\n",
       "            }\n",
       "            fig.send_message(\"refresh\", {});\n",
       "        }\n",
       "\n",
       "    this.imageObj.onload = function() {\n",
       "            if (fig.image_mode == 'full') {\n",
       "                // Full images could contain transparency (where diff images\n",
       "                // almost always do), so we need to clear the canvas so that\n",
       "                // there is no ghosting.\n",
       "                fig.context.clearRect(0, 0, fig.canvas.width, fig.canvas.height);\n",
       "            }\n",
       "            fig.context.drawImage(fig.imageObj, 0, 0);\n",
       "        };\n",
       "\n",
       "    this.imageObj.onunload = function() {\n",
       "        this.ws.close();\n",
       "    }\n",
       "\n",
       "    this.ws.onmessage = this._make_on_message_function(this);\n",
       "\n",
       "    this.ondownload = ondownload;\n",
       "}\n",
       "\n",
       "mpl.figure.prototype._init_header = function() {\n",
       "    var titlebar = $(\n",
       "        '<div class=\"ui-dialog-titlebar ui-widget-header ui-corner-all ' +\n",
       "        'ui-helper-clearfix\"/>');\n",
       "    var titletext = $(\n",
       "        '<div class=\"ui-dialog-title\" style=\"width: 100%; ' +\n",
       "        'text-align: center; padding: 3px;\"/>');\n",
       "    titlebar.append(titletext)\n",
       "    this.root.append(titlebar);\n",
       "    this.header = titletext[0];\n",
       "}\n",
       "\n",
       "\n",
       "\n",
       "mpl.figure.prototype._canvas_extra_style = function(canvas_div) {\n",
       "\n",
       "}\n",
       "\n",
       "\n",
       "mpl.figure.prototype._root_extra_style = function(canvas_div) {\n",
       "\n",
       "}\n",
       "\n",
       "mpl.figure.prototype._init_canvas = function() {\n",
       "    var fig = this;\n",
       "\n",
       "    var canvas_div = $('<div/>');\n",
       "\n",
       "    canvas_div.attr('style', 'position: relative; clear: both; outline: 0');\n",
       "\n",
       "    function canvas_keyboard_event(event) {\n",
       "        return fig.key_event(event, event['data']);\n",
       "    }\n",
       "\n",
       "    canvas_div.keydown('key_press', canvas_keyboard_event);\n",
       "    canvas_div.keyup('key_release', canvas_keyboard_event);\n",
       "    this.canvas_div = canvas_div\n",
       "    this._canvas_extra_style(canvas_div)\n",
       "    this.root.append(canvas_div);\n",
       "\n",
       "    var canvas = $('<canvas/>');\n",
       "    canvas.addClass('mpl-canvas');\n",
       "    canvas.attr('style', \"left: 0; top: 0; z-index: 0; outline: 0\")\n",
       "\n",
       "    this.canvas = canvas[0];\n",
       "    this.context = canvas[0].getContext(\"2d\");\n",
       "\n",
       "    var backingStore = this.context.backingStorePixelRatio ||\n",
       "\tthis.context.webkitBackingStorePixelRatio ||\n",
       "\tthis.context.mozBackingStorePixelRatio ||\n",
       "\tthis.context.msBackingStorePixelRatio ||\n",
       "\tthis.context.oBackingStorePixelRatio ||\n",
       "\tthis.context.backingStorePixelRatio || 1;\n",
       "\n",
       "    mpl.ratio = (window.devicePixelRatio || 1) / backingStore;\n",
       "\n",
       "    var rubberband = $('<canvas/>');\n",
       "    rubberband.attr('style', \"position: absolute; left: 0; top: 0; z-index: 1;\")\n",
       "\n",
       "    var pass_mouse_events = true;\n",
       "\n",
       "    canvas_div.resizable({\n",
       "        start: function(event, ui) {\n",
       "            pass_mouse_events = false;\n",
       "        },\n",
       "        resize: function(event, ui) {\n",
       "            fig.request_resize(ui.size.width, ui.size.height);\n",
       "        },\n",
       "        stop: function(event, ui) {\n",
       "            pass_mouse_events = true;\n",
       "            fig.request_resize(ui.size.width, ui.size.height);\n",
       "        },\n",
       "    });\n",
       "\n",
       "    function mouse_event_fn(event) {\n",
       "        if (pass_mouse_events)\n",
       "            return fig.mouse_event(event, event['data']);\n",
       "    }\n",
       "\n",
       "    rubberband.mousedown('button_press', mouse_event_fn);\n",
       "    rubberband.mouseup('button_release', mouse_event_fn);\n",
       "    // Throttle sequential mouse events to 1 every 20ms.\n",
       "    rubberband.mousemove('motion_notify', mouse_event_fn);\n",
       "\n",
       "    rubberband.mouseenter('figure_enter', mouse_event_fn);\n",
       "    rubberband.mouseleave('figure_leave', mouse_event_fn);\n",
       "\n",
       "    canvas_div.on(\"wheel\", function (event) {\n",
       "        event = event.originalEvent;\n",
       "        event['data'] = 'scroll'\n",
       "        if (event.deltaY < 0) {\n",
       "            event.step = 1;\n",
       "        } else {\n",
       "            event.step = -1;\n",
       "        }\n",
       "        mouse_event_fn(event);\n",
       "    });\n",
       "\n",
       "    canvas_div.append(canvas);\n",
       "    canvas_div.append(rubberband);\n",
       "\n",
       "    this.rubberband = rubberband;\n",
       "    this.rubberband_canvas = rubberband[0];\n",
       "    this.rubberband_context = rubberband[0].getContext(\"2d\");\n",
       "    this.rubberband_context.strokeStyle = \"#000000\";\n",
       "\n",
       "    this._resize_canvas = function(width, height) {\n",
       "        // Keep the size of the canvas, canvas container, and rubber band\n",
       "        // canvas in synch.\n",
       "        canvas_div.css('width', width)\n",
       "        canvas_div.css('height', height)\n",
       "\n",
       "        canvas.attr('width', width * mpl.ratio);\n",
       "        canvas.attr('height', height * mpl.ratio);\n",
       "        canvas.attr('style', 'width: ' + width + 'px; height: ' + height + 'px;');\n",
       "\n",
       "        rubberband.attr('width', width);\n",
       "        rubberband.attr('height', height);\n",
       "    }\n",
       "\n",
       "    // Set the figure to an initial 600x600px, this will subsequently be updated\n",
       "    // upon first draw.\n",
       "    this._resize_canvas(600, 600);\n",
       "\n",
       "    // Disable right mouse context menu.\n",
       "    $(this.rubberband_canvas).bind(\"contextmenu\",function(e){\n",
       "        return false;\n",
       "    });\n",
       "\n",
       "    function set_focus () {\n",
       "        canvas.focus();\n",
       "        canvas_div.focus();\n",
       "    }\n",
       "\n",
       "    window.setTimeout(set_focus, 100);\n",
       "}\n",
       "\n",
       "mpl.figure.prototype._init_toolbar = function() {\n",
       "    var fig = this;\n",
       "\n",
       "    var nav_element = $('<div/>')\n",
       "    nav_element.attr('style', 'width: 100%');\n",
       "    this.root.append(nav_element);\n",
       "\n",
       "    // Define a callback function for later on.\n",
       "    function toolbar_event(event) {\n",
       "        return fig.toolbar_button_onclick(event['data']);\n",
       "    }\n",
       "    function toolbar_mouse_event(event) {\n",
       "        return fig.toolbar_button_onmouseover(event['data']);\n",
       "    }\n",
       "\n",
       "    for(var toolbar_ind in mpl.toolbar_items) {\n",
       "        var name = mpl.toolbar_items[toolbar_ind][0];\n",
       "        var tooltip = mpl.toolbar_items[toolbar_ind][1];\n",
       "        var image = mpl.toolbar_items[toolbar_ind][2];\n",
       "        var method_name = mpl.toolbar_items[toolbar_ind][3];\n",
       "\n",
       "        if (!name) {\n",
       "            // put a spacer in here.\n",
       "            continue;\n",
       "        }\n",
       "        var button = $('<button/>');\n",
       "        button.addClass('ui-button ui-widget ui-state-default ui-corner-all ' +\n",
       "                        'ui-button-icon-only');\n",
       "        button.attr('role', 'button');\n",
       "        button.attr('aria-disabled', 'false');\n",
       "        button.click(method_name, toolbar_event);\n",
       "        button.mouseover(tooltip, toolbar_mouse_event);\n",
       "\n",
       "        var icon_img = $('<span/>');\n",
       "        icon_img.addClass('ui-button-icon-primary ui-icon');\n",
       "        icon_img.addClass(image);\n",
       "        icon_img.addClass('ui-corner-all');\n",
       "\n",
       "        var tooltip_span = $('<span/>');\n",
       "        tooltip_span.addClass('ui-button-text');\n",
       "        tooltip_span.html(tooltip);\n",
       "\n",
       "        button.append(icon_img);\n",
       "        button.append(tooltip_span);\n",
       "\n",
       "        nav_element.append(button);\n",
       "    }\n",
       "\n",
       "    var fmt_picker_span = $('<span/>');\n",
       "\n",
       "    var fmt_picker = $('<select/>');\n",
       "    fmt_picker.addClass('mpl-toolbar-option ui-widget ui-widget-content');\n",
       "    fmt_picker_span.append(fmt_picker);\n",
       "    nav_element.append(fmt_picker_span);\n",
       "    this.format_dropdown = fmt_picker[0];\n",
       "\n",
       "    for (var ind in mpl.extensions) {\n",
       "        var fmt = mpl.extensions[ind];\n",
       "        var option = $(\n",
       "            '<option/>', {selected: fmt === mpl.default_extension}).html(fmt);\n",
       "        fmt_picker.append(option)\n",
       "    }\n",
       "\n",
       "    // Add hover states to the ui-buttons\n",
       "    $( \".ui-button\" ).hover(\n",
       "        function() { $(this).addClass(\"ui-state-hover\");},\n",
       "        function() { $(this).removeClass(\"ui-state-hover\");}\n",
       "    );\n",
       "\n",
       "    var status_bar = $('<span class=\"mpl-message\"/>');\n",
       "    nav_element.append(status_bar);\n",
       "    this.message = status_bar[0];\n",
       "}\n",
       "\n",
       "mpl.figure.prototype.request_resize = function(x_pixels, y_pixels) {\n",
       "    // Request matplotlib to resize the figure. Matplotlib will then trigger a resize in the client,\n",
       "    // which will in turn request a refresh of the image.\n",
       "    this.send_message('resize', {'width': x_pixels, 'height': y_pixels});\n",
       "}\n",
       "\n",
       "mpl.figure.prototype.send_message = function(type, properties) {\n",
       "    properties['type'] = type;\n",
       "    properties['figure_id'] = this.id;\n",
       "    this.ws.send(JSON.stringify(properties));\n",
       "}\n",
       "\n",
       "mpl.figure.prototype.send_draw_message = function() {\n",
       "    if (!this.waiting) {\n",
       "        this.waiting = true;\n",
       "        this.ws.send(JSON.stringify({type: \"draw\", figure_id: this.id}));\n",
       "    }\n",
       "}\n",
       "\n",
       "\n",
       "mpl.figure.prototype.handle_save = function(fig, msg) {\n",
       "    var format_dropdown = fig.format_dropdown;\n",
       "    var format = format_dropdown.options[format_dropdown.selectedIndex].value;\n",
       "    fig.ondownload(fig, format);\n",
       "}\n",
       "\n",
       "\n",
       "mpl.figure.prototype.handle_resize = function(fig, msg) {\n",
       "    var size = msg['size'];\n",
       "    if (size[0] != fig.canvas.width || size[1] != fig.canvas.height) {\n",
       "        fig._resize_canvas(size[0], size[1]);\n",
       "        fig.send_message(\"refresh\", {});\n",
       "    };\n",
       "}\n",
       "\n",
       "mpl.figure.prototype.handle_rubberband = function(fig, msg) {\n",
       "    var x0 = msg['x0'] / mpl.ratio;\n",
       "    var y0 = (fig.canvas.height - msg['y0']) / mpl.ratio;\n",
       "    var x1 = msg['x1'] / mpl.ratio;\n",
       "    var y1 = (fig.canvas.height - msg['y1']) / mpl.ratio;\n",
       "    x0 = Math.floor(x0) + 0.5;\n",
       "    y0 = Math.floor(y0) + 0.5;\n",
       "    x1 = Math.floor(x1) + 0.5;\n",
       "    y1 = Math.floor(y1) + 0.5;\n",
       "    var min_x = Math.min(x0, x1);\n",
       "    var min_y = Math.min(y0, y1);\n",
       "    var width = Math.abs(x1 - x0);\n",
       "    var height = Math.abs(y1 - y0);\n",
       "\n",
       "    fig.rubberband_context.clearRect(\n",
       "        0, 0, fig.canvas.width, fig.canvas.height);\n",
       "\n",
       "    fig.rubberband_context.strokeRect(min_x, min_y, width, height);\n",
       "}\n",
       "\n",
       "mpl.figure.prototype.handle_figure_label = function(fig, msg) {\n",
       "    // Updates the figure title.\n",
       "    fig.header.textContent = msg['label'];\n",
       "}\n",
       "\n",
       "mpl.figure.prototype.handle_cursor = function(fig, msg) {\n",
       "    var cursor = msg['cursor'];\n",
       "    switch(cursor)\n",
       "    {\n",
       "    case 0:\n",
       "        cursor = 'pointer';\n",
       "        break;\n",
       "    case 1:\n",
       "        cursor = 'default';\n",
       "        break;\n",
       "    case 2:\n",
       "        cursor = 'crosshair';\n",
       "        break;\n",
       "    case 3:\n",
       "        cursor = 'move';\n",
       "        break;\n",
       "    }\n",
       "    fig.rubberband_canvas.style.cursor = cursor;\n",
       "}\n",
       "\n",
       "mpl.figure.prototype.handle_message = function(fig, msg) {\n",
       "    fig.message.textContent = msg['message'];\n",
       "}\n",
       "\n",
       "mpl.figure.prototype.handle_draw = function(fig, msg) {\n",
       "    // Request the server to send over a new figure.\n",
       "    fig.send_draw_message();\n",
       "}\n",
       "\n",
       "mpl.figure.prototype.handle_image_mode = function(fig, msg) {\n",
       "    fig.image_mode = msg['mode'];\n",
       "}\n",
       "\n",
       "mpl.figure.prototype.updated_canvas_event = function() {\n",
       "    // Called whenever the canvas gets updated.\n",
       "    this.send_message(\"ack\", {});\n",
       "}\n",
       "\n",
       "// A function to construct a web socket function for onmessage handling.\n",
       "// Called in the figure constructor.\n",
       "mpl.figure.prototype._make_on_message_function = function(fig) {\n",
       "    return function socket_on_message(evt) {\n",
       "        if (evt.data instanceof Blob) {\n",
       "            /* FIXME: We get \"Resource interpreted as Image but\n",
       "             * transferred with MIME type text/plain:\" errors on\n",
       "             * Chrome.  But how to set the MIME type?  It doesn't seem\n",
       "             * to be part of the websocket stream */\n",
       "            evt.data.type = \"image/png\";\n",
       "\n",
       "            /* Free the memory for the previous frames */\n",
       "            if (fig.imageObj.src) {\n",
       "                (window.URL || window.webkitURL).revokeObjectURL(\n",
       "                    fig.imageObj.src);\n",
       "            }\n",
       "\n",
       "            fig.imageObj.src = (window.URL || window.webkitURL).createObjectURL(\n",
       "                evt.data);\n",
       "            fig.updated_canvas_event();\n",
       "            fig.waiting = false;\n",
       "            return;\n",
       "        }\n",
       "        else if (typeof evt.data === 'string' && evt.data.slice(0, 21) == \"data:image/png;base64\") {\n",
       "            fig.imageObj.src = evt.data;\n",
       "            fig.updated_canvas_event();\n",
       "            fig.waiting = false;\n",
       "            return;\n",
       "        }\n",
       "\n",
       "        var msg = JSON.parse(evt.data);\n",
       "        var msg_type = msg['type'];\n",
       "\n",
       "        // Call the  \"handle_{type}\" callback, which takes\n",
       "        // the figure and JSON message as its only arguments.\n",
       "        try {\n",
       "            var callback = fig[\"handle_\" + msg_type];\n",
       "        } catch (e) {\n",
       "            console.log(\"No handler for the '\" + msg_type + \"' message type: \", msg);\n",
       "            return;\n",
       "        }\n",
       "\n",
       "        if (callback) {\n",
       "            try {\n",
       "                // console.log(\"Handling '\" + msg_type + \"' message: \", msg);\n",
       "                callback(fig, msg);\n",
       "            } catch (e) {\n",
       "                console.log(\"Exception inside the 'handler_\" + msg_type + \"' callback:\", e, e.stack, msg);\n",
       "            }\n",
       "        }\n",
       "    };\n",
       "}\n",
       "\n",
       "// from http://stackoverflow.com/questions/1114465/getting-mouse-location-in-canvas\n",
       "mpl.findpos = function(e) {\n",
       "    //this section is from http://www.quirksmode.org/js/events_properties.html\n",
       "    var targ;\n",
       "    if (!e)\n",
       "        e = window.event;\n",
       "    if (e.target)\n",
       "        targ = e.target;\n",
       "    else if (e.srcElement)\n",
       "        targ = e.srcElement;\n",
       "    if (targ.nodeType == 3) // defeat Safari bug\n",
       "        targ = targ.parentNode;\n",
       "\n",
       "    // jQuery normalizes the pageX and pageY\n",
       "    // pageX,Y are the mouse positions relative to the document\n",
       "    // offset() returns the position of the element relative to the document\n",
       "    var x = e.pageX - $(targ).offset().left;\n",
       "    var y = e.pageY - $(targ).offset().top;\n",
       "\n",
       "    return {\"x\": x, \"y\": y};\n",
       "};\n",
       "\n",
       "/*\n",
       " * return a copy of an object with only non-object keys\n",
       " * we need this to avoid circular references\n",
       " * http://stackoverflow.com/a/24161582/3208463\n",
       " */\n",
       "function simpleKeys (original) {\n",
       "  return Object.keys(original).reduce(function (obj, key) {\n",
       "    if (typeof original[key] !== 'object')\n",
       "        obj[key] = original[key]\n",
       "    return obj;\n",
       "  }, {});\n",
       "}\n",
       "\n",
       "mpl.figure.prototype.mouse_event = function(event, name) {\n",
       "    var canvas_pos = mpl.findpos(event)\n",
       "\n",
       "    if (name === 'button_press')\n",
       "    {\n",
       "        this.canvas.focus();\n",
       "        this.canvas_div.focus();\n",
       "    }\n",
       "\n",
       "    var x = canvas_pos.x * mpl.ratio;\n",
       "    var y = canvas_pos.y * mpl.ratio;\n",
       "\n",
       "    this.send_message(name, {x: x, y: y, button: event.button,\n",
       "                             step: event.step,\n",
       "                             guiEvent: simpleKeys(event)});\n",
       "\n",
       "    /* This prevents the web browser from automatically changing to\n",
       "     * the text insertion cursor when the button is pressed.  We want\n",
       "     * to control all of the cursor setting manually through the\n",
       "     * 'cursor' event from matplotlib */\n",
       "    event.preventDefault();\n",
       "    return false;\n",
       "}\n",
       "\n",
       "mpl.figure.prototype._key_event_extra = function(event, name) {\n",
       "    // Handle any extra behaviour associated with a key event\n",
       "}\n",
       "\n",
       "mpl.figure.prototype.key_event = function(event, name) {\n",
       "\n",
       "    // Prevent repeat events\n",
       "    if (name == 'key_press')\n",
       "    {\n",
       "        if (event.which === this._key)\n",
       "            return;\n",
       "        else\n",
       "            this._key = event.which;\n",
       "    }\n",
       "    if (name == 'key_release')\n",
       "        this._key = null;\n",
       "\n",
       "    var value = '';\n",
       "    if (event.ctrlKey && event.which != 17)\n",
       "        value += \"ctrl+\";\n",
       "    if (event.altKey && event.which != 18)\n",
       "        value += \"alt+\";\n",
       "    if (event.shiftKey && event.which != 16)\n",
       "        value += \"shift+\";\n",
       "\n",
       "    value += 'k';\n",
       "    value += event.which.toString();\n",
       "\n",
       "    this._key_event_extra(event, name);\n",
       "\n",
       "    this.send_message(name, {key: value,\n",
       "                             guiEvent: simpleKeys(event)});\n",
       "    return false;\n",
       "}\n",
       "\n",
       "mpl.figure.prototype.toolbar_button_onclick = function(name) {\n",
       "    if (name == 'download') {\n",
       "        this.handle_save(this, null);\n",
       "    } else {\n",
       "        this.send_message(\"toolbar_button\", {name: name});\n",
       "    }\n",
       "};\n",
       "\n",
       "mpl.figure.prototype.toolbar_button_onmouseover = function(tooltip) {\n",
       "    this.message.textContent = tooltip;\n",
       "};\n",
       "mpl.toolbar_items = [[\"Home\", \"Reset original view\", \"fa fa-home icon-home\", \"home\"], [\"Back\", \"Back to  previous view\", \"fa fa-arrow-left icon-arrow-left\", \"back\"], [\"Forward\", \"Forward to next view\", \"fa fa-arrow-right icon-arrow-right\", \"forward\"], [\"\", \"\", \"\", \"\"], [\"Pan\", \"Pan axes with left mouse, zoom with right\", \"fa fa-arrows icon-move\", \"pan\"], [\"Zoom\", \"Zoom to rectangle\", \"fa fa-square-o icon-check-empty\", \"zoom\"], [\"\", \"\", \"\", \"\"], [\"Download\", \"Download plot\", \"fa fa-floppy-o icon-save\", \"download\"]];\n",
       "\n",
       "mpl.extensions = [\"eps\", \"jpeg\", \"pdf\", \"png\", \"ps\", \"raw\", \"svg\", \"tif\"];\n",
       "\n",
       "mpl.default_extension = \"png\";var comm_websocket_adapter = function(comm) {\n",
       "    // Create a \"websocket\"-like object which calls the given IPython comm\n",
       "    // object with the appropriate methods. Currently this is a non binary\n",
       "    // socket, so there is still some room for performance tuning.\n",
       "    var ws = {};\n",
       "\n",
       "    ws.close = function() {\n",
       "        comm.close()\n",
       "    };\n",
       "    ws.send = function(m) {\n",
       "        //console.log('sending', m);\n",
       "        comm.send(m);\n",
       "    };\n",
       "    // Register the callback with on_msg.\n",
       "    comm.on_msg(function(msg) {\n",
       "        //console.log('receiving', msg['content']['data'], msg);\n",
       "        // Pass the mpl event to the overriden (by mpl) onmessage function.\n",
       "        ws.onmessage(msg['content']['data'])\n",
       "    });\n",
       "    return ws;\n",
       "}\n",
       "\n",
       "mpl.mpl_figure_comm = function(comm, msg) {\n",
       "    // This is the function which gets called when the mpl process\n",
       "    // starts-up an IPython Comm through the \"matplotlib\" channel.\n",
       "\n",
       "    var id = msg.content.data.id;\n",
       "    // Get hold of the div created by the display call when the Comm\n",
       "    // socket was opened in Python.\n",
       "    var element = $(\"#\" + id);\n",
       "    var ws_proxy = comm_websocket_adapter(comm)\n",
       "\n",
       "    function ondownload(figure, format) {\n",
       "        window.open(figure.imageObj.src);\n",
       "    }\n",
       "\n",
       "    var fig = new mpl.figure(id, ws_proxy,\n",
       "                           ondownload,\n",
       "                           element.get(0));\n",
       "\n",
       "    // Call onopen now - mpl needs it, as it is assuming we've passed it a real\n",
       "    // web socket which is closed, not our websocket->open comm proxy.\n",
       "    ws_proxy.onopen();\n",
       "\n",
       "    fig.parent_element = element.get(0);\n",
       "    fig.cell_info = mpl.find_output_cell(\"<div id='\" + id + \"'></div>\");\n",
       "    if (!fig.cell_info) {\n",
       "        console.error(\"Failed to find cell for figure\", id, fig);\n",
       "        return;\n",
       "    }\n",
       "\n",
       "    var output_index = fig.cell_info[2]\n",
       "    var cell = fig.cell_info[0];\n",
       "\n",
       "};\n",
       "\n",
       "mpl.figure.prototype.handle_close = function(fig, msg) {\n",
       "    var width = fig.canvas.width/mpl.ratio\n",
       "    fig.root.unbind('remove')\n",
       "\n",
       "    // Update the output cell to use the data from the current canvas.\n",
       "    fig.push_to_output();\n",
       "    var dataURL = fig.canvas.toDataURL();\n",
       "    // Re-enable the keyboard manager in IPython - without this line, in FF,\n",
       "    // the notebook keyboard shortcuts fail.\n",
       "    IPython.keyboard_manager.enable()\n",
       "    $(fig.parent_element).html('<img src=\"' + dataURL + '\" width=\"' + width + '\">');\n",
       "    fig.close_ws(fig, msg);\n",
       "}\n",
       "\n",
       "mpl.figure.prototype.close_ws = function(fig, msg){\n",
       "    fig.send_message('closing', msg);\n",
       "    // fig.ws.close()\n",
       "}\n",
       "\n",
       "mpl.figure.prototype.push_to_output = function(remove_interactive) {\n",
       "    // Turn the data on the canvas into data in the output cell.\n",
       "    var width = this.canvas.width/mpl.ratio\n",
       "    var dataURL = this.canvas.toDataURL();\n",
       "    this.cell_info[1]['text/html'] = '<img src=\"' + dataURL + '\" width=\"' + width + '\">';\n",
       "}\n",
       "\n",
       "mpl.figure.prototype.updated_canvas_event = function() {\n",
       "    // Tell IPython that the notebook contents must change.\n",
       "    IPython.notebook.set_dirty(true);\n",
       "    this.send_message(\"ack\", {});\n",
       "    var fig = this;\n",
       "    // Wait a second, then push the new image to the DOM so\n",
       "    // that it is saved nicely (might be nice to debounce this).\n",
       "    setTimeout(function () { fig.push_to_output() }, 1000);\n",
       "}\n",
       "\n",
       "mpl.figure.prototype._init_toolbar = function() {\n",
       "    var fig = this;\n",
       "\n",
       "    var nav_element = $('<div/>')\n",
       "    nav_element.attr('style', 'width: 100%');\n",
       "    this.root.append(nav_element);\n",
       "\n",
       "    // Define a callback function for later on.\n",
       "    function toolbar_event(event) {\n",
       "        return fig.toolbar_button_onclick(event['data']);\n",
       "    }\n",
       "    function toolbar_mouse_event(event) {\n",
       "        return fig.toolbar_button_onmouseover(event['data']);\n",
       "    }\n",
       "\n",
       "    for(var toolbar_ind in mpl.toolbar_items){\n",
       "        var name = mpl.toolbar_items[toolbar_ind][0];\n",
       "        var tooltip = mpl.toolbar_items[toolbar_ind][1];\n",
       "        var image = mpl.toolbar_items[toolbar_ind][2];\n",
       "        var method_name = mpl.toolbar_items[toolbar_ind][3];\n",
       "\n",
       "        if (!name) { continue; };\n",
       "\n",
       "        var button = $('<button class=\"btn btn-default\" href=\"#\" title=\"' + name + '\"><i class=\"fa ' + image + ' fa-lg\"></i></button>');\n",
       "        button.click(method_name, toolbar_event);\n",
       "        button.mouseover(tooltip, toolbar_mouse_event);\n",
       "        nav_element.append(button);\n",
       "    }\n",
       "\n",
       "    // Add the status bar.\n",
       "    var status_bar = $('<span class=\"mpl-message\" style=\"text-align:right; float: right;\"/>');\n",
       "    nav_element.append(status_bar);\n",
       "    this.message = status_bar[0];\n",
       "\n",
       "    // Add the close button to the window.\n",
       "    var buttongrp = $('<div class=\"btn-group inline pull-right\"></div>');\n",
       "    var button = $('<button class=\"btn btn-mini btn-primary\" href=\"#\" title=\"Stop Interaction\"><i class=\"fa fa-power-off icon-remove icon-large\"></i></button>');\n",
       "    button.click(function (evt) { fig.handle_close(fig, {}); } );\n",
       "    button.mouseover('Stop Interaction', toolbar_mouse_event);\n",
       "    buttongrp.append(button);\n",
       "    var titlebar = this.root.find($('.ui-dialog-titlebar'));\n",
       "    titlebar.prepend(buttongrp);\n",
       "}\n",
       "\n",
       "mpl.figure.prototype._root_extra_style = function(el){\n",
       "    var fig = this\n",
       "    el.on(\"remove\", function(){\n",
       "\tfig.close_ws(fig, {});\n",
       "    });\n",
       "}\n",
       "\n",
       "mpl.figure.prototype._canvas_extra_style = function(el){\n",
       "    // this is important to make the div 'focusable\n",
       "    el.attr('tabindex', 0)\n",
       "    // reach out to IPython and tell the keyboard manager to turn it's self\n",
       "    // off when our div gets focus\n",
       "\n",
       "    // location in version 3\n",
       "    if (IPython.notebook.keyboard_manager) {\n",
       "        IPython.notebook.keyboard_manager.register_events(el);\n",
       "    }\n",
       "    else {\n",
       "        // location in version 2\n",
       "        IPython.keyboard_manager.register_events(el);\n",
       "    }\n",
       "\n",
       "}\n",
       "\n",
       "mpl.figure.prototype._key_event_extra = function(event, name) {\n",
       "    var manager = IPython.notebook.keyboard_manager;\n",
       "    if (!manager)\n",
       "        manager = IPython.keyboard_manager;\n",
       "\n",
       "    // Check for shift+enter\n",
       "    if (event.shiftKey && event.which == 13) {\n",
       "        this.canvas_div.blur();\n",
       "        // select the cell after this one\n",
       "        var index = IPython.notebook.find_cell_index(this.cell_info[0]);\n",
       "        IPython.notebook.select(index + 1);\n",
       "    }\n",
       "}\n",
       "\n",
       "mpl.figure.prototype.handle_save = function(fig, msg) {\n",
       "    fig.ondownload(fig, null);\n",
       "}\n",
       "\n",
       "\n",
       "mpl.find_output_cell = function(html_output) {\n",
       "    // Return the cell and output element which can be found *uniquely* in the notebook.\n",
       "    // Note - this is a bit hacky, but it is done because the \"notebook_saving.Notebook\"\n",
       "    // IPython event is triggered only after the cells have been serialised, which for\n",
       "    // our purposes (turning an active figure into a static one), is too late.\n",
       "    var cells = IPython.notebook.get_cells();\n",
       "    var ncells = cells.length;\n",
       "    for (var i=0; i<ncells; i++) {\n",
       "        var cell = cells[i];\n",
       "        if (cell.cell_type === 'code'){\n",
       "            for (var j=0; j<cell.output_area.outputs.length; j++) {\n",
       "                var data = cell.output_area.outputs[j];\n",
       "                if (data.data) {\n",
       "                    // IPython >= 3 moved mimebundle to data attribute of output\n",
       "                    data = data.data;\n",
       "                }\n",
       "                if (data['text/html'] == html_output) {\n",
       "                    return [cell, data, j];\n",
       "                }\n",
       "            }\n",
       "        }\n",
       "    }\n",
       "}\n",
       "\n",
       "// Register the function which deals with the matplotlib target/channel.\n",
       "// The kernel may be null if the page has been refreshed.\n",
       "if (IPython.notebook.kernel != null) {\n",
       "    IPython.notebook.kernel.comm_manager.register_target('matplotlib', mpl.mpl_figure_comm);\n",
       "}\n"
      ],
      "text/plain": [
       "<IPython.core.display.Javascript object>"
      ]
     },
     "metadata": {},
     "output_type": "display_data"
    },
    {
     "data": {
      "text/html": [
       "<img src=\"data:image/png;base64,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\" width=\"800\">"
      ],
      "text/plain": [
       "<IPython.core.display.HTML object>"
      ]
     },
     "metadata": {},
     "output_type": "display_data"
    },
    {
     "name": "stdout",
     "output_type": "stream",
     "text": [
      "CPU times: user 49min 1s, sys: 1h 7min 26s, total: 1h 56min 27s\n",
      "Wall time: 34min 14s\n"
     ]
    }
   ],
   "source": [
    "%%time\n",
    "%run ./pca_rdf_models.ipynb\n",
    "#%run ./Pipeline_PCA_RANDOM_Forest_Copy1.ipynb\n",
    "# CPU times: user 49min 1s, sys: 1h 7min 26s, total: 1h 56min 27s\n",
    "#Wall time: 34min 14s"
   ]
  },
  {
   "cell_type": "markdown",
   "metadata": {},
   "source": [
    "# Imshow specific images to understand non differentiation in PCA model"
   ]
  },
  {
   "cell_type": "raw",
   "metadata": {
    "collapsed": true
   },
   "source": [
    "%run ./track_images_from_PCA.ipynb"
   ]
  },
  {
   "cell_type": "raw",
   "metadata": {
    "collapsed": true
   },
   "source": [
    "ddf=indexing_DF_borders(Data_FRAMES, M, 25, 38)"
   ]
  },
  {
   "cell_type": "raw",
   "metadata": {
    "collapsed": true
   },
   "source": [
    "# save to file\n",
    "filename_DF_PCA =projectpath+'io/Output/DF_PCA.npy'"
   ]
  },
  {
   "cell_type": "raw",
   "metadata": {
    "collapsed": true
   },
   "source": [
    "np.save(filename_DF_PCA, ddf)"
   ]
  },
  {
   "cell_type": "raw",
   "metadata": {
    "collapsed": true
   },
   "source": [
    "DF_PCA=np.load(filename_DF_PCA)"
   ]
  },
  {
   "cell_type": "raw",
   "metadata": {
    "collapsed": true
   },
   "source": [
    "sns.reset_orig() "
   ]
  },
  {
   "cell_type": "raw",
   "metadata": {
    "collapsed": true
   },
   "source": [
    "%matplotlib notebook"
   ]
  },
  {
   "cell_type": "raw",
   "metadata": {},
   "source": [
    "Plot_Strange_Vol_per_Class(GRAY_IM_parallel, 2, DF_PCA)"
   ]
  },
  {
   "cell_type": "markdown",
   "metadata": {},
   "source": [
    "# process in order to display false predicted images"
   ]
  },
  {
   "cell_type": "code",
   "execution_count": null,
   "metadata": {
    "collapsed": true
   },
   "outputs": [],
   "source": [
    "(fail_img_pred_Neurons,fail_img_pred_Astrocytes,fail_img_pred_Background)=imf.Get_IMG_failed_prediction(yr,predictedVAL)"
   ]
  },
  {
   "cell_type": "code",
   "execution_count": null,
   "metadata": {
    "collapsed": true
   },
   "outputs": [],
   "source": [
    "sns.reset_orig() # sns.set()"
   ]
  },
  {
   "cell_type": "raw",
   "metadata": {
    "collapsed": true
   },
   "source": [
    "imf.Plot_Failed_IMG(GRAY_IM_parallel, fail_img_pred_Astrocytes)"
   ]
  },
  {
   "cell_type": "raw",
   "metadata": {
    "collapsed": true
   },
   "source": [
    "def Get_DF_failed_predicions(Data_frame, fail_img_prediction):\n",
    "    \" display the dataFrame corresponding to the tiles where the prediction has failed\"\n",
    "    newDF=pd.DataFrame(data=None, columns=Data_frame.columns)\n",
    "    for i in range(0, len(fail_img_prediction) ):\n",
    "        newDF = newDF.append(Data_frame.loc[Data_frame.indice==(fail_img_prediction[i])].copy())\n",
    "    return(newDF)"
   ]
  },
  {
   "cell_type": "raw",
   "metadata": {
    "collapsed": true
   },
   "source": [
    "Data_F_fail_Neurons=Get_DF_failed_predicions(Data_FRAMES, fail_img_pred_Neurons)"
   ]
  },
  {
   "cell_type": "raw",
   "metadata": {
    "collapsed": true
   },
   "source": [
    "Data_F_fail_Astrocytes=Get_DF_failed_predicions(Data_FRAMES, fail_img_pred_Astrocytes)"
   ]
  },
  {
   "cell_type": "markdown",
   "metadata": {
    "collapsed": true
   },
   "source": [
    "# test prediction sur  1 clone"
   ]
  },
  {
   "cell_type": "code",
   "execution_count": 49,
   "metadata": {
    "collapsed": true
   },
   "outputs": [],
   "source": [
    "import Get_coordinates as gC\n",
    "reload(gC);"
   ]
  },
  {
   "cell_type": "code",
   "execution_count": 50,
   "metadata": {
    "collapsed": true
   },
   "outputs": [],
   "source": [
    "conn = BlitzGateway('tbacoyannis','d33pl34rn1ng',port=4064,host='chinensis.polytechnique.fr')\n",
    "connected = conn.connect()\n",
    "\n",
    "image = conn.getObject(\"Image\", imageId)\n",
    "pixels = image.getPrimaryPixels() # get raw pixels information\n",
    "\n",
    "size_x=image.getSizeX()\n",
    "size_y=image.getSizeY()\n",
    "size_z = image.getSizeZ()\n",
    "size_c = image.getSizeC()\n",
    "size_t = image.getSizeT()\n",
    "\n",
    "large= weight  \n",
    "nidY=size_x/(int(large/int(large/2)))-3\n",
    "delta_x=2\n",
    "z=103"
   ]
  },
  {
   "cell_type": "code",
   "execution_count": 60,
   "metadata": {},
   "outputs": [
    {
     "name": "stdout",
     "output_type": "stream",
     "text": [
      "136\n"
     ]
    }
   ],
   "source": [
    "# Coordinates of the ROI in the original image\n",
    "x_min=48+367\n",
    "y_min=2064+646\n",
    "w=615-367\n",
    "h=920-646\n",
    "x_max=x_min+w\n",
    "y_max=y_min+h\n",
    "\n",
    "nid=np.max(np.arange(h/delta_x))\n",
    "print nid"
   ]
  },
  {
   "cell_type": "code",
   "execution_count": 52,
   "metadata": {
    "collapsed": true
   },
   "outputs": [],
   "source": [
    "conn = BlitzGateway('tbacoyannis','d33pl34rn1ng',port=4064,host='chinensis.polytechnique.fr')\n",
    "connected = conn.connect()\n",
    "imageId=451\n",
    "image = conn.getObject(\"Image\", imageId)\n",
    "pixels = image.getPrimaryPixels() # get raw pixels information\n",
    "\n",
    "pxobj_CH1 = pixels.getTile(theZ=103, theC=0, theT=0, tile=(x_min,y_min, x_max-x_min , y_max-y_min ))\n",
    "pxobj_CH2 = pixels.getTile(theZ=103, theC=1, theT=0, tile=(x_min,y_min, x_max-x_min , y_max-y_min ))\n",
    "pxobj_CH3 = pixels.getTile(theZ=103, theC=2, theT=0, tile=(x_min,y_min, x_max-x_min , y_max-y_min ))\n",
    "\n",
    "# Get the normalized original image\n",
    "pxobj=(pxobj_CH1+pxobj_CH2+pxobj_CH3)/3"
   ]
  },
  {
   "cell_type": "code",
   "execution_count": 61,
   "metadata": {
    "collapsed": true
   },
   "outputs": [],
   "source": [
    "partial_getDATA_coord = partial(gC.get_coordinates_test,imageId=imageId, large=large,delta_x= delta_x,z=z,x_min=x_min,y_min=y_min,x_max=x_max, y_max=y_max)"
   ]
  },
  {
   "cell_type": "code",
   "execution_count": 62,
   "metadata": {},
   "outputs": [],
   "source": [
    "pool = multiprocessing.Pool(28)\n",
    "(res)  = pool.map(partial_getDATA_coord, xrange(nid))\n",
    "pool.close()\n",
    "# 35minutes"
   ]
  },
  {
   "cell_type": "code",
   "execution_count": 63,
   "metadata": {
    "collapsed": true
   },
   "outputs": [],
   "source": [
    "filename_resultat =projectpath+'io/Output/resultat.npy'"
   ]
  },
  {
   "cell_type": "raw",
   "metadata": {},
   "source": [
    "np.save(filename_resultat,res)"
   ]
  },
  {
   "cell_type": "code",
   "execution_count": 65,
   "metadata": {
    "collapsed": true
   },
   "outputs": [],
   "source": [
    "res=np.load(filename_resultat)\n",
    "M_Mv=res[:,0]\n",
    "liste_coordonnees=res[:,1]\n",
    "# Reshape the list of coordinates\n",
    "b=np.vstack(liste_coordonnees)\n",
    "\n",
    "x_from_liste_coordonnees=b[:,0]\n",
    "y_from_liste_coordonnees=b[:,1]\n",
    "ind_lign_from_liste_coordonnees=b[:,2]\n",
    "ind_col_from_liste_coordonnees=b[:,3]"
   ]
  },
  {
   "cell_type": "code",
   "execution_count": 66,
   "metadata": {
    "collapsed": true
   },
   "outputs": [],
   "source": [
    "Matrix_TEST=np.vstack(M_Mv)\n",
    "Matrix_TEST=Matrix_TEST/255.0"
   ]
  },
  {
   "cell_type": "code",
   "execution_count": 67,
   "metadata": {
    "collapsed": true
   },
   "outputs": [],
   "source": [
    "Im_to_convert_GRAY=Matrix_TEST  "
   ]
  },
  {
   "cell_type": "code",
   "execution_count": 68,
   "metadata": {
    "collapsed": true
   },
   "outputs": [],
   "source": [
    "filename_Im_to_convert_GRAY=projectpath+'io/Output/Im_to_convert_GRAY.npy'"
   ]
  },
  {
   "cell_type": "code",
   "execution_count": 69,
   "metadata": {
    "collapsed": true
   },
   "outputs": [],
   "source": [
    "np.save(filename_Im_to_convert_GRAY,Im_to_convert_GRAY)"
   ]
  },
  {
   "cell_type": "code",
   "execution_count": 70,
   "metadata": {
    "collapsed": true
   },
   "outputs": [],
   "source": [
    "Im_to_convert_GRAY=np.load(filename_Im_to_convert_GRAY)"
   ]
  },
  {
   "cell_type": "code",
   "execution_count": 71,
   "metadata": {},
   "outputs": [
    {
     "data": {
      "text/plain": [
       "(16864, 25, 25, 3)"
      ]
     },
     "execution_count": 71,
     "metadata": {},
     "output_type": "execute_result"
    }
   ],
   "source": [
    "Im_to_convert_GRAY.shape"
   ]
  },
  {
   "cell_type": "code",
   "execution_count": null,
   "metadata": {},
   "outputs": [],
   "source": []
  },
  {
   "cell_type": "markdown",
   "metadata": {},
   "source": [
    "## Process for one tile ipynb"
   ]
  },
  {
   "cell_type": "code",
   "execution_count": 72,
   "metadata": {
    "collapsed": true
   },
   "outputs": [],
   "source": [
    "import process_for_one_tile as pt\n",
    "reload(pt);"
   ]
  },
  {
   "cell_type": "code",
   "execution_count": 73,
   "metadata": {
    "collapsed": true
   },
   "outputs": [],
   "source": [
    "nb_features=2919"
   ]
  },
  {
   "cell_type": "code",
   "execution_count": 74,
   "metadata": {
    "collapsed": true
   },
   "outputs": [],
   "source": [
    "size_=Im_to_convert_GRAY.shape[0]-1\n",
    "nidx=Im_to_convert_GRAY.shape[0]"
   ]
  },
  {
   "cell_type": "code",
   "execution_count": 77,
   "metadata": {
    "collapsed": true
   },
   "outputs": [],
   "source": [
    "partial_Get_feat_test = partial(pt.Get_feat_test, h=height, w=weight, M_mean=Im_to_convert_GRAY, nb_features=nb_features)"
   ]
  },
  {
   "cell_type": "code",
   "execution_count": null,
   "metadata": {
    "collapsed": true
   },
   "outputs": [],
   "source": [
    "pool = multiprocessing.Pool(27)\n",
    "\n",
    "FV_test = pool.map(partial_Get_feat_test,xrange(size_))\n",
    "\n",
    "pool.close()\n",
    "# 1h15"
   ]
  },
  {
   "cell_type": "code",
   "execution_count": null,
   "metadata": {
    "collapsed": true
   },
   "outputs": [],
   "source": [
    "filename_FV_test =projectpath+'io/Output/FV_test.npy'"
   ]
  },
  {
   "cell_type": "raw",
   "metadata": {
    "collapsed": true
   },
   "source": [
    "np.save(filename_FV_test, FV_test)"
   ]
  },
  {
   "cell_type": "code",
   "execution_count": null,
   "metadata": {
    "collapsed": true
   },
   "outputs": [],
   "source": [
    "FV_test=np.load(filename_FV_test)"
   ]
  },
  {
   "cell_type": "code",
   "execution_count": null,
   "metadata": {},
   "outputs": [],
   "source": [
    "partial_Get_normalized_feat_test=partial(pt.Get_normalized_feat_test,feat_test=FV_test)"
   ]
  },
  {
   "cell_type": "raw",
   "metadata": {},
   "source": [
    "pool = multiprocessing.Pool(27)\n",
    "\n",
    "FV_test_N = pool.map(partial_Get_normalized_feat_test,xrange(size_))\n",
    "\n",
    "pool.close()\n",
    "# 10min"
   ]
  },
  {
   "cell_type": "code",
   "execution_count": null,
   "metadata": {
    "collapsed": true
   },
   "outputs": [],
   "source": [
    "filename_FV_test_N =projectpath+'io/Output/FV_test_N.npy'"
   ]
  },
  {
   "cell_type": "raw",
   "metadata": {},
   "source": [
    "np.save(filename_FV_test_N,FV_test_N)"
   ]
  },
  {
   "cell_type": "code",
   "execution_count": null,
   "metadata": {
    "collapsed": true
   },
   "outputs": [],
   "source": [
    "FV_test_N=np.load(filename_FV_test_N)"
   ]
  },
  {
   "cell_type": "code",
   "execution_count": null,
   "metadata": {
    "collapsed": true
   },
   "outputs": [],
   "source": [
    "from sklearn.externals import joblib"
   ]
  },
  {
   "cell_type": "code",
   "execution_count": null,
   "metadata": {
    "collapsed": true
   },
   "outputs": [],
   "source": [
    "pca_FV_test=clf_pca.transform(FV_test_N)"
   ]
  },
  {
   "cell_type": "code",
   "execution_count": null,
   "metadata": {
    "collapsed": true
   },
   "outputs": [],
   "source": [
    "prediction_TEST=clf_RFC.predict(pca_FV_test)"
   ]
  },
  {
   "cell_type": "code",
   "execution_count": null,
   "metadata": {
    "collapsed": true
   },
   "outputs": [],
   "source": [
    "filename_prediction_TEST =projectpath+'io/Output/prediction_TEST.npy'\n",
    "np.save(filename_prediction_TEST,prediction_TEST)"
   ]
  },
  {
   "cell_type": "code",
   "execution_count": null,
   "metadata": {
    "collapsed": true
   },
   "outputs": [],
   "source": [
    "prediction_TEST=np.load(filename_prediction_TEST)"
   ]
  },
  {
   "cell_type": "code",
   "execution_count": null,
   "metadata": {
    "collapsed": true
   },
   "outputs": [],
   "source": [
    "predict_probability=clf_RFC.predict_proba(pca_FV_test)"
   ]
  },
  {
   "cell_type": "code",
   "execution_count": null,
   "metadata": {
    "collapsed": true
   },
   "outputs": [],
   "source": [
    "filename_predict_probability=projectpath+'io/Output/predict_probability.npy'\n",
    "np.save(filename_predict_probability,predict_probability)"
   ]
  },
  {
   "cell_type": "code",
   "execution_count": null,
   "metadata": {
    "collapsed": true
   },
   "outputs": [],
   "source": [
    "predict_probability=np.load(filename_predict_probability)"
   ]
  },
  {
   "cell_type": "code",
   "execution_count": null,
   "metadata": {
    "collapsed": true
   },
   "outputs": [],
   "source": [
    "################################\""
   ]
  },
  {
   "cell_type": "code",
   "execution_count": null,
   "metadata": {},
   "outputs": [],
   "source": [
    "Im_proba=pt.Get_proba( predict_probability)"
   ]
  },
  {
   "cell_type": "code",
   "execution_count": null,
   "metadata": {
    "collapsed": true
   },
   "outputs": [],
   "source": [
    "filename_Im_proba =projectpath+'io/Output/Im_proba.npy'"
   ]
  },
  {
   "cell_type": "code",
   "execution_count": null,
   "metadata": {
    "collapsed": true
   },
   "outputs": [],
   "source": [
    "Im_proba=np.save(filename_Im_proba,Im_proba)"
   ]
  },
  {
   "cell_type": "code",
   "execution_count": null,
   "metadata": {
    "collapsed": true
   },
   "outputs": [],
   "source": [
    "Im_proba=np.load(filename_Im_proba)"
   ]
  },
  {
   "cell_type": "raw",
   "metadata": {
    "collapsed": true
   },
   "source": [
    "plt.figure()\n",
    "plt.title('predict_probability Neurons VS predict_probability Background')\n",
    "plt.scatter(Im_proba[:,1],Im_proba[:,2])"
   ]
  },
  {
   "cell_type": "raw",
   "metadata": {
    "collapsed": true
   },
   "source": [
    "plt.figure()\n",
    "plt.title('histogram of Background proba')\n",
    "plt.xlabel(\"Value\")\n",
    "plt.ylabel(\"Frequency\")\n",
    "plt.hist(Im_proba[:,2],bins=50)"
   ]
  },
  {
   "cell_type": "code",
   "execution_count": null,
   "metadata": {},
   "outputs": [],
   "source": [
    "Probability_img=np.zeros([Im_proba.shape[0]+1,Im_proba.shape[1]])\n",
    "Probability_img[:Im_proba.shape[0]]=Im_proba\n",
    "Probability_img[Im_proba.shape[0]]=Probability_img[Im_proba.shape[0]-1]"
   ]
  },
  {
   "cell_type": "code",
   "execution_count": null,
   "metadata": {
    "collapsed": true
   },
   "outputs": [],
   "source": [
    "conn = BlitzGateway('tbacoyannis','d33pl34rn1ng',port=4064,host='chinensis.polytechnique.fr')\n",
    "connected = conn.connect()\n",
    "imageId=451\n",
    "image = conn.getObject(\"Image\", imageId)\n",
    "pixels = image.getPrimaryPixels() # get raw pixels information\n",
    "\n",
    "pxobj_CH1 = pixels.getTile(theZ=103, theC=0, theT=0, tile=(x_min,y_min, x_max-x_min , y_max-y_min ))\n",
    "pxobj_CH2 = pixels.getTile(theZ=103, theC=1, theT=0, tile=(x_min,y_min, x_max-x_min , y_max-y_min ))\n",
    "pxobj_CH3 = pixels.getTile(theZ=103, theC=2, theT=0, tile=(x_min,y_min, x_max-x_min , y_max-y_min ))\n",
    "\n",
    "# Get the normalized original image\n",
    "pxobj=(pxobj_CH1+pxobj_CH2+pxobj_CH3)/3"
   ]
  },
  {
   "cell_type": "code",
   "execution_count": null,
   "metadata": {},
   "outputs": [],
   "source": [
    "e=124\n",
    "CH1=Probability_img[:,0]\n",
    "CH1=np.reshape(CH1, (-1, e) )\n",
    "CH1=CH1[:,:, np.newaxis]\n",
    "#     plt.title('Proba Astrocytes')\n",
    "\n",
    "CH2=Probability_img[:,1]\n",
    "CH2=np.reshape(CH2,(-1,e))\n",
    "CH2=CH2[:,:,np.newaxis]\n",
    "#     plt.title('Proba Neurons')\n",
    "\n",
    "\n",
    "CH3=Probability_img[:,2]\n",
    "CH3=np.reshape(CH3, (-1, e) )\n",
    "CH3=CH3[:,:,np.newaxis]\n",
    "#     plt.title('Proba Background')\n",
    "\n",
    "Z=np.dstack([CH1,CH2,CH3])"
   ]
  },
  {
   "cell_type": "code",
   "execution_count": null,
   "metadata": {
    "collapsed": true
   },
   "outputs": [],
   "source": [
    "filename_RGB_proba_im =projectpath+'io/Output/RGB_proba_im.npy'"
   ]
  },
  {
   "cell_type": "code",
   "execution_count": null,
   "metadata": {
    "collapsed": true
   },
   "outputs": [],
   "source": [
    "np.save(filename_RGB_proba_im,Z)"
   ]
  },
  {
   "cell_type": "code",
   "execution_count": null,
   "metadata": {
    "collapsed": true
   },
   "outputs": [],
   "source": [
    "Z=np.load(filename_RGB_proba_im)"
   ]
  },
  {
   "cell_type": "code",
   "execution_count": null,
   "metadata": {},
   "outputs": [],
   "source": [
    "plt.figure()\n",
    "plt.scatter(Z[:,:,0], Z[:,:,1], s = 130, c = 'yellow', marker = '*', edgecolors = 'green', label=['Proba Astrocytes', 'Proba Neurons'])\n",
    "plt.scatter(Z[:,:,0], Z[:,:,2], s = 50, c = 'red', marker = '+', linewidth = 3, label=['Proba Astrocytes', 'Proba Background'])\n",
    "plt.scatter(Z[:,:,1], Z[:,:,2], s = 50, c = 'cyan', marker = 'o', edgecolors = 'none', label=['Proba Neurons', 'Proba Background'])\n",
    "plt.title('scatter plot')\n",
    "plt.legend()"
   ]
  },
  {
   "cell_type": "code",
   "execution_count": null,
   "metadata": {
    "collapsed": true
   },
   "outputs": [],
   "source": [
    "import IM_Display_RGB as imd\n",
    "reload(imd);"
   ]
  },
  {
   "cell_type": "code",
   "execution_count": null,
   "metadata": {},
   "outputs": [],
   "source": [
    "imd.imshowRGB(Z,pxobj,10)"
   ]
  },
  {
   "cell_type": "code",
   "execution_count": null,
   "metadata": {
    "collapsed": true
   },
   "outputs": [],
   "source": []
  },
  {
   "cell_type": "code",
   "execution_count": null,
   "metadata": {
    "collapsed": true
   },
   "outputs": [],
   "source": []
  },
  {
   "cell_type": "code",
   "execution_count": null,
   "metadata": {
    "collapsed": true
   },
   "outputs": [],
   "source": []
  },
  {
   "cell_type": "code",
   "execution_count": null,
   "metadata": {
    "collapsed": true
   },
   "outputs": [],
   "source": []
  },
  {
   "cell_type": "raw",
   "metadata": {},
   "source": []
  },
  {
   "cell_type": "code",
   "execution_count": null,
   "metadata": {
    "collapsed": true
   },
   "outputs": [],
   "source": []
  },
  {
   "cell_type": "raw",
   "metadata": {},
   "source": []
  },
  {
   "cell_type": "raw",
   "metadata": {},
   "source": []
  },
  {
   "cell_type": "code",
   "execution_count": null,
   "metadata": {
    "collapsed": true
   },
   "outputs": [],
   "source": []
  },
  {
   "cell_type": "code",
   "execution_count": null,
   "metadata": {
    "collapsed": true
   },
   "outputs": [],
   "source": []
  },
  {
   "cell_type": "code",
   "execution_count": null,
   "metadata": {
    "collapsed": true
   },
   "outputs": [],
   "source": []
  },
  {
   "cell_type": "code",
   "execution_count": null,
   "metadata": {
    "collapsed": true
   },
   "outputs": [],
   "source": []
  },
  {
   "cell_type": "code",
   "execution_count": null,
   "metadata": {
    "collapsed": true
   },
   "outputs": [],
   "source": []
  },
  {
   "cell_type": "code",
   "execution_count": null,
   "metadata": {
    "collapsed": true
   },
   "outputs": [],
   "source": []
  },
  {
   "cell_type": "code",
   "execution_count": null,
   "metadata": {
    "collapsed": true
   },
   "outputs": [],
   "source": []
  },
  {
   "cell_type": "code",
   "execution_count": null,
   "metadata": {
    "collapsed": true
   },
   "outputs": [],
   "source": []
  },
  {
   "cell_type": "code",
   "execution_count": null,
   "metadata": {
    "collapsed": true
   },
   "outputs": [],
   "source": []
  },
  {
   "cell_type": "code",
   "execution_count": null,
   "metadata": {
    "collapsed": true
   },
   "outputs": [],
   "source": []
  },
  {
   "cell_type": "code",
   "execution_count": null,
   "metadata": {
    "collapsed": true
   },
   "outputs": [],
   "source": []
  },
  {
   "cell_type": "code",
   "execution_count": null,
   "metadata": {
    "collapsed": true
   },
   "outputs": [],
   "source": []
  },
  {
   "cell_type": "code",
   "execution_count": null,
   "metadata": {
    "collapsed": true
   },
   "outputs": [],
   "source": []
  },
  {
   "cell_type": "code",
   "execution_count": null,
   "metadata": {
    "collapsed": true
   },
   "outputs": [],
   "source": []
  },
  {
   "cell_type": "code",
   "execution_count": null,
   "metadata": {
    "collapsed": true
   },
   "outputs": [],
   "source": []
  },
  {
   "cell_type": "code",
   "execution_count": null,
   "metadata": {
    "collapsed": true
   },
   "outputs": [],
   "source": []
  },
  {
   "cell_type": "code",
   "execution_count": null,
   "metadata": {
    "collapsed": true
   },
   "outputs": [],
   "source": []
  },
  {
   "cell_type": "code",
   "execution_count": null,
   "metadata": {
    "collapsed": true
   },
   "outputs": [],
   "source": []
  },
  {
   "cell_type": "code",
   "execution_count": null,
   "metadata": {
    "collapsed": true
   },
   "outputs": [],
   "source": []
  },
  {
   "cell_type": "code",
   "execution_count": null,
   "metadata": {
    "collapsed": true
   },
   "outputs": [],
   "source": []
  },
  {
   "cell_type": "code",
   "execution_count": null,
   "metadata": {
    "collapsed": true
   },
   "outputs": [],
   "source": []
  },
  {
   "cell_type": "code",
   "execution_count": null,
   "metadata": {
    "collapsed": true
   },
   "outputs": [],
   "source": []
  },
  {
   "cell_type": "code",
   "execution_count": null,
   "metadata": {
    "collapsed": true
   },
   "outputs": [],
   "source": []
  },
  {
   "cell_type": "code",
   "execution_count": null,
   "metadata": {
    "collapsed": true
   },
   "outputs": [],
   "source": []
  },
  {
   "cell_type": "code",
   "execution_count": null,
   "metadata": {
    "collapsed": true
   },
   "outputs": [],
   "source": []
  },
  {
   "cell_type": "code",
   "execution_count": null,
   "metadata": {
    "collapsed": true
   },
   "outputs": [],
   "source": []
  },
  {
   "cell_type": "code",
   "execution_count": null,
   "metadata": {
    "collapsed": true
   },
   "outputs": [],
   "source": []
  },
  {
   "cell_type": "code",
   "execution_count": null,
   "metadata": {
    "collapsed": true
   },
   "outputs": [],
   "source": []
  },
  {
   "cell_type": "code",
   "execution_count": null,
   "metadata": {
    "collapsed": true
   },
   "outputs": [],
   "source": []
  },
  {
   "cell_type": "code",
   "execution_count": null,
   "metadata": {
    "collapsed": true
   },
   "outputs": [],
   "source": []
  },
  {
   "cell_type": "code",
   "execution_count": null,
   "metadata": {
    "collapsed": true
   },
   "outputs": [],
   "source": []
  },
  {
   "cell_type": "code",
   "execution_count": null,
   "metadata": {
    "collapsed": true
   },
   "outputs": [],
   "source": []
  },
  {
   "cell_type": "code",
   "execution_count": null,
   "metadata": {
    "collapsed": true
   },
   "outputs": [],
   "source": []
  },
  {
   "cell_type": "code",
   "execution_count": null,
   "metadata": {
    "collapsed": true
   },
   "outputs": [],
   "source": []
  },
  {
   "cell_type": "code",
   "execution_count": null,
   "metadata": {
    "collapsed": true
   },
   "outputs": [],
   "source": []
  },
  {
   "cell_type": "code",
   "execution_count": null,
   "metadata": {
    "collapsed": true
   },
   "outputs": [],
   "source": []
  },
  {
   "cell_type": "code",
   "execution_count": null,
   "metadata": {
    "collapsed": true
   },
   "outputs": [],
   "source": []
  },
  {
   "cell_type": "code",
   "execution_count": null,
   "metadata": {
    "collapsed": true
   },
   "outputs": [],
   "source": []
  },
  {
   "cell_type": "code",
   "execution_count": null,
   "metadata": {
    "collapsed": true
   },
   "outputs": [],
   "source": []
  },
  {
   "cell_type": "code",
   "execution_count": null,
   "metadata": {
    "collapsed": true
   },
   "outputs": [],
   "source": []
  },
  {
   "cell_type": "code",
   "execution_count": null,
   "metadata": {
    "collapsed": true
   },
   "outputs": [],
   "source": []
  },
  {
   "cell_type": "code",
   "execution_count": null,
   "metadata": {
    "collapsed": true
   },
   "outputs": [],
   "source": []
  },
  {
   "cell_type": "code",
   "execution_count": null,
   "metadata": {
    "collapsed": true
   },
   "outputs": [],
   "source": []
  },
  {
   "cell_type": "code",
   "execution_count": null,
   "metadata": {
    "collapsed": true
   },
   "outputs": [],
   "source": []
  },
  {
   "cell_type": "code",
   "execution_count": null,
   "metadata": {
    "collapsed": true
   },
   "outputs": [],
   "source": []
  },
  {
   "cell_type": "code",
   "execution_count": null,
   "metadata": {
    "collapsed": true
   },
   "outputs": [],
   "source": []
  },
  {
   "cell_type": "code",
   "execution_count": null,
   "metadata": {
    "collapsed": true
   },
   "outputs": [],
   "source": []
  },
  {
   "cell_type": "code",
   "execution_count": null,
   "metadata": {
    "collapsed": true
   },
   "outputs": [],
   "source": []
  }
 ],
 "metadata": {
  "kernelspec": {
   "display_name": "Python 2",
   "language": "python",
   "name": "python2"
  },
  "language_info": {
   "codemirror_mode": {
    "name": "ipython",
    "version": 2
   },
   "file_extension": ".py",
   "mimetype": "text/x-python",
   "name": "python",
   "nbconvert_exporter": "python",
   "pygments_lexer": "ipython2",
   "version": "2.7.12"
  }
 },
 "nbformat": 4,
 "nbformat_minor": 2
}
