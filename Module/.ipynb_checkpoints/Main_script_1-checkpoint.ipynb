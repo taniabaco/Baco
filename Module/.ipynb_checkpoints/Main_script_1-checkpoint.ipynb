{
 "cells": [
  {
   "cell_type": "markdown",
   "metadata": {},
   "source": [
    "# Pipeline : \n",
    "### data processing of the manually annoted dataset\n",
    "### image processing : extraction of RGB volumes\n",
    "### classifier based on WND-charm Model\n",
    "### PCA & RDF\n",
    "### Build a classifier\n",
    "### Analyse False Positives\n",
    "### Prediction of Neurons, Astrocytes, Background in ROI's clone"
   ]
  },
  {
   "cell_type": "code",
   "execution_count": 1,
   "metadata": {
    "collapsed": true
   },
   "outputs": [],
   "source": [
    "import numpy as np\n",
    "import pandas as pd\n",
    "from functools import partial\n",
    "import multiprocessing\n",
    "%matplotlib notebook\n",
    "import matplotlib.pyplot as plt\n",
    "import matplotlib.image as mpimg\n",
    "import matplotlib.colors as cm\n",
    "import pickle\n",
    "from pandas import DataFrame, read_csv,concat,merge"
   ]
  },
  {
   "cell_type": "code",
   "execution_count": 2,
   "metadata": {
    "collapsed": true
   },
   "outputs": [],
   "source": [
    "%run ./configure.ipynb"
   ]
  },
  {
   "cell_type": "code",
   "execution_count": 3,
   "metadata": {
    "collapsed": true
   },
   "outputs": [],
   "source": [
    "%run ../Connection_to_server.ipynb"
   ]
  },
  {
   "cell_type": "code",
   "execution_count": 4,
   "metadata": {
    "collapsed": true
   },
   "outputs": [],
   "source": [
    "imageId = 451\n",
    "weight=25\n",
    "height=25"
   ]
  },
  {
   "cell_type": "markdown",
   "metadata": {},
   "source": [
    "## Pre-pocessing of the manually annotated Dataset"
   ]
  },
  {
   "cell_type": "code",
   "execution_count": 5,
   "metadata": {
    "collapsed": true
   },
   "outputs": [],
   "source": [
    "import Pre_Processing_the_annotated_dataset as pp\n",
    "reload(pp);"
   ]
  },
  {
   "cell_type": "code",
   "execution_count": 6,
   "metadata": {
    "collapsed": true
   },
   "outputs": [],
   "source": [
    "dfpoints=read_csv(projectpath+'io/Input/Bloc01_pointes_first_mod.csv')"
   ]
  },
  {
   "cell_type": "code",
   "execution_count": 7,
   "metadata": {
    "collapsed": true
   },
   "outputs": [],
   "source": [
    "dfpoints=pp.Get_Dataframe(imageId, dfpoints)"
   ]
  },
  {
   "cell_type": "markdown",
   "metadata": {},
   "source": [
    "## Reduce the number of Neurons in order to have as many as Astrocytes"
   ]
  },
  {
   "cell_type": "code",
   "execution_count": 8,
   "metadata": {
    "collapsed": true
   },
   "outputs": [],
   "source": [
    "import Reduction_of_Neurons_in_the_DataFrame as nr\n",
    "reload(nr);"
   ]
  },
  {
   "cell_type": "code",
   "execution_count": 9,
   "metadata": {
    "collapsed": true
   },
   "outputs": [],
   "source": [
    "dfpoints=nr.Get_DataFrame_less_Neurons(dfpoints)"
   ]
  },
  {
   "cell_type": "markdown",
   "metadata": {
    "collapsed": true
   },
   "source": []
  },
  {
   "cell_type": "code",
   "execution_count": 10,
   "metadata": {
    "collapsed": true
   },
   "outputs": [],
   "source": [
    "DF_=nr.Get_Data_frame(imageId, dfpoints)"
   ]
  },
  {
   "cell_type": "code",
   "execution_count": 11,
   "metadata": {
    "collapsed": true
   },
   "outputs": [],
   "source": [
    "import Fonctions_used_for_many_DF_pre_processing as fct_pp\n",
    "reload(fct_pp);"
   ]
  },
  {
   "cell_type": "code",
   "execution_count": 12,
   "metadata": {
    "collapsed": true
   },
   "outputs": [],
   "source": [
    "Data_FRAMES=fct_pp.getDF(DF_)"
   ]
  },
  {
   "cell_type": "code",
   "execution_count": 13,
   "metadata": {
    "collapsed": true
   },
   "outputs": [],
   "source": [
    "Data_FRAMES=fct_pp.Switch_Indices(Data_FRAMES)"
   ]
  },
  {
   "cell_type": "code",
   "execution_count": 14,
   "metadata": {
    "collapsed": true
   },
   "outputs": [],
   "source": [
    "Data_FRAMES=fct_pp.exclure(Data_FRAMES,weight, height)"
   ]
  },
  {
   "cell_type": "code",
   "execution_count": 15,
   "metadata": {
    "collapsed": true
   },
   "outputs": [],
   "source": [
    "D_F=fct_pp.getDF(Data_FRAMES)"
   ]
  },
  {
   "cell_type": "code",
   "execution_count": 16,
   "metadata": {
    "collapsed": true
   },
   "outputs": [],
   "source": [
    "Data_FRAMES=fct_pp.Switch_Indices(D_F)"
   ]
  },
  {
   "cell_type": "code",
   "execution_count": 17,
   "metadata": {
    "collapsed": true
   },
   "outputs": [],
   "source": [
    "Data_FRAMES.to_pickle(projectpath+'io/Output/Data_FRAMES.pkl')"
   ]
  },
  {
   "cell_type": "markdown",
   "metadata": {},
   "source": [
    "# Add a fourth class to the data Frame (Background Type :4)"
   ]
  },
  {
   "cell_type": "code",
   "execution_count": 18,
   "metadata": {
    "collapsed": true
   },
   "outputs": [],
   "source": [
    "Data_FRAMES=pd.read_pickle(projectpath+'io/Output/Data_FRAMES.pkl')"
   ]
  },
  {
   "cell_type": "code",
   "execution_count": 19,
   "metadata": {
    "collapsed": true
   },
   "outputs": [],
   "source": [
    "import Add_Background_class_to_Dataframe as Bc\n",
    "reload(Bc);"
   ]
  },
  {
   "cell_type": "code",
   "execution_count": 20,
   "metadata": {
    "collapsed": true
   },
   "outputs": [],
   "source": [
    "New_DF=Bc.Get_Df_with_backgroung_class(Data_FRAMES,imageId)"
   ]
  },
  {
   "cell_type": "code",
   "execution_count": 21,
   "metadata": {
    "collapsed": true
   },
   "outputs": [],
   "source": [
    "New_DF=fct_pp.exclure_Bc(New_DF,weight,height)"
   ]
  },
  {
   "cell_type": "code",
   "execution_count": 22,
   "metadata": {
    "collapsed": true
   },
   "outputs": [],
   "source": [
    "New_DF=fct_pp.getDF(New_DF)"
   ]
  },
  {
   "cell_type": "code",
   "execution_count": 23,
   "metadata": {
    "collapsed": true
   },
   "outputs": [],
   "source": [
    "New_DF=fct_pp.Switch_Indices(New_DF)"
   ]
  },
  {
   "cell_type": "markdown",
   "metadata": {},
   "source": [
    "# Create the full data Frame ( 526 Adtrocytes, 528 Neurons, 540 background) "
   ]
  },
  {
   "cell_type": "code",
   "execution_count": 24,
   "metadata": {
    "collapsed": true
   },
   "outputs": [],
   "source": [
    "# Join the 2 DataFrames\n",
    "Dataframe_=pd.concat([Data_FRAMES, New_DF], axis=0)"
   ]
  },
  {
   "cell_type": "code",
   "execution_count": 25,
   "metadata": {
    "collapsed": true
   },
   "outputs": [],
   "source": [
    "Dataframe_=fct_pp.getDF(Dataframe_)"
   ]
  },
  {
   "cell_type": "code",
   "execution_count": 26,
   "metadata": {
    "collapsed": true
   },
   "outputs": [],
   "source": [
    "Dataframe_=fct_pp.Switch_Indices(Dataframe_)"
   ]
  },
  {
   "cell_type": "code",
   "execution_count": 27,
   "metadata": {
    "collapsed": true
   },
   "outputs": [],
   "source": [
    "Dataframe_.to_pickle(projectpath+'io/Output/Dataframe_.pkl')"
   ]
  },
  {
   "cell_type": "code",
   "execution_count": 28,
   "metadata": {
    "collapsed": true
   },
   "outputs": [],
   "source": [
    "Data_FRAMES=pd.read_pickle(projectpath+'io/Output/Dataframe_.pkl')"
   ]
  },
  {
   "cell_type": "markdown",
   "metadata": {},
   "source": [
    "# Get volumes with Multiprocessing"
   ]
  },
  {
   "cell_type": "code",
   "execution_count": 29,
   "metadata": {
    "collapsed": true
   },
   "outputs": [],
   "source": [
    "import Get_Partial_Data as gpd\n",
    "reload(gpd);"
   ]
  },
  {
   "cell_type": "code",
   "execution_count": 32,
   "metadata": {
    "collapsed": true
   },
   "outputs": [],
   "source": [
    "#Metrics\n",
    "zsize=3\n",
    "nidx=Data_FRAMES.shape[0] "
   ]
  },
  {
   "cell_type": "code",
   "execution_count": 33,
   "metadata": {},
   "outputs": [],
   "source": [
    "partial_getDATA_MEAN = partial(gpd.get_mean_zstacks_data, imageId=imageId, zsize=zsize, h=height, w=weight, Data_F=Data_FRAMES)"
   ]
  },
  {
   "cell_type": "raw",
   "metadata": {},
   "source": [
    "# get raw data using multiprocesses\n",
    "pool = multiprocessing.Pool(27)\n",
    "M_Means = pool.map(partial_getDATA_MEAN,xrange(nidx))\n",
    "pool.close()"
   ]
  },
  {
   "cell_type": "code",
   "execution_count": 34,
   "metadata": {
    "collapsed": true
   },
   "outputs": [],
   "source": [
    "filename_M_DF =projectpath+'io/Output/M_DF.npy'"
   ]
  },
  {
   "cell_type": "raw",
   "metadata": {},
   "source": [
    "np.save(filename_M_DF,M_Means)"
   ]
  },
  {
   "cell_type": "markdown",
   "metadata": {},
   "source": [
    "## Load Normalized volums as numpy array"
   ]
  },
  {
   "cell_type": "code",
   "execution_count": 35,
   "metadata": {
    "collapsed": true
   },
   "outputs": [],
   "source": [
    "M_DF_parallel=np.load(filename_M_DF)"
   ]
  },
  {
   "cell_type": "markdown",
   "metadata": {},
   "source": [
    "# Display the RGB images corresponding to normalized volums"
   ]
  },
  {
   "cell_type": "code",
   "execution_count": 36,
   "metadata": {
    "collapsed": true
   },
   "outputs": [],
   "source": [
    "import Display_RGB_Vol as rgb_im\n",
    "reload(rgb_im);"
   ]
  },
  {
   "cell_type": "raw",
   "metadata": {},
   "source": [
    "rgb_im.PLOT_Im(M_DF_parallel[1590])"
   ]
  },
  {
   "cell_type": "markdown",
   "metadata": {},
   "source": [
    "# 4- WND CHARM Method"
   ]
  },
  {
   "cell_type": "markdown",
   "metadata": {},
   "source": [
    "## 4.1- Convert RGB images to Grayscale"
   ]
  },
  {
   "cell_type": "code",
   "execution_count": 38,
   "metadata": {
    "collapsed": true
   },
   "outputs": [],
   "source": [
    "import RGB2GRAY\n",
    "reload(RGB2GRAY);"
   ]
  },
  {
   "cell_type": "code",
   "execution_count": 39,
   "metadata": {},
   "outputs": [],
   "source": [
    "partial_get_Gray_Img = partial(RGB2GRAY.Convert_Im_in_Gray_levels, h=height, w=weight, M_mean=M_DF_parallel)"
   ]
  },
  {
   "cell_type": "raw",
   "metadata": {},
   "source": [
    "pool = multiprocessing.Pool(27)\n",
    "GRAY_IM = pool.map(partial_get_Gray_Img,xrange(nidx))\n",
    "pool.close()"
   ]
  },
  {
   "cell_type": "code",
   "execution_count": 40,
   "metadata": {
    "collapsed": true
   },
   "outputs": [],
   "source": [
    "filename_Gray_IM =projectpath+'io/Output/GRAY_IM.npy'"
   ]
  },
  {
   "cell_type": "raw",
   "metadata": {},
   "source": [
    "np.save(filename_Gray_IM,GRAY_IM)"
   ]
  },
  {
   "cell_type": "markdown",
   "metadata": {},
   "source": [
    "## Load the gray images as numpy array"
   ]
  },
  {
   "cell_type": "code",
   "execution_count": 41,
   "metadata": {
    "collapsed": true
   },
   "outputs": [],
   "source": [
    "filename_Gray_IM =projectpath+'io/Output/GRAY_IM.npy'"
   ]
  },
  {
   "cell_type": "code",
   "execution_count": 42,
   "metadata": {
    "collapsed": true
   },
   "outputs": [],
   "source": [
    "GRAY_IM_parallel=np.load(filename_Gray_IM)"
   ]
  },
  {
   "cell_type": "markdown",
   "metadata": {},
   "source": [
    "# Display images by class ( 1 or 2) in order to detect the false predictions"
   ]
  },
  {
   "cell_type": "code",
   "execution_count": 43,
   "metadata": {
    "collapsed": true
   },
   "outputs": [],
   "source": [
    "import Display_img_false_prediction as imf\n",
    "reload(imf);"
   ]
  },
  {
   "cell_type": "code",
   "execution_count": 44,
   "metadata": {
    "collapsed": true
   },
   "outputs": [],
   "source": [
    "(Astrocytes, Neurons, Background)=imf.separate_in_3_classes(Data_FRAMES)"
   ]
  },
  {
   "cell_type": "raw",
   "metadata": {},
   "source": [
    "imf.Plot_IMG_By_Class(GRAY_IM_parallel, Astrocytes)"
   ]
  },
  {
   "cell_type": "markdown",
   "metadata": {},
   "source": [
    "## 4.2- Extraction of the WND-CHARM Features"
   ]
  },
  {
   "cell_type": "code",
   "execution_count": 45,
   "metadata": {
    "collapsed": true
   },
   "outputs": [],
   "source": [
    "nb_features=2919"
   ]
  },
  {
   "cell_type": "code",
   "execution_count": 46,
   "metadata": {
    "collapsed": true
   },
   "outputs": [],
   "source": [
    "import Features_computing as FC\n",
    "reload(FC);"
   ]
  },
  {
   "cell_type": "code",
   "execution_count": 47,
   "metadata": {
    "collapsed": true
   },
   "outputs": [],
   "source": [
    "partial_get_FEATURES = partial(FC.Features_calcul_np_GrayscaleIm_WND, nb_features=nb_features, w=weight, h=height, GRAY=GRAY_IM_parallel)"
   ]
  },
  {
   "cell_type": "raw",
   "metadata": {},
   "source": [
    "pool = multiprocessing.Pool(27)\n",
    "Featur = pool.map(partial_get_FEATURES,xrange(nidx))\n",
    "pool.close()"
   ]
  },
  {
   "cell_type": "code",
   "execution_count": 48,
   "metadata": {
    "collapsed": true
   },
   "outputs": [],
   "source": [
    "filename_FEATURES =projectpath+'io/Output/FEATURES.npy'"
   ]
  },
  {
   "cell_type": "raw",
   "metadata": {},
   "source": [
    "np.save(filename_FEATURES,Featur)"
   ]
  },
  {
   "cell_type": "markdown",
   "metadata": {},
   "source": []
  },
  {
   "cell_type": "markdown",
   "metadata": {},
   "source": [
    "## Load the extracted Features"
   ]
  },
  {
   "cell_type": "code",
   "execution_count": 49,
   "metadata": {
    "collapsed": true
   },
   "outputs": [],
   "source": [
    "FEATURES=np.load(filename_FEATURES)"
   ]
  },
  {
   "cell_type": "markdown",
   "metadata": {},
   "source": [
    "## Etablish one np.array for the Features' Names & another one for Features' Values"
   ]
  },
  {
   "cell_type": "code",
   "execution_count": 50,
   "metadata": {
    "collapsed": true
   },
   "outputs": [],
   "source": [
    "FEAT_NAMES=FEATURES[:,1,:]"
   ]
  },
  {
   "cell_type": "code",
   "execution_count": 51,
   "metadata": {
    "collapsed": true
   },
   "outputs": [],
   "source": [
    "FEAT_VALUES=FEATURES[:,0,:]"
   ]
  },
  {
   "cell_type": "code",
   "execution_count": 52,
   "metadata": {
    "collapsed": true
   },
   "outputs": [],
   "source": [
    "FEAT_VALUES=FEAT_VALUES.astype(float)"
   ]
  },
  {
   "cell_type": "code",
   "execution_count": 53,
   "metadata": {
    "collapsed": true
   },
   "outputs": [],
   "source": [
    "filename_FEATURES_Val =projectpath+'io/Output/FEATURES_Val.npy'"
   ]
  },
  {
   "cell_type": "code",
   "execution_count": 54,
   "metadata": {
    "collapsed": true
   },
   "outputs": [],
   "source": [
    "np.save(filename_FEATURES_Val,FEAT_VALUES)"
   ]
  },
  {
   "cell_type": "code",
   "execution_count": 55,
   "metadata": {
    "collapsed": true
   },
   "outputs": [],
   "source": [
    "FEAT_VALUES=np.load(filename_FEATURES_Val)"
   ]
  },
  {
   "cell_type": "markdown",
   "metadata": {},
   "source": [
    "# 4.3- Features Post- processing"
   ]
  },
  {
   "cell_type": "markdown",
   "metadata": {},
   "source": [
    "## A- Get the normalized Features"
   ]
  },
  {
   "cell_type": "code",
   "execution_count": 56,
   "metadata": {
    "collapsed": true
   },
   "outputs": [],
   "source": [
    "partial_get_NORMALIZED_FEAT = partial(FC.Get_Normalized_FEATURES, FV=FEAT_VALUES)"
   ]
  },
  {
   "cell_type": "raw",
   "metadata": {},
   "source": [
    "# get raw data using multiprocesses\n",
    "pool = multiprocessing.Pool(27)\n",
    "FV_N = pool.map(partial_get_NORMALIZED_FEAT,xrange(nidx))\n",
    "pool.close()"
   ]
  },
  {
   "cell_type": "code",
   "execution_count": 57,
   "metadata": {
    "collapsed": true
   },
   "outputs": [],
   "source": [
    "filename_FVN =projectpath+'io/Output/FV_N.npy'"
   ]
  },
  {
   "cell_type": "raw",
   "metadata": {
    "collapsed": true
   },
   "source": [
    "np.save(filename_FVN,FV_N)"
   ]
  },
  {
   "cell_type": "code",
   "execution_count": 58,
   "metadata": {
    "collapsed": true
   },
   "outputs": [],
   "source": [
    "FV_N=np.load(filename_FVN)"
   ]
  },
  {
   "cell_type": "markdown",
   "metadata": {},
   "source": [
    "# PCA & Random Forest Classification"
   ]
  },
  {
   "cell_type": "code",
   "execution_count": null,
   "metadata": {},
   "outputs": [],
   "source": [
    "%%time\n",
    "%run ./Pipeline_PCA_RANDOM_Forest_Copy1.ipynb\n",
    "# CPU times: user 16min 53s, sys: 1h 52s, total: 1h 17min 45s\n",
    "# Wall time: 6min 58s"
   ]
  },
  {
   "cell_type": "markdown",
   "metadata": {},
   "source": [
    "# Imshow specific images to understand non differentiation in PCA model"
   ]
  },
  {
   "cell_type": "raw",
   "metadata": {
    "collapsed": true
   },
   "source": [
    "%run ./track_images_from_PCA.ipynb"
   ]
  },
  {
   "cell_type": "raw",
   "metadata": {
    "collapsed": true
   },
   "source": [
    "ddf=indexing_DF_borders(Data_FRAMES, M, 25, 38)"
   ]
  },
  {
   "cell_type": "raw",
   "metadata": {
    "collapsed": true
   },
   "source": [
    "# save to file\n",
    "filename_DF_PCA =projectpath+'io/Output/DF_PCA.npy'"
   ]
  },
  {
   "cell_type": "raw",
   "metadata": {
    "collapsed": true
   },
   "source": [
    "np.save(filename_DF_PCA, ddf)"
   ]
  },
  {
   "cell_type": "raw",
   "metadata": {
    "collapsed": true
   },
   "source": [
    "DF_PCA=np.load(filename_DF_PCA)"
   ]
  },
  {
   "cell_type": "raw",
   "metadata": {
    "collapsed": true
   },
   "source": [
    "sns.reset_orig() "
   ]
  },
  {
   "cell_type": "raw",
   "metadata": {
    "collapsed": true
   },
   "source": [
    "%matplotlib notebook"
   ]
  },
  {
   "cell_type": "raw",
   "metadata": {},
   "source": [
    "Plot_Strange_Vol_per_Class(GRAY_IM_parallel, 2, DF_PCA)"
   ]
  },
  {
   "cell_type": "markdown",
   "metadata": {},
   "source": [
    "# process in order to display false predicted images"
   ]
  },
  {
   "cell_type": "code",
   "execution_count": null,
   "metadata": {},
   "outputs": [],
   "source": [
    "(fail_img_pred_Neurons,fail_img_pred_Astrocytes,fail_img_pred_Background)=imf.Get_IMG_failed_prediction(yr,predictedVAL)"
   ]
  },
  {
   "cell_type": "code",
   "execution_count": null,
   "metadata": {
    "collapsed": true
   },
   "outputs": [],
   "source": [
    "sns.reset_orig() # sns.set()"
   ]
  },
  {
   "cell_type": "raw",
   "metadata": {
    "collapsed": true
   },
   "source": [
    "imf.Plot_Failed_IMG(GRAY_IM_parallel, fail_img_pred_Astrocytes)"
   ]
  },
  {
   "cell_type": "raw",
   "metadata": {
    "collapsed": true
   },
   "source": [
    "def Get_DF_failed_predicions(Data_frame, fail_img_prediction):\n",
    "    \" display the dataFrame corresponding to the tiles where the prediction has failed\"\n",
    "    newDF=pd.DataFrame(data=None, columns=Data_frame.columns)\n",
    "    for i in range(0, len(fail_img_prediction) ):\n",
    "        newDF = newDF.append(Data_frame.loc[Data_frame.indice==(fail_img_prediction[i])].copy())\n",
    "    return(newDF)"
   ]
  },
  {
   "cell_type": "raw",
   "metadata": {
    "collapsed": true
   },
   "source": [
    "Data_F_fail_Neurons=Get_DF_failed_predicions(Data_FRAMES, fail_img_pred_Neurons)"
   ]
  },
  {
   "cell_type": "raw",
   "metadata": {
    "collapsed": true
   },
   "source": [
    "Data_F_fail_Astrocytes=Get_DF_failed_predicions(Data_FRAMES, fail_img_pred_Astrocytes)"
   ]
  },
  {
   "cell_type": "markdown",
   "metadata": {
    "collapsed": true
   },
   "source": [
    "# test prediction sur  1 clone"
   ]
  },
  {
   "cell_type": "markdown",
   "metadata": {},
   "source": [
    "# FAIRE DES MODIFS !"
   ]
  },
  {
   "cell_type": "code",
   "execution_count": 59,
   "metadata": {
    "collapsed": true
   },
   "outputs": [],
   "source": [
    "import Get_coordinates as gC\n",
    "reload(gC);"
   ]
  },
  {
   "cell_type": "code",
   "execution_count": 60,
   "metadata": {
    "collapsed": true
   },
   "outputs": [],
   "source": [
    "conn = BlitzGateway('tbacoyannis','d33pl34rn1ng',port=4064,host='chinensis.polytechnique.fr')\n",
    "connected = conn.connect()\n",
    "\n",
    "image = conn.getObject(\"Image\", imageId)\n",
    "pixels = image.getPrimaryPixels() # get raw pixels information\n",
    "\n",
    "size_x=image.getSizeX()\n",
    "size_y=image.getSizeY()\n",
    "size_z = image.getSizeZ()\n",
    "size_c = image.getSizeC()\n",
    "size_t = image.getSizeT()\n",
    "\n",
    "large= weight  \n",
    "nidY=size_x/(int(large/int(large/2)))-3"
   ]
  },
  {
   "cell_type": "code",
   "execution_count": 62,
   "metadata": {
    "collapsed": true
   },
   "outputs": [],
   "source": [
    "partial_getDATA_coord = partial(gC.get_coordinates, imageId=imageId, large=large)"
   ]
  },
  {
   "cell_type": "raw",
   "metadata": {},
   "source": [
    "pool = multiprocessing.Pool(28)\n",
    "(res)  = pool.map(partial_getDATA_coord, xrange(nidY))\n",
    "pool.close()"
   ]
  },
  {
   "cell_type": "code",
   "execution_count": 63,
   "metadata": {
    "collapsed": true
   },
   "outputs": [],
   "source": [
    "filename_res =projectpath+'io/Output/res.npy'"
   ]
  },
  {
   "cell_type": "raw",
   "metadata": {
    "collapsed": true
   },
   "source": [
    "np.save(filename_res,res)"
   ]
  },
  {
   "cell_type": "code",
   "execution_count": 64,
   "metadata": {
    "collapsed": true
   },
   "outputs": [],
   "source": [
    "res=np.load(filename_res)"
   ]
  },
  {
   "cell_type": "code",
   "execution_count": 65,
   "metadata": {
    "collapsed": true
   },
   "outputs": [],
   "source": [
    "M_Mv=res[:,0]\n",
    "liste_coordonnees=res[:,1]"
   ]
  },
  {
   "cell_type": "code",
   "execution_count": 66,
   "metadata": {
    "collapsed": true
   },
   "outputs": [],
   "source": [
    "# Coordinates of the ROI in the original image\n",
    "x_min=48+367\n",
    "y_min=2064+646\n",
    "w=615-367\n",
    "h=920-646\n",
    "x_max=x_min+w\n",
    "y_max=y_min+h"
   ]
  },
  {
   "cell_type": "code",
   "execution_count": 67,
   "metadata": {
    "collapsed": true
   },
   "outputs": [],
   "source": [
    "# Reshape the list of coordinates\n",
    "b=np.vstack(liste_coordonnees)"
   ]
  },
  {
   "cell_type": "code",
   "execution_count": 68,
   "metadata": {
    "collapsed": true
   },
   "outputs": [],
   "source": [
    "x_from_liste_coordonnees=b[:,0]\n",
    "y_from_liste_coordonnees=b[:,1]\n",
    "ind_lign_from_liste_coordonnees=b[:,2]\n",
    "ind_col_from_liste_coordonnees=b[:,3]"
   ]
  },
  {
   "cell_type": "raw",
   "metadata": {
    "collapsed": true
   },
   "source": [
    "Matrix_TEST=np.vstack(M_Mv)"
   ]
  },
  {
   "cell_type": "raw",
   "metadata": {
    "collapsed": true
   },
   "source": [
    "Matrix_TEST=Matrix_TEST/255.0"
   ]
  },
  {
   "cell_type": "raw",
   "metadata": {
    "collapsed": true
   },
   "source": [
    "PLOT_Im(Matrix_TEST[234])"
   ]
  },
  {
   "cell_type": "code",
   "execution_count": 69,
   "metadata": {
    "collapsed": true
   },
   "outputs": [],
   "source": [
    "filename_Matrix_TEST =projectpath+'io/Output/Matrix_TEST.npy'"
   ]
  },
  {
   "cell_type": "raw",
   "metadata": {},
   "source": [
    "np.save(filename_Matrix_TEST,Matrix_TEST)"
   ]
  },
  {
   "cell_type": "code",
   "execution_count": 70,
   "metadata": {
    "collapsed": true
   },
   "outputs": [],
   "source": [
    "Matrix_TEST=np.load(filename_Matrix_TEST)"
   ]
  },
  {
   "cell_type": "code",
   "execution_count": 71,
   "metadata": {
    "collapsed": true
   },
   "outputs": [],
   "source": [
    "coords=np.where((np.hstack(x_from_liste_coordonnees)>=x_min) & (np.hstack(x_from_liste_coordonnees)<=x_max) & (np.hstack(y_from_liste_coordonnees)>=y_min) & (np.hstack(y_from_liste_coordonnees)<=y_max))[0]"
   ]
  },
  {
   "cell_type": "code",
   "execution_count": 72,
   "metadata": {
    "collapsed": true
   },
   "outputs": [],
   "source": [
    "filename_Im_to_convert_GRAY =projectpath+'io/Output/Im_to_convert_GRAY.npy'"
   ]
  },
  {
   "cell_type": "code",
   "execution_count": 73,
   "metadata": {
    "collapsed": true
   },
   "outputs": [],
   "source": [
    "Im_to_convert_GRAY=Matrix_TEST[coords]"
   ]
  },
  {
   "cell_type": "code",
   "execution_count": 74,
   "metadata": {
    "collapsed": true
   },
   "outputs": [],
   "source": [
    "np.save(filename_Im_to_convert_GRAY ,Im_to_convert_GRAY)"
   ]
  },
  {
   "cell_type": "markdown",
   "metadata": {},
   "source": [
    "## Process for one tile ipynb"
   ]
  },
  {
   "cell_type": "code",
   "execution_count": 77,
   "metadata": {},
   "outputs": [
    {
     "name": "stderr",
     "output_type": "stream",
     "text": [
      "/home/tbacoyannis/.local/lib/python2.7/site-packages/sklearn/cross_validation.py:44: DeprecationWarning: This module was deprecated in version 0.18 in favor of the model_selection module into which all the refactored classes and functions are moved. Also note that the interface of the new CV iterators are different from that of this module. This module will be removed in 0.20.\n",
      "  \"This module will be removed in 0.20.\", DeprecationWarning)\n",
      "/home/tbacoyannis/.local/lib/python2.7/site-packages/sklearn/grid_search.py:43: DeprecationWarning: This module was deprecated in version 0.18 in favor of the model_selection module into which all the refactored classes and functions are moved. This module will be removed in 0.20.\n",
      "  DeprecationWarning)\n"
     ]
    }
   ],
   "source": [
    "import process_for_one_tile as pt\n",
    "reload(pt);"
   ]
  },
  {
   "cell_type": "code",
   "execution_count": 78,
   "metadata": {
    "collapsed": true
   },
   "outputs": [],
   "source": [
    "Im_to_convert_GRAY=np.load(filename_Im_to_convert_GRAY)"
   ]
  },
  {
   "cell_type": "code",
   "execution_count": 79,
   "metadata": {
    "collapsed": true
   },
   "outputs": [],
   "source": [
    "size_=Im_to_convert_GRAY.shape[0]-1\n",
    "nidx=Im_to_convert_GRAY.shape[0]"
   ]
  },
  {
   "cell_type": "code",
   "execution_count": 80,
   "metadata": {},
   "outputs": [],
   "source": [
    "partial_get_Get_proba = partial(pt.Get_proba, h=height, w=weight, M_mean=Im_to_convert_GRAY, nb_features=nb_features)"
   ]
  },
  {
   "cell_type": "raw",
   "metadata": {},
   "source": [
    "pool = multiprocessing.Pool(27)\n",
    "Im_Proba = pool.map(partial_get_Get_proba,xrange(size_))\n",
    "pool.close()"
   ]
  },
  {
   "cell_type": "code",
   "execution_count": 81,
   "metadata": {
    "collapsed": true
   },
   "outputs": [],
   "source": [
    "filename_Im_Proba =projectpath+'io/Output/Im_Proba.npy'"
   ]
  },
  {
   "cell_type": "raw",
   "metadata": {},
   "source": [
    "np.save(filename_Im_Proba, Im_Proba)"
   ]
  },
  {
   "cell_type": "code",
   "execution_count": null,
   "metadata": {
    "collapsed": true
   },
   "outputs": [],
   "source": [
    "################################\""
   ]
  },
  {
   "cell_type": "code",
   "execution_count": 82,
   "metadata": {
    "collapsed": true
   },
   "outputs": [],
   "source": [
    "Im_Proba=np.load(filename_Im_Proba)"
   ]
  },
  {
   "cell_type": "code",
   "execution_count": 83,
   "metadata": {
    "collapsed": true
   },
   "outputs": [],
   "source": [
    "Im_proba=np.zeros([Im_Proba.shape[0], Im_Proba.shape[2]])\n",
    "\n",
    "for g in range(0,Im_Proba.shape[0]):\n",
    "    Im_proba[g]=Im_Proba[g][g]"
   ]
  },
  {
   "cell_type": "code",
   "execution_count": 84,
   "metadata": {
    "collapsed": true
   },
   "outputs": [],
   "source": [
    "filename_Im_proba =projectpath+'io/Output/Im_proba.npy'"
   ]
  },
  {
   "cell_type": "code",
   "execution_count": 85,
   "metadata": {
    "collapsed": true
   },
   "outputs": [],
   "source": [
    "Im_proba=np.save(filename_Im_proba,Im_proba)"
   ]
  },
  {
   "cell_type": "code",
   "execution_count": 86,
   "metadata": {
    "collapsed": true
   },
   "outputs": [],
   "source": [
    "Im_proba=np.load(filename_Im_proba)"
   ]
  },
  {
   "cell_type": "code",
   "execution_count": null,
   "metadata": {},
   "outputs": [],
   "source": []
  },
  {
   "cell_type": "raw",
   "metadata": {
    "collapsed": true
   },
   "source": [
    "plt.figure()\n",
    "plt.title('predict_probability Astrocytes VS predict_probability Background')\n",
    "plt.scatter(Im_proba[:,0],Im_proba[:,2])"
   ]
  },
  {
   "cell_type": "raw",
   "metadata": {
    "collapsed": true
   },
   "source": [
    "plt.figure()\n",
    "plt.title('histogram of Neurons proba')\n",
    "plt.xlabel(\"Value\")\n",
    "plt.ylabel(\"Frequency\")\n",
    "plt.hist(Im_proba[:,1],bins=50)"
   ]
  },
  {
   "cell_type": "code",
   "execution_count": 87,
   "metadata": {
    "collapsed": true
   },
   "outputs": [],
   "source": [
    "Probability_img=np.zeros([Im_proba.shape[0]+1,Im_proba.shape[1]])\n",
    "Probability_img[:Im_proba.shape[0]]=Im_proba\n",
    "Probability_img[Im_proba.shape[0]]=Probability_img[Im_proba.shape[0]-1]"
   ]
  },
  {
   "cell_type": "code",
   "execution_count": 88,
   "metadata": {
    "collapsed": true
   },
   "outputs": [],
   "source": [
    "conn = BlitzGateway('tbacoyannis','d33pl34rn1ng',port=4064,host='chinensis.polytechnique.fr')\n",
    "connected = conn.connect()\n",
    "imageId=451\n",
    "image = conn.getObject(\"Image\", imageId)\n",
    "pixels = image.getPrimaryPixels() # get raw pixels information\n",
    "\n",
    "pxobj_CH1 = pixels.getTile(theZ=103, theC=0, theT=0, tile=(x_min,y_min, x_max-x_min , y_max-y_min ))\n",
    "pxobj_CH2 = pixels.getTile(theZ=103, theC=1, theT=0, tile=(x_min,y_min, x_max-x_min , y_max-y_min ))\n",
    "pxobj_CH3 = pixels.getTile(theZ=103, theC=2, theT=0, tile=(x_min,y_min, x_max-x_min , y_max-y_min ))"
   ]
  },
  {
   "cell_type": "code",
   "execution_count": 102,
   "metadata": {
    "collapsed": true
   },
   "outputs": [],
   "source": [
    "# Get the normalized original image\n",
    "pxobj=(pxobj_CH1+pxobj_CH2+pxobj_CH3)/3"
   ]
  },
  {
   "cell_type": "code",
   "execution_count": 90,
   "metadata": {
    "collapsed": true
   },
   "outputs": [],
   "source": [
    "e=124\n",
    "CH1=Probability_img[:,0]\n",
    "CH1=np.reshape(CH1, (-1, e) )\n",
    "CH1=CH1[:,:, np.newaxis]\n",
    "#     plt.title('Proba Astrocytes')\n",
    "\n",
    "CH2=Probability_img[:,1]\n",
    "CH2=np.reshape(CH2,(-1,e))\n",
    "CH2=CH2[:,:,np.newaxis]\n",
    "#     plt.title('Proba Neurons')\n",
    "\n",
    "\n",
    "CH3=Probability_img[:,2]\n",
    "CH3=np.reshape(CH3, (-1, e) )\n",
    "CH3=CH3[:,:,np.newaxis]\n",
    "#     plt.title('Proba Background')\n",
    "\n",
    "Z=np.dstack([CH1,CH2,CH3])"
   ]
  },
  {
   "cell_type": "code",
   "execution_count": 91,
   "metadata": {
    "collapsed": true
   },
   "outputs": [],
   "source": [
    "filename_RGB_proba_im =projectpath+'io/Output/RGB_proba_im.npy'"
   ]
  },
  {
   "cell_type": "code",
   "execution_count": 92,
   "metadata": {
    "collapsed": true
   },
   "outputs": [],
   "source": [
    "np.save(filename_RGB_proba_im,Z)"
   ]
  },
  {
   "cell_type": "code",
   "execution_count": 93,
   "metadata": {
    "collapsed": true
   },
   "outputs": [],
   "source": [
    "Z=np.load(filename_RGB_proba_im)"
   ]
  },
  {
   "cell_type": "raw",
   "metadata": {
    "collapsed": true
   },
   "source": [
    "plt.figure()\n",
    "plt.scatter(Z[:,:,0], Z[:,:,1], s = 130, c = 'yellow', marker = '*', edgecolors = 'green', label=['Proba Astrocytes', 'Proba Neurons'])\n",
    "plt.scatter(Z[:,:,0], Z[:,:,2], s = 50, c = 'red', marker = '+', linewidth = 3, label=['Proba Astrocytes', 'Proba Background'])\n",
    "plt.scatter(Z[:,:,1], Z[:,:,2], s = 50, c = 'cyan', marker = 'o', edgecolors = 'none', label=['Proba Neurons', 'Proba Background'])\n",
    "plt.title('scatter plot')\n",
    "plt.legend()"
   ]
  },
  {
   "cell_type": "code",
   "execution_count": 100,
   "metadata": {},
   "outputs": [],
   "source": [
    "import IM_Display_RGB as imd\n",
    "reload(imd);"
   ]
  },
  {
   "cell_type": "code",
   "execution_count": 101,
   "metadata": {},
   "outputs": [
    {
     "data": {
      "application/javascript": [
       "/* Put everything inside the global mpl namespace */\n",
       "window.mpl = {};\n",
       "\n",
       "\n",
       "mpl.get_websocket_type = function() {\n",
       "    if (typeof(WebSocket) !== 'undefined') {\n",
       "        return WebSocket;\n",
       "    } else if (typeof(MozWebSocket) !== 'undefined') {\n",
       "        return MozWebSocket;\n",
       "    } else {\n",
       "        alert('Your browser does not have WebSocket support.' +\n",
       "              'Please try Chrome, Safari or Firefox ≥ 6. ' +\n",
       "              'Firefox 4 and 5 are also supported but you ' +\n",
       "              'have to enable WebSockets in about:config.');\n",
       "    };\n",
       "}\n",
       "\n",
       "mpl.figure = function(figure_id, websocket, ondownload, parent_element) {\n",
       "    this.id = figure_id;\n",
       "\n",
       "    this.ws = websocket;\n",
       "\n",
       "    this.supports_binary = (this.ws.binaryType != undefined);\n",
       "\n",
       "    if (!this.supports_binary) {\n",
       "        var warnings = document.getElementById(\"mpl-warnings\");\n",
       "        if (warnings) {\n",
       "            warnings.style.display = 'block';\n",
       "            warnings.textContent = (\n",
       "                \"This browser does not support binary websocket messages. \" +\n",
       "                    \"Performance may be slow.\");\n",
       "        }\n",
       "    }\n",
       "\n",
       "    this.imageObj = new Image();\n",
       "\n",
       "    this.context = undefined;\n",
       "    this.message = undefined;\n",
       "    this.canvas = undefined;\n",
       "    this.rubberband_canvas = undefined;\n",
       "    this.rubberband_context = undefined;\n",
       "    this.format_dropdown = undefined;\n",
       "\n",
       "    this.image_mode = 'full';\n",
       "\n",
       "    this.root = $('<div/>');\n",
       "    this._root_extra_style(this.root)\n",
       "    this.root.attr('style', 'display: inline-block');\n",
       "\n",
       "    $(parent_element).append(this.root);\n",
       "\n",
       "    this._init_header(this);\n",
       "    this._init_canvas(this);\n",
       "    this._init_toolbar(this);\n",
       "\n",
       "    var fig = this;\n",
       "\n",
       "    this.waiting = false;\n",
       "\n",
       "    this.ws.onopen =  function () {\n",
       "            fig.send_message(\"supports_binary\", {value: fig.supports_binary});\n",
       "            fig.send_message(\"send_image_mode\", {});\n",
       "            if (mpl.ratio != 1) {\n",
       "                fig.send_message(\"set_dpi_ratio\", {'dpi_ratio': mpl.ratio});\n",
       "            }\n",
       "            fig.send_message(\"refresh\", {});\n",
       "        }\n",
       "\n",
       "    this.imageObj.onload = function() {\n",
       "            if (fig.image_mode == 'full') {\n",
       "                // Full images could contain transparency (where diff images\n",
       "                // almost always do), so we need to clear the canvas so that\n",
       "                // there is no ghosting.\n",
       "                fig.context.clearRect(0, 0, fig.canvas.width, fig.canvas.height);\n",
       "            }\n",
       "            fig.context.drawImage(fig.imageObj, 0, 0);\n",
       "        };\n",
       "\n",
       "    this.imageObj.onunload = function() {\n",
       "        this.ws.close();\n",
       "    }\n",
       "\n",
       "    this.ws.onmessage = this._make_on_message_function(this);\n",
       "\n",
       "    this.ondownload = ondownload;\n",
       "}\n",
       "\n",
       "mpl.figure.prototype._init_header = function() {\n",
       "    var titlebar = $(\n",
       "        '<div class=\"ui-dialog-titlebar ui-widget-header ui-corner-all ' +\n",
       "        'ui-helper-clearfix\"/>');\n",
       "    var titletext = $(\n",
       "        '<div class=\"ui-dialog-title\" style=\"width: 100%; ' +\n",
       "        'text-align: center; padding: 3px;\"/>');\n",
       "    titlebar.append(titletext)\n",
       "    this.root.append(titlebar);\n",
       "    this.header = titletext[0];\n",
       "}\n",
       "\n",
       "\n",
       "\n",
       "mpl.figure.prototype._canvas_extra_style = function(canvas_div) {\n",
       "\n",
       "}\n",
       "\n",
       "\n",
       "mpl.figure.prototype._root_extra_style = function(canvas_div) {\n",
       "\n",
       "}\n",
       "\n",
       "mpl.figure.prototype._init_canvas = function() {\n",
       "    var fig = this;\n",
       "\n",
       "    var canvas_div = $('<div/>');\n",
       "\n",
       "    canvas_div.attr('style', 'position: relative; clear: both; outline: 0');\n",
       "\n",
       "    function canvas_keyboard_event(event) {\n",
       "        return fig.key_event(event, event['data']);\n",
       "    }\n",
       "\n",
       "    canvas_div.keydown('key_press', canvas_keyboard_event);\n",
       "    canvas_div.keyup('key_release', canvas_keyboard_event);\n",
       "    this.canvas_div = canvas_div\n",
       "    this._canvas_extra_style(canvas_div)\n",
       "    this.root.append(canvas_div);\n",
       "\n",
       "    var canvas = $('<canvas/>');\n",
       "    canvas.addClass('mpl-canvas');\n",
       "    canvas.attr('style', \"left: 0; top: 0; z-index: 0; outline: 0\")\n",
       "\n",
       "    this.canvas = canvas[0];\n",
       "    this.context = canvas[0].getContext(\"2d\");\n",
       "\n",
       "    var backingStore = this.context.backingStorePixelRatio ||\n",
       "\tthis.context.webkitBackingStorePixelRatio ||\n",
       "\tthis.context.mozBackingStorePixelRatio ||\n",
       "\tthis.context.msBackingStorePixelRatio ||\n",
       "\tthis.context.oBackingStorePixelRatio ||\n",
       "\tthis.context.backingStorePixelRatio || 1;\n",
       "\n",
       "    mpl.ratio = (window.devicePixelRatio || 1) / backingStore;\n",
       "\n",
       "    var rubberband = $('<canvas/>');\n",
       "    rubberband.attr('style', \"position: absolute; left: 0; top: 0; z-index: 1;\")\n",
       "\n",
       "    var pass_mouse_events = true;\n",
       "\n",
       "    canvas_div.resizable({\n",
       "        start: function(event, ui) {\n",
       "            pass_mouse_events = false;\n",
       "        },\n",
       "        resize: function(event, ui) {\n",
       "            fig.request_resize(ui.size.width, ui.size.height);\n",
       "        },\n",
       "        stop: function(event, ui) {\n",
       "            pass_mouse_events = true;\n",
       "            fig.request_resize(ui.size.width, ui.size.height);\n",
       "        },\n",
       "    });\n",
       "\n",
       "    function mouse_event_fn(event) {\n",
       "        if (pass_mouse_events)\n",
       "            return fig.mouse_event(event, event['data']);\n",
       "    }\n",
       "\n",
       "    rubberband.mousedown('button_press', mouse_event_fn);\n",
       "    rubberband.mouseup('button_release', mouse_event_fn);\n",
       "    // Throttle sequential mouse events to 1 every 20ms.\n",
       "    rubberband.mousemove('motion_notify', mouse_event_fn);\n",
       "\n",
       "    rubberband.mouseenter('figure_enter', mouse_event_fn);\n",
       "    rubberband.mouseleave('figure_leave', mouse_event_fn);\n",
       "\n",
       "    canvas_div.on(\"wheel\", function (event) {\n",
       "        event = event.originalEvent;\n",
       "        event['data'] = 'scroll'\n",
       "        if (event.deltaY < 0) {\n",
       "            event.step = 1;\n",
       "        } else {\n",
       "            event.step = -1;\n",
       "        }\n",
       "        mouse_event_fn(event);\n",
       "    });\n",
       "\n",
       "    canvas_div.append(canvas);\n",
       "    canvas_div.append(rubberband);\n",
       "\n",
       "    this.rubberband = rubberband;\n",
       "    this.rubberband_canvas = rubberband[0];\n",
       "    this.rubberband_context = rubberband[0].getContext(\"2d\");\n",
       "    this.rubberband_context.strokeStyle = \"#000000\";\n",
       "\n",
       "    this._resize_canvas = function(width, height) {\n",
       "        // Keep the size of the canvas, canvas container, and rubber band\n",
       "        // canvas in synch.\n",
       "        canvas_div.css('width', width)\n",
       "        canvas_div.css('height', height)\n",
       "\n",
       "        canvas.attr('width', width * mpl.ratio);\n",
       "        canvas.attr('height', height * mpl.ratio);\n",
       "        canvas.attr('style', 'width: ' + width + 'px; height: ' + height + 'px;');\n",
       "\n",
       "        rubberband.attr('width', width);\n",
       "        rubberband.attr('height', height);\n",
       "    }\n",
       "\n",
       "    // Set the figure to an initial 600x600px, this will subsequently be updated\n",
       "    // upon first draw.\n",
       "    this._resize_canvas(600, 600);\n",
       "\n",
       "    // Disable right mouse context menu.\n",
       "    $(this.rubberband_canvas).bind(\"contextmenu\",function(e){\n",
       "        return false;\n",
       "    });\n",
       "\n",
       "    function set_focus () {\n",
       "        canvas.focus();\n",
       "        canvas_div.focus();\n",
       "    }\n",
       "\n",
       "    window.setTimeout(set_focus, 100);\n",
       "}\n",
       "\n",
       "mpl.figure.prototype._init_toolbar = function() {\n",
       "    var fig = this;\n",
       "\n",
       "    var nav_element = $('<div/>')\n",
       "    nav_element.attr('style', 'width: 100%');\n",
       "    this.root.append(nav_element);\n",
       "\n",
       "    // Define a callback function for later on.\n",
       "    function toolbar_event(event) {\n",
       "        return fig.toolbar_button_onclick(event['data']);\n",
       "    }\n",
       "    function toolbar_mouse_event(event) {\n",
       "        return fig.toolbar_button_onmouseover(event['data']);\n",
       "    }\n",
       "\n",
       "    for(var toolbar_ind in mpl.toolbar_items) {\n",
       "        var name = mpl.toolbar_items[toolbar_ind][0];\n",
       "        var tooltip = mpl.toolbar_items[toolbar_ind][1];\n",
       "        var image = mpl.toolbar_items[toolbar_ind][2];\n",
       "        var method_name = mpl.toolbar_items[toolbar_ind][3];\n",
       "\n",
       "        if (!name) {\n",
       "            // put a spacer in here.\n",
       "            continue;\n",
       "        }\n",
       "        var button = $('<button/>');\n",
       "        button.addClass('ui-button ui-widget ui-state-default ui-corner-all ' +\n",
       "                        'ui-button-icon-only');\n",
       "        button.attr('role', 'button');\n",
       "        button.attr('aria-disabled', 'false');\n",
       "        button.click(method_name, toolbar_event);\n",
       "        button.mouseover(tooltip, toolbar_mouse_event);\n",
       "\n",
       "        var icon_img = $('<span/>');\n",
       "        icon_img.addClass('ui-button-icon-primary ui-icon');\n",
       "        icon_img.addClass(image);\n",
       "        icon_img.addClass('ui-corner-all');\n",
       "\n",
       "        var tooltip_span = $('<span/>');\n",
       "        tooltip_span.addClass('ui-button-text');\n",
       "        tooltip_span.html(tooltip);\n",
       "\n",
       "        button.append(icon_img);\n",
       "        button.append(tooltip_span);\n",
       "\n",
       "        nav_element.append(button);\n",
       "    }\n",
       "\n",
       "    var fmt_picker_span = $('<span/>');\n",
       "\n",
       "    var fmt_picker = $('<select/>');\n",
       "    fmt_picker.addClass('mpl-toolbar-option ui-widget ui-widget-content');\n",
       "    fmt_picker_span.append(fmt_picker);\n",
       "    nav_element.append(fmt_picker_span);\n",
       "    this.format_dropdown = fmt_picker[0];\n",
       "\n",
       "    for (var ind in mpl.extensions) {\n",
       "        var fmt = mpl.extensions[ind];\n",
       "        var option = $(\n",
       "            '<option/>', {selected: fmt === mpl.default_extension}).html(fmt);\n",
       "        fmt_picker.append(option)\n",
       "    }\n",
       "\n",
       "    // Add hover states to the ui-buttons\n",
       "    $( \".ui-button\" ).hover(\n",
       "        function() { $(this).addClass(\"ui-state-hover\");},\n",
       "        function() { $(this).removeClass(\"ui-state-hover\");}\n",
       "    );\n",
       "\n",
       "    var status_bar = $('<span class=\"mpl-message\"/>');\n",
       "    nav_element.append(status_bar);\n",
       "    this.message = status_bar[0];\n",
       "}\n",
       "\n",
       "mpl.figure.prototype.request_resize = function(x_pixels, y_pixels) {\n",
       "    // Request matplotlib to resize the figure. Matplotlib will then trigger a resize in the client,\n",
       "    // which will in turn request a refresh of the image.\n",
       "    this.send_message('resize', {'width': x_pixels, 'height': y_pixels});\n",
       "}\n",
       "\n",
       "mpl.figure.prototype.send_message = function(type, properties) {\n",
       "    properties['type'] = type;\n",
       "    properties['figure_id'] = this.id;\n",
       "    this.ws.send(JSON.stringify(properties));\n",
       "}\n",
       "\n",
       "mpl.figure.prototype.send_draw_message = function() {\n",
       "    if (!this.waiting) {\n",
       "        this.waiting = true;\n",
       "        this.ws.send(JSON.stringify({type: \"draw\", figure_id: this.id}));\n",
       "    }\n",
       "}\n",
       "\n",
       "\n",
       "mpl.figure.prototype.handle_save = function(fig, msg) {\n",
       "    var format_dropdown = fig.format_dropdown;\n",
       "    var format = format_dropdown.options[format_dropdown.selectedIndex].value;\n",
       "    fig.ondownload(fig, format);\n",
       "}\n",
       "\n",
       "\n",
       "mpl.figure.prototype.handle_resize = function(fig, msg) {\n",
       "    var size = msg['size'];\n",
       "    if (size[0] != fig.canvas.width || size[1] != fig.canvas.height) {\n",
       "        fig._resize_canvas(size[0], size[1]);\n",
       "        fig.send_message(\"refresh\", {});\n",
       "    };\n",
       "}\n",
       "\n",
       "mpl.figure.prototype.handle_rubberband = function(fig, msg) {\n",
       "    var x0 = msg['x0'] / mpl.ratio;\n",
       "    var y0 = (fig.canvas.height - msg['y0']) / mpl.ratio;\n",
       "    var x1 = msg['x1'] / mpl.ratio;\n",
       "    var y1 = (fig.canvas.height - msg['y1']) / mpl.ratio;\n",
       "    x0 = Math.floor(x0) + 0.5;\n",
       "    y0 = Math.floor(y0) + 0.5;\n",
       "    x1 = Math.floor(x1) + 0.5;\n",
       "    y1 = Math.floor(y1) + 0.5;\n",
       "    var min_x = Math.min(x0, x1);\n",
       "    var min_y = Math.min(y0, y1);\n",
       "    var width = Math.abs(x1 - x0);\n",
       "    var height = Math.abs(y1 - y0);\n",
       "\n",
       "    fig.rubberband_context.clearRect(\n",
       "        0, 0, fig.canvas.width, fig.canvas.height);\n",
       "\n",
       "    fig.rubberband_context.strokeRect(min_x, min_y, width, height);\n",
       "}\n",
       "\n",
       "mpl.figure.prototype.handle_figure_label = function(fig, msg) {\n",
       "    // Updates the figure title.\n",
       "    fig.header.textContent = msg['label'];\n",
       "}\n",
       "\n",
       "mpl.figure.prototype.handle_cursor = function(fig, msg) {\n",
       "    var cursor = msg['cursor'];\n",
       "    switch(cursor)\n",
       "    {\n",
       "    case 0:\n",
       "        cursor = 'pointer';\n",
       "        break;\n",
       "    case 1:\n",
       "        cursor = 'default';\n",
       "        break;\n",
       "    case 2:\n",
       "        cursor = 'crosshair';\n",
       "        break;\n",
       "    case 3:\n",
       "        cursor = 'move';\n",
       "        break;\n",
       "    }\n",
       "    fig.rubberband_canvas.style.cursor = cursor;\n",
       "}\n",
       "\n",
       "mpl.figure.prototype.handle_message = function(fig, msg) {\n",
       "    fig.message.textContent = msg['message'];\n",
       "}\n",
       "\n",
       "mpl.figure.prototype.handle_draw = function(fig, msg) {\n",
       "    // Request the server to send over a new figure.\n",
       "    fig.send_draw_message();\n",
       "}\n",
       "\n",
       "mpl.figure.prototype.handle_image_mode = function(fig, msg) {\n",
       "    fig.image_mode = msg['mode'];\n",
       "}\n",
       "\n",
       "mpl.figure.prototype.updated_canvas_event = function() {\n",
       "    // Called whenever the canvas gets updated.\n",
       "    this.send_message(\"ack\", {});\n",
       "}\n",
       "\n",
       "// A function to construct a web socket function for onmessage handling.\n",
       "// Called in the figure constructor.\n",
       "mpl.figure.prototype._make_on_message_function = function(fig) {\n",
       "    return function socket_on_message(evt) {\n",
       "        if (evt.data instanceof Blob) {\n",
       "            /* FIXME: We get \"Resource interpreted as Image but\n",
       "             * transferred with MIME type text/plain:\" errors on\n",
       "             * Chrome.  But how to set the MIME type?  It doesn't seem\n",
       "             * to be part of the websocket stream */\n",
       "            evt.data.type = \"image/png\";\n",
       "\n",
       "            /* Free the memory for the previous frames */\n",
       "            if (fig.imageObj.src) {\n",
       "                (window.URL || window.webkitURL).revokeObjectURL(\n",
       "                    fig.imageObj.src);\n",
       "            }\n",
       "\n",
       "            fig.imageObj.src = (window.URL || window.webkitURL).createObjectURL(\n",
       "                evt.data);\n",
       "            fig.updated_canvas_event();\n",
       "            fig.waiting = false;\n",
       "            return;\n",
       "        }\n",
       "        else if (typeof evt.data === 'string' && evt.data.slice(0, 21) == \"data:image/png;base64\") {\n",
       "            fig.imageObj.src = evt.data;\n",
       "            fig.updated_canvas_event();\n",
       "            fig.waiting = false;\n",
       "            return;\n",
       "        }\n",
       "\n",
       "        var msg = JSON.parse(evt.data);\n",
       "        var msg_type = msg['type'];\n",
       "\n",
       "        // Call the  \"handle_{type}\" callback, which takes\n",
       "        // the figure and JSON message as its only arguments.\n",
       "        try {\n",
       "            var callback = fig[\"handle_\" + msg_type];\n",
       "        } catch (e) {\n",
       "            console.log(\"No handler for the '\" + msg_type + \"' message type: \", msg);\n",
       "            return;\n",
       "        }\n",
       "\n",
       "        if (callback) {\n",
       "            try {\n",
       "                // console.log(\"Handling '\" + msg_type + \"' message: \", msg);\n",
       "                callback(fig, msg);\n",
       "            } catch (e) {\n",
       "                console.log(\"Exception inside the 'handler_\" + msg_type + \"' callback:\", e, e.stack, msg);\n",
       "            }\n",
       "        }\n",
       "    };\n",
       "}\n",
       "\n",
       "// from http://stackoverflow.com/questions/1114465/getting-mouse-location-in-canvas\n",
       "mpl.findpos = function(e) {\n",
       "    //this section is from http://www.quirksmode.org/js/events_properties.html\n",
       "    var targ;\n",
       "    if (!e)\n",
       "        e = window.event;\n",
       "    if (e.target)\n",
       "        targ = e.target;\n",
       "    else if (e.srcElement)\n",
       "        targ = e.srcElement;\n",
       "    if (targ.nodeType == 3) // defeat Safari bug\n",
       "        targ = targ.parentNode;\n",
       "\n",
       "    // jQuery normalizes the pageX and pageY\n",
       "    // pageX,Y are the mouse positions relative to the document\n",
       "    // offset() returns the position of the element relative to the document\n",
       "    var x = e.pageX - $(targ).offset().left;\n",
       "    var y = e.pageY - $(targ).offset().top;\n",
       "\n",
       "    return {\"x\": x, \"y\": y};\n",
       "};\n",
       "\n",
       "/*\n",
       " * return a copy of an object with only non-object keys\n",
       " * we need this to avoid circular references\n",
       " * http://stackoverflow.com/a/24161582/3208463\n",
       " */\n",
       "function simpleKeys (original) {\n",
       "  return Object.keys(original).reduce(function (obj, key) {\n",
       "    if (typeof original[key] !== 'object')\n",
       "        obj[key] = original[key]\n",
       "    return obj;\n",
       "  }, {});\n",
       "}\n",
       "\n",
       "mpl.figure.prototype.mouse_event = function(event, name) {\n",
       "    var canvas_pos = mpl.findpos(event)\n",
       "\n",
       "    if (name === 'button_press')\n",
       "    {\n",
       "        this.canvas.focus();\n",
       "        this.canvas_div.focus();\n",
       "    }\n",
       "\n",
       "    var x = canvas_pos.x * mpl.ratio;\n",
       "    var y = canvas_pos.y * mpl.ratio;\n",
       "\n",
       "    this.send_message(name, {x: x, y: y, button: event.button,\n",
       "                             step: event.step,\n",
       "                             guiEvent: simpleKeys(event)});\n",
       "\n",
       "    /* This prevents the web browser from automatically changing to\n",
       "     * the text insertion cursor when the button is pressed.  We want\n",
       "     * to control all of the cursor setting manually through the\n",
       "     * 'cursor' event from matplotlib */\n",
       "    event.preventDefault();\n",
       "    return false;\n",
       "}\n",
       "\n",
       "mpl.figure.prototype._key_event_extra = function(event, name) {\n",
       "    // Handle any extra behaviour associated with a key event\n",
       "}\n",
       "\n",
       "mpl.figure.prototype.key_event = function(event, name) {\n",
       "\n",
       "    // Prevent repeat events\n",
       "    if (name == 'key_press')\n",
       "    {\n",
       "        if (event.which === this._key)\n",
       "            return;\n",
       "        else\n",
       "            this._key = event.which;\n",
       "    }\n",
       "    if (name == 'key_release')\n",
       "        this._key = null;\n",
       "\n",
       "    var value = '';\n",
       "    if (event.ctrlKey && event.which != 17)\n",
       "        value += \"ctrl+\";\n",
       "    if (event.altKey && event.which != 18)\n",
       "        value += \"alt+\";\n",
       "    if (event.shiftKey && event.which != 16)\n",
       "        value += \"shift+\";\n",
       "\n",
       "    value += 'k';\n",
       "    value += event.which.toString();\n",
       "\n",
       "    this._key_event_extra(event, name);\n",
       "\n",
       "    this.send_message(name, {key: value,\n",
       "                             guiEvent: simpleKeys(event)});\n",
       "    return false;\n",
       "}\n",
       "\n",
       "mpl.figure.prototype.toolbar_button_onclick = function(name) {\n",
       "    if (name == 'download') {\n",
       "        this.handle_save(this, null);\n",
       "    } else {\n",
       "        this.send_message(\"toolbar_button\", {name: name});\n",
       "    }\n",
       "};\n",
       "\n",
       "mpl.figure.prototype.toolbar_button_onmouseover = function(tooltip) {\n",
       "    this.message.textContent = tooltip;\n",
       "};\n",
       "mpl.toolbar_items = [[\"Home\", \"Reset original view\", \"fa fa-home icon-home\", \"home\"], [\"Back\", \"Back to  previous view\", \"fa fa-arrow-left icon-arrow-left\", \"back\"], [\"Forward\", \"Forward to next view\", \"fa fa-arrow-right icon-arrow-right\", \"forward\"], [\"\", \"\", \"\", \"\"], [\"Pan\", \"Pan axes with left mouse, zoom with right\", \"fa fa-arrows icon-move\", \"pan\"], [\"Zoom\", \"Zoom to rectangle\", \"fa fa-square-o icon-check-empty\", \"zoom\"], [\"\", \"\", \"\", \"\"], [\"Download\", \"Download plot\", \"fa fa-floppy-o icon-save\", \"download\"]];\n",
       "\n",
       "mpl.extensions = [\"eps\", \"jpeg\", \"pdf\", \"png\", \"ps\", \"raw\", \"svg\", \"tif\"];\n",
       "\n",
       "mpl.default_extension = \"png\";var comm_websocket_adapter = function(comm) {\n",
       "    // Create a \"websocket\"-like object which calls the given IPython comm\n",
       "    // object with the appropriate methods. Currently this is a non binary\n",
       "    // socket, so there is still some room for performance tuning.\n",
       "    var ws = {};\n",
       "\n",
       "    ws.close = function() {\n",
       "        comm.close()\n",
       "    };\n",
       "    ws.send = function(m) {\n",
       "        //console.log('sending', m);\n",
       "        comm.send(m);\n",
       "    };\n",
       "    // Register the callback with on_msg.\n",
       "    comm.on_msg(function(msg) {\n",
       "        //console.log('receiving', msg['content']['data'], msg);\n",
       "        // Pass the mpl event to the overriden (by mpl) onmessage function.\n",
       "        ws.onmessage(msg['content']['data'])\n",
       "    });\n",
       "    return ws;\n",
       "}\n",
       "\n",
       "mpl.mpl_figure_comm = function(comm, msg) {\n",
       "    // This is the function which gets called when the mpl process\n",
       "    // starts-up an IPython Comm through the \"matplotlib\" channel.\n",
       "\n",
       "    var id = msg.content.data.id;\n",
       "    // Get hold of the div created by the display call when the Comm\n",
       "    // socket was opened in Python.\n",
       "    var element = $(\"#\" + id);\n",
       "    var ws_proxy = comm_websocket_adapter(comm)\n",
       "\n",
       "    function ondownload(figure, format) {\n",
       "        window.open(figure.imageObj.src);\n",
       "    }\n",
       "\n",
       "    var fig = new mpl.figure(id, ws_proxy,\n",
       "                           ondownload,\n",
       "                           element.get(0));\n",
       "\n",
       "    // Call onopen now - mpl needs it, as it is assuming we've passed it a real\n",
       "    // web socket which is closed, not our websocket->open comm proxy.\n",
       "    ws_proxy.onopen();\n",
       "\n",
       "    fig.parent_element = element.get(0);\n",
       "    fig.cell_info = mpl.find_output_cell(\"<div id='\" + id + \"'></div>\");\n",
       "    if (!fig.cell_info) {\n",
       "        console.error(\"Failed to find cell for figure\", id, fig);\n",
       "        return;\n",
       "    }\n",
       "\n",
       "    var output_index = fig.cell_info[2]\n",
       "    var cell = fig.cell_info[0];\n",
       "\n",
       "};\n",
       "\n",
       "mpl.figure.prototype.handle_close = function(fig, msg) {\n",
       "    var width = fig.canvas.width/mpl.ratio\n",
       "    fig.root.unbind('remove')\n",
       "\n",
       "    // Update the output cell to use the data from the current canvas.\n",
       "    fig.push_to_output();\n",
       "    var dataURL = fig.canvas.toDataURL();\n",
       "    // Re-enable the keyboard manager in IPython - without this line, in FF,\n",
       "    // the notebook keyboard shortcuts fail.\n",
       "    IPython.keyboard_manager.enable()\n",
       "    $(fig.parent_element).html('<img src=\"' + dataURL + '\" width=\"' + width + '\">');\n",
       "    fig.close_ws(fig, msg);\n",
       "}\n",
       "\n",
       "mpl.figure.prototype.close_ws = function(fig, msg){\n",
       "    fig.send_message('closing', msg);\n",
       "    // fig.ws.close()\n",
       "}\n",
       "\n",
       "mpl.figure.prototype.push_to_output = function(remove_interactive) {\n",
       "    // Turn the data on the canvas into data in the output cell.\n",
       "    var width = this.canvas.width/mpl.ratio\n",
       "    var dataURL = this.canvas.toDataURL();\n",
       "    this.cell_info[1]['text/html'] = '<img src=\"' + dataURL + '\" width=\"' + width + '\">';\n",
       "}\n",
       "\n",
       "mpl.figure.prototype.updated_canvas_event = function() {\n",
       "    // Tell IPython that the notebook contents must change.\n",
       "    IPython.notebook.set_dirty(true);\n",
       "    this.send_message(\"ack\", {});\n",
       "    var fig = this;\n",
       "    // Wait a second, then push the new image to the DOM so\n",
       "    // that it is saved nicely (might be nice to debounce this).\n",
       "    setTimeout(function () { fig.push_to_output() }, 1000);\n",
       "}\n",
       "\n",
       "mpl.figure.prototype._init_toolbar = function() {\n",
       "    var fig = this;\n",
       "\n",
       "    var nav_element = $('<div/>')\n",
       "    nav_element.attr('style', 'width: 100%');\n",
       "    this.root.append(nav_element);\n",
       "\n",
       "    // Define a callback function for later on.\n",
       "    function toolbar_event(event) {\n",
       "        return fig.toolbar_button_onclick(event['data']);\n",
       "    }\n",
       "    function toolbar_mouse_event(event) {\n",
       "        return fig.toolbar_button_onmouseover(event['data']);\n",
       "    }\n",
       "\n",
       "    for(var toolbar_ind in mpl.toolbar_items){\n",
       "        var name = mpl.toolbar_items[toolbar_ind][0];\n",
       "        var tooltip = mpl.toolbar_items[toolbar_ind][1];\n",
       "        var image = mpl.toolbar_items[toolbar_ind][2];\n",
       "        var method_name = mpl.toolbar_items[toolbar_ind][3];\n",
       "\n",
       "        if (!name) { continue; };\n",
       "\n",
       "        var button = $('<button class=\"btn btn-default\" href=\"#\" title=\"' + name + '\"><i class=\"fa ' + image + ' fa-lg\"></i></button>');\n",
       "        button.click(method_name, toolbar_event);\n",
       "        button.mouseover(tooltip, toolbar_mouse_event);\n",
       "        nav_element.append(button);\n",
       "    }\n",
       "\n",
       "    // Add the status bar.\n",
       "    var status_bar = $('<span class=\"mpl-message\" style=\"text-align:right; float: right;\"/>');\n",
       "    nav_element.append(status_bar);\n",
       "    this.message = status_bar[0];\n",
       "\n",
       "    // Add the close button to the window.\n",
       "    var buttongrp = $('<div class=\"btn-group inline pull-right\"></div>');\n",
       "    var button = $('<button class=\"btn btn-mini btn-primary\" href=\"#\" title=\"Stop Interaction\"><i class=\"fa fa-power-off icon-remove icon-large\"></i></button>');\n",
       "    button.click(function (evt) { fig.handle_close(fig, {}); } );\n",
       "    button.mouseover('Stop Interaction', toolbar_mouse_event);\n",
       "    buttongrp.append(button);\n",
       "    var titlebar = this.root.find($('.ui-dialog-titlebar'));\n",
       "    titlebar.prepend(buttongrp);\n",
       "}\n",
       "\n",
       "mpl.figure.prototype._root_extra_style = function(el){\n",
       "    var fig = this\n",
       "    el.on(\"remove\", function(){\n",
       "\tfig.close_ws(fig, {});\n",
       "    });\n",
       "}\n",
       "\n",
       "mpl.figure.prototype._canvas_extra_style = function(el){\n",
       "    // this is important to make the div 'focusable\n",
       "    el.attr('tabindex', 0)\n",
       "    // reach out to IPython and tell the keyboard manager to turn it's self\n",
       "    // off when our div gets focus\n",
       "\n",
       "    // location in version 3\n",
       "    if (IPython.notebook.keyboard_manager) {\n",
       "        IPython.notebook.keyboard_manager.register_events(el);\n",
       "    }\n",
       "    else {\n",
       "        // location in version 2\n",
       "        IPython.keyboard_manager.register_events(el);\n",
       "    }\n",
       "\n",
       "}\n",
       "\n",
       "mpl.figure.prototype._key_event_extra = function(event, name) {\n",
       "    var manager = IPython.notebook.keyboard_manager;\n",
       "    if (!manager)\n",
       "        manager = IPython.keyboard_manager;\n",
       "\n",
       "    // Check for shift+enter\n",
       "    if (event.shiftKey && event.which == 13) {\n",
       "        this.canvas_div.blur();\n",
       "        // select the cell after this one\n",
       "        var index = IPython.notebook.find_cell_index(this.cell_info[0]);\n",
       "        IPython.notebook.select(index + 1);\n",
       "    }\n",
       "}\n",
       "\n",
       "mpl.figure.prototype.handle_save = function(fig, msg) {\n",
       "    fig.ondownload(fig, null);\n",
       "}\n",
       "\n",
       "\n",
       "mpl.find_output_cell = function(html_output) {\n",
       "    // Return the cell and output element which can be found *uniquely* in the notebook.\n",
       "    // Note - this is a bit hacky, but it is done because the \"notebook_saving.Notebook\"\n",
       "    // IPython event is triggered only after the cells have been serialised, which for\n",
       "    // our purposes (turning an active figure into a static one), is too late.\n",
       "    var cells = IPython.notebook.get_cells();\n",
       "    var ncells = cells.length;\n",
       "    for (var i=0; i<ncells; i++) {\n",
       "        var cell = cells[i];\n",
       "        if (cell.cell_type === 'code'){\n",
       "            for (var j=0; j<cell.output_area.outputs.length; j++) {\n",
       "                var data = cell.output_area.outputs[j];\n",
       "                if (data.data) {\n",
       "                    // IPython >= 3 moved mimebundle to data attribute of output\n",
       "                    data = data.data;\n",
       "                }\n",
       "                if (data['text/html'] == html_output) {\n",
       "                    return [cell, data, j];\n",
       "                }\n",
       "            }\n",
       "        }\n",
       "    }\n",
       "}\n",
       "\n",
       "// Register the function which deals with the matplotlib target/channel.\n",
       "// The kernel may be null if the page has been refreshed.\n",
       "if (IPython.notebook.kernel != null) {\n",
       "    IPython.notebook.kernel.comm_manager.register_target('matplotlib', mpl.mpl_figure_comm);\n",
       "}\n"
      ],
      "text/plain": [
       "<IPython.core.display.Javascript object>"
      ]
     },
     "metadata": {},
     "output_type": "display_data"
    },
    {
     "data": {
      "text/html": [
       "<img src=\"data:image/png;base64,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\" width=\"1000\">"
      ],
      "text/plain": [
       "<IPython.core.display.HTML object>"
      ]
     },
     "metadata": {},
     "output_type": "display_data"
    }
   ],
   "source": [
    "imd.imshowRGB(Z,pxobj,10)"
   ]
  },
  {
   "cell_type": "code",
   "execution_count": null,
   "metadata": {
    "collapsed": true
   },
   "outputs": [],
   "source": []
  },
  {
   "cell_type": "code",
   "execution_count": null,
   "metadata": {
    "collapsed": true
   },
   "outputs": [],
   "source": []
  },
  {
   "cell_type": "code",
   "execution_count": null,
   "metadata": {
    "collapsed": true
   },
   "outputs": [],
   "source": []
  },
  {
   "cell_type": "code",
   "execution_count": null,
   "metadata": {
    "collapsed": true
   },
   "outputs": [],
   "source": []
  },
  {
   "cell_type": "raw",
   "metadata": {},
   "source": []
  },
  {
   "cell_type": "code",
   "execution_count": null,
   "metadata": {
    "collapsed": true
   },
   "outputs": [],
   "source": []
  },
  {
   "cell_type": "raw",
   "metadata": {},
   "source": []
  },
  {
   "cell_type": "raw",
   "metadata": {},
   "source": []
  },
  {
   "cell_type": "code",
   "execution_count": null,
   "metadata": {
    "collapsed": true
   },
   "outputs": [],
   "source": []
  },
  {
   "cell_type": "code",
   "execution_count": null,
   "metadata": {
    "collapsed": true
   },
   "outputs": [],
   "source": []
  },
  {
   "cell_type": "code",
   "execution_count": null,
   "metadata": {
    "collapsed": true
   },
   "outputs": [],
   "source": []
  },
  {
   "cell_type": "code",
   "execution_count": null,
   "metadata": {
    "collapsed": true
   },
   "outputs": [],
   "source": []
  },
  {
   "cell_type": "code",
   "execution_count": null,
   "metadata": {
    "collapsed": true
   },
   "outputs": [],
   "source": []
  },
  {
   "cell_type": "code",
   "execution_count": null,
   "metadata": {
    "collapsed": true
   },
   "outputs": [],
   "source": []
  },
  {
   "cell_type": "code",
   "execution_count": null,
   "metadata": {
    "collapsed": true
   },
   "outputs": [],
   "source": []
  },
  {
   "cell_type": "code",
   "execution_count": null,
   "metadata": {
    "collapsed": true
   },
   "outputs": [],
   "source": []
  },
  {
   "cell_type": "code",
   "execution_count": null,
   "metadata": {
    "collapsed": true
   },
   "outputs": [],
   "source": []
  },
  {
   "cell_type": "code",
   "execution_count": null,
   "metadata": {
    "collapsed": true
   },
   "outputs": [],
   "source": []
  },
  {
   "cell_type": "code",
   "execution_count": null,
   "metadata": {
    "collapsed": true
   },
   "outputs": [],
   "source": []
  },
  {
   "cell_type": "code",
   "execution_count": null,
   "metadata": {
    "collapsed": true
   },
   "outputs": [],
   "source": []
  },
  {
   "cell_type": "code",
   "execution_count": null,
   "metadata": {
    "collapsed": true
   },
   "outputs": [],
   "source": []
  },
  {
   "cell_type": "code",
   "execution_count": null,
   "metadata": {
    "collapsed": true
   },
   "outputs": [],
   "source": []
  },
  {
   "cell_type": "code",
   "execution_count": null,
   "metadata": {
    "collapsed": true
   },
   "outputs": [],
   "source": []
  },
  {
   "cell_type": "code",
   "execution_count": null,
   "metadata": {
    "collapsed": true
   },
   "outputs": [],
   "source": []
  },
  {
   "cell_type": "code",
   "execution_count": null,
   "metadata": {
    "collapsed": true
   },
   "outputs": [],
   "source": []
  },
  {
   "cell_type": "code",
   "execution_count": null,
   "metadata": {
    "collapsed": true
   },
   "outputs": [],
   "source": []
  },
  {
   "cell_type": "code",
   "execution_count": null,
   "metadata": {
    "collapsed": true
   },
   "outputs": [],
   "source": []
  },
  {
   "cell_type": "code",
   "execution_count": null,
   "metadata": {
    "collapsed": true
   },
   "outputs": [],
   "source": []
  },
  {
   "cell_type": "code",
   "execution_count": null,
   "metadata": {
    "collapsed": true
   },
   "outputs": [],
   "source": []
  },
  {
   "cell_type": "code",
   "execution_count": null,
   "metadata": {
    "collapsed": true
   },
   "outputs": [],
   "source": []
  },
  {
   "cell_type": "code",
   "execution_count": null,
   "metadata": {
    "collapsed": true
   },
   "outputs": [],
   "source": []
  },
  {
   "cell_type": "code",
   "execution_count": null,
   "metadata": {
    "collapsed": true
   },
   "outputs": [],
   "source": []
  },
  {
   "cell_type": "code",
   "execution_count": null,
   "metadata": {
    "collapsed": true
   },
   "outputs": [],
   "source": []
  },
  {
   "cell_type": "code",
   "execution_count": null,
   "metadata": {
    "collapsed": true
   },
   "outputs": [],
   "source": []
  },
  {
   "cell_type": "code",
   "execution_count": null,
   "metadata": {
    "collapsed": true
   },
   "outputs": [],
   "source": []
  },
  {
   "cell_type": "code",
   "execution_count": null,
   "metadata": {
    "collapsed": true
   },
   "outputs": [],
   "source": []
  },
  {
   "cell_type": "code",
   "execution_count": null,
   "metadata": {
    "collapsed": true
   },
   "outputs": [],
   "source": []
  },
  {
   "cell_type": "code",
   "execution_count": null,
   "metadata": {
    "collapsed": true
   },
   "outputs": [],
   "source": []
  },
  {
   "cell_type": "code",
   "execution_count": null,
   "metadata": {
    "collapsed": true
   },
   "outputs": [],
   "source": []
  },
  {
   "cell_type": "code",
   "execution_count": null,
   "metadata": {
    "collapsed": true
   },
   "outputs": [],
   "source": []
  },
  {
   "cell_type": "code",
   "execution_count": null,
   "metadata": {
    "collapsed": true
   },
   "outputs": [],
   "source": []
  },
  {
   "cell_type": "code",
   "execution_count": null,
   "metadata": {
    "collapsed": true
   },
   "outputs": [],
   "source": []
  },
  {
   "cell_type": "code",
   "execution_count": null,
   "metadata": {
    "collapsed": true
   },
   "outputs": [],
   "source": []
  },
  {
   "cell_type": "code",
   "execution_count": null,
   "metadata": {
    "collapsed": true
   },
   "outputs": [],
   "source": []
  },
  {
   "cell_type": "code",
   "execution_count": null,
   "metadata": {
    "collapsed": true
   },
   "outputs": [],
   "source": []
  },
  {
   "cell_type": "code",
   "execution_count": null,
   "metadata": {
    "collapsed": true
   },
   "outputs": [],
   "source": []
  },
  {
   "cell_type": "code",
   "execution_count": null,
   "metadata": {
    "collapsed": true
   },
   "outputs": [],
   "source": []
  },
  {
   "cell_type": "code",
   "execution_count": null,
   "metadata": {
    "collapsed": true
   },
   "outputs": [],
   "source": []
  },
  {
   "cell_type": "code",
   "execution_count": null,
   "metadata": {
    "collapsed": true
   },
   "outputs": [],
   "source": []
  },
  {
   "cell_type": "code",
   "execution_count": null,
   "metadata": {
    "collapsed": true
   },
   "outputs": [],
   "source": []
  },
  {
   "cell_type": "code",
   "execution_count": null,
   "metadata": {
    "collapsed": true
   },
   "outputs": [],
   "source": []
  },
  {
   "cell_type": "code",
   "execution_count": null,
   "metadata": {
    "collapsed": true
   },
   "outputs": [],
   "source": []
  },
  {
   "cell_type": "code",
   "execution_count": null,
   "metadata": {
    "collapsed": true
   },
   "outputs": [],
   "source": []
  },
  {
   "cell_type": "code",
   "execution_count": null,
   "metadata": {
    "collapsed": true
   },
   "outputs": [],
   "source": []
  },
  {
   "cell_type": "code",
   "execution_count": null,
   "metadata": {
    "collapsed": true
   },
   "outputs": [],
   "source": []
  },
  {
   "cell_type": "code",
   "execution_count": null,
   "metadata": {
    "collapsed": true
   },
   "outputs": [],
   "source": []
  }
 ],
 "metadata": {
  "kernelspec": {
   "display_name": "Python 2",
   "language": "python",
   "name": "python2"
  },
  "language_info": {
   "codemirror_mode": {
    "name": "ipython",
    "version": 2
   },
   "file_extension": ".py",
   "mimetype": "text/x-python",
   "name": "python",
   "nbconvert_exporter": "python",
   "pygments_lexer": "ipython2",
   "version": "2.7.12"
  }
 },
 "nbformat": 4,
 "nbformat_minor": 2
}
