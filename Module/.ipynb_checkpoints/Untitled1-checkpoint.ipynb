{
 "cells": [
  {
   "cell_type": "code",
   "execution_count": 5,
   "metadata": {},
   "outputs": [],
   "source": [
    "from sklearn.pipeline import Pipeline\n",
    "from sklearn import decomposition\n",
    "from sklearn.decomposition import PCA\n",
    "from mpl_toolkits.mplot3d import Axes3D\n",
    "import matplotlib.pyplot as plt\n",
    "import numpy as np\n",
    "from sklearn.ensemble import RandomForestClassifier\n",
    "from sklearn import datasets, linear_model, cross_validation, grid_search\n",
    "from sklearn.metrics import confusion_matrix\n",
    "import seaborn as sns\n",
    "\n",
    "from sklearn import metrics\n",
    "from sklearn.model_selection import cross_val_predict\n",
    "from sklearn.model_selection import train_test_split\n",
    "from sklearn.model_selection import GridSearchCV\n",
    "import pandas as pd\n",
    "\n",
    "import pickle\n",
    "\n",
    "from sklearn.pipeline import make_pipeline\n",
    "from sklearn.externals import joblib"
   ]
  },
  {
   "cell_type": "code",
   "execution_count": 6,
   "metadata": {
    "collapsed": true
   },
   "outputs": [],
   "source": [
    "%run ./configure.ipynb"
   ]
  },
  {
   "cell_type": "code",
   "execution_count": 7,
   "metadata": {},
   "outputs": [],
   "source": [
    "# import some data\n",
    "filename_Features_two_blocs=projectpath+'io/Output/Features_two_blocs.npy'\n",
    "FV_N=np.load(filename_Features_two_blocs)\n",
    "\n",
    "# Import the dataFrame\n",
    "Data_FRAMES=pd.read_pickle(projectpath+'io/Output/Dataframe_.pkl')"
   ]
  },
  {
   "cell_type": "code",
   "execution_count": 8,
   "metadata": {},
   "outputs": [],
   "source": [
    "clf_pca = joblib.load('clf_pca.pkl') "
   ]
  },
  {
   "cell_type": "code",
   "execution_count": 9,
   "metadata": {},
   "outputs": [
    {
     "data": {
      "text/plain": [
       "array([[  3.46871046e+01,  -1.65969479e+01,  -4.68081232e-01,\n",
       "          5.39962891e+00,   1.75926484e+00,  -7.13061986e-01,\n",
       "          4.25269430e+00,   4.05583437e+00,  -5.71445298e-01,\n",
       "         -1.70972733e-02,  -2.77540738e-01,  -8.05229841e-02,\n",
       "         -8.82600612e-02,  -1.03923853e-02,   1.21017823e-01,\n",
       "         -1.86704375e-01,  -1.17222058e-01,  -7.05937974e-02,\n",
       "         -5.18124502e-02,   7.20924327e-02,  -2.05855060e-02,\n",
       "         -1.37915325e-02,   9.22275445e-03,   2.55416755e-02,\n",
       "          1.39103230e-02,  -7.86773380e-02,  -5.56480088e-02,\n",
       "          5.17272816e-02,  -2.53762726e-02,  -4.89535846e-02,\n",
       "         -4.36495123e-02,   5.68287930e-03,   1.04704560e-03,\n",
       "         -1.33998911e-02,  -1.00834665e-03,   2.57543613e-03,\n",
       "         -5.20907424e-02,   7.20094381e-03,   4.12667482e-02,\n",
       "          2.32511755e-02,  -1.39578480e-02,   1.66574285e-02,\n",
       "         -2.55576954e-02,   6.07405640e-02,  -6.63746813e-03,\n",
       "         -3.35995125e-02,  -2.94087991e-02,   1.86258456e-02,\n",
       "         -8.56945894e-03,   3.70168315e-03,   9.09168374e-03,\n",
       "          1.20451084e-02,  -1.63636095e-02,  -2.57962241e-02,\n",
       "         -2.95297560e-03,   8.99943500e-03,   3.03286779e-02,\n",
       "         -7.82019700e-03,   4.46077005e-03,   4.91482911e-03,\n",
       "          5.15446341e-03,  -1.31158008e-03,   1.39715462e-02,\n",
       "          1.78000599e-03,  -5.19415186e-03,  -2.05586125e-02,\n",
       "         -2.28527769e-02,   1.35522136e-02,  -6.64374974e-03,\n",
       "          6.20041886e-03]])"
      ]
     },
     "execution_count": 9,
     "metadata": {},
     "output_type": "execute_result"
    }
   ],
   "source": [
    "clf_pca.transform(FV_N)"
   ]
  },
  {
   "cell_type": "code",
   "execution_count": null,
   "metadata": {},
   "outputs": [],
   "source": []
  },
  {
   "cell_type": "code",
   "execution_count": null,
   "metadata": {
    "collapsed": true
   },
   "outputs": [],
   "source": []
  }
 ],
 "metadata": {
  "kernelspec": {
   "display_name": "Python 2",
   "language": "python",
   "name": "python2"
  },
  "language_info": {
   "codemirror_mode": {
    "name": "ipython",
    "version": 2
   },
   "file_extension": ".py",
   "mimetype": "text/x-python",
   "name": "python",
   "nbconvert_exporter": "python",
   "pygments_lexer": "ipython2",
   "version": "2.7.12"
  }
 },
 "nbformat": 4,
 "nbformat_minor": 2
}
