{
 "cells": [
  {
   "cell_type": "code",
   "execution_count": null,
   "metadata": {
    "collapsed": true
   },
   "outputs": [],
   "source": [
    "def indexing_DF_borders(Data_F,M_PCA,inf_border_VAL, sup_border_VAL):\n",
    "    \n",
    "    '''Get index border in order to look at the images which are not differentiate by PCA model (seems to come from the same group)\n",
    "    1: inf border , Astro\n",
    "    2:inf border, Neuro\n",
    "    3: inf border, None\n",
    "    4: sup border, Astro\n",
    "    5: sup border, Neuro\n",
    "    6: sup border, None\n",
    "    7: interm border, Astro\n",
    "    8: interm border, Neuro\n",
    "    9: interm border, None\n",
    "    '''\n",
    "    \n",
    "    index_vector=np.arange(0,Data_F.shape[0])\n",
    "    index_vector=np.zeros(index_vector.shape[0])\n",
    "    index_vector=index_vector.reshape(-1,1)\n",
    "    \n",
    "    index_border=index_vector\n",
    "    \n",
    "    p=M[:,0]>=inf_border_VAL \n",
    "    q=M[:,0]<=sup_border_VAL\n",
    "    interm=np.argwhere(p & q)\n",
    "    \n",
    "    for l in range(0, Data_F.shape[0]-1):\n",
    "        if (M_PCA[:,0][l]<=-inf_border_VAL and Data_F.TYPE[l]==1):\n",
    "            index_border[l]=1\n",
    "        elif (M_PCA[:,0][l]<=-inf_border_VAL and Data_F.TYPE[l]==2):\n",
    "            index_border[l]=2\n",
    "        elif (M_PCA[:,0][l]<=-inf_border_VAL and Data_F.TYPE[l]==0):\n",
    "            index_border[l]=3\n",
    "        elif (M_PCA[:,0][l]>=sup_border_VAL and Data_F.TYPE[l]==1):\n",
    "            index_border[l]=4\n",
    "        elif (M_PCA[:,0][l]>=sup_border_VAL and Data_F.TYPE[l]==2):\n",
    "            index_border[l]=5\n",
    "        elif (M_PCA[:,0][l]>=sup_border_VAL and Data_F.TYPE[l]==0):\n",
    "            index_border[l]=6\n",
    "        elif (M_PCA[:,0][l]<=sup_border_VAL and M_PCA[:,0][l]>=inf_border_VAL and Data_F.TYPE[l]==1):\n",
    "            index_border[l]=7\n",
    "        elif (M_PCA[:,0][l]<=sup_border_VAL and M_PCA[:,0][l]>=inf_border_VAL and Data_F.TYPE[l]==2):\n",
    "            index_border[l]=8\n",
    "        else :\n",
    "            index_border[l]=9\n",
    "        index_border\n",
    "    Data_F['Im_INF']=index_border\n",
    "    np.concatenate((Data_F,index_border), axis=1)\n",
    "    return(Data_F)\n"
   ]
  },
  {
   "cell_type": "code",
   "execution_count": null,
   "metadata": {
    "collapsed": true
   },
   "outputs": [],
   "source": [
    "def Plot_Strange_Vol_per_Class(mean_stacks_vol_Gray, class_nb , Data_F):\n",
    "    AA=np.where(Data_F[:,18]==class_nb)[0]\n",
    "    fig = plt.figure(figsize=(12, 12))\n",
    "    fig.subplots_adjust(hspace=0.1, wspace=0.1)\n",
    "    for i in range(1, 21): \n",
    "        plt.subplot(6, 5, i)\n",
    "        plt.imshow((mean_stacks_vol_Gray[AA[i-1]][:,:] ))"
   ]
  }
 ],
 "metadata": {
  "kernelspec": {
   "display_name": "Python 2",
   "language": "python",
   "name": "python2"
  },
  "language_info": {
   "codemirror_mode": {
    "name": "ipython",
    "version": 2
   },
   "file_extension": ".py",
   "mimetype": "text/x-python",
   "name": "python",
   "nbconvert_exporter": "python",
   "pygments_lexer": "ipython2",
   "version": "2.7.12"
  }
 },
 "nbformat": 4,
 "nbformat_minor": 2
}
