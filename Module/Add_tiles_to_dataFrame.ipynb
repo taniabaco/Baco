{
 "cells": [
  {
   "cell_type": "code",
   "execution_count": null,
   "metadata": {
    "collapsed": true
   },
   "outputs": [],
   "source": [
    "def Add_tiles_to_dataFrame(original_dataFrame, w, h):\n",
    "    \n",
    "    columns_names = list(original_dataFrame.columns.values)\n",
    "    df_New=np.zeros([2*original_dataFrame.shape[0],len(columns_names)])\n",
    "    df_New=pd.DataFrame(data=df_New,columns= original_dataFrame.columns)\n",
    "    df_New=pd.concat([original_dataFrame, original_dataFrame], axis=0)\n",
    "    df_New=fct_pp.getDF(df_New)\n",
    "    df_New=fct_pp.Switch_Indices(df_New)\n",
    "\n",
    "\n",
    "\n",
    "    # left up\n",
    "    for i in range(1,len(df_New)/2-1):\n",
    "        df_New.X[i+original_dataFrame.shape[0]]=-weight/2+df_New.X[i-1]+1\n",
    "        df_New.Y[i+original_dataFrame.shape[0]]=-height/2+df_New.Y[i-1]+1\n",
    "    #  right up\n",
    "    df_New_r_u=original_dataFrame.copy()\n",
    "    for i in range(0,len(df_New)/2-1):\n",
    "        df_New_r_u.X[i]=weight/2+df_New.X[i]\n",
    "        df_New_r_u.Y[i]=-height/2+df_New.Y[i]+1\n",
    "\n",
    "    # left down\n",
    "    df_New_l_d=original_dataFrame.copy()\n",
    "    for i in range(0,len(df_New)/2-1):\n",
    "        df_New_l_d.X[i]=-weight/2+df_New.X[i]+1\n",
    "        df_New_l_d.Y[i]=height/2+df_New.Y[i]\n",
    "\n",
    "    # right down\n",
    "    df_New_r_d=original_dataFrame.copy()\n",
    "    for i in range(0,len(df_New)/2-1):\n",
    "        df_New_r_d.X[i]=weight/2+df_New.X[i]\n",
    "        df_New_r_d.Y[i]=height/2+df_New.Y[i]\n",
    "\n",
    "    # concat the data frames\n",
    "    df_NEW=pd.concat([df_New, df_New_r_u], axis=0)\n",
    "    df_NEW=pd.concat([df_NEW, df_New_l_d], axis=0)\n",
    "    df_NEW=pd.concat([df_NEW, df_New_r_d], axis=0)\n",
    "    df_New=fct_pp.getDF(df_NEW)\n",
    "    df_New=fct_pp.Switch_Indices(df_New)\n",
    "    df_New_copy=df_New.copy()\n",
    "\n",
    "    # save\n",
    "    df_New_copy.to_pickle(projectpath+'io/Output/df_New_copy.pkl')"
   ]
  }
 ],
 "metadata": {
  "kernelspec": {
   "display_name": "Python 2",
   "language": "python",
   "name": "python2"
  },
  "language_info": {
   "codemirror_mode": {
    "name": "ipython",
    "version": 2
   },
   "file_extension": ".py",
   "mimetype": "text/x-python",
   "name": "python",
   "nbconvert_exporter": "python",
   "pygments_lexer": "ipython2",
   "version": "2.7.12"
  }
 },
 "nbformat": 4,
 "nbformat_minor": 2
}
