{
 "cells": [
  {
   "cell_type": "markdown",
   "metadata": {},
   "source": [
    "# Display the images corresponding to normalized volums"
   ]
  },
  {
   "cell_type": "code",
   "execution_count": 1,
   "metadata": {
    "collapsed": true
   },
   "outputs": [],
   "source": [
    "def PLOT_Im(normalized_vol):\n",
    "    plt.subplot(221)\n",
    "    CH1=normalized_vol[:,:,0]\n",
    "    plt.title('CH1: Astrocyte')\n",
    "    plt.imshow(CH1,cmap='gray')\n",
    "\n",
    "    plt.subplot(222)\n",
    "    CH2=normalized_vol[:,:,1]\n",
    "    plt.title('CH2: Astrocyte')\n",
    "    plt.imshow(CH2,cmap='gray')\n",
    "\n",
    "    plt.subplot(223)\n",
    "    CH3=normalized_vol[:,:,2]\n",
    "    plt.title('CH3: Astrocyte')\n",
    "    plt.imshow(CH3,cmap='gray')\n",
    "\n",
    "    VolCH1=normalized_vol[:,:,:]\n",
    "    plt.figure(figsize=(3,3))\n",
    "    plt.title('RGB: Astrocyte')\n",
    "    plt.imshow(VolCH1)"
   ]
  },
  {
   "cell_type": "code",
   "execution_count": null,
   "metadata": {
    "collapsed": true
   },
   "outputs": [],
   "source": []
  }
 ],
 "metadata": {
  "kernelspec": {
   "display_name": "Python 2",
   "language": "python",
   "name": "python2"
  },
  "language_info": {
   "codemirror_mode": {
    "name": "ipython",
    "version": 2
   },
   "file_extension": ".py",
   "mimetype": "text/x-python",
   "name": "python",
   "nbconvert_exporter": "python",
   "pygments_lexer": "ipython2",
   "version": "2.7.12"
  }
 },
 "nbformat": 4,
 "nbformat_minor": 2
}
