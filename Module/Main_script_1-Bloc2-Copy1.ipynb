{
 "cells": [
  {
   "cell_type": "markdown",
   "metadata": {},
   "source": [
    "# Pipeline : \n",
    "### data processing of the manually annoted dataset\n",
    "### image processing : extraction of RGB volumes\n",
    "### classifier based on WND-charm Model\n",
    "### PCA & RDF\n",
    "### Build a classifier\n",
    "### Analyse False Positives\n",
    "### Prediction of Neurons, Astrocytes, Background in ROI's clone"
   ]
  },
  {
   "cell_type": "code",
   "execution_count": 1,
   "metadata": {
    "collapsed": true
   },
   "outputs": [],
   "source": [
    "import numpy as np\n",
    "import pandas as pd\n",
    "from functools import partial\n",
    "import multiprocessing\n",
    "%matplotlib notebook\n",
    "import matplotlib.pyplot as plt\n",
    "import matplotlib.image as mpimg\n",
    "import matplotlib.colors as cm\n",
    "import pickle\n",
    "import time\n",
    "from pandas import DataFrame, read_csv,concat,merge"
   ]
  },
  {
   "cell_type": "code",
   "execution_count": 2,
   "metadata": {
    "collapsed": true
   },
   "outputs": [],
   "source": [
    "%run ./configure.ipynb"
   ]
  },
  {
   "cell_type": "code",
   "execution_count": 3,
   "metadata": {
    "collapsed": true
   },
   "outputs": [],
   "source": [
    "%run ../Connection_to_server.ipynb"
   ]
  },
  {
   "cell_type": "code",
   "execution_count": 31,
   "metadata": {
    "collapsed": true
   },
   "outputs": [],
   "source": [
    "imageId = 462 #451\n",
    "weight=25\n",
    "height=25"
   ]
  },
  {
   "cell_type": "markdown",
   "metadata": {},
   "source": [
    "## Pre-pocessing of the manually annotated Dataset"
   ]
  },
  {
   "cell_type": "code",
   "execution_count": 5,
   "metadata": {
    "collapsed": true
   },
   "outputs": [],
   "source": [
    "import Pre_Processing_the_annotated_dataset as pp\n",
    "reload(pp);\n",
    "import Add_tiles_to_dataFrame as Adt\n",
    "reload(Adt);"
   ]
  },
  {
   "cell_type": "code",
   "execution_count": 6,
   "metadata": {
    "collapsed": true
   },
   "outputs": [],
   "source": [
    "dfpoints1=read_csv(projectpath+'io/Input/Bloc01_pointes_first_mod.csv')\n"
   ]
  },
  {
   "cell_type": "raw",
   "metadata": {},
   "source": [
    "dfpoints11=Adt.Add_tiles_to_dataFrame(dfpoints1, weight, height)"
   ]
  },
  {
   "cell_type": "raw",
   "metadata": {},
   "source": [
    "dfpoints11.to_pickle(projectpath+'io/Output/dfpoints11.pkl')"
   ]
  },
  {
   "cell_type": "code",
   "execution_count": 7,
   "metadata": {
    "collapsed": true
   },
   "outputs": [],
   "source": [
    "dfpoints11=pd.read_pickle(projectpath+'io/Output/dfpoints11.pkl')"
   ]
  },
  {
   "cell_type": "code",
   "execution_count": 14,
   "metadata": {
    "collapsed": true
   },
   "outputs": [],
   "source": [
    "# Bloc 2\n",
    "dfpoints2=read_csv(projectpath+'io/Input/Bloc02_pointes_second.csv')"
   ]
  },
  {
   "cell_type": "raw",
   "metadata": {},
   "source": [
    "dfpoints22=Adt.Add_tiles_to_dataFrame(dfpoints2, weight, height)"
   ]
  },
  {
   "cell_type": "raw",
   "metadata": {},
   "source": [
    "dfpoints22.to_pickle(projectpath+'io/Output/dfpoints22.pkl')"
   ]
  },
  {
   "cell_type": "code",
   "execution_count": 17,
   "metadata": {
    "collapsed": true
   },
   "outputs": [],
   "source": [
    "dfpoints22=pd.read_pickle(projectpath+'io/Output/dfpoints22.pkl')"
   ]
  },
  {
   "cell_type": "code",
   "execution_count": null,
   "metadata": {},
   "outputs": [],
   "source": []
  },
  {
   "cell_type": "code",
   "execution_count": 21,
   "metadata": {
    "collapsed": true
   },
   "outputs": [],
   "source": [
    "import Pre_Classification_process as pcp\n",
    "reload(pcp);"
   ]
  },
  {
   "cell_type": "raw",
   "metadata": {},
   "source": [
    "%%time\n",
    "(ffv1, dtf1)=pcp.Get_informations_for_classifier(imageId, weight, height, dfpoints11,projectpath)\n",
    "#CPU times: user 36.5 s, sys: 3min 14s, total: 3min 50s\n",
    "#Wall time: 1h 23min"
   ]
  },
  {
   "cell_type": "code",
   "execution_count": 23,
   "metadata": {
    "collapsed": true
   },
   "outputs": [],
   "source": [
    "filename_Features_bloc1=projectpath+'io/Output/Features_bloc1.npy'"
   ]
  },
  {
   "cell_type": "raw",
   "metadata": {},
   "source": [
    "np.save(filename_Features_bloc1,ffv1)"
   ]
  },
  {
   "cell_type": "code",
   "execution_count": 25,
   "metadata": {
    "collapsed": true
   },
   "outputs": [],
   "source": [
    "Features_bloc1=np.load(filename_Features_bloc1)"
   ]
  },
  {
   "cell_type": "raw",
   "metadata": {},
   "source": [
    "dtf1.to_pickle(projectpath+'io/Output/Data_FRAMES_bloc1.pkl')"
   ]
  },
  {
   "cell_type": "code",
   "execution_count": 27,
   "metadata": {
    "collapsed": true
   },
   "outputs": [],
   "source": [
    "Data_FRAMES_bloc1=pd.read_pickle(projectpath+'io/Output/Data_FRAMES_bloc1.pkl')"
   ]
  },
  {
   "cell_type": "raw",
   "metadata": {},
   "source": [
    "%%time\n",
    "(ffv, dtf)=pcp.Get_informations_for_classifier(imageId, weight, height, dfpoints22,projectpath)\n",
    "#CPU times: user 1h 7min 40s, sys: 1min 45s, total: 1h 9min 25s\n",
    "#Wall time: 2h 40min 38s"
   ]
  },
  {
   "cell_type": "code",
   "execution_count": 33,
   "metadata": {
    "collapsed": true
   },
   "outputs": [],
   "source": [
    "filename_Features_bloc2=projectpath+'io/Output/Features_bloc2.npy'"
   ]
  },
  {
   "cell_type": "raw",
   "metadata": {},
   "source": [
    "np.save(filename_Features_bloc2,ffv)"
   ]
  },
  {
   "cell_type": "code",
   "execution_count": 35,
   "metadata": {
    "collapsed": true
   },
   "outputs": [],
   "source": [
    "Features_bloc2=np.load(filename_Features_bloc2)"
   ]
  },
  {
   "cell_type": "raw",
   "metadata": {},
   "source": [
    "dtf.to_pickle(projectpath+'io/Output/Data_FRAMES_bloc2.pkl')"
   ]
  },
  {
   "cell_type": "code",
   "execution_count": 38,
   "metadata": {},
   "outputs": [
    {
     "data": {
      "text/plain": [
       "(6662, 18)"
      ]
     },
     "execution_count": 38,
     "metadata": {},
     "output_type": "execute_result"
    }
   ],
   "source": [
    "Data_FRAMES_bloc2.shape"
   ]
  },
  {
   "cell_type": "code",
   "execution_count": 37,
   "metadata": {
    "collapsed": true
   },
   "outputs": [],
   "source": [
    "Data_FRAMES_bloc2=pd.read_pickle(projectpath+'io/Output/Data_FRAMES_bloc2.pkl')"
   ]
  },
  {
   "cell_type": "markdown",
   "metadata": {},
   "source": [
    "# Create the full data Frame ( 1135 Adtrocytes, 1135 Neurons, 1151 background) "
   ]
  },
  {
   "cell_type": "code",
   "execution_count": 39,
   "metadata": {
    "collapsed": true
   },
   "outputs": [],
   "source": [
    "import join_two_blocs as jt\n",
    "reload(jt);\n",
    "import Fonctions_used_for_many_DF_pre_processing as fct_pp\n",
    "reload(fct_pp);"
   ]
  },
  {
   "cell_type": "raw",
   "metadata": {},
   "source": [
    "%%time\n",
    "(Dataframe_, feat_vect)=jt.join_blocs(Data_FRAMES_bloc1,Data_FRAMES_bloc2, Features_bloc1, Features_bloc2)"
   ]
  },
  {
   "cell_type": "raw",
   "metadata": {
    "collapsed": true
   },
   "source": [
    "Dataframe_=fct_pp.getDF(Dataframe_)\n",
    "Dataframe_=fct_pp.Switch_Indices(Dataframe_)\n",
    "Dataframe_.to_pickle(projectpath+'io/Output/Dataframe_.pkl')"
   ]
  },
  {
   "cell_type": "code",
   "execution_count": 42,
   "metadata": {
    "collapsed": true
   },
   "outputs": [],
   "source": [
    "Data_FRAMES=pd.read_pickle(projectpath+'io/Output/Dataframe_.pkl')"
   ]
  },
  {
   "cell_type": "code",
   "execution_count": 43,
   "metadata": {
    "collapsed": true
   },
   "outputs": [],
   "source": [
    "filename_Features_two_blocs=projectpath+'io/Output/Features_two_blocs.npy'"
   ]
  },
  {
   "cell_type": "raw",
   "metadata": {
    "collapsed": true
   },
   "source": [
    "np.save(filename_Features_two_blocs,feat_vect)"
   ]
  },
  {
   "cell_type": "code",
   "execution_count": 45,
   "metadata": {
    "collapsed": true
   },
   "outputs": [],
   "source": [
    "Features_two_blocs=np.load(filename_Features_two_blocs)"
   ]
  },
  {
   "cell_type": "markdown",
   "metadata": {},
   "source": [
    "# PCA & Random Forest Classification"
   ]
  },
  {
   "cell_type": "code",
   "execution_count": 48,
   "metadata": {},
   "outputs": [
    {
     "name": "stderr",
     "output_type": "stream",
     "text": [
      "/home/tbacoyannis/.local/lib/python2.7/site-packages/sklearn/cross_validation.py:44: DeprecationWarning: This module was deprecated in version 0.18 in favor of the model_selection module into which all the refactored classes and functions are moved. Also note that the interface of the new CV iterators are different from that of this module. This module will be removed in 0.20.\n",
      "  \"This module will be removed in 0.20.\", DeprecationWarning)\n",
      "/home/tbacoyannis/.local/lib/python2.7/site-packages/sklearn/grid_search.py:43: DeprecationWarning: This module was deprecated in version 0.18 in favor of the model_selection module into which all the refactored classes and functions are moved. This module will be removed in 0.20.\n",
      "  DeprecationWarning)\n"
     ]
    },
    {
     "name": "stdout",
     "output_type": "stream",
     "text": [
      "Pipeline(steps=[('reduce_dim', PCA(copy=True, iterated_power='auto', n_components=90, random_state=None,\n",
      "  svd_solver='auto', tol=0.0, whiten=False)), ('Random_Forest', RandomForestClassifier(bootstrap=True, class_weight=None, criterion='gini',\n",
      "            max_depth=None, max_features='auto', max_leaf_nodes=...stimators=200, n_jobs=1, oob_score=False, random_state=0,\n",
      "            verbose=0, warm_start=False))])\n"
     ]
    },
    {
     "data": {
      "application/javascript": [
       "/* Put everything inside the global mpl namespace */\n",
       "window.mpl = {};\n",
       "\n",
       "\n",
       "mpl.get_websocket_type = function() {\n",
       "    if (typeof(WebSocket) !== 'undefined') {\n",
       "        return WebSocket;\n",
       "    } else if (typeof(MozWebSocket) !== 'undefined') {\n",
       "        return MozWebSocket;\n",
       "    } else {\n",
       "        alert('Your browser does not have WebSocket support.' +\n",
       "              'Please try Chrome, Safari or Firefox ≥ 6. ' +\n",
       "              'Firefox 4 and 5 are also supported but you ' +\n",
       "              'have to enable WebSockets in about:config.');\n",
       "    };\n",
       "}\n",
       "\n",
       "mpl.figure = function(figure_id, websocket, ondownload, parent_element) {\n",
       "    this.id = figure_id;\n",
       "\n",
       "    this.ws = websocket;\n",
       "\n",
       "    this.supports_binary = (this.ws.binaryType != undefined);\n",
       "\n",
       "    if (!this.supports_binary) {\n",
       "        var warnings = document.getElementById(\"mpl-warnings\");\n",
       "        if (warnings) {\n",
       "            warnings.style.display = 'block';\n",
       "            warnings.textContent = (\n",
       "                \"This browser does not support binary websocket messages. \" +\n",
       "                    \"Performance may be slow.\");\n",
       "        }\n",
       "    }\n",
       "\n",
       "    this.imageObj = new Image();\n",
       "\n",
       "    this.context = undefined;\n",
       "    this.message = undefined;\n",
       "    this.canvas = undefined;\n",
       "    this.rubberband_canvas = undefined;\n",
       "    this.rubberband_context = undefined;\n",
       "    this.format_dropdown = undefined;\n",
       "\n",
       "    this.image_mode = 'full';\n",
       "\n",
       "    this.root = $('<div/>');\n",
       "    this._root_extra_style(this.root)\n",
       "    this.root.attr('style', 'display: inline-block');\n",
       "\n",
       "    $(parent_element).append(this.root);\n",
       "\n",
       "    this._init_header(this);\n",
       "    this._init_canvas(this);\n",
       "    this._init_toolbar(this);\n",
       "\n",
       "    var fig = this;\n",
       "\n",
       "    this.waiting = false;\n",
       "\n",
       "    this.ws.onopen =  function () {\n",
       "            fig.send_message(\"supports_binary\", {value: fig.supports_binary});\n",
       "            fig.send_message(\"send_image_mode\", {});\n",
       "            if (mpl.ratio != 1) {\n",
       "                fig.send_message(\"set_dpi_ratio\", {'dpi_ratio': mpl.ratio});\n",
       "            }\n",
       "            fig.send_message(\"refresh\", {});\n",
       "        }\n",
       "\n",
       "    this.imageObj.onload = function() {\n",
       "            if (fig.image_mode == 'full') {\n",
       "                // Full images could contain transparency (where diff images\n",
       "                // almost always do), so we need to clear the canvas so that\n",
       "                // there is no ghosting.\n",
       "                fig.context.clearRect(0, 0, fig.canvas.width, fig.canvas.height);\n",
       "            }\n",
       "            fig.context.drawImage(fig.imageObj, 0, 0);\n",
       "        };\n",
       "\n",
       "    this.imageObj.onunload = function() {\n",
       "        this.ws.close();\n",
       "    }\n",
       "\n",
       "    this.ws.onmessage = this._make_on_message_function(this);\n",
       "\n",
       "    this.ondownload = ondownload;\n",
       "}\n",
       "\n",
       "mpl.figure.prototype._init_header = function() {\n",
       "    var titlebar = $(\n",
       "        '<div class=\"ui-dialog-titlebar ui-widget-header ui-corner-all ' +\n",
       "        'ui-helper-clearfix\"/>');\n",
       "    var titletext = $(\n",
       "        '<div class=\"ui-dialog-title\" style=\"width: 100%; ' +\n",
       "        'text-align: center; padding: 3px;\"/>');\n",
       "    titlebar.append(titletext)\n",
       "    this.root.append(titlebar);\n",
       "    this.header = titletext[0];\n",
       "}\n",
       "\n",
       "\n",
       "\n",
       "mpl.figure.prototype._canvas_extra_style = function(canvas_div) {\n",
       "\n",
       "}\n",
       "\n",
       "\n",
       "mpl.figure.prototype._root_extra_style = function(canvas_div) {\n",
       "\n",
       "}\n",
       "\n",
       "mpl.figure.prototype._init_canvas = function() {\n",
       "    var fig = this;\n",
       "\n",
       "    var canvas_div = $('<div/>');\n",
       "\n",
       "    canvas_div.attr('style', 'position: relative; clear: both; outline: 0');\n",
       "\n",
       "    function canvas_keyboard_event(event) {\n",
       "        return fig.key_event(event, event['data']);\n",
       "    }\n",
       "\n",
       "    canvas_div.keydown('key_press', canvas_keyboard_event);\n",
       "    canvas_div.keyup('key_release', canvas_keyboard_event);\n",
       "    this.canvas_div = canvas_div\n",
       "    this._canvas_extra_style(canvas_div)\n",
       "    this.root.append(canvas_div);\n",
       "\n",
       "    var canvas = $('<canvas/>');\n",
       "    canvas.addClass('mpl-canvas');\n",
       "    canvas.attr('style', \"left: 0; top: 0; z-index: 0; outline: 0\")\n",
       "\n",
       "    this.canvas = canvas[0];\n",
       "    this.context = canvas[0].getContext(\"2d\");\n",
       "\n",
       "    var backingStore = this.context.backingStorePixelRatio ||\n",
       "\tthis.context.webkitBackingStorePixelRatio ||\n",
       "\tthis.context.mozBackingStorePixelRatio ||\n",
       "\tthis.context.msBackingStorePixelRatio ||\n",
       "\tthis.context.oBackingStorePixelRatio ||\n",
       "\tthis.context.backingStorePixelRatio || 1;\n",
       "\n",
       "    mpl.ratio = (window.devicePixelRatio || 1) / backingStore;\n",
       "\n",
       "    var rubberband = $('<canvas/>');\n",
       "    rubberband.attr('style', \"position: absolute; left: 0; top: 0; z-index: 1;\")\n",
       "\n",
       "    var pass_mouse_events = true;\n",
       "\n",
       "    canvas_div.resizable({\n",
       "        start: function(event, ui) {\n",
       "            pass_mouse_events = false;\n",
       "        },\n",
       "        resize: function(event, ui) {\n",
       "            fig.request_resize(ui.size.width, ui.size.height);\n",
       "        },\n",
       "        stop: function(event, ui) {\n",
       "            pass_mouse_events = true;\n",
       "            fig.request_resize(ui.size.width, ui.size.height);\n",
       "        },\n",
       "    });\n",
       "\n",
       "    function mouse_event_fn(event) {\n",
       "        if (pass_mouse_events)\n",
       "            return fig.mouse_event(event, event['data']);\n",
       "    }\n",
       "\n",
       "    rubberband.mousedown('button_press', mouse_event_fn);\n",
       "    rubberband.mouseup('button_release', mouse_event_fn);\n",
       "    // Throttle sequential mouse events to 1 every 20ms.\n",
       "    rubberband.mousemove('motion_notify', mouse_event_fn);\n",
       "\n",
       "    rubberband.mouseenter('figure_enter', mouse_event_fn);\n",
       "    rubberband.mouseleave('figure_leave', mouse_event_fn);\n",
       "\n",
       "    canvas_div.on(\"wheel\", function (event) {\n",
       "        event = event.originalEvent;\n",
       "        event['data'] = 'scroll'\n",
       "        if (event.deltaY < 0) {\n",
       "            event.step = 1;\n",
       "        } else {\n",
       "            event.step = -1;\n",
       "        }\n",
       "        mouse_event_fn(event);\n",
       "    });\n",
       "\n",
       "    canvas_div.append(canvas);\n",
       "    canvas_div.append(rubberband);\n",
       "\n",
       "    this.rubberband = rubberband;\n",
       "    this.rubberband_canvas = rubberband[0];\n",
       "    this.rubberband_context = rubberband[0].getContext(\"2d\");\n",
       "    this.rubberband_context.strokeStyle = \"#000000\";\n",
       "\n",
       "    this._resize_canvas = function(width, height) {\n",
       "        // Keep the size of the canvas, canvas container, and rubber band\n",
       "        // canvas in synch.\n",
       "        canvas_div.css('width', width)\n",
       "        canvas_div.css('height', height)\n",
       "\n",
       "        canvas.attr('width', width * mpl.ratio);\n",
       "        canvas.attr('height', height * mpl.ratio);\n",
       "        canvas.attr('style', 'width: ' + width + 'px; height: ' + height + 'px;');\n",
       "\n",
       "        rubberband.attr('width', width);\n",
       "        rubberband.attr('height', height);\n",
       "    }\n",
       "\n",
       "    // Set the figure to an initial 600x600px, this will subsequently be updated\n",
       "    // upon first draw.\n",
       "    this._resize_canvas(600, 600);\n",
       "\n",
       "    // Disable right mouse context menu.\n",
       "    $(this.rubberband_canvas).bind(\"contextmenu\",function(e){\n",
       "        return false;\n",
       "    });\n",
       "\n",
       "    function set_focus () {\n",
       "        canvas.focus();\n",
       "        canvas_div.focus();\n",
       "    }\n",
       "\n",
       "    window.setTimeout(set_focus, 100);\n",
       "}\n",
       "\n",
       "mpl.figure.prototype._init_toolbar = function() {\n",
       "    var fig = this;\n",
       "\n",
       "    var nav_element = $('<div/>')\n",
       "    nav_element.attr('style', 'width: 100%');\n",
       "    this.root.append(nav_element);\n",
       "\n",
       "    // Define a callback function for later on.\n",
       "    function toolbar_event(event) {\n",
       "        return fig.toolbar_button_onclick(event['data']);\n",
       "    }\n",
       "    function toolbar_mouse_event(event) {\n",
       "        return fig.toolbar_button_onmouseover(event['data']);\n",
       "    }\n",
       "\n",
       "    for(var toolbar_ind in mpl.toolbar_items) {\n",
       "        var name = mpl.toolbar_items[toolbar_ind][0];\n",
       "        var tooltip = mpl.toolbar_items[toolbar_ind][1];\n",
       "        var image = mpl.toolbar_items[toolbar_ind][2];\n",
       "        var method_name = mpl.toolbar_items[toolbar_ind][3];\n",
       "\n",
       "        if (!name) {\n",
       "            // put a spacer in here.\n",
       "            continue;\n",
       "        }\n",
       "        var button = $('<button/>');\n",
       "        button.addClass('ui-button ui-widget ui-state-default ui-corner-all ' +\n",
       "                        'ui-button-icon-only');\n",
       "        button.attr('role', 'button');\n",
       "        button.attr('aria-disabled', 'false');\n",
       "        button.click(method_name, toolbar_event);\n",
       "        button.mouseover(tooltip, toolbar_mouse_event);\n",
       "\n",
       "        var icon_img = $('<span/>');\n",
       "        icon_img.addClass('ui-button-icon-primary ui-icon');\n",
       "        icon_img.addClass(image);\n",
       "        icon_img.addClass('ui-corner-all');\n",
       "\n",
       "        var tooltip_span = $('<span/>');\n",
       "        tooltip_span.addClass('ui-button-text');\n",
       "        tooltip_span.html(tooltip);\n",
       "\n",
       "        button.append(icon_img);\n",
       "        button.append(tooltip_span);\n",
       "\n",
       "        nav_element.append(button);\n",
       "    }\n",
       "\n",
       "    var fmt_picker_span = $('<span/>');\n",
       "\n",
       "    var fmt_picker = $('<select/>');\n",
       "    fmt_picker.addClass('mpl-toolbar-option ui-widget ui-widget-content');\n",
       "    fmt_picker_span.append(fmt_picker);\n",
       "    nav_element.append(fmt_picker_span);\n",
       "    this.format_dropdown = fmt_picker[0];\n",
       "\n",
       "    for (var ind in mpl.extensions) {\n",
       "        var fmt = mpl.extensions[ind];\n",
       "        var option = $(\n",
       "            '<option/>', {selected: fmt === mpl.default_extension}).html(fmt);\n",
       "        fmt_picker.append(option)\n",
       "    }\n",
       "\n",
       "    // Add hover states to the ui-buttons\n",
       "    $( \".ui-button\" ).hover(\n",
       "        function() { $(this).addClass(\"ui-state-hover\");},\n",
       "        function() { $(this).removeClass(\"ui-state-hover\");}\n",
       "    );\n",
       "\n",
       "    var status_bar = $('<span class=\"mpl-message\"/>');\n",
       "    nav_element.append(status_bar);\n",
       "    this.message = status_bar[0];\n",
       "}\n",
       "\n",
       "mpl.figure.prototype.request_resize = function(x_pixels, y_pixels) {\n",
       "    // Request matplotlib to resize the figure. Matplotlib will then trigger a resize in the client,\n",
       "    // which will in turn request a refresh of the image.\n",
       "    this.send_message('resize', {'width': x_pixels, 'height': y_pixels});\n",
       "}\n",
       "\n",
       "mpl.figure.prototype.send_message = function(type, properties) {\n",
       "    properties['type'] = type;\n",
       "    properties['figure_id'] = this.id;\n",
       "    this.ws.send(JSON.stringify(properties));\n",
       "}\n",
       "\n",
       "mpl.figure.prototype.send_draw_message = function() {\n",
       "    if (!this.waiting) {\n",
       "        this.waiting = true;\n",
       "        this.ws.send(JSON.stringify({type: \"draw\", figure_id: this.id}));\n",
       "    }\n",
       "}\n",
       "\n",
       "\n",
       "mpl.figure.prototype.handle_save = function(fig, msg) {\n",
       "    var format_dropdown = fig.format_dropdown;\n",
       "    var format = format_dropdown.options[format_dropdown.selectedIndex].value;\n",
       "    fig.ondownload(fig, format);\n",
       "}\n",
       "\n",
       "\n",
       "mpl.figure.prototype.handle_resize = function(fig, msg) {\n",
       "    var size = msg['size'];\n",
       "    if (size[0] != fig.canvas.width || size[1] != fig.canvas.height) {\n",
       "        fig._resize_canvas(size[0], size[1]);\n",
       "        fig.send_message(\"refresh\", {});\n",
       "    };\n",
       "}\n",
       "\n",
       "mpl.figure.prototype.handle_rubberband = function(fig, msg) {\n",
       "    var x0 = msg['x0'] / mpl.ratio;\n",
       "    var y0 = (fig.canvas.height - msg['y0']) / mpl.ratio;\n",
       "    var x1 = msg['x1'] / mpl.ratio;\n",
       "    var y1 = (fig.canvas.height - msg['y1']) / mpl.ratio;\n",
       "    x0 = Math.floor(x0) + 0.5;\n",
       "    y0 = Math.floor(y0) + 0.5;\n",
       "    x1 = Math.floor(x1) + 0.5;\n",
       "    y1 = Math.floor(y1) + 0.5;\n",
       "    var min_x = Math.min(x0, x1);\n",
       "    var min_y = Math.min(y0, y1);\n",
       "    var width = Math.abs(x1 - x0);\n",
       "    var height = Math.abs(y1 - y0);\n",
       "\n",
       "    fig.rubberband_context.clearRect(\n",
       "        0, 0, fig.canvas.width, fig.canvas.height);\n",
       "\n",
       "    fig.rubberband_context.strokeRect(min_x, min_y, width, height);\n",
       "}\n",
       "\n",
       "mpl.figure.prototype.handle_figure_label = function(fig, msg) {\n",
       "    // Updates the figure title.\n",
       "    fig.header.textContent = msg['label'];\n",
       "}\n",
       "\n",
       "mpl.figure.prototype.handle_cursor = function(fig, msg) {\n",
       "    var cursor = msg['cursor'];\n",
       "    switch(cursor)\n",
       "    {\n",
       "    case 0:\n",
       "        cursor = 'pointer';\n",
       "        break;\n",
       "    case 1:\n",
       "        cursor = 'default';\n",
       "        break;\n",
       "    case 2:\n",
       "        cursor = 'crosshair';\n",
       "        break;\n",
       "    case 3:\n",
       "        cursor = 'move';\n",
       "        break;\n",
       "    }\n",
       "    fig.rubberband_canvas.style.cursor = cursor;\n",
       "}\n",
       "\n",
       "mpl.figure.prototype.handle_message = function(fig, msg) {\n",
       "    fig.message.textContent = msg['message'];\n",
       "}\n",
       "\n",
       "mpl.figure.prototype.handle_draw = function(fig, msg) {\n",
       "    // Request the server to send over a new figure.\n",
       "    fig.send_draw_message();\n",
       "}\n",
       "\n",
       "mpl.figure.prototype.handle_image_mode = function(fig, msg) {\n",
       "    fig.image_mode = msg['mode'];\n",
       "}\n",
       "\n",
       "mpl.figure.prototype.updated_canvas_event = function() {\n",
       "    // Called whenever the canvas gets updated.\n",
       "    this.send_message(\"ack\", {});\n",
       "}\n",
       "\n",
       "// A function to construct a web socket function for onmessage handling.\n",
       "// Called in the figure constructor.\n",
       "mpl.figure.prototype._make_on_message_function = function(fig) {\n",
       "    return function socket_on_message(evt) {\n",
       "        if (evt.data instanceof Blob) {\n",
       "            /* FIXME: We get \"Resource interpreted as Image but\n",
       "             * transferred with MIME type text/plain:\" errors on\n",
       "             * Chrome.  But how to set the MIME type?  It doesn't seem\n",
       "             * to be part of the websocket stream */\n",
       "            evt.data.type = \"image/png\";\n",
       "\n",
       "            /* Free the memory for the previous frames */\n",
       "            if (fig.imageObj.src) {\n",
       "                (window.URL || window.webkitURL).revokeObjectURL(\n",
       "                    fig.imageObj.src);\n",
       "            }\n",
       "\n",
       "            fig.imageObj.src = (window.URL || window.webkitURL).createObjectURL(\n",
       "                evt.data);\n",
       "            fig.updated_canvas_event();\n",
       "            fig.waiting = false;\n",
       "            return;\n",
       "        }\n",
       "        else if (typeof evt.data === 'string' && evt.data.slice(0, 21) == \"data:image/png;base64\") {\n",
       "            fig.imageObj.src = evt.data;\n",
       "            fig.updated_canvas_event();\n",
       "            fig.waiting = false;\n",
       "            return;\n",
       "        }\n",
       "\n",
       "        var msg = JSON.parse(evt.data);\n",
       "        var msg_type = msg['type'];\n",
       "\n",
       "        // Call the  \"handle_{type}\" callback, which takes\n",
       "        // the figure and JSON message as its only arguments.\n",
       "        try {\n",
       "            var callback = fig[\"handle_\" + msg_type];\n",
       "        } catch (e) {\n",
       "            console.log(\"No handler for the '\" + msg_type + \"' message type: \", msg);\n",
       "            return;\n",
       "        }\n",
       "\n",
       "        if (callback) {\n",
       "            try {\n",
       "                // console.log(\"Handling '\" + msg_type + \"' message: \", msg);\n",
       "                callback(fig, msg);\n",
       "            } catch (e) {\n",
       "                console.log(\"Exception inside the 'handler_\" + msg_type + \"' callback:\", e, e.stack, msg);\n",
       "            }\n",
       "        }\n",
       "    };\n",
       "}\n",
       "\n",
       "// from http://stackoverflow.com/questions/1114465/getting-mouse-location-in-canvas\n",
       "mpl.findpos = function(e) {\n",
       "    //this section is from http://www.quirksmode.org/js/events_properties.html\n",
       "    var targ;\n",
       "    if (!e)\n",
       "        e = window.event;\n",
       "    if (e.target)\n",
       "        targ = e.target;\n",
       "    else if (e.srcElement)\n",
       "        targ = e.srcElement;\n",
       "    if (targ.nodeType == 3) // defeat Safari bug\n",
       "        targ = targ.parentNode;\n",
       "\n",
       "    // jQuery normalizes the pageX and pageY\n",
       "    // pageX,Y are the mouse positions relative to the document\n",
       "    // offset() returns the position of the element relative to the document\n",
       "    var x = e.pageX - $(targ).offset().left;\n",
       "    var y = e.pageY - $(targ).offset().top;\n",
       "\n",
       "    return {\"x\": x, \"y\": y};\n",
       "};\n",
       "\n",
       "/*\n",
       " * return a copy of an object with only non-object keys\n",
       " * we need this to avoid circular references\n",
       " * http://stackoverflow.com/a/24161582/3208463\n",
       " */\n",
       "function simpleKeys (original) {\n",
       "  return Object.keys(original).reduce(function (obj, key) {\n",
       "    if (typeof original[key] !== 'object')\n",
       "        obj[key] = original[key]\n",
       "    return obj;\n",
       "  }, {});\n",
       "}\n",
       "\n",
       "mpl.figure.prototype.mouse_event = function(event, name) {\n",
       "    var canvas_pos = mpl.findpos(event)\n",
       "\n",
       "    if (name === 'button_press')\n",
       "    {\n",
       "        this.canvas.focus();\n",
       "        this.canvas_div.focus();\n",
       "    }\n",
       "\n",
       "    var x = canvas_pos.x * mpl.ratio;\n",
       "    var y = canvas_pos.y * mpl.ratio;\n",
       "\n",
       "    this.send_message(name, {x: x, y: y, button: event.button,\n",
       "                             step: event.step,\n",
       "                             guiEvent: simpleKeys(event)});\n",
       "\n",
       "    /* This prevents the web browser from automatically changing to\n",
       "     * the text insertion cursor when the button is pressed.  We want\n",
       "     * to control all of the cursor setting manually through the\n",
       "     * 'cursor' event from matplotlib */\n",
       "    event.preventDefault();\n",
       "    return false;\n",
       "}\n",
       "\n",
       "mpl.figure.prototype._key_event_extra = function(event, name) {\n",
       "    // Handle any extra behaviour associated with a key event\n",
       "}\n",
       "\n",
       "mpl.figure.prototype.key_event = function(event, name) {\n",
       "\n",
       "    // Prevent repeat events\n",
       "    if (name == 'key_press')\n",
       "    {\n",
       "        if (event.which === this._key)\n",
       "            return;\n",
       "        else\n",
       "            this._key = event.which;\n",
       "    }\n",
       "    if (name == 'key_release')\n",
       "        this._key = null;\n",
       "\n",
       "    var value = '';\n",
       "    if (event.ctrlKey && event.which != 17)\n",
       "        value += \"ctrl+\";\n",
       "    if (event.altKey && event.which != 18)\n",
       "        value += \"alt+\";\n",
       "    if (event.shiftKey && event.which != 16)\n",
       "        value += \"shift+\";\n",
       "\n",
       "    value += 'k';\n",
       "    value += event.which.toString();\n",
       "\n",
       "    this._key_event_extra(event, name);\n",
       "\n",
       "    this.send_message(name, {key: value,\n",
       "                             guiEvent: simpleKeys(event)});\n",
       "    return false;\n",
       "}\n",
       "\n",
       "mpl.figure.prototype.toolbar_button_onclick = function(name) {\n",
       "    if (name == 'download') {\n",
       "        this.handle_save(this, null);\n",
       "    } else {\n",
       "        this.send_message(\"toolbar_button\", {name: name});\n",
       "    }\n",
       "};\n",
       "\n",
       "mpl.figure.prototype.toolbar_button_onmouseover = function(tooltip) {\n",
       "    this.message.textContent = tooltip;\n",
       "};\n",
       "mpl.toolbar_items = [[\"Home\", \"Reset original view\", \"fa fa-home icon-home\", \"home\"], [\"Back\", \"Back to  previous view\", \"fa fa-arrow-left icon-arrow-left\", \"back\"], [\"Forward\", \"Forward to next view\", \"fa fa-arrow-right icon-arrow-right\", \"forward\"], [\"\", \"\", \"\", \"\"], [\"Pan\", \"Pan axes with left mouse, zoom with right\", \"fa fa-arrows icon-move\", \"pan\"], [\"Zoom\", \"Zoom to rectangle\", \"fa fa-square-o icon-check-empty\", \"zoom\"], [\"\", \"\", \"\", \"\"], [\"Download\", \"Download plot\", \"fa fa-floppy-o icon-save\", \"download\"]];\n",
       "\n",
       "mpl.extensions = [\"eps\", \"jpeg\", \"pdf\", \"png\", \"ps\", \"raw\", \"svg\", \"tif\"];\n",
       "\n",
       "mpl.default_extension = \"png\";var comm_websocket_adapter = function(comm) {\n",
       "    // Create a \"websocket\"-like object which calls the given IPython comm\n",
       "    // object with the appropriate methods. Currently this is a non binary\n",
       "    // socket, so there is still some room for performance tuning.\n",
       "    var ws = {};\n",
       "\n",
       "    ws.close = function() {\n",
       "        comm.close()\n",
       "    };\n",
       "    ws.send = function(m) {\n",
       "        //console.log('sending', m);\n",
       "        comm.send(m);\n",
       "    };\n",
       "    // Register the callback with on_msg.\n",
       "    comm.on_msg(function(msg) {\n",
       "        //console.log('receiving', msg['content']['data'], msg);\n",
       "        // Pass the mpl event to the overriden (by mpl) onmessage function.\n",
       "        ws.onmessage(msg['content']['data'])\n",
       "    });\n",
       "    return ws;\n",
       "}\n",
       "\n",
       "mpl.mpl_figure_comm = function(comm, msg) {\n",
       "    // This is the function which gets called when the mpl process\n",
       "    // starts-up an IPython Comm through the \"matplotlib\" channel.\n",
       "\n",
       "    var id = msg.content.data.id;\n",
       "    // Get hold of the div created by the display call when the Comm\n",
       "    // socket was opened in Python.\n",
       "    var element = $(\"#\" + id);\n",
       "    var ws_proxy = comm_websocket_adapter(comm)\n",
       "\n",
       "    function ondownload(figure, format) {\n",
       "        window.open(figure.imageObj.src);\n",
       "    }\n",
       "\n",
       "    var fig = new mpl.figure(id, ws_proxy,\n",
       "                           ondownload,\n",
       "                           element.get(0));\n",
       "\n",
       "    // Call onopen now - mpl needs it, as it is assuming we've passed it a real\n",
       "    // web socket which is closed, not our websocket->open comm proxy.\n",
       "    ws_proxy.onopen();\n",
       "\n",
       "    fig.parent_element = element.get(0);\n",
       "    fig.cell_info = mpl.find_output_cell(\"<div id='\" + id + \"'></div>\");\n",
       "    if (!fig.cell_info) {\n",
       "        console.error(\"Failed to find cell for figure\", id, fig);\n",
       "        return;\n",
       "    }\n",
       "\n",
       "    var output_index = fig.cell_info[2]\n",
       "    var cell = fig.cell_info[0];\n",
       "\n",
       "};\n",
       "\n",
       "mpl.figure.prototype.handle_close = function(fig, msg) {\n",
       "    var width = fig.canvas.width/mpl.ratio\n",
       "    fig.root.unbind('remove')\n",
       "\n",
       "    // Update the output cell to use the data from the current canvas.\n",
       "    fig.push_to_output();\n",
       "    var dataURL = fig.canvas.toDataURL();\n",
       "    // Re-enable the keyboard manager in IPython - without this line, in FF,\n",
       "    // the notebook keyboard shortcuts fail.\n",
       "    IPython.keyboard_manager.enable()\n",
       "    $(fig.parent_element).html('<img src=\"' + dataURL + '\" width=\"' + width + '\">');\n",
       "    fig.close_ws(fig, msg);\n",
       "}\n",
       "\n",
       "mpl.figure.prototype.close_ws = function(fig, msg){\n",
       "    fig.send_message('closing', msg);\n",
       "    // fig.ws.close()\n",
       "}\n",
       "\n",
       "mpl.figure.prototype.push_to_output = function(remove_interactive) {\n",
       "    // Turn the data on the canvas into data in the output cell.\n",
       "    var width = this.canvas.width/mpl.ratio\n",
       "    var dataURL = this.canvas.toDataURL();\n",
       "    this.cell_info[1]['text/html'] = '<img src=\"' + dataURL + '\" width=\"' + width + '\">';\n",
       "}\n",
       "\n",
       "mpl.figure.prototype.updated_canvas_event = function() {\n",
       "    // Tell IPython that the notebook contents must change.\n",
       "    IPython.notebook.set_dirty(true);\n",
       "    this.send_message(\"ack\", {});\n",
       "    var fig = this;\n",
       "    // Wait a second, then push the new image to the DOM so\n",
       "    // that it is saved nicely (might be nice to debounce this).\n",
       "    setTimeout(function () { fig.push_to_output() }, 1000);\n",
       "}\n",
       "\n",
       "mpl.figure.prototype._init_toolbar = function() {\n",
       "    var fig = this;\n",
       "\n",
       "    var nav_element = $('<div/>')\n",
       "    nav_element.attr('style', 'width: 100%');\n",
       "    this.root.append(nav_element);\n",
       "\n",
       "    // Define a callback function for later on.\n",
       "    function toolbar_event(event) {\n",
       "        return fig.toolbar_button_onclick(event['data']);\n",
       "    }\n",
       "    function toolbar_mouse_event(event) {\n",
       "        return fig.toolbar_button_onmouseover(event['data']);\n",
       "    }\n",
       "\n",
       "    for(var toolbar_ind in mpl.toolbar_items){\n",
       "        var name = mpl.toolbar_items[toolbar_ind][0];\n",
       "        var tooltip = mpl.toolbar_items[toolbar_ind][1];\n",
       "        var image = mpl.toolbar_items[toolbar_ind][2];\n",
       "        var method_name = mpl.toolbar_items[toolbar_ind][3];\n",
       "\n",
       "        if (!name) { continue; };\n",
       "\n",
       "        var button = $('<button class=\"btn btn-default\" href=\"#\" title=\"' + name + '\"><i class=\"fa ' + image + ' fa-lg\"></i></button>');\n",
       "        button.click(method_name, toolbar_event);\n",
       "        button.mouseover(tooltip, toolbar_mouse_event);\n",
       "        nav_element.append(button);\n",
       "    }\n",
       "\n",
       "    // Add the status bar.\n",
       "    var status_bar = $('<span class=\"mpl-message\" style=\"text-align:right; float: right;\"/>');\n",
       "    nav_element.append(status_bar);\n",
       "    this.message = status_bar[0];\n",
       "\n",
       "    // Add the close button to the window.\n",
       "    var buttongrp = $('<div class=\"btn-group inline pull-right\"></div>');\n",
       "    var button = $('<button class=\"btn btn-mini btn-primary\" href=\"#\" title=\"Stop Interaction\"><i class=\"fa fa-power-off icon-remove icon-large\"></i></button>');\n",
       "    button.click(function (evt) { fig.handle_close(fig, {}); } );\n",
       "    button.mouseover('Stop Interaction', toolbar_mouse_event);\n",
       "    buttongrp.append(button);\n",
       "    var titlebar = this.root.find($('.ui-dialog-titlebar'));\n",
       "    titlebar.prepend(buttongrp);\n",
       "}\n",
       "\n",
       "mpl.figure.prototype._root_extra_style = function(el){\n",
       "    var fig = this\n",
       "    el.on(\"remove\", function(){\n",
       "\tfig.close_ws(fig, {});\n",
       "    });\n",
       "}\n",
       "\n",
       "mpl.figure.prototype._canvas_extra_style = function(el){\n",
       "    // this is important to make the div 'focusable\n",
       "    el.attr('tabindex', 0)\n",
       "    // reach out to IPython and tell the keyboard manager to turn it's self\n",
       "    // off when our div gets focus\n",
       "\n",
       "    // location in version 3\n",
       "    if (IPython.notebook.keyboard_manager) {\n",
       "        IPython.notebook.keyboard_manager.register_events(el);\n",
       "    }\n",
       "    else {\n",
       "        // location in version 2\n",
       "        IPython.keyboard_manager.register_events(el);\n",
       "    }\n",
       "\n",
       "}\n",
       "\n",
       "mpl.figure.prototype._key_event_extra = function(event, name) {\n",
       "    var manager = IPython.notebook.keyboard_manager;\n",
       "    if (!manager)\n",
       "        manager = IPython.keyboard_manager;\n",
       "\n",
       "    // Check for shift+enter\n",
       "    if (event.shiftKey && event.which == 13) {\n",
       "        this.canvas_div.blur();\n",
       "        // select the cell after this one\n",
       "        var index = IPython.notebook.find_cell_index(this.cell_info[0]);\n",
       "        IPython.notebook.select(index + 1);\n",
       "    }\n",
       "}\n",
       "\n",
       "mpl.figure.prototype.handle_save = function(fig, msg) {\n",
       "    fig.ondownload(fig, null);\n",
       "}\n",
       "\n",
       "\n",
       "mpl.find_output_cell = function(html_output) {\n",
       "    // Return the cell and output element which can be found *uniquely* in the notebook.\n",
       "    // Note - this is a bit hacky, but it is done because the \"notebook_saving.Notebook\"\n",
       "    // IPython event is triggered only after the cells have been serialised, which for\n",
       "    // our purposes (turning an active figure into a static one), is too late.\n",
       "    var cells = IPython.notebook.get_cells();\n",
       "    var ncells = cells.length;\n",
       "    for (var i=0; i<ncells; i++) {\n",
       "        var cell = cells[i];\n",
       "        if (cell.cell_type === 'code'){\n",
       "            for (var j=0; j<cell.output_area.outputs.length; j++) {\n",
       "                var data = cell.output_area.outputs[j];\n",
       "                if (data.data) {\n",
       "                    // IPython >= 3 moved mimebundle to data attribute of output\n",
       "                    data = data.data;\n",
       "                }\n",
       "                if (data['text/html'] == html_output) {\n",
       "                    return [cell, data, j];\n",
       "                }\n",
       "            }\n",
       "        }\n",
       "    }\n",
       "}\n",
       "\n",
       "// Register the function which deals with the matplotlib target/channel.\n",
       "// The kernel may be null if the page has been refreshed.\n",
       "if (IPython.notebook.kernel != null) {\n",
       "    IPython.notebook.kernel.comm_manager.register_target('matplotlib', mpl.mpl_figure_comm);\n",
       "}\n"
      ],
      "text/plain": [
       "<IPython.core.display.Javascript object>"
      ]
     },
     "metadata": {},
     "output_type": "display_data"
    },
    {
     "data": {
      "text/html": [
       "<img src=\"data:image/png;base64,iVBORw0KGgoAAAANSUhEUgAAAyAAAAImCAYAAACrXu7BAAAgAElEQVR4nOzdd5RVZbrv+9Xdp+89Z5yz9x73DHv03Vx3g1XzfasKKpCD5IwkARUkgyBBkJwRUQTJWQRJkhERBRQwgIoCgoqIguQkAoIiaiuCUj73D4plLaqAKmDy8Jz+fsb4jta1VsGE6t3vb+5KkQgAAAAAAAAAAAAAAAAAAAAAAAAAAAAAAAAAAAAAAAAAAAAAAAAAAAAAAAAAAAAAAAAAAAAAAAAAAAAAAAAAAAAAAAAAAAAAAAAAAAAAAAAAAAAAAAAAAAAAAAAAAAAAAAAAAAAAAAAAAAAAAAAAAAAAAAAAAAAAAAAAAAAAAAAAAAAAAAAAAAAAAAAAAAAAAAAAAAAAAAAAAAAAAAAAAAAAAAAAAAAAAAAAAAAAAAAAAAAAAAAAAAAAAAAAAAAAAAAAAAAAAAAAAAAAAAAAAAAAAAAAAAAAAAAAAAAAAAAAAAAAAAAAAAAAAAAAAAAAAAAAAAAAAAAAAAAAAAAAAAAAAAAAAAAAAAAAAAAAAAAAAAAAAAAAAAAAAAAAAAAAAAAAAAAAAAAAAAAAAAAAAAAAAAAA4F9MhcR6QpSbTm/bQpSrzv/wLVGu0z4fAQAh0R6zZC/tMUv20h6yZDPt8xEAEBLtMUv20h6zZC/tIUs20z4fAQAh0R6zZC/tMUv20h6yZDPt8xEAEBLtMUv20h6zZC/tIUs20z4fAQAh0R6zZC/tMUv20h6yZDPt8xEAEBLtMUv20h6zZC/tIUs20z4fAQAh0R6zZC/tMUv20h6yZDPt8xEAEBLtMUv20h6zZC/tIUs20z4fAQAh0R6zZC/tMUv20h6yZDPt8xEAEBLtMUv20h6zZC/tIUs20z4fAQAh0R6zZC/tMUv20h6yZDPt8xEAEBLtMUv20h6zZC/tIUs20z4fAQAh0R6zZC/tMUv20h6yZDPt8xEAEBLtMUv20h6zZC/tIUs20z4fAQAh0R6zZC/tMUv20h6yZDPt8xEAEBLtMUv20h6zZC/tIUs20z4fAQAh0R6zZC/tMUv20h6yZDPt8xEAEBLtMUv20h6zZC/tIUs20z4fAQAh0R6zZC/tMUv20h6yZDPt8xEAEBLtMUv20h6zZC/tIUs20z4fAQAh0R6zZC/tMUv20h6yZDPt8xEAEBLtMUv20h6zZC/tIUs20z4fAQAh0R6zZC/tMUv20h6yZDPt8xEAEBLtMUv20h6zZC/tIUs20z4fAQAh0R6zZC/tMUv20h6yZDPt8xEAEBLtMUv20h6zZC/tIUs20z4fAQAh0R6zZC/tMUv20h6yZDPt8xEAEBLtMUv20h6zZC/tIUs20z4fAQAh0R6zZC/tMUv20h6yZDPt8xEAEBLtMUv20h6zZC/tIUs20z4fAQAh0R6zZC/tMUv20h6yZDPt8xEAEBLtMUv20h6zZC/tIUs20z4fAQAh0R6zZC/tMUv20h6yZDPt8xEAEBLtMUv20h6zZC/tIUs20z4fAQAh0R6zZC/tMUv20h6yZDPt8xEAEBLtMUv20h6zZC/tIUs20z4fAQAh0R6zZC/tMUv20h6yZDPt8xEAEBLtMUv20h6zZC/tIUs20z4fAQAh0R6zZC/tMUv20h6yZDPt8xEAEBLtMUv20h6zZC/tIUs20z4fAQAh0R6zZC/tMUv20h6yZDPt8xEAEBLtMUv20h6zZC/tIUs20z4fAQAh0R6zZC/tMUv20h6yZDPt8xEAEBLtMUv20h6zZC/tIUs20z4fAQAh0R6zZC/tMUv20h6yZDPt8xEAEBLtMUv20h6zZC/tIUs20z4fAQAh0R6zZC/tMUv20h6yZDPt8xEAEBLtMUv20h6zZC/tIUs20z4fAQAh0R6zZC/tMUv20h6yZDPt8xEAEBLtMUv20h6zZC/tIUs20z4fAQAh0R6zZC/tMUv20h6yZDPt8xEAEBLtMUv20h6zZC/tIUs20z4fAQAh0R6zZC/tMUv20h6yZDPt8xEAEBLtMUv20h6zZC/tIUs20z4fAQAh0R6zZC/tMUv20h6yZDPt8xEAEBLtMUv20h6zZC/tIUs20z4fAQAh0R6zZC/tMUv20h6yZDPt8xEAEBLtMUv20h6zZC/tIUs20z4fAQAh0R6zZC/tMUv20h6yZDPt8xEAEBLtMUv20h6zZC/tIUs20z4fAQAh0R6zZC/tMUv20h6yZDPt8xEAEBLtMUv20h6zZC/tIUs20z4fAQAh0R6zOWnG+AUiInJw75Frvvb5yYslO+fPnVe59gEdh8menfvl/Lnz8vWxUzLnmRekUoEGMa/p0myAbFi3RU4e/0bOnzsvp099J1ve2yqdG/dT/7u3dAOyadkSeahxIylSqJCkJCdLjUoVZerTQ675di88M0FqV6sqyQUKSPEiRaRH+7ZyYP1alT/D8hlTo9dStlQpGdG/j5z8eFPMa16fN1u6t2srlcuXk5TkZKlQprT0bP+w7Hn7DfX3ATcgse385EPp1LG9VKxQQVJTUqR4sWLyYKMH5I1Xl0df88uZU7JkwVxp1+YhKVumjKSlpkrNGtVl0rjR8uOpY+p/Bm5AAAA3nfaYvVb3l28jZ3/+Rc7+dDZXNyBjB0+Vob3HRxvSY8wtv/Y+Dw+R9PR02frBZzJ60BRZNu9VuXDhgixfvCbmdaMee0bef2uzzBi/QEYNnCzPjnxe9n1xUC5cuCC92z6p/j6wcAOyes5MKZA/v9SveY88M/QJmT1mhDzVu4c82bPbVd9uxshh4r2XJg3qy/QRw2Ron56SmpIsNatUluNb3r+lf4bXZk+XhIQEaVz/Xpk9ZoQM7NJJEhMSpG+nDjGvq1ujulQoU1qG9Oouz48ZKUP79JSCaalSslgx2fvO7XkToj1ktXpr9Upp3aK5TBgzUhbOmSWzpk2RBxs9IN57WfD8TDn/w7dy5sSX4r2X+++rL5PHj5GFc2ZJn57dJTExUZo2flDOff+N+p+DGxAAwE2lPWav1bpV78nWTdtl25bPc3UDUrdk89CuqWvzgSIi0qjSw1d93aF9R2TfFwdjPuIxb+qLkp6eLs3v6XTVt61esGH0IyHa74Pb/Qbky43vSslixeThpk3km60f5Pjtvv5ooxQpVFAa3ltHvv1kc/TxFTOnifdepj391E25vrcWzBHvvex447Wrvq56pYpSq2qVmI94PN23lyQkJMjW116JPrZ24dwsf861C+eK916e7ttL/f3BDcjVO/vdSalTq5ZUq1pFzv/wrfz07QnZ8t47WV43Ycwo8d7Lu2+uUb9mrbTPRwBASLTH7NXq0myAXPjtgrSu0yXXNyD3lmohNYs0vuprq6bcL3OeeUG+Onxczp//VU4e/0YWz3xZqqbcf8M3IC1rdRYRkfFPTot5/L6yrUVEZOaEBdf8sxzYc1h2frpb/f1wu9+AzBj1tHjvZeurL8vpbVvkqw/W5+hGZNOyJeK9l+kjhmV5rmBqqtxXu1bMYyc+3CAj+veRimXLSIH8+aVMqZLyZM9ucuLDDTd8A/Lxqy9ney27170u3nsZ81j/a/55ihYuLO2aNVF/f3ADcu0efqi1lCpZ8qqv+XzrFvHey+zpU9WvVyvt8xEA/uXlyZPnDudcH+/9K865D5xzH2T8c+8gCP52vb+u9pi9UpXyN5D9uw7KisWvS4XEerm+Afn5p7MiInL2p7Py5op3pX7pljGvq5hUXz58/xM5+/Mv8uKcFTJm0BRZNv81+e3X3+T9tzbf8A3I0F7jRESkwwO9szx38vg3sv6NTVker1mksdQt2Vya39NJFkxbKiIi86cuVX9f3O43IO2bN5VCaWmyZu4sqVK+nHjvJS0lRfp26nDVT6N6d8kC8d7L3HGjszxXomgRSUlOjt7IfLP1A2l+/32SmpIsg7o9KrNGD5cBj3aSpKQkadvkwRu+AVk0aZx47+W9pYuyPFemVMlr3lgc/WC9FMifX3p3bK/+/uAGJGtnvj4qXx/ZL/t3fiozpj4jSUlJ0u3Rzld9m3feXC3ee3nlxUXq16/VzTxDAQC5FBcXV8x7/51z7ivn3Bzn3MiM5jjnjnrvT8fFxRW9nl9be8xeqQlDnpN//vCT3FuqRa5uQCYPmynL5r8mT/UcK48/OkKWzl0pv/36m3x56FjMR0SG9h4vFy5ckM5N+se8/djHnxURkU4P9r2hG5BnRz4vIiIPVGiT5bkvtu+VHduyfmRjy3tb//ii+fO/yorFr0vV1AfU3xe3+w1IzSqVJTUlWVJTkmVgl06ybNozMrBLJ/HeS6dWLa74dgfWr5WEhATp2f7hmMc/WbVcvPfivZeD7138YvSFk8ZJYkKCvL14XsxrZ44aLt57eeeF+Td0AzJpyOPivZcv3lqd5bl776khDWrVvOrfwZjH+ov3Xt6YP1v9/cENSNYG9usT/e9UYmKidOrYXk4dPXjVt2nRrKkULlRIvvnqkPr1a3Wzz1IAQC445zY7556LRCJ/yubpPznnnnPOfXA9v7b2mM2uuiWby/dnfpQpI2ZHH8vpDUh2PdVzrIiIPDdmXvSxDWu3yMG9R6RuyeYxNa3eUUREZoz/41OkahVtEvOagY88LSIibet3j3m8RuEHo28za+JCERGpd3fLLNfz6Uc7ZN8XB7M83qZeN+n50GAZOWCyfPrhDln90tqYX/N2SXvMXl7FsmXEe5/li7X7PNJBvPfy6eoVV3zbR1o2l6SkJJk8ZLB89vqrsm7RPKlVtYrkT0oS773sWrtGTm/bIm2aPCg1KlWUA+vXxvTp6hXivZexgwZEf80jG9+Jec0r058V771senlJzONHP1gffZvRGTcQ+959M8s1NqxbR2pVrXLFP8PahXMlKSlJOrZsrv6+4AYk+3Zt/1jefXONLF00X9o+1Eo6tntYjh3ce8XXPzNhrHjvZd6s6erXrtmNnZwAgBvinPslX758iVd6Pl++fInOuV+u59fWHrPZtXzxGjl6+JhUyfS1GDdyA1IhsZ58e+q0fLzp0+i/H9r3ZbbfrveSl+a+GvN758Sal9dF3+Z6PgKSuSop98vBvUfk3dc3qr8/bvcbkBqVKor3XtYunJtlmHvvZf6EsVd82yMb35E2TR6M/n+nvffSpU1radesiXjv5fCGt+X0ti1SrWKFmNdc3mNdO0d/zUb16l71tZfq9vBD0be53o+AbH3tFSlauLDUqlZVvtz0rvr7ghuQnNWyeVNpUO/ebL/D1YqlL0hCQoL0691T/Tq1u/5TEwBww7z3h7z3La7yfAvv/eHr+bW1x+zlNa3eUS5cuCATn5oujSo9HG3np7vlyMGvpFGlh6VOiWa5/nW/2L5X9uzcH/33IweOyv7dh6RH68ezrXmNR6KvbdegR8xzU0bMFhGRob3GxTzeslbn6Ntcz9eAXN6CaUslPT1dqqU1VH+/3M43IM3ubyDee/lk1fIs49x7L88Ou/bPAtn51ipZu3Cu7HhzlZzetkUa1K4pJYoWiT5fpUJ5uadKZVkzd1a2Zf69Ny57Iea5yUMGi/deFk0aF/P4xxlfNH962/V9DcgXb62WsqVKSYUypW/rnwHCDUjWFjw/U7z3snv71pjH33lztRQoUEAefqi1/Hz6a/Xr1O66D00AwI0LgqCTc+6cc25iEAR1nXMlnHMlMv55onPubBAEj1zPr609Zi/v0tdXXM3SuStz/et+9+338uH7n0T//YN3P5JTJ765oWu82teAtKr9qIhc+btgzZq48Jq/z4tzVlzx07i4Afmjp3r3yPbrH96YP/vi8J88Ple/3uENb0uB/PmlU+uW0cdaNXpASpcsEfPtenNaTr4G5KOVy676XbBGX/ZdsA6+t1aqVqggJYoVveqnmN0uaQ/Z261Z06aI914+3vRe9LGPNq6XtLQ0aXj/ffLDyX/tH0B4qZt9lgIAcik+Pr6Rc26z9/4359zvzrnfM/55cxAEDa/319Ues5dXt2RzGdjp6Swd3HtEThw7KQM7PS2t63SRCon1pGHFtll+nsalL1rP3Pgnp4mIyDPDZ0UfG953ooiIjBk0Jcvrq6U1lBqFGt3QDUiFxHpyeP/Riz8HJP8fPwdk7rNLJD09XVrU/OOjJdndYNQq1kS+PnZKvj52Sv19crvfgGx6+eK30+2c6Ybh9LYt0ql1S0lKSpLd616X09sufpQj88/TuFJ9O3WQxIQEeX/p4uhj8yaMEe+9zBo9PMvrj215X77K9PUc13MDcnrbFqlaoYLUqlpFTmX6FsJP9+t98eeAZPpoyVcfrJd6NWtIwbRU2bjsBfW/f25ArtzxQ1m/zuOn01/LvXXrSGpKipw58aWc/+Fb2fXpx1K8WDGpWaP6Nb84/V+pm3mGAgBuzF/z5s37n3nz5v3PSCTy1xv9xbTHbE7L7mtALn1tRubHfjl7TlYvWytThs+W8U9Ok7Wvrpf09HTZu/OAVC/4x6cyVUyqLx+8+5Gkp6fL2tfekwlDnpPJw2bK8sVr5PszP0q7+3re8A1Ivw5DL/4k9E3bZfSgKfLS3Is/Cf3VJW/EvG7Pjv2yYe0WmTFuvox67BmZO2WJnDz+jVy4cEEe7zJS/e/+dr8BOb1ti/Ro31a899KxZXOZPmKYdGjRTLz3MrRPz+hrLn1tRua3Gz/4MXn0oVYy7emnZMbIYdL8/vuyfFH56W0Xvw1vq0YPSEJCgnRq1UKmDR8qzw4bIn07dZCihQvLhpcWX/HacnoDsmLmtIs/Cb1BPZk9ZoQ81rWzJCYkSO+O7WJe1zbja1Z6tG8rCyeNi+nl6VPU3xfcgPxRh3ZtpXmTxjJhzEhZNHe2TBo3WqpXq3rxo13PTpbzP3wr3x0/IuXKlpXExER5dtJ4eWnxgpi2vJ/1hxT+q3QTzksAwO1Ie8ze7BuQV198Uw7tOyI//fNn+fX8r3L08DFZOH2Z3JPNd5OqnHyfTBs9Rw7uPSLnz52XH878KLs/3yezJy266g8xzOkNSIXEejKw09Oyd+cBOX/uvJw8/o3MfXaJVE6+L+Y1E4Y8J9s/2ilnTn8vv/36m3z37feyYd0WebRp/2v++tyAXOzkRxtl1IC+Uq703ZI/KUkqlSsrU4Y+GfOa7G5AVs56LvrRhNSUZGlQq6a8+OykK/4eE58YJDUqVZTkAgWkSKFCUrdGdRk1sJ98ufHKXwCe0xuQ09u2yMvTp0italUluUABKVOqpDzdr7ec/GhjzGvKlb77il/YXq703ervC25A/mj50sXSollTKVWypORPSpKiRYtIi2ZN5fWVr0Rfc3DX51f9ZgW9undT/3NwAwIAuKm0xyzZS3vMkr20hyzZTPt8BACERHvMkr20xyzZS3vIks20z0cAQEi0xyzZS3vMkr20hyzZTPt8BACERHvMkr20xyzZS3vIks20z0cAQEi0xyzZS3vMkr20hyzZTPt8BACERHvMkr20xyzZS3vIks20z0cAQEi0xyzZS3vMkr20hyzZTPt8BACERHvMkr20xyzZS3vIks20z0cAQEi0xyzZS3vMkr20hyzZTPt8BACERHvMkr20xyzZS3vIks20z0cAQEi0xyzZS3vMkr20hyzZTPt8BACERHvMkr20xyzZS3vIks20z0cAQEi0xyzZS3vMkr20hyzZTPt8BACERHvMkr20xyzZS3vIks20z0cAQEi0xyzZS3vMkr20hyzZTPt8BACERHvMkr20xyzZS3vIks20z0cAQEi0xyzZS3vMkr20hyzZTPt8BACERHvMkr20xyzZS3vIks20z0cAQEi0xyzZS3vMkr20hyzZTPt8BACERHvMkr20xyzZS3vIks20z0cAQEi0xyzZS3vMkr20hyzZTPt8BACERHvMkr20xyzZS3vIks20z0cAQEi0xyzZS3vMkr20hyzZTPt8BACERHvMkr20xyzZS3vIks20z0cAQEi0xyzZS3vMkr20hyzZTPt8BACERHvMkr20xyzZS3vIks20z0cAQEi0xyzZS3vMkr20hyzZTPt8BACERHvMkr20xyzZS3vIks20z0cAQEi0xyzZS3vMkr20hyzZTPt8BACERHvMkr20xyzZS3vIks20z0cAQEi0xyzZS3vMkr20hyzZTPt8BACERHvMkr20xyzZS3vIks20z0cAQEi0xyzZS3vMkr20hyzZTPt8BACERHvMkr20xyzZS3vIks20z0cAQEi0xyzZS3vMkr20hyzZTPt8BACERHvMkr20xyzZS3vIks20z0cAQEi0xyzZS3vMkr20hyzZTPt8BACERHvMkr20xyzZS3vIks20z0cAQEi0xyzZS3vMkr20hyzZTPt8BACERHvMkr20xyzZS3vIks20z0cAQEi0xyzZS3vMkr20hyzZTPt8BACERHvMkr20xyzZS3vIks20z0cAQEi0xyzZS3vMkr20hyzZTPt8BACERHvMkr20xyzZS3vIks20z0cAQEi0xyzZS3vMkr20hyzZTPt8BACERHvMkr20xyzZS3vIks20z0cAQEi0xyzZS3vMkr20hyzZTPt8BACERHvMkr20xyzZS3vIks20z0cAQEi0xyzZS3vMkr20hyzZTPt8BACERHvMkr20xyzZS3vIks20z0cAQEi0xyzZS3vMkr20hyzZTPt8BACERHvMkr20xyzZS3vIks20z0cAQEi0xyzZS3vMkr20hyzZTPt8BACERHvMkr20xyzZS3vIks20z0cAQEi0xyzZS3vMkr20hyzZTPt8BACERHvMkr20xyzZS3vIks20z0cAQEi0xyzZS3vMkr20hyzZTPt8BACERHvMkr20xyzZS3vIks20z0cAQEi0xyzZS3vMkr20hyzZTPt8BACERHvMkr20xyzZS3vIks20z0cAQEi0xyzZS3vMkr20hyzZTPt8BACERHvMkr20xyzZS3vIks20z0cAQEi0xyzZS3vMkr20hyzZTPt8BACERHvMkr20xyzZS3vIks20z0cAQEi0xyzZS3vMkr20hyzZTPt8BACERHvMkr20xyzZS3vIks20z0cAQEiOrl4jRLkp5R/liHLVT0f3E+U67fMRABAS7TFL9tIes2Qv7SFLNtM+HwEAIdEes2Qv7TFL9tIesmQz7fMRABAS7TFL9tIes2Qv7SFLNtM+HwEAIdEes2Qv7TFL9tIesmQz7fMRABAS7TFL9tIes2Qv7SFLNtM+HwEAIdEes2Qv7TFL9tIesmQz7fMRABAS7TFL9tIes2Qv7SFLNtM+HwEAIdEes2Qv7TFL9tIesmQz7fMRABAS7TFL9tIes2Qv7SFLNtM+HwEAIdEes2Qv7TFL9tIesmQz7fMRABAS7TFL9tIes2Qv7SFLNtM+HwEAIdEes2Qv7TFL9tIesmQz7fMRABAS7TFL9tIes2Qv7SFLNtM+HwHABO/9P733P+Yk59wP2tcbiXADQrlPe8ySvbSHLNlM+3wEABO8908EQTA4p2lfbyTCDQjlPu0xS/bSHrJkM+3zEQAQEu0xS/bSHrNkL+0hSzbTPh8BwLT4+Pj/io+Pv/vvf//7/9S+lstpj1myl/aYJXtpD1mymfb5CAAmee/bee+POed+d86lB0FQOOPxV5xzXbWvLxLhBoRyn/aYJXtpD1mymfb5CADmBEHQzXt/3ns/3HtfxTn3+6UbEOdcV+/9Bu1rjES4AaHcpz1myV7aQ5Zspn0+AoA5zrkDzrnHMv71L5lvQOLj42t4779RvLwo7TFL9tIes2Qv7SFLNtM+HwHAHOfcufj4+EoZ/xpzAxIXF1fZOfeL4uVFaY9Zspf2mCV7aQ9Zspn2+QgA5njv9wRB0C/jX2NuQLz3A7z32xUvL0p7zJK9tMcs2Ut7yJLNtM9HADDHOdfLe/9TEARt/vGPf/w/GV+IXsI5V8s5dyYIgke0rzES4QaEcp/2mCV7aQ9Zspn2+QgAJjnnJjnn0p1zFzJuQC5kNEn72i7RHrNkL+0xS/bSHrJkM+3zEQDMCoIg3jnX3ns/wDnXIS4uzmlfU2baY5bspT1myV7aQ5Zspn0+AgBCoj1myV7aY5bspT1kyWba5yMAWPVX7/3D3vuZzrlV3vuZQRC0jUQif9W+sEu0xyzZS3vMkr20hyzZTPt8BABz4uLivPf+YMbXfGz13q92zm11zl3w3h+66667ErSvMRLhBoRyn/aYJXtpD1mymfb5CADmOOfe8d7vDoIgPvPj8fHxgfd+l/f+ba1ry0x7zJK9tMcs2Ut7yJLNtM9HADDHOXfWOXdfds8FQfCAc+7srb6m7GiPWbKX9pgle2kPWbKZ9vkIAOY45/Y75xpk91wQBPd77w/e6mvKjvaYJXtpj1myl/aQJZtpn48AYE4QBM2dczu993GZH/fex2U83lLr2jLTHrNkL+0xS/bSHrJkM+3zEQBMcM6tzJz3/pj3/jfn3Dbn3BvOuW0Z//6Vc26l9vVGItyAUO7THrNkL+0hSzbTPh8BwATn3LvOuXdymvb1RiLcgFDu0x6zZC/tIUs20z4fAQAh0R6zZC/tMUv20h6yZDPt8xEAEBLtMUv20h6zZC/tIUs20z4fAcCqP3vvqwRB8EgQBD0uT/viIhFuQCj3aY9Zspf2kCWbaZ+PAGBOvnz5/l/v/W7n3O/OufSM/7z0z+nOuXTta4xEuAGh3Kc9Zsle2kOWbKZ9PgKAOc65Rd77jd77/88593tcXFyxuLi4f3jvB2T3E9K1aI9Zspf2mCV7aQ9Zspn2+QgA5mR8q90GkUjkz8653733xTM9N9B7v0bx8qK0xyzZS3vMkr20hyzZTPt8BABzvPf/9N6XjUQiEefc98652peei4+Pr+S9/6fe1f1Be8ySvbTHLNlLe8iSzbTPRwAwx3v/WRAEDTP+eaP3fsml54IgmOycO6J3dX/QHrNkL+0xS/bSHrJkM+3zEQDM8d4P997PjEQikfj4+Hu897865055749lfBF6L+1rjES4AaHcpz1myV7aQ5Zspn0+AoB5cXFxRchUcy0AACAASURBVIMgGOa9HxcfH3+P9vVcoj1myV7aY5bspT1kyWba5yMAICTaY5bspT1myV7aQ5Zspn0+AoAJd9555//OTdrXG4lwA0K5T3vMkr20hyzZTPt8BAATLv9Bg9dK+3ojEW5AKPdpj1myl/aQJZtpn48AYIJzrpX3vmVO077eSIQbEMp92mOW7KU9ZMlm2ucjACAk2mOW7KU9Zsle2kOWbKZ9PgIAQqI9Zsle2mOW7KU9ZMlm2ucjACAk2mOW7KU9Zsle2kOWbKZ9PgIAQqI9Zsle2mOW7KU9ZMlm2ucjACAk2mOW7KU9Zsle2kOWbKZ9PgIAQqI9Zsle2mOW7KU9ZMlm2ucjACAk2mOW7KU9Zsle2kOWbKZ9PgKACfwgQvpXSHvMkr20hyzZTPt8BAATgiDo5pzr6pzr6r3v6Zw76pw74L0f65zr470f570/6Jw7GgRBD+3rjUS4AaHcpz1myV7aQ5Zspn0+AoA5zrmRzrmVkUjkz5c99Wfn3KvOudEa13U57TFL9tIes2Qv7SFLNtM+HwHAHOfcyfj4+BrZPRcfH3+Pc+7Urb6m7GiPWbKX9pgle2kPWbKZ9vkIAOZ47390znXI7rkgCDp673+81deUHe0xS/bSHrNkL+0hSzbTPh8BwBzv/Tzn3A/e+5ZxcXH/EYlEInFxcf/hnGvlnPveez9P+xojEW5AKPdpj1myl/aQJZtpn48AYM4dd9zxb865lzJ916tzGf/5u3NuWRAE/659jZHI7XkDsveV5fLUo49K07p1pUjBguK9lxmDn8jR2366+AV5vGNHeaBmTUlLSRHvvbw6cZLan2XD7Oelad26kpqcLEUKFpRHmjSRz19cGvOabYtfkI6NG0ul0mUkLSVFCqWmSZ0qVWTmE0/Kl6tWq78/LN6ATBo1XURE9u0+kKPXt23cXbZs+kS+O31Gfvj+R/ls2xfSv+tQlWt/9KF+8sXne+TcL+fk+Fdfy9Txz0vBuyrGvKbV/Z3lnTc3yIljJ+XcL+fkm5PfyoZ3NkvzBo+o/91buQHZ/v46eaTtQ1KxfDlJTUmR4kWLSqP76suqJQuv+bbrVrwkvbp0kioVK0hqSopULF9O+nTtLIc+/VDlz/LZhrelZdPGkpaaKkWLFJZuj7SXo59vjXnN5xvfkaGP9Zfa99SQgmlpcnfJEvJQ86by4drV6u8LbkAA4CZzziV571sGQdDXe9/COZekfU2ZaY/Z7Ppo/gLx3kuZEiXkgZo1c3UD8urESeK9l4qlS0u9atVUb0A+WbRYihUqJBXuvlsm9u0nI7p3lyIFC8o9FSrKwZWvRl/37syZ8sA9NeWJTp3k2YGPyeT+/aVVgwbivZfBjzyi/v6wdgNSpfh9cvbns/LzTz/n6Abk0Yf6SXp6unzy0WcybNB4GfrYOPnog20iIjLyycm39No7tugt6enpsmXjVnmizyhZMPsluXDhgiyZtzzmdYP7jJR1r78nk0ZNl8d7j5AxQ6fIrh175cKFC9KheS/194GFG5DXX1osLZs2lrHDnpR5056R6RPGSKP76ov3XuZOnXzVt723dk2pWL6cDBs0QOZPe0aGD35MChVMk1IlSsjh7bf2JuTAJ5uleLGiUqlCeZkxcaxMHDFMihYpLLXvqSFnDu6Kvu6pgf2kSOHC0qdrZ5k7dbJMGTNCKlUoL0mJibJu+VL19wc3IADwL0R7zGbXgZWvyvYXlsjR1Wtk7bTncnUDsuflV2Tn0pfk6Oo1suDp4aHdgOTkmnq1bi0pBQrIxwsXRh9bPn6CeO9l6mODrvl7tKhfX1KTk+Xwa6vU3yeWbkBWr1grmzd8LB9u+iRHNyAb138oX584JYWDytHHCt5VUY4cOiq7d+67KdfUumEXERGpfnfDq75u356DsmvH3piPeDw3aa6kp6dLnYrNrvq2xXzV6EdCtN8HFm5AsuuHw3uk9j01pFrlSld93fpVr8iPR/Zmecx7LyOfHHTTrsd7L4tmTL3qawb26i6pKSmy7+NN0cfWLV+a5Ubqw3Vr5NTez2Pe9qsdn0iJ4sWkYYN66n/33IAAwM3zV+dcB+fcLOfcm3FxcS4SiUTi4+Mb3S4fCdEes9cqtzcgmcvJDcjsIUOkVqVKklyggBQpWFDaNWokWxcuuik3IMULF5aHGzbM8nil0mXkwdq1r/l79GnTRhISEmT/8hXq7wcrNyCt7u8sv/32mzSo2irHNyDbt+7I9nXbt+6Q7Vt3xDxWOKgsU8c/L0cOHZXz587LiWMnZfbURTE3L9d7A3Jv5eYiIjJ04LiYxysVrS8iIpNGz7jmn2XvrgNZrvl2SHvI5qY2LZpJqRIlruttixUpIh3atMry+JLZ06VurZqSkpwsRYsUls7t2sr+rR/clBuQksWLS6eHH8ryeNVKFaXZgw2v+Xt0aNNKihUpov73zg0IANwE3vs47/3BjO+Gtd45lx4EQeGM56Y4557XvsZI5F/7BmREt+6SkJAg7Ro1kikDBsqwLl2lWKFCUq5kSdn10rIbugH5ZNFi8d7L6J69sjz3SJMmUqRgwSyP71++Qna8uFQ+mr9AZj7xpKQmJ0v96tXV3wdWbkDS8lWQ3Tv3yZL5Fz9dKac3IDOnLBARkWkT50jNso3lnjIPyuQxM+W3336Tbu0GRl+Xmre8bHh3i5z9+azMm7FEnug7WhY+v0x+/fU3Wff6ezd8A9K3yxAREWlcp12W504cOylvrX43y+Ml89eQsml1pE7FZjJj8nwREZk+eZ76+8LSDcg3e3fI0R1bZdeW92Xa+NGSlJgoXTu2y/Wvc2rv51KgQH7p171rzOMTRgyVhIQE6dyurTw/ZaKMGzZEihcrKhXKlZUTuz69oRuQg59sFu+9PDN6eJbnuj3SPkc3Fg/Uv1eqVqqo/n7gBgQAbgLn3GvOuS158uS5IxKJ/Dfn3O+XbkCCIGjonDtwM3+/+Pj4/3LOzc7t22mPWa0bkI8XLJTExEQZ0b17zOPvzZolSdk8ntsbkEvXPfvJIVmee6xDB/Hey4FMXwdydPUaGdWjh3jvoz1Yu3aOPhrDDcjFhj42Tn74/kcpV7BOrm5AiidUkzUr10l6erpccvbns/Jom/4xr+vX9Sm5cOGCtGjQKebxJ/uNFhGRZvU73tANyJihU0REpEqJ+7I899m2L+TTbD6yseGdzdFrPn/uvCyZv1yKuCrq7wtLNyD9e3SN/t9cYmKiPNL2ITn+xbZc/zoThj8l3nt5e+VL0cf2frxRkhITZeKIYTGv/fS9tZI/KSnL47m9Aflw7Wrx3ssLs5/L8tzQx/qL916+O7Drim//3qrlkpCQIKOHDFZ/P3ADAgA3gff+pyAI6mT8618y34A458o5587e5N8vzTmXntu30x6zWjcg4/v0kYSEBNk8d57seHFpTFXKlo35FKl9GR+ZyJz3Xib37x/z2BeZPmqyavIz4r2X+cOezvJ7D+n8qHjvs3yU5eMFC2X5+Aky96mh0rFxY3mwdm3ZNGeu+vvAwg1ImdTacua772X0U89EH8vpDUjBuyrKtIlz5PVX35benZ6Qvl2GyEcfbJOf/vmzNL23Q/R1b7/xvuzbfUDKptWJqVa5xhc/RWrU9OhrSxW4J+Y1j7bpLyIiD9zTJubx4onVo28zecxMEREpX6hulmv8ePOnsmvH3iyP31/jIXm4SQ8Z1GuEfPTBNnl5yaqYX/N2SXvIXq3PN74j65YvlRdmPScPNW8q7R9qJUe2f5SrX2P9qlckf1KSdGrXJubxaeNHS0JCgnyx+T05umNrTNWrVJbmmT5F6pt9O7K8xnsvMyePj3ks883Re6uWi/deXp4/O8s1jR4yWLz3V/woy5effSxlS98tlcqXy/K1IbdLN/OMBIB/Cc6574MgqJvxr3+57CMgD+T2J6EHQVD3GnXjBiTnNyC9WreO+WjD5dWoUCH62qGPdrnqay9VtkTJLNedm4+AXF73li2lTPHifA1IDloyb7kcPnhUCsVXyvUNyJL5y2XXjr2Smrd89LFCcRXl0IEv5bNPdkYf27/3kFzNgllLY37vnFj+4uro21zPR0AyVyi+kuzbfUDeXPWO+vvD0g3I5bVo3Ejq16kt//xyX45vYIoVKSJ1ataQk3s+i3luYK/uV/3fjFo1qkdfO2boEzn635nyZctE3+Z6PwLyzd4dUr9ObSlcqJB8+t5a9b9zbkAA4CZxzq1wzq2PRCJ/jfxxA1IoEon8yTn3lnNucS5/vd8z/RyRK8UNSA5vQHq0aiUJCQny8thxsnz8hCy98ezU6Gu3zJuf5XnvvTzWoUPMY2uemRJ9m+v5GpDLe2Xc+Iv/382x49TfD7fzDUitco3lwoUL8vTjE6T63Q2jbd+6Qw7tPyLV724opVNqXXG0//rrb9l+3cSCWUvlwoUL0Zuag/sOy54v9kvbxt2zrU6FptG3bVizbcxzo596RkRE+nYZEvP4vZWbR9/mer4G5PJmTJ4v6enpUvQ2+zQs7SGbm+ZOnSzee9mx6d1rvnb/1g+kXJnSUrF8uWx/Bkj/Hl0lISFB3nx5iaxbvjRLm954Lfra3Vvez/K8916GPtY/5rENa1ZE3+Z6vgbkzMFd0qLJg5JcoICsf+0V9b9vbkAA4CbKly9fovf+O+fcPu/9WOdcuvd+pnNus/f+dBAE8bn59bz3x4IguPdKzzvnCnIDkvMbkDG9eon3/ro/xelGvwtWo1q1rvl7vDBy1BU/jYsbkD+69PUVVzN/5ovZvm3FovVERGTmlAVZnnth3isiItExv37dJvn6+MkbusarfQ1IvcotROTK3wVr8piZ1/x95s1YcsVP4+IGJGdNnzBGvPey+a1VV33dVzs+kWpVKkvJ4sXliw/WZ/uaKWNGiPdedubgZia7cvJdsEoUL3bF74LVtNEDMY/9eGSvdG7XVpISE2XFornqf9fcgABACPLmzXtXEARzvffHvfe/Oue+ds4tyO3NRyQSiTjnVjrnhlzp+YyvAfk9t7+u9pi9kRuQTxe/IBufnyOHXn0t1zcgW+bNl8TEROnYuHGWnzb+5arVsiPjZ4ncyA1Iz1YXfw5I5i8kXzHh4kdPnh04MPrY5T8Z/VIt6zeIfp2K9vvhdr4BKZtWR7q0HZClfbsPyLGjJ6RL2wHSoGorSflHOala8v6Yn6eRlq+C/PD9j3Jo/5GYT98qnlhdThw7KQf2HY4+NrD7MBEReaLv6CzXUNRVkeIJ1W7oBiTlH+XkwL7DsmvHXknLVyH62LSJcyQ9PV3qVvrjoyXZ3WDcnVxTjn/1tRz/6mv194mFG5AvP/s4y2NnDu2WurVqSmpKSvTrIg59+qF8vvEdOXNod/R13+zdIQ3q1pZCBdPkw3Vrrvh77NryfvS7al3+KV3//HKffLXjkxu+ARnQs5ukpqTEfFvfdSteEu+9zHl2YsxrL31K2LV+0OLtUm7PMwDATea9LxsfH1/jSs///e9//59BEJTP7a+rPWav1OT+/WV4t27Rr9Voc//9MrxbNxnerZvsWvayHF29Rjo3bSbee/lo/oKYt730uvaNHhTvvXRp3jz6WObXXfquU/WrV5cxvXrJswMHyqAOHaVi6dIytlfvG74B2bpwkRTN+Enok/r1l5Hde0iRggWlevnyMV//0a/tw1KncmUZ0rmzTBs0SEb16Cl1qlQR7730bdNW/X1xu9+AXKnsvgbk0tdmZH5s0qjpIiLyxed7ZOQTk2T0U89Ev96jb5ch0del5i0v69dtkvT0dFm9fK0MGzReRgyeKEvmLZcz330vjWo9fMM3IJ1a9ZX09HTZvOHjiz8JPePTwJYuXBnzup2f7Za333hfJo6cLoP7jJSpE+bIiWMn5cKFC9KjwyD1v3sLNyDtW7eUpo0ekLHDnpT5056RCcOfkmpVKov3XqaNGxV9Xc/Oj4j3XvZ+tDH6WLtWLcR7L727dJYls6fH9OrieTG/z+RRT4v3Xh6of69MGTNC5jw7UYYNGiBVKlaQZ8eOvOEbkP1bP5DiRS/+JPSZk8bJpJEXfxJ6zerVYr7+47mMj+zcX+/eLNe8ZPZ0+WbvDvX3CTcgAHCDvPdv58uXLzG75+Li4rz3/u1bfU3Z0R6zV6psiZJX/CLMSzccV7oBudoXcF7++ywaPkIa1KghqcnJkpqcLFXKlJXeD7W55qdm5fTTwt6fNVua1KkrqcnJUjgtTTo2bizblyyJec0r48dLi/r1pVSxYpI/KUkKpqRIg+rVZcbgJ7J8dOZ2SHvM3uwbkJR/lJO+jw6Rzz7ZKT98/6OcPfuLbN+6Q7q3fyzL6wrFVZRxw6bKvt0H5Nwv5+T7Mz/Iju275Jkxs6Rk/ho3fAOS8o9y0qXtAPlix14598s5OXHspEybOEcKxVWMec3Qx8bJ1i3b5fS3Z+TXX3+T0998J++8uUFa3tdZ/e/dyg3IsrmzpPmDDaVUiRKSPylJihYpLM0fbCirliyIeV12NyDly5bJ0ReJX2rFornSsEF9SUtNlbTUVKlWpbI81rvHNT81Kyc3ID8d3S/b318nLZo8KKmpKVKkcGHp2rF9lu/kdenPcaUy//lul7TPRwAwxzn3u/e+eHbPxcXFFXXOXbjV15Qd7TFL9tIes2Qv7SFLNtM+HwHAHOfc73FxccWu8FwX7/3xW31N2dEes2Qv7TFL9tIesmQz7fMRAEzw3vf33v/ovf8x47te/XTp3zN13jmXHgTBZO3rjUS4AaHcpz1myV7aQ5Zspn0+AoAJQRCUD4JgsPf+iYxPwZoRBMHgzHnv+8fHx9eLRCJ/0b7eSIQbEMp92mOW7KU9ZMlm2ucjAJgTBMHg//qv/8qjfR3Xoj1myV7aY5bspT1kyWba5yMAmHPHHXf8W968ef8zu+fy5s37n3/729/+162+puxoj1myl/aYJXtpD1mymfb5CADmeO+XeO9nZvdcEATTnXOLbvU1ZUd7zJK9tMcs2Ut7yJLNtM9HADDHe3/Ce18/u+fi4+Pree+P3epryo72mCV7aY9Zspf2kCWbaZ+PAGCOc+6c977KFZ6r6pw7d6uvKTvaY5bspT1myV7aQ5Zspn0+AoA5zrkvvPcjsnvOez/Ce7/7Vl9TdrTHLNlLe8ySvbSHLNlM+3wEAHOCIOjhvf/VOdcnT548d0QikUiePHnucM719t6f99731L7GSIQbEMp92mOW7KU9ZMlm2ucjAFj0J+/9FOdcesYPJTyf6Z+naF/cJdpjluylPWbJXtpDlmymfT4CgFlxcXHOOdfeez/AOdc+Li7OaV9TZtpjluylPWbJXtpDlmymfT4CAEKiPWbJXtpjluylPWTJZtrnIwCYEARB4TvvvPN/XPrna6V9vZEINyCU+7THLNlLe8iSzbTPRwAwwTn3u/e++KV/vvQ1H9n0u3MuXft6IxFuQCj3aY9Zspf2kCWbaZ+PAGBCEATl//a3v/2vS/98rbSvNxLhBoRyn/aYJXtpD1mymfb5CAAIifaYJXtpj1myl/aQJZtpn48AgJBoj1myl/aYJXtpD1mymfb5CAAmXOPrPrKkfb2RCDcglPu0xyzZS3vIks20z0cAMCEIgm7Oua7Oua7e+57OuaPOuQPe+7HOuT7e+3He+4POuaNBEPTQvt5IhBsQyn3aY5bspT1kyWba5yMAmOOcG+mcWxmJRP582VN/ds696pwbrXFdl9Mes2Qv7TFL9tIesmQz7fMRAMxxzp2Mj4+vkd1z8fHx9zjnTt3qa8qO9pgle2mPWbKX9pAlm2mfjwBgjvf+R+dch+yeC4Kgo/f+x1t9TdnRHrNkL+0xS/bSHrJkM+3zEQDM8d7Pc8794L1vGRcX9x+RSCQSFxf3H865Vs65773387SvMRLhBoRyn/aYJXtpD1mymfb5CADm3HHHHf/mnHsp03e9Opfpp6AvC4Lg37WvMRLhBoRyn/aYJXtpD1mymfb5CABmOeeSvPctgyDo671v4ZxL0r6mzLTHLNlLe8ySvbSHLNlM+3wEAIREe8ySvbTHLNlLe8iSzbTPRwCw6q/OuQ7OuVnOuTfj4uJcJBKJxMfHN7pdPhKiPWbJXtpjluylPWTJZtrnIwCY472P894fzPhuWOudc+lBEBTOeG6Kc+557WuMRLgBodynPWbJXtpDlmymfT4CgDnOudecc1vy5MlzRyQS+W/Oud8v3YAEQdDQOXdA+RIjkQg3IJT7tMcs2Ut7yJLNtM9HADDHe/9TEAR1Mv71L5lvQJxz5ZxzZxUvL0p7zJK9tMcs2Ut7yJLNtM9HADDHOfd9EAR1M/71L5d9BOQBfhI6WU17zJK9tIcs2Uz7fAQAc5xzK5xz6yORyF8jf9yAFIpEIn9yzr3lnFusfImRSIQbEMp92mOW7KU9ZMlm2ucjAJiT8fM/vnPO7fPej3XOpXvvZzrnNnvvTwdBEK99jZEINyCU+7THLNlLe8iSzbTPRwAwKW/evHcFQTDXe3/ce/+rc+5r59yC2+XmIxLhBoRyn/aYJXtpD1mymfb5CADW/OnOO+/830EQ/N/aF3It2mOW7KU9Zsle2kOWbKZ9PgKANf+Xc+6Cc66W9oVci/aYJXtpj1myl/aQJZtpn48AYI73/nCm74J129Ies2Qv7TFL9tIesmQz7fMRAMxxzvV2zr2bL1++/659LVejPWbJXtpjluylPWTJZtrnIwCYEwTBZO/9cefcKe/9i0EQTHbOTcrURO1rjES4AaHcpz1myV7aQ5Zspn0+AoA53vtD1+ig9jVGItyAUO7THrNkL+0hSzbTPh8BACHRHrNkL+0xS/bSHrJkM+3zEQAQEu0xS/bSHrNkL+0hSzbTPh8BwKQ8efLcEQTBMO/9Wufczoz/HBoEwd+0r+0S7TFL9tIes2Qv7SFLNtM+HwHAHOdcCefcGefcD865Zc65ZzP+84eMSmhfYyTCDQjlPu0xS/bSHrJkM+3zEQDM8d5/7L3fEATBv2d+PC4u7j+cc5u89x9pXVtm2mOW7KU9Zsle2kOWbKZ9PgKAOc65X5xztbN7LgiCus65X271NWVHe8ySvbTHLNlLe8iSzbTPRwAwxzn3eRAEzbJ7LgiC5s65nbf6mrKjPWbJXtpjluylPWTJZtrnIwCYEx8fX8M5dyAIgvKZHw+CoIJz7kB8fPw9WteWmfaYJXtpj1myl/aQJZtpn48AYI5z7nPv/bfOuXTv/Xfe+z3e++8y/v1b7/1nmdqudZ3aY5bspT1myV7aQ5ZspnUuAoBZzrk5zrnnc5rWdWqPWbKX9pgle2kPWbKZ1rkIAAiZ9pgle2mPWbKX9pAlm2mfjwCAkGiPWbKX9pgle2kPWbKZ9vkIAAiJ9pgle2mPWbKX9pAlm2mfjwCAkGiPWbKX9pgle2kPWbKZ9vkIAAiJ9pgle2mPWbKX9pAlm2mfjwCAkGiPWbKX9pgle2kPWbKZ9vkIAAiJ9pgle2mPWbKX9pAlm2mfjwCAkGiPWbKX9pgle2kPWbKZ9vkIAAiJ9pgle2mPWbKX9pAlm2mfjwCAkGiPWbKX9pgle2kPWbKZ9vkIAAiJ9pgle2mPWbKX9pAlm2mfjwCAkGiPWbKX9pgle2kPWbKZ9vkIAAiJ9pgle2mPWbKX9pAlm2mfjwCAkGiPWbKX9pgle2kPWbKZ9vkIAAjJuTMnhSg3nT31FVGuOrV5A1Gu0z4fAQAh0R6zZC/tMUv20h6yZDPt8xEAEBLtMUv20h6zZC/tIUs20z4fAQAh0R6zZC/tMUv20h6yZDPt8xEAEBLtMUv20h6zZC/tIUs20z4fAQAh0R6zZC/tMUv20h6yZDPt8xEAEBLtMUv20h6zZC/tIUs20z4fAQAh0R6zZC/tMUv20h6yZDPt8xEAEBLtMUv20h6zZC/tIUs20z4fAQAh0R6zZC/tMUv20h6yZDPt8xEAEBLtMUv20h6zZC/tIUs20z4fAQAh0R6zZC/tMUv20h6yZDPt8xEAEBLtMUv20h6zZC/tIUs20z4fAQAh0R6zZC/tMUv20h6yZDPt8xEAEBLtMUv20h6zZC/tIUs20z4fAQAh0R6zZC/tMUv20h6yZDPt8xEAEBLtMUv20h6zZC/tIUs20z4fAQAh0R6zZC/tMUv20h6yZDPt8xEAEBLtMUv20h6zZC/tIUs20z4fAQAh0R6zZC/tMUv20h6yZDPt8xEAEBLtMUv20h6zZC/tIUs20z4fAQAh0R6zZC/tMUv20h6yZDPt8xEAEBLtMUv20h6zZC/tIUs20z4fAQAh0R6zZC/tMUv20h6yZDPt8xEAEBLtMUv20h6zZC/tIUs20z4fAQAh0R6zZC/tMUv20h6yZDPt8xEAEBLtMUv20h6zZC/tIUs20z4fAQAh0R6zZC/tMUv20h6yZDPt8xEAEBLtMUv20h6zZC/tIUs20z4fAQAh0R6zZC/tMUv20h6yZDPt8xEAEBLtMUv20h6zZC/tIUs20z4fAQAh0R6zZC/tMUv20h6yZDPt8xEAEBLtMUv20h6zZC/tIUs20z4fAQAh0R6zZC/tMUv20h6yZDPt8xEAEBLtMUv20h6zZC/tIUs20z4fAQAh0R6zZC/tMUv20h6yZDPt8xEAEBLtMUv20h6zZC/tIUs20z4fAQAh0R6zZC/tMUv20h6yZDPt8xEAEBLtMUv20h6zZC/tIUs20z4fAQAh0R6zZC/tMUv20h6yZDPt8xEAEBLtMUv20h6zZC/tIUs20z4fAQAh0R6zZC/tMUv20h6yZDPt8xEAEBLtMUv20h6zZC/tIUs20z4fAQAh0R6zZC/tMUv20h6yZDPt8xEAEBLtMUv20h6zZC/tIUs20z4fAQAh0R6zZC/tMUv20h6yZDPt8xEAEBLtMUv20h6zZC/tIUs20z4fAQAh0R6zZC/tMUv20h6yZDPt8xEAEBLtMUv20h6zZC/tIUs20z4fAQAh0R6zZC/tMUv20h6y1EDSTgAAGU5JREFUZDPt8xEAEBLtMUv20h6zZC/tIUs20z4fAQAh0R6zZC/tMUv20h6yZDPt8xEAEBLtMUv20h6zZC/tIUs20z4fAQAh0R6zZC/tMUv20h6yZDPt8xEAEBLtMUv20h6zZC/tIUs20z4fAQAh0R6zZC/tMUv20h6yZDPt8xEAEBLtMUv20h6zZC/tIUs20z4fAQAh0R6zZC/tMUv20h6yZDPt8xEAEBLtMUv20h6zZC/tIUs20z4fAQAh0R6zZC/tMUv20h6yZDPt8xEAEBLtMUv20h6zZC/tIUs20z4fAQAh0R6zZC/tMUv20h6yZDPt8xEAEBLtMavVnu0fS5dHOkiZ0qUlNSVFqlWtIhNGj5AzJ47IuTMn5cyJIzJn+lRp2ayp3F2qpBQsmCZ1a9eSuTOnyc/fHle/fm5AYvv28D4ZM3yotGrWVIoWKSLee1k8Z2aO3rZxwwfEe59t+ZOSbvmfZdO616XhfQ0kNSVFSpUsIYMH9JVvD++Lec2H69fKoH69pUa1qpKamirlypSRTu0fll0ff6D+vvg/5QZk6/Jl0rF5MyldooSkJCdLlfLlZGS/PvLl+nW39Do+XPaiNLuvgaSlpEiRQoXk0VYtZc+bq2Ne89HLS+WJbl2kZpXKkpaaIqWKFZOWD9wv7y2ar/73yA0IACAL7TGr0eHdn0mRIoWlQvlyMmXCWFkwe4b07t5VvPfSrs1Dcu7MSfn84w8kISFBWjRrIlMnjZf5s6ZLx3ZtxXsvPbt1Uf8zcAMS277tH4v3XsqXLSNNGjXM1Q3IulXLZen852OaN32qeO/loZbNb+mf45ON70pKcrLUrV1T5k5/VkYNfVKSkwtI6+bNYl73SLu2cnepkjJ4QF9ZMOs5mThquJQqWULS0lLls83vq78/rN+AfL5qpRQuWFDK3V1Kxg7sLzOGD5VubVpf/O9Eo4a37Dp2rF4pxYsUloplysiUIYNlzIB+UqRQIalZpbIc2/Bu9HWPd31UChcsKD0ebiMzhg+VCYMGSsUyZSQpMVFWzXxO/e+TGxAAQAztMavR5PGjxXsvO7Zujnm8Z7cu4r2XU0f2y4lDe7I8f+7MSenTo5t472XvZ1vV/xxaaY/Z7Pr+q4Py5a7P5Oypr+Sj99bl6gYku5bOf1689/LSgrk35fou3SCtf/21q76udYtmUrpUKTl1aE/0sQWznhPvvax97ZXoY5vWvS4/HDsU87a7tm6W5OQC0q3zI+rvD+s3IGMG9BPvvWx+aUnM411atxLvvexf98YN/x7ee5kzesRVX9OnQ3tJSU6Wz15bEX1s1cyL/32YMXxo9LH3Fi+Qw++ujXnbfW+9LsWLFJH7atVU//vkBgQAEEN7zGo0YuiT4r2XE4f2ZHk8MTFRvjt++Ipv+/rKl8V7L6+vfFn9z6GV9pi9VjfjBqR1i2aSlpYqp4/EfurTT19/KdOfmSA1qlWV5OQCUrJECenfq4d8vX/XDd+AnDq0R/InJcmwJwbFPP7DsUNSMC1N+vbods3rvrd2Lbm3di3194H1G5AnMz4iuvetNVkeT0xIkCOZPg1r/tjRUrtaVUkuUECKFCokHZs3k89XrbwpNyAlihaV9s2aZHm8crmy0rjevdf8PR5u0liKFiqk/vfJDQgAIIb2mNVo7eqV0U+3+nTLBjm8+zNZ/uIiKVyokAx5fOBV33bB8zPEey9b3lun/ufQSnvMhn0D8tWeHZI/KSnbjyT07dlN8iclSb+e3WXe9Kky/MnHJS0tVerfW0d+OH74hm5ANq59Xbz38sriBVmea3T/fde8sfj55FEpU/puadmsifr7wPoNyMpLn4LXqKFsXLJIPl+1UhZPGCeF0tLksUc7RV83ekBfSUhIkI7Nm8lzw56Skf36SPEihaX83XfLgXVv3tANyM7Vr4r3XsYPGpjluUdbtczRjcV9tWpK5XJl1f8+uQEBAMPuvPPO/xEXF1cmCIL8lz+XL1++/+69b5HbX1N7zGo1aewoSU1JifmC49HDh171bf556iu5p3o1qVihvPz0zTH1P4NW2mM27BuQ2VMni/de3lyxLPYG4a012X5a1tpXX7nmp2vl5AZkxZKF4r2XDW+tzvJcp/YPy92lSl71ui992tii2TPU3wfWb0BObd4go/r3lZTk5Jj/jRjaq0f0+c9eWy5JiYkyZkC/mLfb/NILkpSUlOXx3N6AvLdovnjvZd7YUVmeeyLj00W/ev+dK779W3NnS0JCgjzdu6f63yU3IABgVFxcnPfeH3bO/e6cS3fOrc+bN+9/Xnr+rrvu+rtzLj23v672mNXqpUXzpFWLZrLg+Rny2ssvSt+e3SUhIUGen/7sFd+mf++e4r2Xt15brn79mmmP2bBvQO5vUE9KFC8uPx4/EvP44AH9pHDhQvLVnh1ybO/OmAqmpUnfnn98itS3h/fFPP/JhnfEey+rli2Jefzkwd3Rt3lx3uyLH117960s19Tj0U5SuHChK17zzo82SeFCheT+BvXknyeOXNefmxuQ2OaPHS3N7msgM4cPk6WTJ0r3tg9JQkKCTH3qSTm1eYNMfuJxSUhIkE9WLJO9b62JqVqF8tKkfr3or/Xl+nVZXuO9l6lPPRnzWOavLXlr7sX/PiyeOC7LtT2d8b9FV/ooy543V0uZkiWkQpnSWb42xFI39xQFAOSa9/4V59xrefLkuSM+Pj5wzr3mvT8YFxf3j0iEG5Dc9MqShZKakiKHd38e83jv7l0lNTVVvj68N8vbTJ00Xrz3MmnsKPXr1057zIZ5A7J324fivZfH+/fJ8lzrFs2u+O16vffS7qFW0df27ProVV97qcYNH4i+zfV+BOTLXZ9JpQrlpVyZMnL4i0/V//7/T7gBWTRhrKQkJ8uO1bFfy9GtTWtJTU6WfW+9Ln06tL/q+/aeypWibze8T68c/feh3N2lom9zvR8BObJ+3f/f3r0HWV2fdxw/mDRTJ22nnUhoyiq75/d9nt0Du4CAoqaABlHwMuEiiBPkpniLrTUNZgnRUjGQ4CVs2QjiDSFWLVQFXM0mma0KXhBThjihTByJCCLQJjRqKXZsv/1jz+6cPXtltz+efej7NfP+I4cFfiAz3883sGfjV8dfHIcNHRJf3/Ck+e8lFxAAcExEDmWz2aqCl/qIyEoR2auqWS4gXW/6tKlx2hWTW71e98z6qKrxxfq6Fq8/te7RWF5eHhdWzzd/9t6Q9ZhN8wJSs2xp47sfNfyk1bfNnvG1eM7IkbGhbmOb7XjlpeaPfWvb1hbftv5Ha6KqxlU197V4/c2XG5q/T3c+B+TQnt3x8ksviWeNGBHf2rbV/Pf+ZLmATL38sjbfPWp9bU3j32Q99ECcf/11sby8PG5evSrWPfRAqxp+9Fjz99ux6elW366qcdFf/WWL13629tHm79OdzwF5f+uLccbkSbFy0MBYv+Zh899HLiAA4JyqfigiuTZerxWRfao6igtI1xp34dg4ZdLEVq9vXP9E49udPr+p+bUXnt0Qc7lcvOn6efHobz4wf/bekPWYTfMCMv6icXHsBee3+W3f+db8mMtVxN/ue+e4f9yufA7IoT27O3wXrNtuvaXF60f27YnTp06JgwcPjq811Jv/vp9MF5Cxo0fFiRPGt3r9iZr7oqrGTatXxuW3L4yqGt98ZkO3fo6uvAvW2cOHd/ldsA6++nK88eoZMVdREdevqDH/PeQCAgAnAVV9I4RwdTvfVisiR7iAdK1r586OgwYNirt3bm/x+g3zrokVFRXxvV/9Mh47cihubaiPVVWV8WtXTY8fHtpn/ty9Jesx25MLyN5dO+Mvt7/a5jtWNX2exj1LFrf5475cXxdVNX5v8aJW3/bhgb3x4Du7232mLn8dkKsbvw7Iv777q+bXHn9kdePnHm16uvm1jz7YG6+bOzsOzOVi/cYN5r/nJ9sFZPa0qXHQwIGtLhfXXHVlrCgvj7te2Bx3bHw65ioq4tdnzYyHXtvS4uMOvbYlvv3TH/f4AnLbDdfFqsrKFm/r+/zDjX8eVi9Z3OJjv3Xj9a2+Poj3en5yAgB6RFUXqOrz7X27iNwvIv9zvD+u9Zi1aGtDfczlcvGckSNjzT3fj2seXBXnzpoZVTVWz/9GPHbkUNyza2ccPmxYHFxVFdc8uCpu+Pu1LfrFG6+Y/zq4gLTskZUrYs2ypXFh/t/b3zjvmlizbGmsWba0+ZO9mz434+2db7b6/nfd0fj/aO9689V2f45v5z/5d87MGXF17fL4yMrauGhhdfzyeefGjU893uMLyM+3NMTKykEtvhJ6VWVlq7fWXbSw8QvlzZszq9VXcV+/7lHz/xbeLyA/WfNwzFVUxJEjRsRl1bfFVXfdGWdeMSWqavzredc2f9y9CxdEVY1TLr0kLr99YVy9ZHFcdOst8SujRsXld3ynxxeQt+o2xbOGNX4l9PvvXBTvXbggDj/zzDhh7FdafP5H7aI7oqrGyZdMiOvuvbtVhV+3xFM9OzUBAL2W9Zi1avvWf4pzZ82M5517Thw4cGAcd+HYuOIHdze/ve6W/L/Hb6/7li01/zVwAWnZmNGj2v3v1XThaO8C8vHB9+Kff/m8Ln0Rv3UPrYoTL78sDq6qimcOHRovnTA+Lll0R9y7a2ePLyBHDze+3e/UKZNiVWVlHHn22fH26vkt/kbk6OH98appUzv882n938L7BeTw61vji4+vjTOvmBLPPeusODCXi2NHj4r3fLs6HnjlpRYft35FTbziskvjkKqqOKSqKo4bMyZW33RDp/80qysXkMOvb42vb3gqzpg8KQ6urIzDhg6NN8+eGXfX17X4mFvmzunwz8POzc+a/35yAQEANLMes+Qv6zFL/rIesuQz6/MRAJAS6zFL/rIes+Qv6yFLPrM+HwEAKbEes+Qv6zFL/rIesuQz6/MRAJAS6zFL/rIes+Qv6yFLPrM+HwEAKbEes+Qv6zFL/rIesuQz6/MRAJAS6zFL/rIes+Qv6yFLPrM+HwEAKbEes+Qv6zFL/rIesuQz6/MRAJAS6zFL/rIes+Qv6yFLPrM+HwEAKbEes+Qv6zFL/rIesuQz6/MRAJAS6zFL/rIes+Qv6yFLPrM+HwEAKbEes+Qv6zFL/rIesuQz6/MRAJAS6zFL/rIes+Qv6yFLPrM+HwEAKbEes+Qv6zFL/rIesuQz6/MRAJAS6zFL/rIes+Qv6yFLPrM+HwEAKbEes+Qv6zFL/rIesuQz6/MRAJAS6zFL/rIes+Qv6yFLPrM+HwEAKbEes+Qv6zFL/rIesuQz6/MRAJAS6zFL/rIes+Qv6yFLPrM+HwEAKbEes+Qv6zFL/rIesuQz6/MRAJAS6zFL/rIes+Qv6yFLPrM+HwEAKbEes+Qv6zFL/rIesuQz6/MRAJAS6zFL/rIes+Qv6yFLPrM+HwEAKbEes+Qv6zFL/rIesuQz6/MRAJAS6zFL/rIes+Qv6yFLPrM+HwEAKbEes+Qv6zFL/rIesuQz6/MRAJAS6zFL/rIes+Qv6yFLPrM+HwEAKbEes+Qv6zFL/rIesuQz6/MRAJAS6zFL/rIes+Qv6yFLPrM+HwEAKbEes+Qv6zFL/rIesuQz6/MRAJAS6zFL/rIes+Qv6yFLPrM+HwEAKbEes+Qv6zFL/rIesuQz6/MRAJAS6zFL/rIes+Qv6yFLPrM+HwEAKbEes+Qv6zFL/rIesuQz6/MRAJAS6zFL/rIes+Qv6yFLPrM+HwEAKbEes+Qv6zFL/rIesuQz6/MRAJAS6zFL/rIes+Qv6yFLPrM+HwEAKbEes+Qv6zFL/rIesuQz6/MRAJAS6zFL/rIes+Qv6yFLPrM+HwEAKbEes+Qv6zFL/rIesuQz6/MRAJAS6zFL/rIes+Qv6yFLPrM+HwEAKbEes+Qv6zFL/rIesuQz6/MRAJAS6zFL/rIes+Qv6yFLPrM+HwEAKbEes+Qv6zFL/rIesuQz6/MRAJAS6zFL/rIes+Qv6yFLPrM+HwEAKbEes+Qv6zFL/rIesuQz6/MRAJAS6zFL/rIes+Qv6yFLPrM+HwEAKbEes+Qv6zFL/rIesuQz6/MRAJAS6zFL/rIes+Qv6yFLPrM+HwEAKbEes+Qv6zFL/rIesuQz6/MRAJAS6zFL/rIes+Qv6yFLPrM+HwEAKbEes+Qv6zFL/rIesuQz6/MRAJAS6zFL/rIes+Qv6yFLPrM+HwEAKbEes+Qv6zFL/rIesuQz6/MRAJAS6zFL/rIes+Qv6yFLPrM+HwEAKbEes+Qv6zFL/rIesuQz6/MRAJAS6zFL/rIes+Qv6yFLPrM+HwEAKbEes+Qv6zFL/rIesuQz6/MRAJAS6zFL/rIes+Qv6yFLPrM+HwEAKbEes+Qv6zFL/rIesuQz6/MRAJAS6zFL/rIes+Qv6yFLPrM+HwEAKbEes+Qv6zFL/rIesuQz6/MRAJAS6zFL/rIes+Qv6yFLPrM+HwEAKbEes+Qv6zFL/rIesuQz6/MRAJAS6zFL/rIes+Qv6yFLPrM+HwEAKbEes+Qv6zFL/rIesuQz6/MRAJAS6zFL/rIes+Qv6yFLPrM+HwEAAAAAAAAAAAAAAAAAAAAAAAAAAAAAAAAAAAAAAAAAAAAAAAAAAAAAAAAAAAAAAABDIYSvq+q7InJMRLap6tnWz4TeS0RGi8hmVT2gqjFJkonWz4TeTVUXqOp2Vf1IRA6r6rNlZWXl1s8FAAAMJElypap+IiJzQggDQwirReRIkiRftH429E5JkkwQkbtUdRIXEHSFiPxYRGaHEAap6hARqRORvf369fu89bMBAIATLP83HrUFL52iqu+HEKrNHgpucAFBd4QQ+qpqFJHR1s8CAABOrM+JyKfFAzKE8JiIbLR6KPjBBQTdkSRJyP/ZqbR+FgAAcAKdfvrpf6aqMYRwbuHrIrJMRLZZPRf84AKCbjhFRJ5T1a3WDwIAAE4wLiDoKS4gOF4islJV3w0hlFg/CwAAOPH4J1joES4gOB6qWisi+wYMGFBm/SwAAMCIiGwLIawoeOkUEdnPJ6GjK7iAoIv6qGqtqr6fzWbF+mEAAIChJEmuFJFjqjpLRHIi8oCIHCkrK+tn/Wzonfr27fsHIjJURIbm/wnfrSIyNJvNnmH9bOidROR+Efn3EMKY0tLSP22qpKTkVOtnAwAABlT1ZhHZm/96INtEZKT1M6H3CiGcr6qxOBFZY/1s6J3a+vOS/zMz2/rZAAAAAAAAAAAAAAAAAAAAAAAAAAAAAAAAAAAAAAAAAAAAAAAAAAAAAAAAAAAAfGvvK0n3pq8qLSIHQwj3HM/3SZJkvKrGJEkqe/rzl5aW/n7+9+Lmnv5YAAAAwP9rIYRzCstfOP6u6PW+ls/IBQQAAAA4SeUvIN/syseWlJScmvbzZDJcQAAAAICTVnsXkKZBH0K4SFWfUdWPRGRDe+M8hFAtIscKX+vfv/8XROQBETkoIsdUdXuSJBd09kzFFxARGS0iz6nqB6r6sYjsUNXpbT2viIwTkU0i8h+q+n5bv7ZsNlslInWq+mH+x9tYWlpa2vTtXEAAAACAlHR2ARGR/SGE72az2bEiMrqrF5D8x+1U1V+LyOwQwsWq+qSqflJWVlbe0TMVX0BCCFeLyDeTJJmQzWbHqurfisinSZJc2cbz7gshLAkhXCQiy4s/p6WsrKw8f/FoSJJkYpIkE0Vkh4i8nclkfq/g2bmAAAAAAP/XunAB+UHh6129gIQQblTVT5IkCQUf1if/txdrO3qmTv4J1imZTOazIYTHVLWh+HlDCKuLfn3/oKp7Cv73U6q6O5PJfK7ptQEDBnxJRP4zhDC3o18jAAAAgB7q7AKiqhcWvt7VC4iqPiMir2Yymc8WJiJ3q+q/dPRMxReQ/v37f0FVfygi74nIpwXv1rW/+HmTJJlQ9FzT8q9/Mf9jH1HVpcXPpapviMjKjn6NAAAAAHqoswtINputKnz9OC4gWzp4q9+PO3qmNj4HpD7/2k1JklyQzWZHqOo6Vf234udNkmR40XONyf+cQzKZzGc6efvh5zr6NQIAAADooc4uIG28q9RnROS/QwjfKHxRRL5feAERkY2quj2bzY4oLoQwrKNnKryAhBD+KP+M1xd9zBPtXEA6+xuQ34nIqraeK5vNSibDBQQAAABITTcuIBkR2a+qDxa81EdE/rnoAvIXInKkafgfj8ILSFlZWb/8M85p+vYzzjjjT0Tkd21dQNr5HJBfF/zY/6iqWzKZTJ/2fn4uIAAAAEBKunkBWS4iR/P/JGq8qj4pInsLLyAlJSWnqupOEdkVQrg2hHC+qk4SkcUicmdHz1T8T7BU9Rci8o6ITM73c1Xd09YFpK13wWr65PL8j53LvwvWCyGEqfl/ojU9/3bBUzIZLiAAAABAarpzATnttNP+UFXXqupvReRQCOFvVHVB8dcBKS0t/WMRqRGR91T1v1T1gIhsDiFc3NEzFV9ASktLK0TkJRE5qqrvisgtqvq9dv4G5CIRqct/7AERua2NHz8nIhtU9Tcicix/uXm06e2BuYAAAAAAAAAAAAAAAAAAAAAAAAAAAAAAAAAAAAAAAAAAAAAAAAAAAAAAAAAAAAAAAAAAAAAAAAAAAAAAAAAAAAAAAAAAAAAAAAAAAAAAAAAAAAAAAAAAAAAAAAD0yP8C0GWXM28X6eMAAAAASUVORK5CYII=\" width=\"800\">"
      ],
      "text/plain": [
       "<IPython.core.display.HTML object>"
      ]
     },
     "metadata": {},
     "output_type": "display_data"
    },
    {
     "name": "stdout",
     "output_type": "stream",
     "text": [
      "CPU times: user 49min 1s, sys: 1h 7min 26s, total: 1h 56min 27s\n",
      "Wall time: 34min 14s\n"
     ]
    }
   ],
   "source": [
    "%%time\n",
    "%run ./pca_rdf_models.ipynb\n",
    "#%run ./Pipeline_PCA_RANDOM_Forest_Copy1.ipynb\n",
    "# CPU times: user 49min 1s, sys: 1h 7min 26s, total: 1h 56min 27s\n",
    "#Wall time: 34min 14s"
   ]
  },
  {
   "cell_type": "markdown",
   "metadata": {},
   "source": [
    "# Imshow specific images to understand non differentiation in PCA model"
   ]
  },
  {
   "cell_type": "raw",
   "metadata": {
    "collapsed": true
   },
   "source": [
    "%run ./track_images_from_PCA.ipynb"
   ]
  },
  {
   "cell_type": "raw",
   "metadata": {
    "collapsed": true
   },
   "source": [
    "ddf=indexing_DF_borders(Data_FRAMES, M, 25, 38)"
   ]
  },
  {
   "cell_type": "raw",
   "metadata": {
    "collapsed": true
   },
   "source": [
    "# save to file\n",
    "filename_DF_PCA =projectpath+'io/Output/DF_PCA.npy'"
   ]
  },
  {
   "cell_type": "raw",
   "metadata": {
    "collapsed": true
   },
   "source": [
    "np.save(filename_DF_PCA, ddf)"
   ]
  },
  {
   "cell_type": "raw",
   "metadata": {
    "collapsed": true
   },
   "source": [
    "DF_PCA=np.load(filename_DF_PCA)"
   ]
  },
  {
   "cell_type": "raw",
   "metadata": {
    "collapsed": true
   },
   "source": [
    "sns.reset_orig() "
   ]
  },
  {
   "cell_type": "raw",
   "metadata": {
    "collapsed": true
   },
   "source": [
    "%matplotlib notebook"
   ]
  },
  {
   "cell_type": "raw",
   "metadata": {},
   "source": [
    "Plot_Strange_Vol_per_Class(GRAY_IM_parallel, 2, DF_PCA)"
   ]
  },
  {
   "cell_type": "markdown",
   "metadata": {},
   "source": [
    "# process in order to display false predicted images"
   ]
  },
  {
   "cell_type": "code",
   "execution_count": null,
   "metadata": {
    "collapsed": true
   },
   "outputs": [],
   "source": [
    "(fail_img_pred_Neurons,fail_img_pred_Astrocytes,fail_img_pred_Background)=imf.Get_IMG_failed_prediction(yr,predictedVAL)"
   ]
  },
  {
   "cell_type": "code",
   "execution_count": null,
   "metadata": {
    "collapsed": true
   },
   "outputs": [],
   "source": [
    "sns.reset_orig() # sns.set()"
   ]
  },
  {
   "cell_type": "raw",
   "metadata": {
    "collapsed": true
   },
   "source": [
    "imf.Plot_Failed_IMG(GRAY_IM_parallel, fail_img_pred_Astrocytes)"
   ]
  },
  {
   "cell_type": "raw",
   "metadata": {
    "collapsed": true
   },
   "source": [
    "def Get_DF_failed_predicions(Data_frame, fail_img_prediction):\n",
    "    \" display the dataFrame corresponding to the tiles where the prediction has failed\"\n",
    "    newDF=pd.DataFrame(data=None, columns=Data_frame.columns)\n",
    "    for i in range(0, len(fail_img_prediction) ):\n",
    "        newDF = newDF.append(Data_frame.loc[Data_frame.indice==(fail_img_prediction[i])].copy())\n",
    "    return(newDF)"
   ]
  },
  {
   "cell_type": "raw",
   "metadata": {
    "collapsed": true
   },
   "source": [
    "Data_F_fail_Neurons=Get_DF_failed_predicions(Data_FRAMES, fail_img_pred_Neurons)"
   ]
  },
  {
   "cell_type": "raw",
   "metadata": {
    "collapsed": true
   },
   "source": [
    "Data_F_fail_Astrocytes=Get_DF_failed_predicions(Data_FRAMES, fail_img_pred_Astrocytes)"
   ]
  },
  {
   "cell_type": "markdown",
   "metadata": {
    "collapsed": true
   },
   "source": [
    "# test prediction sur  1 clone"
   ]
  },
  {
   "cell_type": "code",
   "execution_count": 49,
   "metadata": {
    "collapsed": true
   },
   "outputs": [],
   "source": [
    "import Get_coordinates as gC\n",
    "reload(gC);"
   ]
  },
  {
   "cell_type": "code",
   "execution_count": 50,
   "metadata": {
    "collapsed": true
   },
   "outputs": [],
   "source": [
    "conn = BlitzGateway('tbacoyannis','d33pl34rn1ng',port=4064,host='chinensis.polytechnique.fr')\n",
    "connected = conn.connect()\n",
    "\n",
    "image = conn.getObject(\"Image\", imageId)\n",
    "pixels = image.getPrimaryPixels() # get raw pixels information\n",
    "\n",
    "size_x=image.getSizeX()\n",
    "size_y=image.getSizeY()\n",
    "size_z = image.getSizeZ()\n",
    "size_c = image.getSizeC()\n",
    "size_t = image.getSizeT()\n",
    "\n",
    "large= weight  \n",
    "nidY=size_x/(int(large/int(large/2)))-3\n",
    "delta_x=2\n",
    "z=103"
   ]
  },
  {
   "cell_type": "code",
   "execution_count": 60,
   "metadata": {},
   "outputs": [
    {
     "name": "stdout",
     "output_type": "stream",
     "text": [
      "136\n"
     ]
    }
   ],
   "source": [
    "# Coordinates of the ROI in the original image\n",
    "x_min=48+367\n",
    "y_min=2064+646\n",
    "w=615-367\n",
    "h=920-646\n",
    "x_max=x_min+w\n",
    "y_max=y_min+h\n",
    "\n",
    "nid=np.max(np.arange(h/delta_x))\n",
    "print nid"
   ]
  },
  {
   "cell_type": "code",
   "execution_count": 52,
   "metadata": {
    "collapsed": true
   },
   "outputs": [],
   "source": [
    "conn = BlitzGateway('tbacoyannis','d33pl34rn1ng',port=4064,host='chinensis.polytechnique.fr')\n",
    "connected = conn.connect()\n",
    "imageId=451\n",
    "image = conn.getObject(\"Image\", imageId)\n",
    "pixels = image.getPrimaryPixels() # get raw pixels information\n",
    "\n",
    "pxobj_CH1 = pixels.getTile(theZ=103, theC=0, theT=0, tile=(x_min,y_min, x_max-x_min , y_max-y_min ))\n",
    "pxobj_CH2 = pixels.getTile(theZ=103, theC=1, theT=0, tile=(x_min,y_min, x_max-x_min , y_max-y_min ))\n",
    "pxobj_CH3 = pixels.getTile(theZ=103, theC=2, theT=0, tile=(x_min,y_min, x_max-x_min , y_max-y_min ))\n",
    "\n",
    "# Get the normalized original image\n",
    "pxobj=(pxobj_CH1+pxobj_CH2+pxobj_CH3)/3"
   ]
  },
  {
   "cell_type": "code",
   "execution_count": 61,
   "metadata": {
    "collapsed": true
   },
   "outputs": [],
   "source": [
    "partial_getDATA_coord = partial(gC.get_coordinates_test,imageId=imageId, large=large,delta_x= delta_x,z=z,x_min=x_min,y_min=y_min,x_max=x_max, y_max=y_max)"
   ]
  },
  {
   "cell_type": "code",
   "execution_count": 62,
   "metadata": {},
   "outputs": [],
   "source": [
    "pool = multiprocessing.Pool(28)\n",
    "(res)  = pool.map(partial_getDATA_coord, xrange(nid))\n",
    "pool.close()\n",
    "# 35minutes"
   ]
  },
  {
   "cell_type": "code",
   "execution_count": 63,
   "metadata": {
    "collapsed": true
   },
   "outputs": [],
   "source": [
    "filename_resultat =projectpath+'io/Output/resultat.npy'"
   ]
  },
  {
   "cell_type": "raw",
   "metadata": {},
   "source": [
    "np.save(filename_resultat,res)"
   ]
  },
  {
   "cell_type": "code",
   "execution_count": 65,
   "metadata": {
    "collapsed": true
   },
   "outputs": [],
   "source": [
    "res=np.load(filename_resultat)\n",
    "M_Mv=res[:,0]\n",
    "liste_coordonnees=res[:,1]\n",
    "# Reshape the list of coordinates\n",
    "b=np.vstack(liste_coordonnees)\n",
    "\n",
    "x_from_liste_coordonnees=b[:,0]\n",
    "y_from_liste_coordonnees=b[:,1]\n",
    "ind_lign_from_liste_coordonnees=b[:,2]\n",
    "ind_col_from_liste_coordonnees=b[:,3]"
   ]
  },
  {
   "cell_type": "code",
   "execution_count": 66,
   "metadata": {
    "collapsed": true
   },
   "outputs": [],
   "source": [
    "Matrix_TEST=np.vstack(M_Mv)\n",
    "Matrix_TEST=Matrix_TEST/255.0"
   ]
  },
  {
   "cell_type": "code",
   "execution_count": 67,
   "metadata": {
    "collapsed": true
   },
   "outputs": [],
   "source": [
    "Im_to_convert_GRAY=Matrix_TEST  "
   ]
  },
  {
   "cell_type": "code",
   "execution_count": 68,
   "metadata": {
    "collapsed": true
   },
   "outputs": [],
   "source": [
    "filename_Im_to_convert_GRAY=projectpath+'io/Output/Im_to_convert_GRAY.npy'"
   ]
  },
  {
   "cell_type": "code",
   "execution_count": 69,
   "metadata": {
    "collapsed": true
   },
   "outputs": [],
   "source": [
    "np.save(filename_Im_to_convert_GRAY,Im_to_convert_GRAY)"
   ]
  },
  {
   "cell_type": "code",
   "execution_count": 70,
   "metadata": {
    "collapsed": true
   },
   "outputs": [],
   "source": [
    "Im_to_convert_GRAY=np.load(filename_Im_to_convert_GRAY)"
   ]
  },
  {
   "cell_type": "code",
   "execution_count": 71,
   "metadata": {},
   "outputs": [
    {
     "data": {
      "text/plain": [
       "(16864, 25, 25, 3)"
      ]
     },
     "execution_count": 71,
     "metadata": {},
     "output_type": "execute_result"
    }
   ],
   "source": [
    "Im_to_convert_GRAY.shape"
   ]
  },
  {
   "cell_type": "code",
   "execution_count": 82,
   "metadata": {},
   "outputs": [
    {
     "data": {
      "text/plain": [
       "(16863, 2919)"
      ]
     },
     "execution_count": 82,
     "metadata": {},
     "output_type": "execute_result"
    }
   ],
   "source": []
  },
  {
   "cell_type": "markdown",
   "metadata": {},
   "source": [
    "## Process for one tile ipynb"
   ]
  },
  {
   "cell_type": "code",
   "execution_count": 72,
   "metadata": {
    "collapsed": true
   },
   "outputs": [],
   "source": [
    "import process_for_one_tile as pt\n",
    "reload(pt);"
   ]
  },
  {
   "cell_type": "code",
   "execution_count": 73,
   "metadata": {
    "collapsed": true
   },
   "outputs": [],
   "source": [
    "nb_features=2919"
   ]
  },
  {
   "cell_type": "code",
   "execution_count": 74,
   "metadata": {
    "collapsed": true
   },
   "outputs": [],
   "source": [
    "size_=Im_to_convert_GRAY.shape[0]-1\n",
    "nidx=Im_to_convert_GRAY.shape[0]"
   ]
  },
  {
   "cell_type": "code",
   "execution_count": 77,
   "metadata": {
    "collapsed": true
   },
   "outputs": [],
   "source": [
    "partial_Get_feat_test = partial(pt.Get_feat_test, h=height, w=weight, M_mean=Im_to_convert_GRAY, nb_features=nb_features)"
   ]
  },
  {
   "cell_type": "raw",
   "metadata": {
    "collapsed": true
   },
   "source": [
    "pool = multiprocessing.Pool(27)\n",
    "\n",
    "FV_test = pool.map(partial_Get_feat_test,xrange(size_))\n",
    "\n",
    "pool.close()\n",
    "# 1h15"
   ]
  },
  {
   "cell_type": "code",
   "execution_count": 79,
   "metadata": {
    "collapsed": true
   },
   "outputs": [],
   "source": [
    "filename_FV_test =projectpath+'io/Output/FV_test.npy'"
   ]
  },
  {
   "cell_type": "raw",
   "metadata": {
    "collapsed": true
   },
   "source": [
    "np.save(filename_FV_test, FV_test)"
   ]
  },
  {
   "cell_type": "code",
   "execution_count": 81,
   "metadata": {
    "collapsed": true
   },
   "outputs": [],
   "source": [
    "FV_test=np.load(filename_FV_test)"
   ]
  },
  {
   "cell_type": "code",
   "execution_count": 83,
   "metadata": {},
   "outputs": [],
   "source": [
    "partial_Get_normalized_feat_test=partial(pt.Get_normalized_feat_test,feat_test=FV_test)"
   ]
  },
  {
   "cell_type": "raw",
   "metadata": {},
   "source": [
    "pool = multiprocessing.Pool(27)\n",
    "\n",
    "FV_test_N = pool.map(partial_Get_normalized_feat_test,xrange(size_))\n",
    "\n",
    "pool.close()\n",
    "# 10min"
   ]
  },
  {
   "cell_type": "code",
   "execution_count": 85,
   "metadata": {
    "collapsed": true
   },
   "outputs": [],
   "source": [
    "filename_FV_test_N =projectpath+'io/Output/FV_test_N.npy'"
   ]
  },
  {
   "cell_type": "raw",
   "metadata": {},
   "source": [
    "np.save(filename_FV_test_N,FV_test_N)"
   ]
  },
  {
   "cell_type": "code",
   "execution_count": 87,
   "metadata": {
    "collapsed": true
   },
   "outputs": [],
   "source": [
    "FV_test_N=np.load(filename_FV_test_N)"
   ]
  },
  {
   "cell_type": "code",
   "execution_count": 88,
   "metadata": {
    "collapsed": true
   },
   "outputs": [],
   "source": [
    "from sklearn.externals import joblib"
   ]
  },
  {
   "cell_type": "code",
   "execution_count": 89,
   "metadata": {
    "collapsed": true
   },
   "outputs": [],
   "source": [
    "pca_FV_test=clf_pca.transform(FV_test_N)"
   ]
  },
  {
   "cell_type": "code",
   "execution_count": 90,
   "metadata": {
    "collapsed": true
   },
   "outputs": [],
   "source": [
    "prediction_TEST=clf_RFC.predict(pca_FV_test)"
   ]
  },
  {
   "cell_type": "code",
   "execution_count": 91,
   "metadata": {
    "collapsed": true
   },
   "outputs": [],
   "source": [
    "filename_prediction_TEST =projectpath+'io/Output/prediction_TEST.npy'\n",
    "np.save(filename_prediction_TEST,prediction_TEST)"
   ]
  },
  {
   "cell_type": "code",
   "execution_count": 92,
   "metadata": {
    "collapsed": true
   },
   "outputs": [],
   "source": [
    "prediction_TEST=np.load(filename_prediction_TEST)"
   ]
  },
  {
   "cell_type": "code",
   "execution_count": 93,
   "metadata": {
    "collapsed": true
   },
   "outputs": [],
   "source": [
    "predict_probability=clf_RFC.predict_proba(pca_FV_test)"
   ]
  },
  {
   "cell_type": "code",
   "execution_count": 94,
   "metadata": {
    "collapsed": true
   },
   "outputs": [],
   "source": [
    "filename_predict_probability=projectpath+'io/Output/predict_probability.npy'\n",
    "np.save(filename_predict_probability,predict_probability)"
   ]
  },
  {
   "cell_type": "code",
   "execution_count": 95,
   "metadata": {
    "collapsed": true
   },
   "outputs": [],
   "source": [
    "predict_probability=np.load(filename_predict_probability)"
   ]
  },
  {
   "cell_type": "code",
   "execution_count": 98,
   "metadata": {},
   "outputs": [
    {
     "data": {
      "text/plain": [
       "(16863, 3)"
      ]
     },
     "execution_count": 98,
     "metadata": {},
     "output_type": "execute_result"
    }
   ],
   "source": [
    "################################\"\n",
    "Im_proba.shape"
   ]
  },
  {
   "cell_type": "code",
   "execution_count": 97,
   "metadata": {},
   "outputs": [],
   "source": [
    "Im_proba=pt.Get_proba( predict_probability)"
   ]
  },
  {
   "cell_type": "code",
   "execution_count": 99,
   "metadata": {
    "collapsed": true
   },
   "outputs": [],
   "source": [
    "filename_Im_proba =projectpath+'io/Output/Im_proba.npy'"
   ]
  },
  {
   "cell_type": "code",
   "execution_count": 100,
   "metadata": {
    "collapsed": true
   },
   "outputs": [],
   "source": [
    "Im_proba=np.save(filename_Im_proba,Im_proba)"
   ]
  },
  {
   "cell_type": "code",
   "execution_count": 101,
   "metadata": {
    "collapsed": true
   },
   "outputs": [],
   "source": [
    "Im_proba=np.load(filename_Im_proba)"
   ]
  },
  {
   "cell_type": "raw",
   "metadata": {
    "collapsed": true
   },
   "source": [
    "plt.figure()\n",
    "plt.title('predict_probability Neurons VS predict_probability Background')\n",
    "plt.scatter(Im_proba[:,1],Im_proba[:,2])"
   ]
  },
  {
   "cell_type": "raw",
   "metadata": {
    "collapsed": true
   },
   "source": [
    "plt.figure()\n",
    "plt.title('histogram of Background proba')\n",
    "plt.xlabel(\"Value\")\n",
    "plt.ylabel(\"Frequency\")\n",
    "plt.hist(Im_proba[:,2],bins=50)"
   ]
  },
  {
   "cell_type": "code",
   "execution_count": 102,
   "metadata": {},
   "outputs": [],
   "source": [
    "Probability_img=np.zeros([Im_proba.shape[0]+1,Im_proba.shape[1]])\n",
    "Probability_img[:Im_proba.shape[0]]=Im_proba\n",
    "Probability_img[Im_proba.shape[0]]=Probability_img[Im_proba.shape[0]-1]"
   ]
  },
  {
   "cell_type": "code",
   "execution_count": 103,
   "metadata": {
    "collapsed": true
   },
   "outputs": [],
   "source": [
    "conn = BlitzGateway('tbacoyannis','d33pl34rn1ng',port=4064,host='chinensis.polytechnique.fr')\n",
    "connected = conn.connect()\n",
    "imageId=451\n",
    "image = conn.getObject(\"Image\", imageId)\n",
    "pixels = image.getPrimaryPixels() # get raw pixels information\n",
    "\n",
    "pxobj_CH1 = pixels.getTile(theZ=103, theC=0, theT=0, tile=(x_min,y_min, x_max-x_min , y_max-y_min ))\n",
    "pxobj_CH2 = pixels.getTile(theZ=103, theC=1, theT=0, tile=(x_min,y_min, x_max-x_min , y_max-y_min ))\n",
    "pxobj_CH3 = pixels.getTile(theZ=103, theC=2, theT=0, tile=(x_min,y_min, x_max-x_min , y_max-y_min ))\n",
    "\n",
    "# Get the normalized original image\n",
    "pxobj=(pxobj_CH1+pxobj_CH2+pxobj_CH3)/3"
   ]
  },
  {
   "cell_type": "code",
   "execution_count": 104,
   "metadata": {},
   "outputs": [],
   "source": [
    "e=124\n",
    "CH1=Probability_img[:,0]\n",
    "CH1=np.reshape(CH1, (-1, e) )\n",
    "CH1=CH1[:,:, np.newaxis]\n",
    "#     plt.title('Proba Astrocytes')\n",
    "\n",
    "CH2=Probability_img[:,1]\n",
    "CH2=np.reshape(CH2,(-1,e))\n",
    "CH2=CH2[:,:,np.newaxis]\n",
    "#     plt.title('Proba Neurons')\n",
    "\n",
    "\n",
    "CH3=Probability_img[:,2]\n",
    "CH3=np.reshape(CH3, (-1, e) )\n",
    "CH3=CH3[:,:,np.newaxis]\n",
    "#     plt.title('Proba Background')\n",
    "\n",
    "Z=np.dstack([CH1,CH2,CH3])"
   ]
  },
  {
   "cell_type": "code",
   "execution_count": 105,
   "metadata": {
    "collapsed": true
   },
   "outputs": [],
   "source": [
    "filename_RGB_proba_im =projectpath+'io/Output/RGB_proba_im.npy'"
   ]
  },
  {
   "cell_type": "code",
   "execution_count": 106,
   "metadata": {
    "collapsed": true
   },
   "outputs": [],
   "source": [
    "np.save(filename_RGB_proba_im,Z)"
   ]
  },
  {
   "cell_type": "code",
   "execution_count": 107,
   "metadata": {
    "collapsed": true
   },
   "outputs": [],
   "source": [
    "Z=np.load(filename_RGB_proba_im)"
   ]
  },
  {
   "cell_type": "code",
   "execution_count": 108,
   "metadata": {},
   "outputs": [
    {
     "data": {
      "application/javascript": [
       "/* Put everything inside the global mpl namespace */\n",
       "window.mpl = {};\n",
       "\n",
       "\n",
       "mpl.get_websocket_type = function() {\n",
       "    if (typeof(WebSocket) !== 'undefined') {\n",
       "        return WebSocket;\n",
       "    } else if (typeof(MozWebSocket) !== 'undefined') {\n",
       "        return MozWebSocket;\n",
       "    } else {\n",
       "        alert('Your browser does not have WebSocket support.' +\n",
       "              'Please try Chrome, Safari or Firefox ≥ 6. ' +\n",
       "              'Firefox 4 and 5 are also supported but you ' +\n",
       "              'have to enable WebSockets in about:config.');\n",
       "    };\n",
       "}\n",
       "\n",
       "mpl.figure = function(figure_id, websocket, ondownload, parent_element) {\n",
       "    this.id = figure_id;\n",
       "\n",
       "    this.ws = websocket;\n",
       "\n",
       "    this.supports_binary = (this.ws.binaryType != undefined);\n",
       "\n",
       "    if (!this.supports_binary) {\n",
       "        var warnings = document.getElementById(\"mpl-warnings\");\n",
       "        if (warnings) {\n",
       "            warnings.style.display = 'block';\n",
       "            warnings.textContent = (\n",
       "                \"This browser does not support binary websocket messages. \" +\n",
       "                    \"Performance may be slow.\");\n",
       "        }\n",
       "    }\n",
       "\n",
       "    this.imageObj = new Image();\n",
       "\n",
       "    this.context = undefined;\n",
       "    this.message = undefined;\n",
       "    this.canvas = undefined;\n",
       "    this.rubberband_canvas = undefined;\n",
       "    this.rubberband_context = undefined;\n",
       "    this.format_dropdown = undefined;\n",
       "\n",
       "    this.image_mode = 'full';\n",
       "\n",
       "    this.root = $('<div/>');\n",
       "    this._root_extra_style(this.root)\n",
       "    this.root.attr('style', 'display: inline-block');\n",
       "\n",
       "    $(parent_element).append(this.root);\n",
       "\n",
       "    this._init_header(this);\n",
       "    this._init_canvas(this);\n",
       "    this._init_toolbar(this);\n",
       "\n",
       "    var fig = this;\n",
       "\n",
       "    this.waiting = false;\n",
       "\n",
       "    this.ws.onopen =  function () {\n",
       "            fig.send_message(\"supports_binary\", {value: fig.supports_binary});\n",
       "            fig.send_message(\"send_image_mode\", {});\n",
       "            if (mpl.ratio != 1) {\n",
       "                fig.send_message(\"set_dpi_ratio\", {'dpi_ratio': mpl.ratio});\n",
       "            }\n",
       "            fig.send_message(\"refresh\", {});\n",
       "        }\n",
       "\n",
       "    this.imageObj.onload = function() {\n",
       "            if (fig.image_mode == 'full') {\n",
       "                // Full images could contain transparency (where diff images\n",
       "                // almost always do), so we need to clear the canvas so that\n",
       "                // there is no ghosting.\n",
       "                fig.context.clearRect(0, 0, fig.canvas.width, fig.canvas.height);\n",
       "            }\n",
       "            fig.context.drawImage(fig.imageObj, 0, 0);\n",
       "        };\n",
       "\n",
       "    this.imageObj.onunload = function() {\n",
       "        this.ws.close();\n",
       "    }\n",
       "\n",
       "    this.ws.onmessage = this._make_on_message_function(this);\n",
       "\n",
       "    this.ondownload = ondownload;\n",
       "}\n",
       "\n",
       "mpl.figure.prototype._init_header = function() {\n",
       "    var titlebar = $(\n",
       "        '<div class=\"ui-dialog-titlebar ui-widget-header ui-corner-all ' +\n",
       "        'ui-helper-clearfix\"/>');\n",
       "    var titletext = $(\n",
       "        '<div class=\"ui-dialog-title\" style=\"width: 100%; ' +\n",
       "        'text-align: center; padding: 3px;\"/>');\n",
       "    titlebar.append(titletext)\n",
       "    this.root.append(titlebar);\n",
       "    this.header = titletext[0];\n",
       "}\n",
       "\n",
       "\n",
       "\n",
       "mpl.figure.prototype._canvas_extra_style = function(canvas_div) {\n",
       "\n",
       "}\n",
       "\n",
       "\n",
       "mpl.figure.prototype._root_extra_style = function(canvas_div) {\n",
       "\n",
       "}\n",
       "\n",
       "mpl.figure.prototype._init_canvas = function() {\n",
       "    var fig = this;\n",
       "\n",
       "    var canvas_div = $('<div/>');\n",
       "\n",
       "    canvas_div.attr('style', 'position: relative; clear: both; outline: 0');\n",
       "\n",
       "    function canvas_keyboard_event(event) {\n",
       "        return fig.key_event(event, event['data']);\n",
       "    }\n",
       "\n",
       "    canvas_div.keydown('key_press', canvas_keyboard_event);\n",
       "    canvas_div.keyup('key_release', canvas_keyboard_event);\n",
       "    this.canvas_div = canvas_div\n",
       "    this._canvas_extra_style(canvas_div)\n",
       "    this.root.append(canvas_div);\n",
       "\n",
       "    var canvas = $('<canvas/>');\n",
       "    canvas.addClass('mpl-canvas');\n",
       "    canvas.attr('style', \"left: 0; top: 0; z-index: 0; outline: 0\")\n",
       "\n",
       "    this.canvas = canvas[0];\n",
       "    this.context = canvas[0].getContext(\"2d\");\n",
       "\n",
       "    var backingStore = this.context.backingStorePixelRatio ||\n",
       "\tthis.context.webkitBackingStorePixelRatio ||\n",
       "\tthis.context.mozBackingStorePixelRatio ||\n",
       "\tthis.context.msBackingStorePixelRatio ||\n",
       "\tthis.context.oBackingStorePixelRatio ||\n",
       "\tthis.context.backingStorePixelRatio || 1;\n",
       "\n",
       "    mpl.ratio = (window.devicePixelRatio || 1) / backingStore;\n",
       "\n",
       "    var rubberband = $('<canvas/>');\n",
       "    rubberband.attr('style', \"position: absolute; left: 0; top: 0; z-index: 1;\")\n",
       "\n",
       "    var pass_mouse_events = true;\n",
       "\n",
       "    canvas_div.resizable({\n",
       "        start: function(event, ui) {\n",
       "            pass_mouse_events = false;\n",
       "        },\n",
       "        resize: function(event, ui) {\n",
       "            fig.request_resize(ui.size.width, ui.size.height);\n",
       "        },\n",
       "        stop: function(event, ui) {\n",
       "            pass_mouse_events = true;\n",
       "            fig.request_resize(ui.size.width, ui.size.height);\n",
       "        },\n",
       "    });\n",
       "\n",
       "    function mouse_event_fn(event) {\n",
       "        if (pass_mouse_events)\n",
       "            return fig.mouse_event(event, event['data']);\n",
       "    }\n",
       "\n",
       "    rubberband.mousedown('button_press', mouse_event_fn);\n",
       "    rubberband.mouseup('button_release', mouse_event_fn);\n",
       "    // Throttle sequential mouse events to 1 every 20ms.\n",
       "    rubberband.mousemove('motion_notify', mouse_event_fn);\n",
       "\n",
       "    rubberband.mouseenter('figure_enter', mouse_event_fn);\n",
       "    rubberband.mouseleave('figure_leave', mouse_event_fn);\n",
       "\n",
       "    canvas_div.on(\"wheel\", function (event) {\n",
       "        event = event.originalEvent;\n",
       "        event['data'] = 'scroll'\n",
       "        if (event.deltaY < 0) {\n",
       "            event.step = 1;\n",
       "        } else {\n",
       "            event.step = -1;\n",
       "        }\n",
       "        mouse_event_fn(event);\n",
       "    });\n",
       "\n",
       "    canvas_div.append(canvas);\n",
       "    canvas_div.append(rubberband);\n",
       "\n",
       "    this.rubberband = rubberband;\n",
       "    this.rubberband_canvas = rubberband[0];\n",
       "    this.rubberband_context = rubberband[0].getContext(\"2d\");\n",
       "    this.rubberband_context.strokeStyle = \"#000000\";\n",
       "\n",
       "    this._resize_canvas = function(width, height) {\n",
       "        // Keep the size of the canvas, canvas container, and rubber band\n",
       "        // canvas in synch.\n",
       "        canvas_div.css('width', width)\n",
       "        canvas_div.css('height', height)\n",
       "\n",
       "        canvas.attr('width', width * mpl.ratio);\n",
       "        canvas.attr('height', height * mpl.ratio);\n",
       "        canvas.attr('style', 'width: ' + width + 'px; height: ' + height + 'px;');\n",
       "\n",
       "        rubberband.attr('width', width);\n",
       "        rubberband.attr('height', height);\n",
       "    }\n",
       "\n",
       "    // Set the figure to an initial 600x600px, this will subsequently be updated\n",
       "    // upon first draw.\n",
       "    this._resize_canvas(600, 600);\n",
       "\n",
       "    // Disable right mouse context menu.\n",
       "    $(this.rubberband_canvas).bind(\"contextmenu\",function(e){\n",
       "        return false;\n",
       "    });\n",
       "\n",
       "    function set_focus () {\n",
       "        canvas.focus();\n",
       "        canvas_div.focus();\n",
       "    }\n",
       "\n",
       "    window.setTimeout(set_focus, 100);\n",
       "}\n",
       "\n",
       "mpl.figure.prototype._init_toolbar = function() {\n",
       "    var fig = this;\n",
       "\n",
       "    var nav_element = $('<div/>')\n",
       "    nav_element.attr('style', 'width: 100%');\n",
       "    this.root.append(nav_element);\n",
       "\n",
       "    // Define a callback function for later on.\n",
       "    function toolbar_event(event) {\n",
       "        return fig.toolbar_button_onclick(event['data']);\n",
       "    }\n",
       "    function toolbar_mouse_event(event) {\n",
       "        return fig.toolbar_button_onmouseover(event['data']);\n",
       "    }\n",
       "\n",
       "    for(var toolbar_ind in mpl.toolbar_items) {\n",
       "        var name = mpl.toolbar_items[toolbar_ind][0];\n",
       "        var tooltip = mpl.toolbar_items[toolbar_ind][1];\n",
       "        var image = mpl.toolbar_items[toolbar_ind][2];\n",
       "        var method_name = mpl.toolbar_items[toolbar_ind][3];\n",
       "\n",
       "        if (!name) {\n",
       "            // put a spacer in here.\n",
       "            continue;\n",
       "        }\n",
       "        var button = $('<button/>');\n",
       "        button.addClass('ui-button ui-widget ui-state-default ui-corner-all ' +\n",
       "                        'ui-button-icon-only');\n",
       "        button.attr('role', 'button');\n",
       "        button.attr('aria-disabled', 'false');\n",
       "        button.click(method_name, toolbar_event);\n",
       "        button.mouseover(tooltip, toolbar_mouse_event);\n",
       "\n",
       "        var icon_img = $('<span/>');\n",
       "        icon_img.addClass('ui-button-icon-primary ui-icon');\n",
       "        icon_img.addClass(image);\n",
       "        icon_img.addClass('ui-corner-all');\n",
       "\n",
       "        var tooltip_span = $('<span/>');\n",
       "        tooltip_span.addClass('ui-button-text');\n",
       "        tooltip_span.html(tooltip);\n",
       "\n",
       "        button.append(icon_img);\n",
       "        button.append(tooltip_span);\n",
       "\n",
       "        nav_element.append(button);\n",
       "    }\n",
       "\n",
       "    var fmt_picker_span = $('<span/>');\n",
       "\n",
       "    var fmt_picker = $('<select/>');\n",
       "    fmt_picker.addClass('mpl-toolbar-option ui-widget ui-widget-content');\n",
       "    fmt_picker_span.append(fmt_picker);\n",
       "    nav_element.append(fmt_picker_span);\n",
       "    this.format_dropdown = fmt_picker[0];\n",
       "\n",
       "    for (var ind in mpl.extensions) {\n",
       "        var fmt = mpl.extensions[ind];\n",
       "        var option = $(\n",
       "            '<option/>', {selected: fmt === mpl.default_extension}).html(fmt);\n",
       "        fmt_picker.append(option)\n",
       "    }\n",
       "\n",
       "    // Add hover states to the ui-buttons\n",
       "    $( \".ui-button\" ).hover(\n",
       "        function() { $(this).addClass(\"ui-state-hover\");},\n",
       "        function() { $(this).removeClass(\"ui-state-hover\");}\n",
       "    );\n",
       "\n",
       "    var status_bar = $('<span class=\"mpl-message\"/>');\n",
       "    nav_element.append(status_bar);\n",
       "    this.message = status_bar[0];\n",
       "}\n",
       "\n",
       "mpl.figure.prototype.request_resize = function(x_pixels, y_pixels) {\n",
       "    // Request matplotlib to resize the figure. Matplotlib will then trigger a resize in the client,\n",
       "    // which will in turn request a refresh of the image.\n",
       "    this.send_message('resize', {'width': x_pixels, 'height': y_pixels});\n",
       "}\n",
       "\n",
       "mpl.figure.prototype.send_message = function(type, properties) {\n",
       "    properties['type'] = type;\n",
       "    properties['figure_id'] = this.id;\n",
       "    this.ws.send(JSON.stringify(properties));\n",
       "}\n",
       "\n",
       "mpl.figure.prototype.send_draw_message = function() {\n",
       "    if (!this.waiting) {\n",
       "        this.waiting = true;\n",
       "        this.ws.send(JSON.stringify({type: \"draw\", figure_id: this.id}));\n",
       "    }\n",
       "}\n",
       "\n",
       "\n",
       "mpl.figure.prototype.handle_save = function(fig, msg) {\n",
       "    var format_dropdown = fig.format_dropdown;\n",
       "    var format = format_dropdown.options[format_dropdown.selectedIndex].value;\n",
       "    fig.ondownload(fig, format);\n",
       "}\n",
       "\n",
       "\n",
       "mpl.figure.prototype.handle_resize = function(fig, msg) {\n",
       "    var size = msg['size'];\n",
       "    if (size[0] != fig.canvas.width || size[1] != fig.canvas.height) {\n",
       "        fig._resize_canvas(size[0], size[1]);\n",
       "        fig.send_message(\"refresh\", {});\n",
       "    };\n",
       "}\n",
       "\n",
       "mpl.figure.prototype.handle_rubberband = function(fig, msg) {\n",
       "    var x0 = msg['x0'] / mpl.ratio;\n",
       "    var y0 = (fig.canvas.height - msg['y0']) / mpl.ratio;\n",
       "    var x1 = msg['x1'] / mpl.ratio;\n",
       "    var y1 = (fig.canvas.height - msg['y1']) / mpl.ratio;\n",
       "    x0 = Math.floor(x0) + 0.5;\n",
       "    y0 = Math.floor(y0) + 0.5;\n",
       "    x1 = Math.floor(x1) + 0.5;\n",
       "    y1 = Math.floor(y1) + 0.5;\n",
       "    var min_x = Math.min(x0, x1);\n",
       "    var min_y = Math.min(y0, y1);\n",
       "    var width = Math.abs(x1 - x0);\n",
       "    var height = Math.abs(y1 - y0);\n",
       "\n",
       "    fig.rubberband_context.clearRect(\n",
       "        0, 0, fig.canvas.width, fig.canvas.height);\n",
       "\n",
       "    fig.rubberband_context.strokeRect(min_x, min_y, width, height);\n",
       "}\n",
       "\n",
       "mpl.figure.prototype.handle_figure_label = function(fig, msg) {\n",
       "    // Updates the figure title.\n",
       "    fig.header.textContent = msg['label'];\n",
       "}\n",
       "\n",
       "mpl.figure.prototype.handle_cursor = function(fig, msg) {\n",
       "    var cursor = msg['cursor'];\n",
       "    switch(cursor)\n",
       "    {\n",
       "    case 0:\n",
       "        cursor = 'pointer';\n",
       "        break;\n",
       "    case 1:\n",
       "        cursor = 'default';\n",
       "        break;\n",
       "    case 2:\n",
       "        cursor = 'crosshair';\n",
       "        break;\n",
       "    case 3:\n",
       "        cursor = 'move';\n",
       "        break;\n",
       "    }\n",
       "    fig.rubberband_canvas.style.cursor = cursor;\n",
       "}\n",
       "\n",
       "mpl.figure.prototype.handle_message = function(fig, msg) {\n",
       "    fig.message.textContent = msg['message'];\n",
       "}\n",
       "\n",
       "mpl.figure.prototype.handle_draw = function(fig, msg) {\n",
       "    // Request the server to send over a new figure.\n",
       "    fig.send_draw_message();\n",
       "}\n",
       "\n",
       "mpl.figure.prototype.handle_image_mode = function(fig, msg) {\n",
       "    fig.image_mode = msg['mode'];\n",
       "}\n",
       "\n",
       "mpl.figure.prototype.updated_canvas_event = function() {\n",
       "    // Called whenever the canvas gets updated.\n",
       "    this.send_message(\"ack\", {});\n",
       "}\n",
       "\n",
       "// A function to construct a web socket function for onmessage handling.\n",
       "// Called in the figure constructor.\n",
       "mpl.figure.prototype._make_on_message_function = function(fig) {\n",
       "    return function socket_on_message(evt) {\n",
       "        if (evt.data instanceof Blob) {\n",
       "            /* FIXME: We get \"Resource interpreted as Image but\n",
       "             * transferred with MIME type text/plain:\" errors on\n",
       "             * Chrome.  But how to set the MIME type?  It doesn't seem\n",
       "             * to be part of the websocket stream */\n",
       "            evt.data.type = \"image/png\";\n",
       "\n",
       "            /* Free the memory for the previous frames */\n",
       "            if (fig.imageObj.src) {\n",
       "                (window.URL || window.webkitURL).revokeObjectURL(\n",
       "                    fig.imageObj.src);\n",
       "            }\n",
       "\n",
       "            fig.imageObj.src = (window.URL || window.webkitURL).createObjectURL(\n",
       "                evt.data);\n",
       "            fig.updated_canvas_event();\n",
       "            fig.waiting = false;\n",
       "            return;\n",
       "        }\n",
       "        else if (typeof evt.data === 'string' && evt.data.slice(0, 21) == \"data:image/png;base64\") {\n",
       "            fig.imageObj.src = evt.data;\n",
       "            fig.updated_canvas_event();\n",
       "            fig.waiting = false;\n",
       "            return;\n",
       "        }\n",
       "\n",
       "        var msg = JSON.parse(evt.data);\n",
       "        var msg_type = msg['type'];\n",
       "\n",
       "        // Call the  \"handle_{type}\" callback, which takes\n",
       "        // the figure and JSON message as its only arguments.\n",
       "        try {\n",
       "            var callback = fig[\"handle_\" + msg_type];\n",
       "        } catch (e) {\n",
       "            console.log(\"No handler for the '\" + msg_type + \"' message type: \", msg);\n",
       "            return;\n",
       "        }\n",
       "\n",
       "        if (callback) {\n",
       "            try {\n",
       "                // console.log(\"Handling '\" + msg_type + \"' message: \", msg);\n",
       "                callback(fig, msg);\n",
       "            } catch (e) {\n",
       "                console.log(\"Exception inside the 'handler_\" + msg_type + \"' callback:\", e, e.stack, msg);\n",
       "            }\n",
       "        }\n",
       "    };\n",
       "}\n",
       "\n",
       "// from http://stackoverflow.com/questions/1114465/getting-mouse-location-in-canvas\n",
       "mpl.findpos = function(e) {\n",
       "    //this section is from http://www.quirksmode.org/js/events_properties.html\n",
       "    var targ;\n",
       "    if (!e)\n",
       "        e = window.event;\n",
       "    if (e.target)\n",
       "        targ = e.target;\n",
       "    else if (e.srcElement)\n",
       "        targ = e.srcElement;\n",
       "    if (targ.nodeType == 3) // defeat Safari bug\n",
       "        targ = targ.parentNode;\n",
       "\n",
       "    // jQuery normalizes the pageX and pageY\n",
       "    // pageX,Y are the mouse positions relative to the document\n",
       "    // offset() returns the position of the element relative to the document\n",
       "    var x = e.pageX - $(targ).offset().left;\n",
       "    var y = e.pageY - $(targ).offset().top;\n",
       "\n",
       "    return {\"x\": x, \"y\": y};\n",
       "};\n",
       "\n",
       "/*\n",
       " * return a copy of an object with only non-object keys\n",
       " * we need this to avoid circular references\n",
       " * http://stackoverflow.com/a/24161582/3208463\n",
       " */\n",
       "function simpleKeys (original) {\n",
       "  return Object.keys(original).reduce(function (obj, key) {\n",
       "    if (typeof original[key] !== 'object')\n",
       "        obj[key] = original[key]\n",
       "    return obj;\n",
       "  }, {});\n",
       "}\n",
       "\n",
       "mpl.figure.prototype.mouse_event = function(event, name) {\n",
       "    var canvas_pos = mpl.findpos(event)\n",
       "\n",
       "    if (name === 'button_press')\n",
       "    {\n",
       "        this.canvas.focus();\n",
       "        this.canvas_div.focus();\n",
       "    }\n",
       "\n",
       "    var x = canvas_pos.x * mpl.ratio;\n",
       "    var y = canvas_pos.y * mpl.ratio;\n",
       "\n",
       "    this.send_message(name, {x: x, y: y, button: event.button,\n",
       "                             step: event.step,\n",
       "                             guiEvent: simpleKeys(event)});\n",
       "\n",
       "    /* This prevents the web browser from automatically changing to\n",
       "     * the text insertion cursor when the button is pressed.  We want\n",
       "     * to control all of the cursor setting manually through the\n",
       "     * 'cursor' event from matplotlib */\n",
       "    event.preventDefault();\n",
       "    return false;\n",
       "}\n",
       "\n",
       "mpl.figure.prototype._key_event_extra = function(event, name) {\n",
       "    // Handle any extra behaviour associated with a key event\n",
       "}\n",
       "\n",
       "mpl.figure.prototype.key_event = function(event, name) {\n",
       "\n",
       "    // Prevent repeat events\n",
       "    if (name == 'key_press')\n",
       "    {\n",
       "        if (event.which === this._key)\n",
       "            return;\n",
       "        else\n",
       "            this._key = event.which;\n",
       "    }\n",
       "    if (name == 'key_release')\n",
       "        this._key = null;\n",
       "\n",
       "    var value = '';\n",
       "    if (event.ctrlKey && event.which != 17)\n",
       "        value += \"ctrl+\";\n",
       "    if (event.altKey && event.which != 18)\n",
       "        value += \"alt+\";\n",
       "    if (event.shiftKey && event.which != 16)\n",
       "        value += \"shift+\";\n",
       "\n",
       "    value += 'k';\n",
       "    value += event.which.toString();\n",
       "\n",
       "    this._key_event_extra(event, name);\n",
       "\n",
       "    this.send_message(name, {key: value,\n",
       "                             guiEvent: simpleKeys(event)});\n",
       "    return false;\n",
       "}\n",
       "\n",
       "mpl.figure.prototype.toolbar_button_onclick = function(name) {\n",
       "    if (name == 'download') {\n",
       "        this.handle_save(this, null);\n",
       "    } else {\n",
       "        this.send_message(\"toolbar_button\", {name: name});\n",
       "    }\n",
       "};\n",
       "\n",
       "mpl.figure.prototype.toolbar_button_onmouseover = function(tooltip) {\n",
       "    this.message.textContent = tooltip;\n",
       "};\n",
       "mpl.toolbar_items = [[\"Home\", \"Reset original view\", \"fa fa-home icon-home\", \"home\"], [\"Back\", \"Back to  previous view\", \"fa fa-arrow-left icon-arrow-left\", \"back\"], [\"Forward\", \"Forward to next view\", \"fa fa-arrow-right icon-arrow-right\", \"forward\"], [\"\", \"\", \"\", \"\"], [\"Pan\", \"Pan axes with left mouse, zoom with right\", \"fa fa-arrows icon-move\", \"pan\"], [\"Zoom\", \"Zoom to rectangle\", \"fa fa-square-o icon-check-empty\", \"zoom\"], [\"\", \"\", \"\", \"\"], [\"Download\", \"Download plot\", \"fa fa-floppy-o icon-save\", \"download\"]];\n",
       "\n",
       "mpl.extensions = [\"eps\", \"jpeg\", \"pdf\", \"png\", \"ps\", \"raw\", \"svg\", \"tif\"];\n",
       "\n",
       "mpl.default_extension = \"png\";var comm_websocket_adapter = function(comm) {\n",
       "    // Create a \"websocket\"-like object which calls the given IPython comm\n",
       "    // object with the appropriate methods. Currently this is a non binary\n",
       "    // socket, so there is still some room for performance tuning.\n",
       "    var ws = {};\n",
       "\n",
       "    ws.close = function() {\n",
       "        comm.close()\n",
       "    };\n",
       "    ws.send = function(m) {\n",
       "        //console.log('sending', m);\n",
       "        comm.send(m);\n",
       "    };\n",
       "    // Register the callback with on_msg.\n",
       "    comm.on_msg(function(msg) {\n",
       "        //console.log('receiving', msg['content']['data'], msg);\n",
       "        // Pass the mpl event to the overriden (by mpl) onmessage function.\n",
       "        ws.onmessage(msg['content']['data'])\n",
       "    });\n",
       "    return ws;\n",
       "}\n",
       "\n",
       "mpl.mpl_figure_comm = function(comm, msg) {\n",
       "    // This is the function which gets called when the mpl process\n",
       "    // starts-up an IPython Comm through the \"matplotlib\" channel.\n",
       "\n",
       "    var id = msg.content.data.id;\n",
       "    // Get hold of the div created by the display call when the Comm\n",
       "    // socket was opened in Python.\n",
       "    var element = $(\"#\" + id);\n",
       "    var ws_proxy = comm_websocket_adapter(comm)\n",
       "\n",
       "    function ondownload(figure, format) {\n",
       "        window.open(figure.imageObj.src);\n",
       "    }\n",
       "\n",
       "    var fig = new mpl.figure(id, ws_proxy,\n",
       "                           ondownload,\n",
       "                           element.get(0));\n",
       "\n",
       "    // Call onopen now - mpl needs it, as it is assuming we've passed it a real\n",
       "    // web socket which is closed, not our websocket->open comm proxy.\n",
       "    ws_proxy.onopen();\n",
       "\n",
       "    fig.parent_element = element.get(0);\n",
       "    fig.cell_info = mpl.find_output_cell(\"<div id='\" + id + \"'></div>\");\n",
       "    if (!fig.cell_info) {\n",
       "        console.error(\"Failed to find cell for figure\", id, fig);\n",
       "        return;\n",
       "    }\n",
       "\n",
       "    var output_index = fig.cell_info[2]\n",
       "    var cell = fig.cell_info[0];\n",
       "\n",
       "};\n",
       "\n",
       "mpl.figure.prototype.handle_close = function(fig, msg) {\n",
       "    var width = fig.canvas.width/mpl.ratio\n",
       "    fig.root.unbind('remove')\n",
       "\n",
       "    // Update the output cell to use the data from the current canvas.\n",
       "    fig.push_to_output();\n",
       "    var dataURL = fig.canvas.toDataURL();\n",
       "    // Re-enable the keyboard manager in IPython - without this line, in FF,\n",
       "    // the notebook keyboard shortcuts fail.\n",
       "    IPython.keyboard_manager.enable()\n",
       "    $(fig.parent_element).html('<img src=\"' + dataURL + '\" width=\"' + width + '\">');\n",
       "    fig.close_ws(fig, msg);\n",
       "}\n",
       "\n",
       "mpl.figure.prototype.close_ws = function(fig, msg){\n",
       "    fig.send_message('closing', msg);\n",
       "    // fig.ws.close()\n",
       "}\n",
       "\n",
       "mpl.figure.prototype.push_to_output = function(remove_interactive) {\n",
       "    // Turn the data on the canvas into data in the output cell.\n",
       "    var width = this.canvas.width/mpl.ratio\n",
       "    var dataURL = this.canvas.toDataURL();\n",
       "    this.cell_info[1]['text/html'] = '<img src=\"' + dataURL + '\" width=\"' + width + '\">';\n",
       "}\n",
       "\n",
       "mpl.figure.prototype.updated_canvas_event = function() {\n",
       "    // Tell IPython that the notebook contents must change.\n",
       "    IPython.notebook.set_dirty(true);\n",
       "    this.send_message(\"ack\", {});\n",
       "    var fig = this;\n",
       "    // Wait a second, then push the new image to the DOM so\n",
       "    // that it is saved nicely (might be nice to debounce this).\n",
       "    setTimeout(function () { fig.push_to_output() }, 1000);\n",
       "}\n",
       "\n",
       "mpl.figure.prototype._init_toolbar = function() {\n",
       "    var fig = this;\n",
       "\n",
       "    var nav_element = $('<div/>')\n",
       "    nav_element.attr('style', 'width: 100%');\n",
       "    this.root.append(nav_element);\n",
       "\n",
       "    // Define a callback function for later on.\n",
       "    function toolbar_event(event) {\n",
       "        return fig.toolbar_button_onclick(event['data']);\n",
       "    }\n",
       "    function toolbar_mouse_event(event) {\n",
       "        return fig.toolbar_button_onmouseover(event['data']);\n",
       "    }\n",
       "\n",
       "    for(var toolbar_ind in mpl.toolbar_items){\n",
       "        var name = mpl.toolbar_items[toolbar_ind][0];\n",
       "        var tooltip = mpl.toolbar_items[toolbar_ind][1];\n",
       "        var image = mpl.toolbar_items[toolbar_ind][2];\n",
       "        var method_name = mpl.toolbar_items[toolbar_ind][3];\n",
       "\n",
       "        if (!name) { continue; };\n",
       "\n",
       "        var button = $('<button class=\"btn btn-default\" href=\"#\" title=\"' + name + '\"><i class=\"fa ' + image + ' fa-lg\"></i></button>');\n",
       "        button.click(method_name, toolbar_event);\n",
       "        button.mouseover(tooltip, toolbar_mouse_event);\n",
       "        nav_element.append(button);\n",
       "    }\n",
       "\n",
       "    // Add the status bar.\n",
       "    var status_bar = $('<span class=\"mpl-message\" style=\"text-align:right; float: right;\"/>');\n",
       "    nav_element.append(status_bar);\n",
       "    this.message = status_bar[0];\n",
       "\n",
       "    // Add the close button to the window.\n",
       "    var buttongrp = $('<div class=\"btn-group inline pull-right\"></div>');\n",
       "    var button = $('<button class=\"btn btn-mini btn-primary\" href=\"#\" title=\"Stop Interaction\"><i class=\"fa fa-power-off icon-remove icon-large\"></i></button>');\n",
       "    button.click(function (evt) { fig.handle_close(fig, {}); } );\n",
       "    button.mouseover('Stop Interaction', toolbar_mouse_event);\n",
       "    buttongrp.append(button);\n",
       "    var titlebar = this.root.find($('.ui-dialog-titlebar'));\n",
       "    titlebar.prepend(buttongrp);\n",
       "}\n",
       "\n",
       "mpl.figure.prototype._root_extra_style = function(el){\n",
       "    var fig = this\n",
       "    el.on(\"remove\", function(){\n",
       "\tfig.close_ws(fig, {});\n",
       "    });\n",
       "}\n",
       "\n",
       "mpl.figure.prototype._canvas_extra_style = function(el){\n",
       "    // this is important to make the div 'focusable\n",
       "    el.attr('tabindex', 0)\n",
       "    // reach out to IPython and tell the keyboard manager to turn it's self\n",
       "    // off when our div gets focus\n",
       "\n",
       "    // location in version 3\n",
       "    if (IPython.notebook.keyboard_manager) {\n",
       "        IPython.notebook.keyboard_manager.register_events(el);\n",
       "    }\n",
       "    else {\n",
       "        // location in version 2\n",
       "        IPython.keyboard_manager.register_events(el);\n",
       "    }\n",
       "\n",
       "}\n",
       "\n",
       "mpl.figure.prototype._key_event_extra = function(event, name) {\n",
       "    var manager = IPython.notebook.keyboard_manager;\n",
       "    if (!manager)\n",
       "        manager = IPython.keyboard_manager;\n",
       "\n",
       "    // Check for shift+enter\n",
       "    if (event.shiftKey && event.which == 13) {\n",
       "        this.canvas_div.blur();\n",
       "        // select the cell after this one\n",
       "        var index = IPython.notebook.find_cell_index(this.cell_info[0]);\n",
       "        IPython.notebook.select(index + 1);\n",
       "    }\n",
       "}\n",
       "\n",
       "mpl.figure.prototype.handle_save = function(fig, msg) {\n",
       "    fig.ondownload(fig, null);\n",
       "}\n",
       "\n",
       "\n",
       "mpl.find_output_cell = function(html_output) {\n",
       "    // Return the cell and output element which can be found *uniquely* in the notebook.\n",
       "    // Note - this is a bit hacky, but it is done because the \"notebook_saving.Notebook\"\n",
       "    // IPython event is triggered only after the cells have been serialised, which for\n",
       "    // our purposes (turning an active figure into a static one), is too late.\n",
       "    var cells = IPython.notebook.get_cells();\n",
       "    var ncells = cells.length;\n",
       "    for (var i=0; i<ncells; i++) {\n",
       "        var cell = cells[i];\n",
       "        if (cell.cell_type === 'code'){\n",
       "            for (var j=0; j<cell.output_area.outputs.length; j++) {\n",
       "                var data = cell.output_area.outputs[j];\n",
       "                if (data.data) {\n",
       "                    // IPython >= 3 moved mimebundle to data attribute of output\n",
       "                    data = data.data;\n",
       "                }\n",
       "                if (data['text/html'] == html_output) {\n",
       "                    return [cell, data, j];\n",
       "                }\n",
       "            }\n",
       "        }\n",
       "    }\n",
       "}\n",
       "\n",
       "// Register the function which deals with the matplotlib target/channel.\n",
       "// The kernel may be null if the page has been refreshed.\n",
       "if (IPython.notebook.kernel != null) {\n",
       "    IPython.notebook.kernel.comm_manager.register_target('matplotlib', mpl.mpl_figure_comm);\n",
       "}\n"
      ],
      "text/plain": [
       "<IPython.core.display.Javascript object>"
      ]
     },
     "metadata": {},
     "output_type": "display_data"
    },
    {
     "data": {
      "text/html": [
       "<img src=\"data:image/png;base64,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\" width=\"800\">"
      ],
      "text/plain": [
       "<IPython.core.display.HTML object>"
      ]
     },
     "metadata": {},
     "output_type": "display_data"
    },
    {
     "data": {
      "text/plain": [
       "<matplotlib.legend.Legend at 0x7f9dac165350>"
      ]
     },
     "execution_count": 108,
     "metadata": {},
     "output_type": "execute_result"
    }
   ],
   "source": [
    "plt.figure()\n",
    "plt.scatter(Z[:,:,0], Z[:,:,1], s = 130, c = 'yellow', marker = '*', edgecolors = 'green', label=['Proba Astrocytes', 'Proba Neurons'])\n",
    "plt.scatter(Z[:,:,0], Z[:,:,2], s = 50, c = 'red', marker = '+', linewidth = 3, label=['Proba Astrocytes', 'Proba Background'])\n",
    "plt.scatter(Z[:,:,1], Z[:,:,2], s = 50, c = 'cyan', marker = 'o', edgecolors = 'none', label=['Proba Neurons', 'Proba Background'])\n",
    "plt.title('scatter plot')\n",
    "plt.legend()"
   ]
  },
  {
   "cell_type": "code",
   "execution_count": 109,
   "metadata": {
    "collapsed": true
   },
   "outputs": [],
   "source": [
    "import IM_Display_RGB as imd\n",
    "reload(imd);"
   ]
  },
  {
   "cell_type": "code",
   "execution_count": 110,
   "metadata": {},
   "outputs": [
    {
     "name": "stderr",
     "output_type": "stream",
     "text": [
      "/home/tbacoyannis/.local/lib/python2.7/site-packages/traitlets/traitlets.py:567: FutureWarning: comparison to `None` will result in an elementwise object comparison in the future.\n",
      "  silent = bool(old_value == new_value)\n"
     ]
    },
    {
     "data": {
      "application/vnd.jupyter.widget-view+json": {
       "model_id": "7749d12da6104875bcd62d5a47ec8049"
      }
     },
     "metadata": {},
     "output_type": "display_data"
    }
   ],
   "source": [
    "imd.imshowRGB(Z,pxobj,10)"
   ]
  },
  {
   "cell_type": "code",
   "execution_count": null,
   "metadata": {
    "collapsed": true
   },
   "outputs": [],
   "source": []
  },
  {
   "cell_type": "code",
   "execution_count": null,
   "metadata": {
    "collapsed": true
   },
   "outputs": [],
   "source": []
  },
  {
   "cell_type": "code",
   "execution_count": null,
   "metadata": {
    "collapsed": true
   },
   "outputs": [],
   "source": []
  },
  {
   "cell_type": "code",
   "execution_count": null,
   "metadata": {
    "collapsed": true
   },
   "outputs": [],
   "source": []
  },
  {
   "cell_type": "raw",
   "metadata": {},
   "source": []
  },
  {
   "cell_type": "code",
   "execution_count": null,
   "metadata": {
    "collapsed": true
   },
   "outputs": [],
   "source": []
  },
  {
   "cell_type": "raw",
   "metadata": {},
   "source": []
  },
  {
   "cell_type": "raw",
   "metadata": {},
   "source": []
  },
  {
   "cell_type": "code",
   "execution_count": null,
   "metadata": {
    "collapsed": true
   },
   "outputs": [],
   "source": []
  },
  {
   "cell_type": "code",
   "execution_count": null,
   "metadata": {
    "collapsed": true
   },
   "outputs": [],
   "source": []
  },
  {
   "cell_type": "code",
   "execution_count": null,
   "metadata": {
    "collapsed": true
   },
   "outputs": [],
   "source": []
  },
  {
   "cell_type": "code",
   "execution_count": null,
   "metadata": {
    "collapsed": true
   },
   "outputs": [],
   "source": []
  },
  {
   "cell_type": "code",
   "execution_count": null,
   "metadata": {
    "collapsed": true
   },
   "outputs": [],
   "source": []
  },
  {
   "cell_type": "code",
   "execution_count": null,
   "metadata": {
    "collapsed": true
   },
   "outputs": [],
   "source": []
  },
  {
   "cell_type": "code",
   "execution_count": null,
   "metadata": {
    "collapsed": true
   },
   "outputs": [],
   "source": []
  },
  {
   "cell_type": "code",
   "execution_count": null,
   "metadata": {
    "collapsed": true
   },
   "outputs": [],
   "source": []
  },
  {
   "cell_type": "code",
   "execution_count": null,
   "metadata": {
    "collapsed": true
   },
   "outputs": [],
   "source": []
  },
  {
   "cell_type": "code",
   "execution_count": null,
   "metadata": {
    "collapsed": true
   },
   "outputs": [],
   "source": []
  },
  {
   "cell_type": "code",
   "execution_count": null,
   "metadata": {
    "collapsed": true
   },
   "outputs": [],
   "source": []
  },
  {
   "cell_type": "code",
   "execution_count": null,
   "metadata": {
    "collapsed": true
   },
   "outputs": [],
   "source": []
  },
  {
   "cell_type": "code",
   "execution_count": null,
   "metadata": {
    "collapsed": true
   },
   "outputs": [],
   "source": []
  },
  {
   "cell_type": "code",
   "execution_count": null,
   "metadata": {
    "collapsed": true
   },
   "outputs": [],
   "source": []
  },
  {
   "cell_type": "code",
   "execution_count": null,
   "metadata": {
    "collapsed": true
   },
   "outputs": [],
   "source": []
  },
  {
   "cell_type": "code",
   "execution_count": null,
   "metadata": {
    "collapsed": true
   },
   "outputs": [],
   "source": []
  },
  {
   "cell_type": "code",
   "execution_count": null,
   "metadata": {
    "collapsed": true
   },
   "outputs": [],
   "source": []
  },
  {
   "cell_type": "code",
   "execution_count": null,
   "metadata": {
    "collapsed": true
   },
   "outputs": [],
   "source": []
  },
  {
   "cell_type": "code",
   "execution_count": null,
   "metadata": {
    "collapsed": true
   },
   "outputs": [],
   "source": []
  },
  {
   "cell_type": "code",
   "execution_count": null,
   "metadata": {
    "collapsed": true
   },
   "outputs": [],
   "source": []
  },
  {
   "cell_type": "code",
   "execution_count": null,
   "metadata": {
    "collapsed": true
   },
   "outputs": [],
   "source": []
  },
  {
   "cell_type": "code",
   "execution_count": null,
   "metadata": {
    "collapsed": true
   },
   "outputs": [],
   "source": []
  },
  {
   "cell_type": "code",
   "execution_count": null,
   "metadata": {
    "collapsed": true
   },
   "outputs": [],
   "source": []
  },
  {
   "cell_type": "code",
   "execution_count": null,
   "metadata": {
    "collapsed": true
   },
   "outputs": [],
   "source": []
  },
  {
   "cell_type": "code",
   "execution_count": null,
   "metadata": {
    "collapsed": true
   },
   "outputs": [],
   "source": []
  },
  {
   "cell_type": "code",
   "execution_count": null,
   "metadata": {
    "collapsed": true
   },
   "outputs": [],
   "source": []
  },
  {
   "cell_type": "code",
   "execution_count": null,
   "metadata": {
    "collapsed": true
   },
   "outputs": [],
   "source": []
  },
  {
   "cell_type": "code",
   "execution_count": null,
   "metadata": {
    "collapsed": true
   },
   "outputs": [],
   "source": []
  },
  {
   "cell_type": "code",
   "execution_count": null,
   "metadata": {
    "collapsed": true
   },
   "outputs": [],
   "source": []
  },
  {
   "cell_type": "code",
   "execution_count": null,
   "metadata": {
    "collapsed": true
   },
   "outputs": [],
   "source": []
  },
  {
   "cell_type": "code",
   "execution_count": null,
   "metadata": {
    "collapsed": true
   },
   "outputs": [],
   "source": []
  },
  {
   "cell_type": "code",
   "execution_count": null,
   "metadata": {
    "collapsed": true
   },
   "outputs": [],
   "source": []
  },
  {
   "cell_type": "code",
   "execution_count": null,
   "metadata": {
    "collapsed": true
   },
   "outputs": [],
   "source": []
  },
  {
   "cell_type": "code",
   "execution_count": null,
   "metadata": {
    "collapsed": true
   },
   "outputs": [],
   "source": []
  },
  {
   "cell_type": "code",
   "execution_count": null,
   "metadata": {
    "collapsed": true
   },
   "outputs": [],
   "source": []
  },
  {
   "cell_type": "code",
   "execution_count": null,
   "metadata": {
    "collapsed": true
   },
   "outputs": [],
   "source": []
  },
  {
   "cell_type": "code",
   "execution_count": null,
   "metadata": {
    "collapsed": true
   },
   "outputs": [],
   "source": []
  },
  {
   "cell_type": "code",
   "execution_count": null,
   "metadata": {
    "collapsed": true
   },
   "outputs": [],
   "source": []
  },
  {
   "cell_type": "code",
   "execution_count": null,
   "metadata": {
    "collapsed": true
   },
   "outputs": [],
   "source": []
  },
  {
   "cell_type": "code",
   "execution_count": null,
   "metadata": {
    "collapsed": true
   },
   "outputs": [],
   "source": []
  },
  {
   "cell_type": "code",
   "execution_count": null,
   "metadata": {
    "collapsed": true
   },
   "outputs": [],
   "source": []
  },
  {
   "cell_type": "code",
   "execution_count": null,
   "metadata": {
    "collapsed": true
   },
   "outputs": [],
   "source": []
  },
  {
   "cell_type": "code",
   "execution_count": null,
   "metadata": {
    "collapsed": true
   },
   "outputs": [],
   "source": []
  },
  {
   "cell_type": "code",
   "execution_count": null,
   "metadata": {
    "collapsed": true
   },
   "outputs": [],
   "source": []
  },
  {
   "cell_type": "code",
   "execution_count": null,
   "metadata": {
    "collapsed": true
   },
   "outputs": [],
   "source": []
  },
  {
   "cell_type": "code",
   "execution_count": null,
   "metadata": {
    "collapsed": true
   },
   "outputs": [],
   "source": []
  },
  {
   "cell_type": "code",
   "execution_count": null,
   "metadata": {
    "collapsed": true
   },
   "outputs": [],
   "source": []
  },
  {
   "cell_type": "code",
   "execution_count": null,
   "metadata": {
    "collapsed": true
   },
   "outputs": [],
   "source": []
  }
 ],
 "metadata": {
  "kernelspec": {
   "display_name": "Python 2",
   "language": "python",
   "name": "python2"
  },
  "language_info": {
   "codemirror_mode": {
    "name": "ipython",
    "version": 2
   },
   "file_extension": ".py",
   "mimetype": "text/x-python",
   "name": "python",
   "nbconvert_exporter": "python",
   "pygments_lexer": "ipython2",
   "version": "2.7.12"
  }
 },
 "nbformat": 4,
 "nbformat_minor": 2
}
