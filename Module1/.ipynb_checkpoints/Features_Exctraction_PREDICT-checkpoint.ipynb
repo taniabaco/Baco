{
 "cells": [
  {
   "cell_type": "markdown",
   "metadata": {},
   "source": [
    "## Calculating WND-CHARM Features for grayscale images"
   ]
  },
  {
   "cell_type": "code",
   "execution_count": 3,
   "metadata": {
    "collapsed": true
   },
   "outputs": [],
   "source": [
    "from functools import partial\n",
    "import multiprocessing\n",
    "import pandas as pd\n",
    "import numpy as np"
   ]
  },
  {
   "cell_type": "code",
   "execution_count": 4,
   "metadata": {
    "collapsed": true
   },
   "outputs": [],
   "source": [
    "from wndcharm.PyImageMatrix import PyImageMatrix\n",
    "from wndcharm.FeatureVector import FeatureVector\n",
    "import time"
   ]
  },
  {
   "cell_type": "code",
   "execution_count": 14,
   "metadata": {
    "collapsed": true
   },
   "outputs": [],
   "source": [
    "def Features_calcul_np_GrayscaleIm_WND(ind,nb_features,w, h, GRAY):\n",
    "    FV=np.empty([nb_features])\n",
    "    matrix = PyImageMatrix()\n",
    "    matrix.allocate(h, w)\n",
    "    numpy_matrix = matrix.as_ndarray()\n",
    "    numpy_matrix[:] = GRAY[:,:][ind]\n",
    "    fv = FeatureVector( name='stufff', long=True, original_px_plane=matrix )\n",
    "    t1 = time.time()\n",
    "    fv.GenerateFeatures(quiet=True, write_to_disk=False)\n",
    "    t2 = time.time()\n",
    "    \n",
    "    FV[:]=fv.values\n",
    "    Names=fv.feature_names\n",
    "    FV\n",
    "    return(FV,Names)"
   ]
  },
  {
   "cell_type": "markdown",
   "metadata": {
    "collapsed": true
   },
   "source": [
    "### Define Metrics values ( in WND Charm, number of feature is equal to 2919)"
   ]
  },
  {
   "cell_type": "code",
   "execution_count": 5,
   "metadata": {
    "collapsed": true
   },
   "outputs": [],
   "source": [
    "%run ./configure.ipynb"
   ]
  },
  {
   "cell_type": "code",
   "execution_count": 6,
   "metadata": {},
   "outputs": [],
   "source": [
    "filename_GRAY_IM_TEST_PRED =projectpath+'io/Output/GRAY_IM_TEST_PRED.npy'\n",
    "GRAY_IM_TEST8PRED_parallel=np.load(filename_GRAY_IM_TEST_PRED)"
   ]
  },
  {
   "cell_type": "code",
   "execution_count": 11,
   "metadata": {
    "collapsed": true
   },
   "outputs": [],
   "source": [
    "# imageId=451\n",
    "# zsize=3\n",
    "# heigth=50\n",
    "# weigth=50\n",
    "# nidx=Data_FRAMES.shape[0]"
   ]
  },
  {
   "cell_type": "code",
   "execution_count": 7,
   "metadata": {
    "collapsed": true
   },
   "outputs": [],
   "source": [
    "# TEST avec h=w=285\n",
    "\n",
    "imageId=451\n",
    "zsize=3\n",
    "heigth=25\n",
    "weigth=25\n",
    "nidx=GRAY_IM_TEST8PRED_parallel.shape[0]"
   ]
  },
  {
   "cell_type": "code",
   "execution_count": 12,
   "metadata": {
    "collapsed": true
   },
   "outputs": [],
   "source": [
    "nb_features=2919"
   ]
  },
  {
   "cell_type": "raw",
   "metadata": {
    "collapsed": true
   },
   "source": [
    "partial_get_FEATURES = partial(Features_calcul_np_GrayscaleIm_WND, nb_features=nb_features, w=weigth, h=heigth, GRAY=GRAY_IM_TEST8PRED_parallel)"
   ]
  },
  {
   "cell_type": "raw",
   "metadata": {
    "collapsed": true
   },
   "source": [
    "# get raw data using multiprocesses\n",
    "pool = multiprocessing.Pool(27)\n",
    "Featur = pool.map(partial_get_FEATURES,xrange(nidx))\n",
    "pool.close()"
   ]
  },
  {
   "cell_type": "markdown",
   "metadata": {},
   "source": [
    "## Save the extracted Features"
   ]
  },
  {
   "cell_type": "code",
   "execution_count": null,
   "metadata": {
    "collapsed": true
   },
   "outputs": [],
   "source": [
    "filename_FEATURES_TEST =projectpath+'io/Output/FEATURES_TEST.npy'"
   ]
  },
  {
   "cell_type": "raw",
   "metadata": {
    "collapsed": true
   },
   "source": [
    "np.save(filename_FEATURES_TEST,Featur)"
   ]
  }
 ],
 "metadata": {
  "kernelspec": {
   "display_name": "Python 2",
   "language": "python",
   "name": "python2"
  },
  "language_info": {
   "codemirror_mode": {
    "name": "ipython",
    "version": 2
   },
   "file_extension": ".py",
   "mimetype": "text/x-python",
   "name": "python",
   "nbconvert_exporter": "python",
   "pygments_lexer": "ipython2",
   "version": "2.7.12"
  }
 },
 "nbformat": 4,
 "nbformat_minor": 2
}
