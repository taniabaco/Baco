{
 "cells": [
  {
   "cell_type": "markdown",
   "metadata": {},
   "source": [
    "# Pipeline : build a classifier\n",
    "## data processing of the manually annoted dataset\n",
    "## image processing : extraction of RGB volumes\n",
    "## classifier based on WND-charm Model\n",
    "## PCA & RDF\n",
    "## Analyse False Positives"
   ]
  },
  {
   "cell_type": "code",
   "execution_count": 1,
   "metadata": {
    "collapsed": true
   },
   "outputs": [],
   "source": [
    "import numpy as np\n",
    "import pandas as pd\n",
    "from functools import partial\n",
    "import multiprocessing\n",
    "%matplotlib inline\n",
    "import matplotlib.pyplot as plt\n",
    "import matplotlib.image as mpimg\n",
    "import matplotlib.colors as cm"
   ]
  },
  {
   "cell_type": "code",
   "execution_count": 2,
   "metadata": {
    "collapsed": true
   },
   "outputs": [],
   "source": [
    "%run ./configure.ipynb"
   ]
  },
  {
   "cell_type": "code",
   "execution_count": 3,
   "metadata": {
    "collapsed": true
   },
   "outputs": [],
   "source": [
    "%run ../Connection_to_server.ipynb"
   ]
  },
  {
   "cell_type": "markdown",
   "metadata": {},
   "source": [
    "## Load the pre-processed Data "
   ]
  },
  {
   "cell_type": "code",
   "execution_count": 4,
   "metadata": {
    "collapsed": true
   },
   "outputs": [],
   "source": [
    "%run ./DF_Pre_Processing_MOINS_Neurons.ipynb"
   ]
  },
  {
   "cell_type": "markdown",
   "metadata": {},
   "source": [
    "# 1- Pre- processing of Original Data"
   ]
  },
  {
   "cell_type": "code",
   "execution_count": 5,
   "metadata": {
    "collapsed": true
   },
   "outputs": [],
   "source": [
    "Data_FRAMES=pd.read_pickle(projectpath+'io/Output/Data_FRAMES.pkl')"
   ]
  },
  {
   "cell_type": "code",
   "execution_count": null,
   "metadata": {},
   "outputs": [],
   "source": []
  },
  {
   "cell_type": "markdown",
   "metadata": {},
   "source": [
    "# 2- Get volumes with Multiprocessing"
   ]
  },
  {
   "cell_type": "code",
   "execution_count": null,
   "metadata": {
    "collapsed": true
   },
   "outputs": [],
   "source": [
    "%run ./Get_Partial_Data.ipynb"
   ]
  },
  {
   "cell_type": "markdown",
   "metadata": {},
   "source": [
    "## Load Normalized volums as numpy array"
   ]
  },
  {
   "cell_type": "code",
   "execution_count": null,
   "metadata": {
    "collapsed": true
   },
   "outputs": [],
   "source": [
    "filename_M_DF =projectpath+'io/Output/M_DF.npy'"
   ]
  },
  {
   "cell_type": "code",
   "execution_count": null,
   "metadata": {
    "collapsed": true
   },
   "outputs": [],
   "source": [
    "M_DF_parallel=np.load(filename_M_DF)"
   ]
  },
  {
   "cell_type": "markdown",
   "metadata": {},
   "source": [
    "# 3- Display the RGB images corresponding to normalized volums"
   ]
  },
  {
   "cell_type": "code",
   "execution_count": null,
   "metadata": {
    "collapsed": true
   },
   "outputs": [],
   "source": [
    "%run ./Display_RGB_Vol.ipynb"
   ]
  },
  {
   "cell_type": "raw",
   "metadata": {},
   "source": [
    "PLOT_Im(M_DF_parallel[1])"
   ]
  },
  {
   "cell_type": "markdown",
   "metadata": {},
   "source": [
    "# 4- WND CHARM Method"
   ]
  },
  {
   "cell_type": "markdown",
   "metadata": {},
   "source": [
    "## 4.1- Convert RGB images to Grayscale"
   ]
  },
  {
   "cell_type": "code",
   "execution_count": null,
   "metadata": {
    "collapsed": true
   },
   "outputs": [],
   "source": [
    "%run ./RGB2GRAY.ipynb"
   ]
  },
  {
   "cell_type": "markdown",
   "metadata": {},
   "source": [
    "## Load the gray images as numpy array"
   ]
  },
  {
   "cell_type": "code",
   "execution_count": null,
   "metadata": {
    "collapsed": true
   },
   "outputs": [],
   "source": [
    "filename_Gray_IM =projectpath+'io/Output/GRAY_IM.npy'"
   ]
  },
  {
   "cell_type": "code",
   "execution_count": null,
   "metadata": {
    "collapsed": true
   },
   "outputs": [],
   "source": [
    "GRAY_IM_parallel=np.load(filename_Gray_IM)"
   ]
  },
  {
   "cell_type": "markdown",
   "metadata": {},
   "source": [
    "# Display images by class ( 1 or 2)"
   ]
  },
  {
   "cell_type": "raw",
   "metadata": {
    "collapsed": true
   },
   "source": [
    "AA=Data_FRAMES.loc[Data_FRAMES.TYPE==1].copy()\n",
    "AA=AA.indice\n",
    "AA = np.asarray(AA)\n",
    "\n",
    "NN=Data_FRAMES.loc[Data_FRAMES.TYPE==2].copy()\n",
    "NN=NN.indice\n",
    "NN = np.asarray(NN)"
   ]
  },
  {
   "cell_type": "raw",
   "metadata": {
    "collapsed": true
   },
   "source": [
    "def Plot_IMG_By_Class(GRAY_IM, fail_IMG):\n",
    "    fig = plt.figure(figsize=(12, 12))\n",
    "    fig.subplots_adjust(hspace=0.3, wspace=0.2)\n",
    "    for i in range(1,100 ): \n",
    "        plt.subplot(10, 10, i)\n",
    "        plt.title(int(fail_IMG[i-1]))\n",
    "        plt.imshow(GRAY_IM[int(fail_IMG[i-1])])"
   ]
  },
  {
   "cell_type": "raw",
   "metadata": {},
   "source": [
    "Plot_IMG_By_Class(GRAY_IM_parallel, AA)"
   ]
  },
  {
   "cell_type": "raw",
   "metadata": {},
   "source": [
    "Plot_IMG_By_Class(GRAY_IM_parallel, NN)"
   ]
  },
  {
   "cell_type": "markdown",
   "metadata": {},
   "source": [
    "# New Data_frame without strange images "
   ]
  },
  {
   "cell_type": "raw",
   "metadata": {
    "collapsed": true
   },
   "source": [
    "Data_FRAMES_NEW=Data_FRAMES.copy()"
   ]
  },
  {
   "cell_type": "raw",
   "metadata": {
    "collapsed": true
   },
   "source": [
    "Data_FRAMES_NEW=Data_FRAMES_NEW.loc[Data_FRAMES_NEW.indice!=7]\n",
    "Data_FRAMES_NEW=Data_FRAMES_NEW.loc[Data_FRAMES_NEW.indice!=8]\n",
    "Data_FRAMES_NEW=Data_FRAMES_NEW.loc[Data_FRAMES_NEW.indice!=24]\n",
    "Data_FRAMES_NEW=Data_FRAMES_NEW.loc[Data_FRAMES_NEW.indice!=25]\n",
    "Data_FRAMES_NEW=Data_FRAMES_NEW.loc[Data_FRAMES_NEW.indice!=53]\n",
    "Data_FRAMES_NEW=Data_FRAMES_NEW.loc[Data_FRAMES_NEW.indice!=247]\n",
    "Data_FRAMES_NEW=Data_FRAMES_NEW.loc[Data_FRAMES_NEW.indice!=252]\n",
    "Data_FRAMES_NEW=Data_FRAMES_NEW.loc[Data_FRAMES_NEW.indice!=297]\n",
    "Data_FRAMES_NEW=Data_FRAMES_NEW.loc[Data_FRAMES_NEW.indice!=292]\n",
    "Data_FRAMES_NEW=Data_FRAMES_NEW.loc[Data_FRAMES_NEW.indice!=338]\n",
    "Data_FRAMES_NEW=Data_FRAMES_NEW.loc[Data_FRAMES_NEW.indice!=342]\n",
    "Data_FRAMES_NEW=Data_FRAMES_NEW.loc[Data_FRAMES_NEW.indice!=388]\n",
    "Data_FRAMES_NEW=Data_FRAMES_NEW.loc[Data_FRAMES_NEW.indice!=394]\n",
    "Data_FRAMES_NEW=Data_FRAMES_NEW.loc[Data_FRAMES_NEW.indice!=409]\n",
    "Data_FRAMES_NEW=Data_FRAMES_NEW.loc[Data_FRAMES_NEW.indice!=419]\n",
    "Data_FRAMES_NEW=Data_FRAMES_NEW.loc[Data_FRAMES_NEW.indice!=449]\n",
    "Data_FRAMES_NEW=Data_FRAMES_NEW.loc[Data_FRAMES_NEW.indice!=502]\n",
    "Data_FRAMES_NEW=Data_FRAMES_NEW.loc[Data_FRAMES_NEW.indice!=517]\n",
    "Data_FRAMES_NEW=Data_FRAMES_NEW.loc[Data_FRAMES_NEW.indice!=612]\n",
    "Data_FRAMES_NEW=Data_FRAMES_NEW.loc[Data_FRAMES_NEW.indice!=821]\n",
    "Data_FRAMES_NEW=Data_FRAMES_NEW.loc[Data_FRAMES_NEW.indice!=926]\n",
    "Data_FRAMES_NEW=Data_FRAMES_NEW.loc[Data_FRAMES_NEW.indice!=974]\n",
    "Data_FRAMES_NEW=Data_FRAMES_NEW.loc[Data_FRAMES_NEW.indice!=1042]\n"
   ]
  },
  {
   "cell_type": "raw",
   "metadata": {
    "collapsed": true
   },
   "source": [
    "Data_FRAMES_NEW.to_pickle(projectpath+'io/Output/Data_FRAMES.pkl')"
   ]
  },
  {
   "cell_type": "raw",
   "metadata": {
    "collapsed": true
   },
   "source": [
    "Data_FRAMES=pd.read_pickle(projectpath+'io/Output/Data_FRAMES.pkl')"
   ]
  },
  {
   "cell_type": "raw",
   "metadata": {
    "collapsed": true
   },
   "source": [
    "%run ./DF_Pre_Processing_MOINS_Neurons.ipynb"
   ]
  },
  {
   "cell_type": "markdown",
   "metadata": {},
   "source": [
    "################ essai de predire les cells d un clone"
   ]
  },
  {
   "cell_type": "code",
   "execution_count": null,
   "metadata": {
    "collapsed": true
   },
   "outputs": [],
   "source": [
    "df_clone=Data_FRAMES[Data_FRAMES.Clone==2].copy()"
   ]
  },
  {
   "cell_type": "code",
   "execution_count": null,
   "metadata": {
    "collapsed": true
   },
   "outputs": [],
   "source": [
    "df_clone.to_pickle(projectpath+'io/Output/df_clone.pkl')"
   ]
  },
  {
   "cell_type": "code",
   "execution_count": null,
   "metadata": {
    "collapsed": true
   },
   "outputs": [],
   "source": [
    "df_clone=pd.read_pickle(projectpath+'io/Output/df_clone.pkl')"
   ]
  },
  {
   "cell_type": "code",
   "execution_count": null,
   "metadata": {
    "collapsed": true
   },
   "outputs": [],
   "source": [
    "df_clone.head(18)"
   ]
  },
  {
   "cell_type": "code",
   "execution_count": null,
   "metadata": {
    "collapsed": true
   },
   "outputs": [],
   "source": [
    "\n"
   ]
  },
  {
   "cell_type": "code",
   "execution_count": null,
   "metadata": {
    "collapsed": true
   },
   "outputs": [],
   "source": []
  },
  {
   "cell_type": "code",
   "execution_count": null,
   "metadata": {
    "collapsed": true
   },
   "outputs": [],
   "source": []
  },
  {
   "cell_type": "code",
   "execution_count": null,
   "metadata": {
    "collapsed": true
   },
   "outputs": [],
   "source": []
  },
  {
   "cell_type": "markdown",
   "metadata": {},
   "source": [
    "# Get the volums for the new data frame..."
   ]
  },
  {
   "cell_type": "code",
   "execution_count": null,
   "metadata": {
    "collapsed": true
   },
   "outputs": [],
   "source": [
    "%run ./Get_Partial_Data.ipynb"
   ]
  },
  {
   "cell_type": "code",
   "execution_count": null,
   "metadata": {
    "collapsed": true
   },
   "outputs": [],
   "source": [
    "filename_M_DF =projectpath+'io/Output/M_DF.npy'"
   ]
  },
  {
   "cell_type": "code",
   "execution_count": null,
   "metadata": {
    "collapsed": true
   },
   "outputs": [],
   "source": [
    "M_DF_parallel=np.load(filename_M_DF)"
   ]
  },
  {
   "cell_type": "code",
   "execution_count": null,
   "metadata": {
    "collapsed": true
   },
   "outputs": [],
   "source": [
    "%run ./RGB2GRAY.ipynb"
   ]
  },
  {
   "cell_type": "code",
   "execution_count": null,
   "metadata": {
    "collapsed": true
   },
   "outputs": [],
   "source": [
    "filename_Gray_IM =projectpath+'io/Output/GRAY_IM.npy'"
   ]
  },
  {
   "cell_type": "code",
   "execution_count": null,
   "metadata": {
    "collapsed": true
   },
   "outputs": [],
   "source": [
    "GRAY_IM_parallel=np.load(filename_Gray_IM)"
   ]
  },
  {
   "cell_type": "markdown",
   "metadata": {},
   "source": [
    "## 4.2- Extraction of the WND-CHARM Features"
   ]
  },
  {
   "cell_type": "code",
   "execution_count": null,
   "metadata": {
    "collapsed": true
   },
   "outputs": [],
   "source": [
    "%run ./Features_Exctraction.ipynb"
   ]
  },
  {
   "cell_type": "markdown",
   "metadata": {},
   "source": []
  },
  {
   "cell_type": "markdown",
   "metadata": {},
   "source": [
    "## Load the extracted Features"
   ]
  },
  {
   "cell_type": "code",
   "execution_count": null,
   "metadata": {
    "collapsed": true
   },
   "outputs": [],
   "source": [
    "filename_FEATURES =projectpath+'io/Output/FEATURES.npy'"
   ]
  },
  {
   "cell_type": "code",
   "execution_count": null,
   "metadata": {
    "collapsed": true
   },
   "outputs": [],
   "source": [
    "FEATURES=np.load(filename_FEATURES)"
   ]
  },
  {
   "cell_type": "markdown",
   "metadata": {},
   "source": [
    "## Etablish one np.array for the Features' Names & another one for Features' Values"
   ]
  },
  {
   "cell_type": "code",
   "execution_count": null,
   "metadata": {
    "collapsed": true
   },
   "outputs": [],
   "source": [
    "FEAT_NAMES=FEATURES[:,1,:]"
   ]
  },
  {
   "cell_type": "code",
   "execution_count": null,
   "metadata": {
    "collapsed": true
   },
   "outputs": [],
   "source": [
    "FEAT_VALUES=FEATURES[:,0,:]"
   ]
  },
  {
   "cell_type": "code",
   "execution_count": null,
   "metadata": {
    "collapsed": true
   },
   "outputs": [],
   "source": [
    "FEAT_VALUES=FEAT_VALUES.astype(float)"
   ]
  },
  {
   "cell_type": "code",
   "execution_count": null,
   "metadata": {
    "collapsed": true
   },
   "outputs": [],
   "source": [
    "filename_FEATURES_Val =projectpath+'io/Output/FEATURES_Val.npy'"
   ]
  },
  {
   "cell_type": "code",
   "execution_count": null,
   "metadata": {
    "collapsed": true
   },
   "outputs": [],
   "source": [
    "np.save(filename_FEATURES_Val,FEAT_VALUES)"
   ]
  },
  {
   "cell_type": "code",
   "execution_count": null,
   "metadata": {
    "collapsed": true
   },
   "outputs": [],
   "source": [
    "FEAT_VALUES=np.load(filename_FEATURES_Val)"
   ]
  },
  {
   "cell_type": "markdown",
   "metadata": {},
   "source": [
    "# 4.3- Features Post- processing"
   ]
  },
  {
   "cell_type": "markdown",
   "metadata": {},
   "source": [
    "## A- Get the normalized Features"
   ]
  },
  {
   "cell_type": "code",
   "execution_count": null,
   "metadata": {
    "collapsed": true
   },
   "outputs": [],
   "source": [
    "%run ./Features_Normalization.ipynb"
   ]
  },
  {
   "cell_type": "markdown",
   "metadata": {},
   "source": [
    "## Load the Normalized Features values"
   ]
  },
  {
   "cell_type": "code",
   "execution_count": null,
   "metadata": {
    "collapsed": true
   },
   "outputs": [],
   "source": [
    "filename_FVN =projectpath+'io/Output/FV_N.npy'"
   ]
  },
  {
   "cell_type": "code",
   "execution_count": null,
   "metadata": {
    "collapsed": true
   },
   "outputs": [],
   "source": [
    "FV_N=np.load(filename_FVN)"
   ]
  },
  {
   "cell_type": "markdown",
   "metadata": {},
   "source": [
    "# PCA & Random Forest Classification"
   ]
  },
  {
   "cell_type": "code",
   "execution_count": null,
   "metadata": {},
   "outputs": [],
   "source": [
    "%run ./Pipeline_PCA_RANDOM_Forest_Copy1.ipynb"
   ]
  },
  {
   "cell_type": "markdown",
   "metadata": {},
   "source": [
    "# Imshow specific images to understand non differentiation in PCA model"
   ]
  },
  {
   "cell_type": "raw",
   "metadata": {
    "collapsed": true
   },
   "source": [
    "%run ./track_images_from_PCA.ipynb"
   ]
  },
  {
   "cell_type": "raw",
   "metadata": {
    "collapsed": true
   },
   "source": [
    "# ddf=indexing_DF_borders(Data_FRAMES, M, 25, 38)"
   ]
  },
  {
   "cell_type": "raw",
   "metadata": {
    "collapsed": true
   },
   "source": [
    "# save to file\n",
    "filename_DF_PCA =projectpath+'io/Output/DF_PCA.npy'"
   ]
  },
  {
   "cell_type": "raw",
   "metadata": {
    "collapsed": true
   },
   "source": [
    "np.save(filename_DF_PCA, ddf)"
   ]
  },
  {
   "cell_type": "raw",
   "metadata": {
    "collapsed": true
   },
   "source": [
    "DF_PCA=np.load(filename_DF_PCA)"
   ]
  },
  {
   "cell_type": "code",
   "execution_count": null,
   "metadata": {
    "collapsed": true
   },
   "outputs": [],
   "source": [
    "sns.reset_orig() "
   ]
  },
  {
   "cell_type": "raw",
   "metadata": {
    "collapsed": true
   },
   "source": [
    "%matplotlib notebook"
   ]
  },
  {
   "cell_type": "raw",
   "metadata": {},
   "source": [
    "Plot_Strange_Vol_per_Class(GRAY_IM_parallel, 2, DF_PCA)"
   ]
  },
  {
   "cell_type": "markdown",
   "metadata": {},
   "source": [
    "# process in order to display false predicted images"
   ]
  },
  {
   "cell_type": "code",
   "execution_count": null,
   "metadata": {
    "collapsed": true
   },
   "outputs": [],
   "source": [
    "def Get_IMG_failed_prediction(Validation_label_,predictions_RFC):\n",
    "\n",
    "    fail_img_pred_N=np.zeros(Validation_label_.shape[0])\n",
    "    fail_img_pred_A=np.zeros(Validation_label_.shape[0])\n",
    "#     fail_img_pred_R=np.zeros(Validation_label_.shape[0])\n",
    "\n",
    "    for t in range(0,Validation_label_.shape[0] ):\n",
    "        if ((predictions_RFC[t]==1) & (Validation_label_[t]!=1)):\n",
    "            fail_img_pred_A[t]=t\n",
    "\n",
    "        if ((predictions_RFC[t]==2) & (Validation_label_[t]!=2)):\n",
    "            fail_img_pred_N[t]=t\n",
    "               \n",
    "#         if ((predictions_RFC[t]!=0) & (Validation_label_[t]==0) ):\n",
    "#             fail_img_pred_R[t]=t\n",
    "        \n",
    "\n",
    "    fail_img_pred_N=fail_img_pred_N[fail_img_pred_N!=0]\n",
    "    fail_img_pred_A=fail_img_pred_A[fail_img_pred_A!=0]\n",
    "#     fail_img_pred_R=fail_img_pred_R[fail_img_pred_R!=0]\n",
    "#     return(fail_img_pred_N,fail_img_pred_A,fail_img_pred_R)\n",
    "    return(fail_img_pred_N,fail_img_pred_A)"
   ]
  },
  {
   "cell_type": "code",
   "execution_count": null,
   "metadata": {
    "collapsed": true
   },
   "outputs": [],
   "source": [
    "(fail_img_pred_Neurons,fail_img_pred_Astrocytes)=Get_IMG_failed_prediction(yr,predictedVAL)"
   ]
  },
  {
   "cell_type": "code",
   "execution_count": null,
   "metadata": {
    "collapsed": true
   },
   "outputs": [],
   "source": [
    "fail_img_pred_Neurons.shape"
   ]
  },
  {
   "cell_type": "code",
   "execution_count": null,
   "metadata": {
    "collapsed": true
   },
   "outputs": [],
   "source": [
    "sns.reset_orig() # sns.set()"
   ]
  },
  {
   "cell_type": "code",
   "execution_count": null,
   "metadata": {
    "collapsed": true
   },
   "outputs": [],
   "source": [
    "def Plot_Failed_IMG(GRAY_IM, fail_IMG):\n",
    "    fig = plt.figure(figsize=(12, 12))\n",
    "    fig.subplots_adjust(hspace=0.2, wspace=0.2)\n",
    "    for i in range(1,23): \n",
    "        plt.subplot(6,4, i)\n",
    "        plt.title(int(fail_IMG[i-1]))\n",
    "        plt.imshow(GRAY_IM[int(fail_IMG[i-1])])\n",
    "       "
   ]
  },
  {
   "cell_type": "code",
   "execution_count": null,
   "metadata": {
    "collapsed": true
   },
   "outputs": [],
   "source": [
    "%matplotlib notebook"
   ]
  },
  {
   "cell_type": "raw",
   "metadata": {},
   "source": [
    "Plot_Failed_IMG(GRAY_IM_parallel, fail_img_pred_Astrocytes)"
   ]
  },
  {
   "cell_type": "raw",
   "metadata": {},
   "source": [
    "Plot_Failed_IMG(GRAY_IM_parallel, fail_img_pred_Neurons)"
   ]
  },
  {
   "cell_type": "code",
   "execution_count": null,
   "metadata": {
    "collapsed": true
   },
   "outputs": [],
   "source": [
    "def Get_DF_failed_predicions(Data_frame, fail_img_prediction):\n",
    "    newDF=pd.DataFrame(data=None, columns=Data_frame.columns)\n",
    "    for i in range(0, len(fail_img_prediction) ):\n",
    "        newDF = newDF.append(Data_frame.loc[Data_frame.indice==(fail_img_prediction[i])].copy())\n",
    "    return(newDF)"
   ]
  },
  {
   "cell_type": "code",
   "execution_count": null,
   "metadata": {
    "collapsed": true
   },
   "outputs": [],
   "source": [
    "Data_F_fail_Neurons=Get_DF_failed_predicions(Data_FRAMES, fail_img_pred_Neurons)"
   ]
  },
  {
   "cell_type": "code",
   "execution_count": null,
   "metadata": {
    "collapsed": true
   },
   "outputs": [],
   "source": [
    "Data_F_fail_Astrocytes=Get_DF_failed_predicions(Data_FRAMES, fail_img_pred_Astrocytes)"
   ]
  },
  {
   "cell_type": "markdown",
   "metadata": {
    "collapsed": true
   },
   "source": [
    "# test prediction sur  1 clone"
   ]
  },
  {
   "cell_type": "code",
   "execution_count": null,
   "metadata": {
    "collapsed": true
   },
   "outputs": [],
   "source": [
    "df_clone=Data_FRAMES[Data_FRAMES.Clone==2].copy()"
   ]
  },
  {
   "cell_type": "code",
   "execution_count": null,
   "metadata": {
    "collapsed": true
   },
   "outputs": [],
   "source": [
    "df_clone.head()"
   ]
  },
  {
   "cell_type": "code",
   "execution_count": null,
   "metadata": {
    "collapsed": true
   },
   "outputs": [],
   "source": [
    "import numpy as np\n",
    "import pandas as pd\n",
    "from functools import partial\n",
    "import multiprocessing"
   ]
  },
  {
   "cell_type": "code",
   "execution_count": null,
   "metadata": {
    "collapsed": true
   },
   "outputs": [],
   "source": [
    "GG=pd.read_pickle(projectpath+'io/Output/Data_FRAMES.pkl')"
   ]
  },
  {
   "cell_type": "code",
   "execution_count": null,
   "metadata": {
    "collapsed": true
   },
   "outputs": [],
   "source": [
    "conn = BlitzGateway('tbacoyannis','d33pl34rn1ng',port=4064,host='chinensis.polytechnique.fr')\n",
    "connected = conn.connect()\n",
    "\n",
    "imageId = 451\n",
    "image = conn.getObject(\"Image\", imageId)\n",
    "pixels = image.getPrimaryPixels() # get raw pixels information"
   ]
  },
  {
   "cell_type": "code",
   "execution_count": null,
   "metadata": {
    "collapsed": true
   },
   "outputs": [],
   "source": [
    "print image.getName(), image.getDescription()\n",
    "# Retrieve information about an image.\n",
    "print \" X:\", image.getSizeX()\n",
    "print \" Y:\", image.getSizeY()\n",
    "print \" Z:\", image.getSizeZ()\n",
    "print \" C:\", image.getSizeC()\n",
    "print \" T:\", image.getSizeT()"
   ]
  },
  {
   "cell_type": "code",
   "execution_count": null,
   "metadata": {
    "collapsed": true
   },
   "outputs": [],
   "source": [
    "size_x=image.getSizeX()\n",
    "size_y=image.getSizeY()\n",
    "size_z = image.getSizeZ()\n",
    "size_c = image.getSizeC()\n",
    "size_t = image.getSizeT()\n",
    "z, t, c = 0, 0, 0\n",
    "pixels = image.getPrimaryPixels()\n",
    "plane = pixels.getPlane(z, c, t)      # get a numpy array.\n"
   ]
  },
  {
   "cell_type": "code",
   "execution_count": null,
   "metadata": {
    "collapsed": true
   },
   "outputs": [],
   "source": []
  },
  {
   "cell_type": "code",
   "execution_count": null,
   "metadata": {
    "collapsed": true
   },
   "outputs": [],
   "source": []
  },
  {
   "cell_type": "code",
   "execution_count": null,
   "metadata": {
    "collapsed": true
   },
   "outputs": [],
   "source": [
    "# Get a Z-stack of tiles. Using getTiles or getPlanes (see below) returns\n",
    "# a generator of data (not all the data in hand) The RawPixelsStore is\n",
    "# only opened once (not closed after each plane) Alternative is to use\n",
    "# getPlane() or getTile() multiple times - slightly slower.\n",
    "c, t = 0, 0                 # First channel and timepoint\n",
    "tile = (50, 50, 10, 10)     # x, y, width, height of tile\n",
    "\n",
    "# list of [ (0,0,0,(x,y,w,h)), (1,0,0,(x,y,w,h)), (2,0,0,(x,y,w,h))... ]\n",
    "zct_list = [(iz, c, t, tile) for iz in range(3)]\n",
    "print \"\\nZ stack of tiles:\"\n",
    "planes = pixels.getTiles(zct_list)\n",
    "for i, p in enumerate(planes):\n",
    "    print \"Tile:\", zct_list[i], \" min:\", p.min(),\\\n",
    "        \" max:\", p.max(), \" sum:\", p.sum()"
   ]
  },
  {
   "cell_type": "code",
   "execution_count": null,
   "metadata": {
    "collapsed": true
   },
   "outputs": [],
   "source": [
    "updateService = conn.getUpdateService()"
   ]
  },
  {
   "cell_type": "code",
   "execution_count": null,
   "metadata": {
    "collapsed": true
   },
   "outputs": [],
   "source": []
  },
  {
   "cell_type": "raw",
   "metadata": {
    "collapsed": true
   },
   "source": [
    "# We have a helper function for creating an ROI and linking it to new shapes\n",
    "def create_roi(img, shapes):\n",
    "    # create an ROI, link it to Image\n",
    "    roi = omero.model.RoiI()\n",
    "    # use the omero.model.ImageI that underlies the 'image' wrapper\n",
    "    roi.setImage(img._obj)\n",
    "    #for shape in shapes:\n",
    "    roi.addShape(shapes)\n",
    "    # Save the ROI (saves any linked shapes too)\n",
    "    return updateService.saveAndReturnObject(roi)"
   ]
  },
  {
   "cell_type": "raw",
   "metadata": {},
   "source": [
    "# create a rectangle shape (added to ROI below)\n",
    "print (\"Adding a rectangle at theZ: %s, theT: %s, X: %s, Y: %s, width: %s,\"\n",
    "   \" height: %s\" % (z, t, xx1, yy1, width1, height1))\n",
    "rect = omero.model.RectangleI()\n",
    "rect.x = rdouble(xx1)\n",
    "rect.y = rdouble(yy1)\n",
    "rect.width = rdouble(width1)\n",
    "rect.height = rdouble(height1)\n",
    "rect.theZ = rint(z)\n",
    "rect.theT = rint(t)\n",
    "rect.textValue = rstring(\"test-Rectangle\")\n",
    "#rect.fillColor = rint(rgba_to_int(255, 255, 255, 255))\n",
    "#rect.strokeColor = rint(rgba_to_int(255, 255, 0, 255))"
   ]
  },
  {
   "cell_type": "raw",
   "metadata": {
    "collapsed": true
   },
   "source": [
    "create_roi(image, rect)"
   ]
  },
  {
   "cell_type": "code",
   "execution_count": null,
   "metadata": {
    "collapsed": true
   },
   "outputs": [],
   "source": [
    "# def get_coordinates(index_ligne,imageId, large):\n",
    "#     conn = BlitzGateway('tbacoyannis','d33pl34rn1ng',port=4064,host='chinensis.polytechnique.fr')\n",
    "#     connected = conn.connect()\n",
    "\n",
    "#     image = conn.getObject(\"Image\", imageId)\n",
    "#     pixels = image.getPrimaryPixels() # get raw pixels information\n",
    "    \n",
    "#     size_x=image.getSizeX()\n",
    "#     size_y=image.getSizeY()\n",
    "#     size_z = image.getSizeZ()\n",
    "#     size_c = image.getSizeC()\n",
    "#     size_t = image.getSizeT()\n",
    "   \n",
    "#     # coordinates of the fist tile:\n",
    "#     delta_x=int(large/2)\n",
    "    \n",
    "#     nb_fenetres=np.arange(size_x/delta_x)\n",
    "#     index=nb_fenetres\n",
    "    \n",
    "#     x=(index*delta_x)+delta_x\n",
    "#     x=x[1:-1]\n",
    "#     y=((index_ligne*delta_x)+delta_x)*np.ones(len(index))\n",
    "#     y=y[1:-1]\n",
    "    \n",
    "#     Matrix=np.zeros((len(index),large,large,3))\n",
    "    \n",
    "#     z=12\n",
    "    \n",
    "#     tilewidths = np.ones(len(index),dtype=int)*large\n",
    "#     tileheights = tilewidths\n",
    "#     tilestacks = zip(x,y,tilewidths,tileheights)\n",
    "    \n",
    "#     zstacks= np.ones(len(index),dtype=int)*z\n",
    "    \n",
    "#     tstacks=np.zeros(len(index), dtype=int)\n",
    "    \n",
    "#     for c in range(0,3):\n",
    "#         cstacks=np.ones(len(index), dtype=int)*c\n",
    "#         liste=zip(zstacks,cstacks,tstacks, tilestacks)\n",
    "#         pxobj = pixels.getTiles(liste)\n",
    "#         for i, p in enumerate(pxobj):\n",
    "#             Matrix[i,:,:,c]=p\n",
    "#             Norm_Matrix=(Matrix-np.min(Matrix))*1.0/(np.max(Matrix)-np.min(Matrix))\n",
    "#     M_mean=np.mean(Norm_Matrix, axis=0)\n",
    "    \n",
    "#     conn._closeSession()\n",
    "#     return(M_mean)"
   ]
  },
  {
   "cell_type": "markdown",
   "metadata": {
    "collapsed": true
   },
   "source": [
    "### Build a new data frame (nb lines= nb tiles in the whole image)"
   ]
  },
  {
   "cell_type": "code",
   "execution_count": null,
   "metadata": {},
   "outputs": [],
   "source": [
    "len(index)"
   ]
  },
  {
   "cell_type": "code",
   "execution_count": null,
   "metadata": {
    "collapsed": true
   },
   "outputs": [],
   "source": [
    "def get_coordinates(index_ligne,imageId, large):\n",
    "    conn = BlitzGateway('tbacoyannis','d33pl34rn1ng',port=4064,host='chinensis.polytechnique.fr')\n",
    "    connected = conn.connect()\n",
    "\n",
    "    image = conn.getObject(\"Image\", imageId)\n",
    "    pixels = image.getPrimaryPixels() # get raw pixels information\n",
    "    \n",
    "    size_x= image.getSizeX()\n",
    "    size_y= image.getSizeY()\n",
    "    size_z = image.getSizeZ()\n",
    "    size_c = image.getSizeC()\n",
    "    size_t = image.getSizeT()\n",
    "   \n",
    "    # coordinates of the fist tile:\n",
    "    delta_x=int(large/2)\n",
    "    \n",
    "    nb_fenetres=np.arange(size_x/delta_x)\n",
    "    index=nb_fenetres\n",
    "    \n",
    "    x=(index*delta_x)+delta_x\n",
    "    x=x[2:-2]\n",
    "    y=((index_ligne*delta_x)+delta_x)*np.ones(len(x)) #(index))\n",
    "    y=y[2:-2]\n",
    "    \n",
    "    Matrix=np.zeros((len(x),large,large,3))\n",
    "    \n",
    "    z=2\n",
    "    \n",
    "    tilewidths = np.ones(len(x),dtype=int)*large\n",
    "    tileheights = tilewidths\n",
    "    tilestacks = zip(x,y,tilewidths,tileheights)\n",
    "    \n",
    "    zstacks= np.ones(len(x),dtype=int)*z\n",
    "    \n",
    "    tstacks=np.zeros(len(x), dtype=int)\n",
    "    \n",
    "    for c in range(0,3):\n",
    "        cstacks=np.ones(len(x), dtype=int)*c\n",
    "        liste=zip(zstacks,cstacks,tstacks, tilestacks)\n",
    "        pxobj = pixels.getTiles(liste)\n",
    "        for i, p in enumerate(pxobj):\n",
    "            Matrix[i,:,:,c]=p\n",
    "            Norm_Matrix=(Matrix-np.min(Matrix))*1.0/(np.max(Matrix)-np.min(Matrix))\n",
    "    M_mean=np.mean(Norm_Matrix, axis=0)\n",
    "    \n",
    "    conn._closeSession()\n",
    "    return(M_mean)"
   ]
  },
  {
   "cell_type": "code",
   "execution_count": null,
   "metadata": {
    "collapsed": true
   },
   "outputs": [],
   "source": [
    "import numpy as np\n",
    "import pandas as pd\n",
    "from functools import partial\n",
    "import multiprocessing"
   ]
  },
  {
   "cell_type": "code",
   "execution_count": null,
   "metadata": {},
   "outputs": [],
   "source": [
    "conn = BlitzGateway('tbacoyannis','d33pl34rn1ng',port=4064,host='chinensis.polytechnique.fr')\n",
    "connected = conn.connect()\n",
    "\n",
    "image = conn.getObject(\"Image\", imageId)\n",
    "pixels = image.getPrimaryPixels() # get raw pixels information\n",
    "\n",
    "size_x=image.getSizeX()\n",
    "size_y=image.getSizeY()\n",
    "size_z = image.getSizeZ()\n",
    "size_c = image.getSizeC()\n",
    "size_t = image.getSizeT()\n",
    "\n",
    "imageId=451\n",
    "zsize=3\n",
    "large=25\n",
    "nidX=size_x/int(large/2)\n",
    "\n",
    "index_ligne=(size_y/int(large/2))\n",
    "index_ligne\n"
   ]
  },
  {
   "cell_type": "code",
   "execution_count": null,
   "metadata": {
    "collapsed": true
   },
   "outputs": [],
   "source": [
    "from multiprocessing import Pool\n",
    "from functools import partial"
   ]
  },
  {
   "cell_type": "code",
   "execution_count": null,
   "metadata": {
    "collapsed": true
   },
   "outputs": [],
   "source": [
    "partial_getDATA_coord = partial(get_coordinates, imageId=imageId, large=large)+"
   ]
  },
  {
   "cell_type": "code",
   "execution_count": null,
   "metadata": {},
   "outputs": [],
   "source": [
    "5892+12"
   ]
  },
  {
   "cell_type": "code",
   "execution_count": null,
   "metadata": {},
   "outputs": [],
   "source": [
    "pool = multiprocessing.Pool(25)\n",
    "M_Mv = pool.map(partial_getDATA_coord, xrange(491))\n",
    "pool.close()"
   ]
  },
  {
   "cell_type": "code",
   "execution_count": null,
   "metadata": {},
   "outputs": [],
   "source": [
    "partial_getDATA_coord(1)"
   ]
  },
  {
   "cell_type": "code",
   "execution_count": null,
   "metadata": {
    "collapsed": true
   },
   "outputs": [],
   "source": []
  },
  {
   "cell_type": "code",
   "execution_count": null,
   "metadata": {
    "collapsed": true
   },
   "outputs": [],
   "source": []
  },
  {
   "cell_type": "code",
   "execution_count": null,
   "metadata": {},
   "outputs": [],
   "source": [
    "liste"
   ]
  },
  {
   "cell_type": "code",
   "execution_count": null,
   "metadata": {},
   "outputs": [],
   "source": [
    "pxobj"
   ]
  },
  {
   "cell_type": "code",
   "execution_count": null,
   "metadata": {},
   "outputs": [],
   "source": [
    "x.shape"
   ]
  },
  {
   "cell_type": "code",
   "execution_count": null,
   "metadata": {
    "collapsed": true
   },
   "outputs": [],
   "source": []
  }
 ],
 "metadata": {
  "kernelspec": {
   "display_name": "Python 2",
   "language": "python",
   "name": "python2"
  },
  "language_info": {
   "codemirror_mode": {
    "name": "ipython",
    "version": 2
   },
   "file_extension": ".py",
   "mimetype": "text/x-python",
   "name": "python",
   "nbconvert_exporter": "python",
   "pygments_lexer": "ipython2",
   "version": "2.7.12"
  }
 },
 "nbformat": 4,
 "nbformat_minor": 2
}
