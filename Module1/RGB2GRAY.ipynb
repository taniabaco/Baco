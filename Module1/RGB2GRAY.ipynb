{
 "cells": [
  {
   "cell_type": "code",
   "execution_count": 7,
   "metadata": {
    "collapsed": true
   },
   "outputs": [],
   "source": [
    "import numpy as np\n",
    "import pandas as pd\n",
    "from skimage.io import imshow, imsave\n",
    "from skimage.color import rgb2gray\n",
    "from functools import partial\n",
    "import multiprocessing"
   ]
  },
  {
   "cell_type": "code",
   "execution_count": 8,
   "metadata": {
    "collapsed": true
   },
   "outputs": [],
   "source": [
    "%run ./configure.ipynb"
   ]
  },
  {
   "cell_type": "code",
   "execution_count": null,
   "metadata": {
    "collapsed": true
   },
   "outputs": [],
   "source": [
    "Data_FRAMES=pd.read_pickle(projectpath+'io/Output/Dataframe_.pkl')"
   ]
  },
  {
   "cell_type": "code",
   "execution_count": 10,
   "metadata": {
    "collapsed": true
   },
   "outputs": [],
   "source": [
    "def Convert_Im_in_Gray_levels(ind,h,w, M_mean):\n",
    "    img=np.empty([h,w,3])\n",
    "    GRAY_IM=np.empty([h,w])\n",
    "    img=M_mean[:,:,:][ind]\n",
    "    for d, label in enumerate( ('r', 'g', 'b')):\n",
    "        plane = img[:,:,d]\n",
    "    gray_img = rgb2gray(img)\n",
    "    gray_img = (gray_img * 255 ).astype( np.uint8 )\n",
    "    GRAY_IM[:,:]=gray_img-np.mean(gray_img)\n",
    "    GRAY_IM\n",
    "    return(GRAY_IM)"
   ]
  },
  {
   "cell_type": "markdown",
   "metadata": {},
   "source": [
    "## Define Metrics values"
   ]
  },
  {
   "cell_type": "code",
   "execution_count": 11,
   "metadata": {
    "collapsed": true
   },
   "outputs": [],
   "source": [
    "# imageId=451\n",
    "# zsize=3\n",
    "# heigth=50\n",
    "# weigth=50\n",
    "# nidx=Data_FRAMES.shape[0]"
   ]
  },
  {
   "cell_type": "code",
   "execution_count": null,
   "metadata": {
    "collapsed": true
   },
   "outputs": [],
   "source": [
    "imageId=451\n",
    "zsize=3\n",
    "heigth=25\n",
    "weigth=25\n",
    "nidx=Data_FRAMES.shape[0]"
   ]
  },
  {
   "cell_type": "markdown",
   "metadata": {},
   "source": [
    "## Load normalized volumes"
   ]
  },
  {
   "cell_type": "code",
   "execution_count": 13,
   "metadata": {
    "collapsed": true
   },
   "outputs": [],
   "source": [
    "filename_M_DF =projectpath+'io/Output/M_DF.npy'"
   ]
  },
  {
   "cell_type": "code",
   "execution_count": 14,
   "metadata": {
    "collapsed": true
   },
   "outputs": [],
   "source": [
    "M_DF_parallel=np.load(filename_M_DF)"
   ]
  },
  {
   "cell_type": "markdown",
   "metadata": {
    "collapsed": true
   },
   "source": [
    "## Compute Multiprocessing\n"
   ]
  },
  {
   "cell_type": "raw",
   "metadata": {
    "collapsed": true
   },
   "source": [
    "partial_get_Gray_Img = partial(Convert_Im_in_Gray_levels, h=heigth, w=weigth, M_mean=M_DF_parallel)"
   ]
  },
  {
   "cell_type": "raw",
   "metadata": {
    "collapsed": true
   },
   "source": [
    "# get raw data using multiprocesses\n",
    "pool = multiprocessing.Pool(27)\n",
    "GRAY_IM = pool.map(partial_get_Gray_Img,xrange(nidx))\n",
    "pool.close()"
   ]
  },
  {
   "cell_type": "markdown",
   "metadata": {},
   "source": [
    "## Save the gray images as numpy array"
   ]
  },
  {
   "cell_type": "code",
   "execution_count": null,
   "metadata": {
    "collapsed": true
   },
   "outputs": [],
   "source": [
    "filename_Gray_IM =projectpath+'io/Output/GRAY_IM.npy'"
   ]
  },
  {
   "cell_type": "raw",
   "metadata": {
    "collapsed": true
   },
   "source": [
    "np.save(filename_Gray_IM,GRAY_IM)"
   ]
  },
  {
   "cell_type": "code",
   "execution_count": null,
   "metadata": {
    "collapsed": true
   },
   "outputs": [],
   "source": []
  }
 ],
 "metadata": {
  "kernelspec": {
   "display_name": "Python 2",
   "language": "python",
   "name": "python2"
  },
  "language_info": {
   "codemirror_mode": {
    "name": "ipython",
    "version": 2
   },
   "file_extension": ".py",
   "mimetype": "text/x-python",
   "name": "python",
   "nbconvert_exporter": "python",
   "pygments_lexer": "ipython2",
   "version": "2.7.12"
  }
 },
 "nbformat": 4,
 "nbformat_minor": 2
}
