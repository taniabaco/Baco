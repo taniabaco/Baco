{
 "cells": [
  {
   "cell_type": "markdown",
   "metadata": {},
   "source": [
    "# Pipeline : \n",
    "### data processing of the manually annoted dataset\n",
    "### image processing : extraction of RGB volumes\n",
    "### classifier based on WND-charm Model\n",
    "### PCA & RDF\n",
    "### Build a classifier\n",
    "### Analyse False Positives\n",
    "### Prediction of Neurons, Astrocytes, Background in ROI's clone"
   ]
  },
  {
   "cell_type": "code",
   "execution_count": 41,
   "metadata": {
    "collapsed": true
   },
   "outputs": [],
   "source": [
    "import numpy as np\n",
    "import pandas as pd\n",
    "from functools import partial\n",
    "import multiprocessing\n",
    "%matplotlib notebook\n",
    "import matplotlib.pyplot as plt\n",
    "import matplotlib.image as mpimg\n",
    "import matplotlib.colors as cm\n",
    "import pickle\n",
    "from pandas import DataFrame, read_csv,concat,merge"
   ]
  },
  {
   "cell_type": "code",
   "execution_count": 2,
   "metadata": {
    "collapsed": true
   },
   "outputs": [],
   "source": [
    "%run ./configure.ipynb"
   ]
  },
  {
   "cell_type": "code",
   "execution_count": 3,
   "metadata": {
    "collapsed": true
   },
   "outputs": [],
   "source": [
    "%run ../Connection_to_server.ipynb"
   ]
  },
  {
   "cell_type": "code",
   "execution_count": 4,
   "metadata": {},
   "outputs": [],
   "source": [
    "imageId = 451\n",
    "weight=25\n",
    "height=25"
   ]
  },
  {
   "cell_type": "markdown",
   "metadata": {},
   "source": [
    "## Pre-pocessing of the manually annotated Dataset"
   ]
  },
  {
   "cell_type": "code",
   "execution_count": 5,
   "metadata": {
    "collapsed": true
   },
   "outputs": [],
   "source": [
    "import Pre_Processing_the_annotated_dataset as pp\n",
    "reload(pp);"
   ]
  },
  {
   "cell_type": "raw",
   "metadata": {
    "collapsed": true
   },
   "source": [
    "global dfpoints"
   ]
  },
  {
   "cell_type": "code",
   "execution_count": 6,
   "metadata": {
    "collapsed": true
   },
   "outputs": [],
   "source": [
    "dfpoints=read_csv(projectpath+'io/Input/Bloc01_pointes_first_mod.csv')"
   ]
  },
  {
   "cell_type": "code",
   "execution_count": 7,
   "metadata": {
    "collapsed": true
   },
   "outputs": [],
   "source": [
    "dfpoints=pp.Get_Dataframe(imageId, dfpoints)"
   ]
  },
  {
   "cell_type": "markdown",
   "metadata": {},
   "source": [
    "## Reduce the number of Neurons in order to have as many as Astrocytes"
   ]
  },
  {
   "cell_type": "code",
   "execution_count": 8,
   "metadata": {
    "collapsed": true
   },
   "outputs": [],
   "source": [
    "import Reduction_of_Neurons_in_the_DataFrame as nr\n",
    "reload(nr);"
   ]
  },
  {
   "cell_type": "code",
   "execution_count": 9,
   "metadata": {
    "collapsed": true
   },
   "outputs": [],
   "source": [
    "dfpoints=nr.Get_DataFrame_less_Neurons(dfpoints)"
   ]
  },
  {
   "cell_type": "markdown",
   "metadata": {
    "collapsed": true
   },
   "source": []
  },
  {
   "cell_type": "code",
   "execution_count": 10,
   "metadata": {},
   "outputs": [],
   "source": [
    "DF_=nr.Get_Data_frame(imageId, dfpoints)"
   ]
  },
  {
   "cell_type": "code",
   "execution_count": 11,
   "metadata": {
    "collapsed": true
   },
   "outputs": [],
   "source": [
    "import Fonctions_used_for_many_DF_pre_processing as fct_pp\n",
    "reload(fct_pp);"
   ]
  },
  {
   "cell_type": "code",
   "execution_count": 12,
   "metadata": {},
   "outputs": [],
   "source": [
    "Data_FRAMES=fct_pp.getDF(DF_)"
   ]
  },
  {
   "cell_type": "code",
   "execution_count": 13,
   "metadata": {
    "collapsed": true
   },
   "outputs": [],
   "source": [
    "Data_FRAMES=fct_pp.Switch_Indices(Data_FRAMES)"
   ]
  },
  {
   "cell_type": "code",
   "execution_count": 14,
   "metadata": {
    "collapsed": true
   },
   "outputs": [],
   "source": [
    "Data_FRAMES=fct_pp.exclure(Data_FRAMES,weight, height)"
   ]
  },
  {
   "cell_type": "code",
   "execution_count": 15,
   "metadata": {
    "collapsed": true
   },
   "outputs": [],
   "source": [
    "D_F=fct_pp.getDF(Data_FRAMES)"
   ]
  },
  {
   "cell_type": "code",
   "execution_count": 16,
   "metadata": {
    "collapsed": true
   },
   "outputs": [],
   "source": [
    "Data_FRAMES=fct_pp.Switch_Indices(D_F)"
   ]
  },
  {
   "cell_type": "code",
   "execution_count": 17,
   "metadata": {
    "collapsed": true
   },
   "outputs": [],
   "source": [
    "Data_FRAMES.to_pickle(projectpath+'io/Output/Data_FRAMES.pkl')"
   ]
  },
  {
   "cell_type": "markdown",
   "metadata": {},
   "source": [
    "# Add a fourth class to the data Frame (Background Type :4)"
   ]
  },
  {
   "cell_type": "code",
   "execution_count": 18,
   "metadata": {
    "collapsed": true
   },
   "outputs": [],
   "source": [
    "Data_FRAMES=pd.read_pickle(projectpath+'io/Output/Data_FRAMES.pkl')"
   ]
  },
  {
   "cell_type": "code",
   "execution_count": 19,
   "metadata": {},
   "outputs": [],
   "source": [
    "import Add_Background_class_to_Dataframe as Bc\n",
    "reload(Bc);"
   ]
  },
  {
   "cell_type": "code",
   "execution_count": 20,
   "metadata": {},
   "outputs": [],
   "source": [
    "New_DF=Bc.Get_Df_with_backgroung_class(Data_FRAMES,imageId)"
   ]
  },
  {
   "cell_type": "code",
   "execution_count": 21,
   "metadata": {
    "collapsed": true
   },
   "outputs": [],
   "source": [
    "New_DF=fct_pp.exclure_Bc(New_DF,weight,height)"
   ]
  },
  {
   "cell_type": "code",
   "execution_count": 22,
   "metadata": {
    "collapsed": true
   },
   "outputs": [],
   "source": [
    "New_DF=fct_pp.getDF(New_DF)"
   ]
  },
  {
   "cell_type": "code",
   "execution_count": 23,
   "metadata": {
    "collapsed": true
   },
   "outputs": [],
   "source": [
    "New_DF=fct_pp.Switch_Indices(New_DF)"
   ]
  },
  {
   "cell_type": "code",
   "execution_count": 27,
   "metadata": {},
   "outputs": [
    {
     "data": {
      "text/plain": [
       "540"
      ]
     },
     "execution_count": 27,
     "metadata": {},
     "output_type": "execute_result"
    }
   ],
   "source": []
  },
  {
   "cell_type": "markdown",
   "metadata": {},
   "source": [
    "# Create the full data Frame ( 526 Adtrocytes, 528 Neurons, 540 background) "
   ]
  },
  {
   "cell_type": "code",
   "execution_count": 31,
   "metadata": {
    "collapsed": true
   },
   "outputs": [],
   "source": [
    "# Join the 2 DataFrames\n",
    "Dataframe_=pd.concat([Data_FRAMES, New_DF], axis=0)"
   ]
  },
  {
   "cell_type": "code",
   "execution_count": 32,
   "metadata": {
    "collapsed": true
   },
   "outputs": [],
   "source": [
    "Dataframe_=fct_pp.getDF(Dataframe_)"
   ]
  },
  {
   "cell_type": "code",
   "execution_count": 33,
   "metadata": {
    "collapsed": true
   },
   "outputs": [],
   "source": [
    "Dataframe_=fct_pp.Switch_Indices(Dataframe_)"
   ]
  },
  {
   "cell_type": "code",
   "execution_count": 34,
   "metadata": {
    "collapsed": true
   },
   "outputs": [],
   "source": [
    "Dataframe_.to_pickle(projectpath+'io/Output/Dataframe_.pkl')"
   ]
  },
  {
   "cell_type": "code",
   "execution_count": 35,
   "metadata": {
    "collapsed": true
   },
   "outputs": [],
   "source": [
    "Data_FRAMES=pd.read_pickle(projectpath+'io/Output/Dataframe_.pkl')"
   ]
  },
  {
   "cell_type": "markdown",
   "metadata": {},
   "source": [
    "# Get volumes with Multiprocessing"
   ]
  },
  {
   "cell_type": "code",
   "execution_count": 37,
   "metadata": {
    "collapsed": true
   },
   "outputs": [],
   "source": [
    "import Get_Partial_Data as gpd\n",
    "reload(gpd);"
   ]
  },
  {
   "cell_type": "code",
   "execution_count": 38,
   "metadata": {
    "collapsed": true
   },
   "outputs": [],
   "source": [
    "zsize=3\n",
    "nidx=Data_FRAMES.shape[0]"
   ]
  },
  {
   "cell_type": "raw",
   "metadata": {},
   "source": [
    "partial_getDATA_MEAN = partial(get_mean_zstacks_data, imageId=imageId, zsize=zsize, h=heigth, w=weigth, Data_F=Data_FRAMES)"
   ]
  },
  {
   "cell_type": "raw",
   "metadata": {},
   "source": [
    "# get raw data using multiprocesses\n",
    "pool = multiprocessing.Pool(27)\n",
    "M_Means = pool.map(partial_getDATA_MEAN,xrange(nidx))\n",
    "pool.close()"
   ]
  },
  {
   "cell_type": "code",
   "execution_count": 46,
   "metadata": {
    "collapsed": true
   },
   "outputs": [],
   "source": [
    "filename_M_DF =projectpath+'io/Output/M_DF.npy'"
   ]
  },
  {
   "cell_type": "raw",
   "metadata": {},
   "source": [
    "np.save(filename_M_DF,M_Means)"
   ]
  },
  {
   "cell_type": "markdown",
   "metadata": {},
   "source": [
    "## Load Normalized volums as numpy array"
   ]
  },
  {
   "cell_type": "code",
   "execution_count": 47,
   "metadata": {
    "collapsed": true
   },
   "outputs": [],
   "source": [
    "M_DF_parallel=np.load(filename_M_DF)"
   ]
  },
  {
   "cell_type": "markdown",
   "metadata": {},
   "source": [
    "# Display the RGB images corresponding to normalized volums"
   ]
  },
  {
   "cell_type": "code",
   "execution_count": 53,
   "metadata": {},
   "outputs": [],
   "source": [
    "import Display_RGB_Vol as rgb_im\n",
    "reload(rgb_im);"
   ]
  },
  {
   "cell_type": "code",
   "execution_count": 54,
   "metadata": {},
   "outputs": [
    {
     "data": {
      "application/javascript": [
       "/* Put everything inside the global mpl namespace */\n",
       "window.mpl = {};\n",
       "\n",
       "\n",
       "mpl.get_websocket_type = function() {\n",
       "    if (typeof(WebSocket) !== 'undefined') {\n",
       "        return WebSocket;\n",
       "    } else if (typeof(MozWebSocket) !== 'undefined') {\n",
       "        return MozWebSocket;\n",
       "    } else {\n",
       "        alert('Your browser does not have WebSocket support.' +\n",
       "              'Please try Chrome, Safari or Firefox ≥ 6. ' +\n",
       "              'Firefox 4 and 5 are also supported but you ' +\n",
       "              'have to enable WebSockets in about:config.');\n",
       "    };\n",
       "}\n",
       "\n",
       "mpl.figure = function(figure_id, websocket, ondownload, parent_element) {\n",
       "    this.id = figure_id;\n",
       "\n",
       "    this.ws = websocket;\n",
       "\n",
       "    this.supports_binary = (this.ws.binaryType != undefined);\n",
       "\n",
       "    if (!this.supports_binary) {\n",
       "        var warnings = document.getElementById(\"mpl-warnings\");\n",
       "        if (warnings) {\n",
       "            warnings.style.display = 'block';\n",
       "            warnings.textContent = (\n",
       "                \"This browser does not support binary websocket messages. \" +\n",
       "                    \"Performance may be slow.\");\n",
       "        }\n",
       "    }\n",
       "\n",
       "    this.imageObj = new Image();\n",
       "\n",
       "    this.context = undefined;\n",
       "    this.message = undefined;\n",
       "    this.canvas = undefined;\n",
       "    this.rubberband_canvas = undefined;\n",
       "    this.rubberband_context = undefined;\n",
       "    this.format_dropdown = undefined;\n",
       "\n",
       "    this.image_mode = 'full';\n",
       "\n",
       "    this.root = $('<div/>');\n",
       "    this._root_extra_style(this.root)\n",
       "    this.root.attr('style', 'display: inline-block');\n",
       "\n",
       "    $(parent_element).append(this.root);\n",
       "\n",
       "    this._init_header(this);\n",
       "    this._init_canvas(this);\n",
       "    this._init_toolbar(this);\n",
       "\n",
       "    var fig = this;\n",
       "\n",
       "    this.waiting = false;\n",
       "\n",
       "    this.ws.onopen =  function () {\n",
       "            fig.send_message(\"supports_binary\", {value: fig.supports_binary});\n",
       "            fig.send_message(\"send_image_mode\", {});\n",
       "            if (mpl.ratio != 1) {\n",
       "                fig.send_message(\"set_dpi_ratio\", {'dpi_ratio': mpl.ratio});\n",
       "            }\n",
       "            fig.send_message(\"refresh\", {});\n",
       "        }\n",
       "\n",
       "    this.imageObj.onload = function() {\n",
       "            if (fig.image_mode == 'full') {\n",
       "                // Full images could contain transparency (where diff images\n",
       "                // almost always do), so we need to clear the canvas so that\n",
       "                // there is no ghosting.\n",
       "                fig.context.clearRect(0, 0, fig.canvas.width, fig.canvas.height);\n",
       "            }\n",
       "            fig.context.drawImage(fig.imageObj, 0, 0);\n",
       "        };\n",
       "\n",
       "    this.imageObj.onunload = function() {\n",
       "        this.ws.close();\n",
       "    }\n",
       "\n",
       "    this.ws.onmessage = this._make_on_message_function(this);\n",
       "\n",
       "    this.ondownload = ondownload;\n",
       "}\n",
       "\n",
       "mpl.figure.prototype._init_header = function() {\n",
       "    var titlebar = $(\n",
       "        '<div class=\"ui-dialog-titlebar ui-widget-header ui-corner-all ' +\n",
       "        'ui-helper-clearfix\"/>');\n",
       "    var titletext = $(\n",
       "        '<div class=\"ui-dialog-title\" style=\"width: 100%; ' +\n",
       "        'text-align: center; padding: 3px;\"/>');\n",
       "    titlebar.append(titletext)\n",
       "    this.root.append(titlebar);\n",
       "    this.header = titletext[0];\n",
       "}\n",
       "\n",
       "\n",
       "\n",
       "mpl.figure.prototype._canvas_extra_style = function(canvas_div) {\n",
       "\n",
       "}\n",
       "\n",
       "\n",
       "mpl.figure.prototype._root_extra_style = function(canvas_div) {\n",
       "\n",
       "}\n",
       "\n",
       "mpl.figure.prototype._init_canvas = function() {\n",
       "    var fig = this;\n",
       "\n",
       "    var canvas_div = $('<div/>');\n",
       "\n",
       "    canvas_div.attr('style', 'position: relative; clear: both; outline: 0');\n",
       "\n",
       "    function canvas_keyboard_event(event) {\n",
       "        return fig.key_event(event, event['data']);\n",
       "    }\n",
       "\n",
       "    canvas_div.keydown('key_press', canvas_keyboard_event);\n",
       "    canvas_div.keyup('key_release', canvas_keyboard_event);\n",
       "    this.canvas_div = canvas_div\n",
       "    this._canvas_extra_style(canvas_div)\n",
       "    this.root.append(canvas_div);\n",
       "\n",
       "    var canvas = $('<canvas/>');\n",
       "    canvas.addClass('mpl-canvas');\n",
       "    canvas.attr('style', \"left: 0; top: 0; z-index: 0; outline: 0\")\n",
       "\n",
       "    this.canvas = canvas[0];\n",
       "    this.context = canvas[0].getContext(\"2d\");\n",
       "\n",
       "    var backingStore = this.context.backingStorePixelRatio ||\n",
       "\tthis.context.webkitBackingStorePixelRatio ||\n",
       "\tthis.context.mozBackingStorePixelRatio ||\n",
       "\tthis.context.msBackingStorePixelRatio ||\n",
       "\tthis.context.oBackingStorePixelRatio ||\n",
       "\tthis.context.backingStorePixelRatio || 1;\n",
       "\n",
       "    mpl.ratio = (window.devicePixelRatio || 1) / backingStore;\n",
       "\n",
       "    var rubberband = $('<canvas/>');\n",
       "    rubberband.attr('style', \"position: absolute; left: 0; top: 0; z-index: 1;\")\n",
       "\n",
       "    var pass_mouse_events = true;\n",
       "\n",
       "    canvas_div.resizable({\n",
       "        start: function(event, ui) {\n",
       "            pass_mouse_events = false;\n",
       "        },\n",
       "        resize: function(event, ui) {\n",
       "            fig.request_resize(ui.size.width, ui.size.height);\n",
       "        },\n",
       "        stop: function(event, ui) {\n",
       "            pass_mouse_events = true;\n",
       "            fig.request_resize(ui.size.width, ui.size.height);\n",
       "        },\n",
       "    });\n",
       "\n",
       "    function mouse_event_fn(event) {\n",
       "        if (pass_mouse_events)\n",
       "            return fig.mouse_event(event, event['data']);\n",
       "    }\n",
       "\n",
       "    rubberband.mousedown('button_press', mouse_event_fn);\n",
       "    rubberband.mouseup('button_release', mouse_event_fn);\n",
       "    // Throttle sequential mouse events to 1 every 20ms.\n",
       "    rubberband.mousemove('motion_notify', mouse_event_fn);\n",
       "\n",
       "    rubberband.mouseenter('figure_enter', mouse_event_fn);\n",
       "    rubberband.mouseleave('figure_leave', mouse_event_fn);\n",
       "\n",
       "    canvas_div.on(\"wheel\", function (event) {\n",
       "        event = event.originalEvent;\n",
       "        event['data'] = 'scroll'\n",
       "        if (event.deltaY < 0) {\n",
       "            event.step = 1;\n",
       "        } else {\n",
       "            event.step = -1;\n",
       "        }\n",
       "        mouse_event_fn(event);\n",
       "    });\n",
       "\n",
       "    canvas_div.append(canvas);\n",
       "    canvas_div.append(rubberband);\n",
       "\n",
       "    this.rubberband = rubberband;\n",
       "    this.rubberband_canvas = rubberband[0];\n",
       "    this.rubberband_context = rubberband[0].getContext(\"2d\");\n",
       "    this.rubberband_context.strokeStyle = \"#000000\";\n",
       "\n",
       "    this._resize_canvas = function(width, height) {\n",
       "        // Keep the size of the canvas, canvas container, and rubber band\n",
       "        // canvas in synch.\n",
       "        canvas_div.css('width', width)\n",
       "        canvas_div.css('height', height)\n",
       "\n",
       "        canvas.attr('width', width * mpl.ratio);\n",
       "        canvas.attr('height', height * mpl.ratio);\n",
       "        canvas.attr('style', 'width: ' + width + 'px; height: ' + height + 'px;');\n",
       "\n",
       "        rubberband.attr('width', width);\n",
       "        rubberband.attr('height', height);\n",
       "    }\n",
       "\n",
       "    // Set the figure to an initial 600x600px, this will subsequently be updated\n",
       "    // upon first draw.\n",
       "    this._resize_canvas(600, 600);\n",
       "\n",
       "    // Disable right mouse context menu.\n",
       "    $(this.rubberband_canvas).bind(\"contextmenu\",function(e){\n",
       "        return false;\n",
       "    });\n",
       "\n",
       "    function set_focus () {\n",
       "        canvas.focus();\n",
       "        canvas_div.focus();\n",
       "    }\n",
       "\n",
       "    window.setTimeout(set_focus, 100);\n",
       "}\n",
       "\n",
       "mpl.figure.prototype._init_toolbar = function() {\n",
       "    var fig = this;\n",
       "\n",
       "    var nav_element = $('<div/>')\n",
       "    nav_element.attr('style', 'width: 100%');\n",
       "    this.root.append(nav_element);\n",
       "\n",
       "    // Define a callback function for later on.\n",
       "    function toolbar_event(event) {\n",
       "        return fig.toolbar_button_onclick(event['data']);\n",
       "    }\n",
       "    function toolbar_mouse_event(event) {\n",
       "        return fig.toolbar_button_onmouseover(event['data']);\n",
       "    }\n",
       "\n",
       "    for(var toolbar_ind in mpl.toolbar_items) {\n",
       "        var name = mpl.toolbar_items[toolbar_ind][0];\n",
       "        var tooltip = mpl.toolbar_items[toolbar_ind][1];\n",
       "        var image = mpl.toolbar_items[toolbar_ind][2];\n",
       "        var method_name = mpl.toolbar_items[toolbar_ind][3];\n",
       "\n",
       "        if (!name) {\n",
       "            // put a spacer in here.\n",
       "            continue;\n",
       "        }\n",
       "        var button = $('<button/>');\n",
       "        button.addClass('ui-button ui-widget ui-state-default ui-corner-all ' +\n",
       "                        'ui-button-icon-only');\n",
       "        button.attr('role', 'button');\n",
       "        button.attr('aria-disabled', 'false');\n",
       "        button.click(method_name, toolbar_event);\n",
       "        button.mouseover(tooltip, toolbar_mouse_event);\n",
       "\n",
       "        var icon_img = $('<span/>');\n",
       "        icon_img.addClass('ui-button-icon-primary ui-icon');\n",
       "        icon_img.addClass(image);\n",
       "        icon_img.addClass('ui-corner-all');\n",
       "\n",
       "        var tooltip_span = $('<span/>');\n",
       "        tooltip_span.addClass('ui-button-text');\n",
       "        tooltip_span.html(tooltip);\n",
       "\n",
       "        button.append(icon_img);\n",
       "        button.append(tooltip_span);\n",
       "\n",
       "        nav_element.append(button);\n",
       "    }\n",
       "\n",
       "    var fmt_picker_span = $('<span/>');\n",
       "\n",
       "    var fmt_picker = $('<select/>');\n",
       "    fmt_picker.addClass('mpl-toolbar-option ui-widget ui-widget-content');\n",
       "    fmt_picker_span.append(fmt_picker);\n",
       "    nav_element.append(fmt_picker_span);\n",
       "    this.format_dropdown = fmt_picker[0];\n",
       "\n",
       "    for (var ind in mpl.extensions) {\n",
       "        var fmt = mpl.extensions[ind];\n",
       "        var option = $(\n",
       "            '<option/>', {selected: fmt === mpl.default_extension}).html(fmt);\n",
       "        fmt_picker.append(option)\n",
       "    }\n",
       "\n",
       "    // Add hover states to the ui-buttons\n",
       "    $( \".ui-button\" ).hover(\n",
       "        function() { $(this).addClass(\"ui-state-hover\");},\n",
       "        function() { $(this).removeClass(\"ui-state-hover\");}\n",
       "    );\n",
       "\n",
       "    var status_bar = $('<span class=\"mpl-message\"/>');\n",
       "    nav_element.append(status_bar);\n",
       "    this.message = status_bar[0];\n",
       "}\n",
       "\n",
       "mpl.figure.prototype.request_resize = function(x_pixels, y_pixels) {\n",
       "    // Request matplotlib to resize the figure. Matplotlib will then trigger a resize in the client,\n",
       "    // which will in turn request a refresh of the image.\n",
       "    this.send_message('resize', {'width': x_pixels, 'height': y_pixels});\n",
       "}\n",
       "\n",
       "mpl.figure.prototype.send_message = function(type, properties) {\n",
       "    properties['type'] = type;\n",
       "    properties['figure_id'] = this.id;\n",
       "    this.ws.send(JSON.stringify(properties));\n",
       "}\n",
       "\n",
       "mpl.figure.prototype.send_draw_message = function() {\n",
       "    if (!this.waiting) {\n",
       "        this.waiting = true;\n",
       "        this.ws.send(JSON.stringify({type: \"draw\", figure_id: this.id}));\n",
       "    }\n",
       "}\n",
       "\n",
       "\n",
       "mpl.figure.prototype.handle_save = function(fig, msg) {\n",
       "    var format_dropdown = fig.format_dropdown;\n",
       "    var format = format_dropdown.options[format_dropdown.selectedIndex].value;\n",
       "    fig.ondownload(fig, format);\n",
       "}\n",
       "\n",
       "\n",
       "mpl.figure.prototype.handle_resize = function(fig, msg) {\n",
       "    var size = msg['size'];\n",
       "    if (size[0] != fig.canvas.width || size[1] != fig.canvas.height) {\n",
       "        fig._resize_canvas(size[0], size[1]);\n",
       "        fig.send_message(\"refresh\", {});\n",
       "    };\n",
       "}\n",
       "\n",
       "mpl.figure.prototype.handle_rubberband = function(fig, msg) {\n",
       "    var x0 = msg['x0'] / mpl.ratio;\n",
       "    var y0 = (fig.canvas.height - msg['y0']) / mpl.ratio;\n",
       "    var x1 = msg['x1'] / mpl.ratio;\n",
       "    var y1 = (fig.canvas.height - msg['y1']) / mpl.ratio;\n",
       "    x0 = Math.floor(x0) + 0.5;\n",
       "    y0 = Math.floor(y0) + 0.5;\n",
       "    x1 = Math.floor(x1) + 0.5;\n",
       "    y1 = Math.floor(y1) + 0.5;\n",
       "    var min_x = Math.min(x0, x1);\n",
       "    var min_y = Math.min(y0, y1);\n",
       "    var width = Math.abs(x1 - x0);\n",
       "    var height = Math.abs(y1 - y0);\n",
       "\n",
       "    fig.rubberband_context.clearRect(\n",
       "        0, 0, fig.canvas.width, fig.canvas.height);\n",
       "\n",
       "    fig.rubberband_context.strokeRect(min_x, min_y, width, height);\n",
       "}\n",
       "\n",
       "mpl.figure.prototype.handle_figure_label = function(fig, msg) {\n",
       "    // Updates the figure title.\n",
       "    fig.header.textContent = msg['label'];\n",
       "}\n",
       "\n",
       "mpl.figure.prototype.handle_cursor = function(fig, msg) {\n",
       "    var cursor = msg['cursor'];\n",
       "    switch(cursor)\n",
       "    {\n",
       "    case 0:\n",
       "        cursor = 'pointer';\n",
       "        break;\n",
       "    case 1:\n",
       "        cursor = 'default';\n",
       "        break;\n",
       "    case 2:\n",
       "        cursor = 'crosshair';\n",
       "        break;\n",
       "    case 3:\n",
       "        cursor = 'move';\n",
       "        break;\n",
       "    }\n",
       "    fig.rubberband_canvas.style.cursor = cursor;\n",
       "}\n",
       "\n",
       "mpl.figure.prototype.handle_message = function(fig, msg) {\n",
       "    fig.message.textContent = msg['message'];\n",
       "}\n",
       "\n",
       "mpl.figure.prototype.handle_draw = function(fig, msg) {\n",
       "    // Request the server to send over a new figure.\n",
       "    fig.send_draw_message();\n",
       "}\n",
       "\n",
       "mpl.figure.prototype.handle_image_mode = function(fig, msg) {\n",
       "    fig.image_mode = msg['mode'];\n",
       "}\n",
       "\n",
       "mpl.figure.prototype.updated_canvas_event = function() {\n",
       "    // Called whenever the canvas gets updated.\n",
       "    this.send_message(\"ack\", {});\n",
       "}\n",
       "\n",
       "// A function to construct a web socket function for onmessage handling.\n",
       "// Called in the figure constructor.\n",
       "mpl.figure.prototype._make_on_message_function = function(fig) {\n",
       "    return function socket_on_message(evt) {\n",
       "        if (evt.data instanceof Blob) {\n",
       "            /* FIXME: We get \"Resource interpreted as Image but\n",
       "             * transferred with MIME type text/plain:\" errors on\n",
       "             * Chrome.  But how to set the MIME type?  It doesn't seem\n",
       "             * to be part of the websocket stream */\n",
       "            evt.data.type = \"image/png\";\n",
       "\n",
       "            /* Free the memory for the previous frames */\n",
       "            if (fig.imageObj.src) {\n",
       "                (window.URL || window.webkitURL).revokeObjectURL(\n",
       "                    fig.imageObj.src);\n",
       "            }\n",
       "\n",
       "            fig.imageObj.src = (window.URL || window.webkitURL).createObjectURL(\n",
       "                evt.data);\n",
       "            fig.updated_canvas_event();\n",
       "            fig.waiting = false;\n",
       "            return;\n",
       "        }\n",
       "        else if (typeof evt.data === 'string' && evt.data.slice(0, 21) == \"data:image/png;base64\") {\n",
       "            fig.imageObj.src = evt.data;\n",
       "            fig.updated_canvas_event();\n",
       "            fig.waiting = false;\n",
       "            return;\n",
       "        }\n",
       "\n",
       "        var msg = JSON.parse(evt.data);\n",
       "        var msg_type = msg['type'];\n",
       "\n",
       "        // Call the  \"handle_{type}\" callback, which takes\n",
       "        // the figure and JSON message as its only arguments.\n",
       "        try {\n",
       "            var callback = fig[\"handle_\" + msg_type];\n",
       "        } catch (e) {\n",
       "            console.log(\"No handler for the '\" + msg_type + \"' message type: \", msg);\n",
       "            return;\n",
       "        }\n",
       "\n",
       "        if (callback) {\n",
       "            try {\n",
       "                // console.log(\"Handling '\" + msg_type + \"' message: \", msg);\n",
       "                callback(fig, msg);\n",
       "            } catch (e) {\n",
       "                console.log(\"Exception inside the 'handler_\" + msg_type + \"' callback:\", e, e.stack, msg);\n",
       "            }\n",
       "        }\n",
       "    };\n",
       "}\n",
       "\n",
       "// from http://stackoverflow.com/questions/1114465/getting-mouse-location-in-canvas\n",
       "mpl.findpos = function(e) {\n",
       "    //this section is from http://www.quirksmode.org/js/events_properties.html\n",
       "    var targ;\n",
       "    if (!e)\n",
       "        e = window.event;\n",
       "    if (e.target)\n",
       "        targ = e.target;\n",
       "    else if (e.srcElement)\n",
       "        targ = e.srcElement;\n",
       "    if (targ.nodeType == 3) // defeat Safari bug\n",
       "        targ = targ.parentNode;\n",
       "\n",
       "    // jQuery normalizes the pageX and pageY\n",
       "    // pageX,Y are the mouse positions relative to the document\n",
       "    // offset() returns the position of the element relative to the document\n",
       "    var x = e.pageX - $(targ).offset().left;\n",
       "    var y = e.pageY - $(targ).offset().top;\n",
       "\n",
       "    return {\"x\": x, \"y\": y};\n",
       "};\n",
       "\n",
       "/*\n",
       " * return a copy of an object with only non-object keys\n",
       " * we need this to avoid circular references\n",
       " * http://stackoverflow.com/a/24161582/3208463\n",
       " */\n",
       "function simpleKeys (original) {\n",
       "  return Object.keys(original).reduce(function (obj, key) {\n",
       "    if (typeof original[key] !== 'object')\n",
       "        obj[key] = original[key]\n",
       "    return obj;\n",
       "  }, {});\n",
       "}\n",
       "\n",
       "mpl.figure.prototype.mouse_event = function(event, name) {\n",
       "    var canvas_pos = mpl.findpos(event)\n",
       "\n",
       "    if (name === 'button_press')\n",
       "    {\n",
       "        this.canvas.focus();\n",
       "        this.canvas_div.focus();\n",
       "    }\n",
       "\n",
       "    var x = canvas_pos.x * mpl.ratio;\n",
       "    var y = canvas_pos.y * mpl.ratio;\n",
       "\n",
       "    this.send_message(name, {x: x, y: y, button: event.button,\n",
       "                             step: event.step,\n",
       "                             guiEvent: simpleKeys(event)});\n",
       "\n",
       "    /* This prevents the web browser from automatically changing to\n",
       "     * the text insertion cursor when the button is pressed.  We want\n",
       "     * to control all of the cursor setting manually through the\n",
       "     * 'cursor' event from matplotlib */\n",
       "    event.preventDefault();\n",
       "    return false;\n",
       "}\n",
       "\n",
       "mpl.figure.prototype._key_event_extra = function(event, name) {\n",
       "    // Handle any extra behaviour associated with a key event\n",
       "}\n",
       "\n",
       "mpl.figure.prototype.key_event = function(event, name) {\n",
       "\n",
       "    // Prevent repeat events\n",
       "    if (name == 'key_press')\n",
       "    {\n",
       "        if (event.which === this._key)\n",
       "            return;\n",
       "        else\n",
       "            this._key = event.which;\n",
       "    }\n",
       "    if (name == 'key_release')\n",
       "        this._key = null;\n",
       "\n",
       "    var value = '';\n",
       "    if (event.ctrlKey && event.which != 17)\n",
       "        value += \"ctrl+\";\n",
       "    if (event.altKey && event.which != 18)\n",
       "        value += \"alt+\";\n",
       "    if (event.shiftKey && event.which != 16)\n",
       "        value += \"shift+\";\n",
       "\n",
       "    value += 'k';\n",
       "    value += event.which.toString();\n",
       "\n",
       "    this._key_event_extra(event, name);\n",
       "\n",
       "    this.send_message(name, {key: value,\n",
       "                             guiEvent: simpleKeys(event)});\n",
       "    return false;\n",
       "}\n",
       "\n",
       "mpl.figure.prototype.toolbar_button_onclick = function(name) {\n",
       "    if (name == 'download') {\n",
       "        this.handle_save(this, null);\n",
       "    } else {\n",
       "        this.send_message(\"toolbar_button\", {name: name});\n",
       "    }\n",
       "};\n",
       "\n",
       "mpl.figure.prototype.toolbar_button_onmouseover = function(tooltip) {\n",
       "    this.message.textContent = tooltip;\n",
       "};\n",
       "mpl.toolbar_items = [[\"Home\", \"Reset original view\", \"fa fa-home icon-home\", \"home\"], [\"Back\", \"Back to  previous view\", \"fa fa-arrow-left icon-arrow-left\", \"back\"], [\"Forward\", \"Forward to next view\", \"fa fa-arrow-right icon-arrow-right\", \"forward\"], [\"\", \"\", \"\", \"\"], [\"Pan\", \"Pan axes with left mouse, zoom with right\", \"fa fa-arrows icon-move\", \"pan\"], [\"Zoom\", \"Zoom to rectangle\", \"fa fa-square-o icon-check-empty\", \"zoom\"], [\"\", \"\", \"\", \"\"], [\"Download\", \"Download plot\", \"fa fa-floppy-o icon-save\", \"download\"]];\n",
       "\n",
       "mpl.extensions = [\"eps\", \"jpeg\", \"pdf\", \"png\", \"ps\", \"raw\", \"svg\", \"tif\"];\n",
       "\n",
       "mpl.default_extension = \"png\";var comm_websocket_adapter = function(comm) {\n",
       "    // Create a \"websocket\"-like object which calls the given IPython comm\n",
       "    // object with the appropriate methods. Currently this is a non binary\n",
       "    // socket, so there is still some room for performance tuning.\n",
       "    var ws = {};\n",
       "\n",
       "    ws.close = function() {\n",
       "        comm.close()\n",
       "    };\n",
       "    ws.send = function(m) {\n",
       "        //console.log('sending', m);\n",
       "        comm.send(m);\n",
       "    };\n",
       "    // Register the callback with on_msg.\n",
       "    comm.on_msg(function(msg) {\n",
       "        //console.log('receiving', msg['content']['data'], msg);\n",
       "        // Pass the mpl event to the overriden (by mpl) onmessage function.\n",
       "        ws.onmessage(msg['content']['data'])\n",
       "    });\n",
       "    return ws;\n",
       "}\n",
       "\n",
       "mpl.mpl_figure_comm = function(comm, msg) {\n",
       "    // This is the function which gets called when the mpl process\n",
       "    // starts-up an IPython Comm through the \"matplotlib\" channel.\n",
       "\n",
       "    var id = msg.content.data.id;\n",
       "    // Get hold of the div created by the display call when the Comm\n",
       "    // socket was opened in Python.\n",
       "    var element = $(\"#\" + id);\n",
       "    var ws_proxy = comm_websocket_adapter(comm)\n",
       "\n",
       "    function ondownload(figure, format) {\n",
       "        window.open(figure.imageObj.src);\n",
       "    }\n",
       "\n",
       "    var fig = new mpl.figure(id, ws_proxy,\n",
       "                           ondownload,\n",
       "                           element.get(0));\n",
       "\n",
       "    // Call onopen now - mpl needs it, as it is assuming we've passed it a real\n",
       "    // web socket which is closed, not our websocket->open comm proxy.\n",
       "    ws_proxy.onopen();\n",
       "\n",
       "    fig.parent_element = element.get(0);\n",
       "    fig.cell_info = mpl.find_output_cell(\"<div id='\" + id + \"'></div>\");\n",
       "    if (!fig.cell_info) {\n",
       "        console.error(\"Failed to find cell for figure\", id, fig);\n",
       "        return;\n",
       "    }\n",
       "\n",
       "    var output_index = fig.cell_info[2]\n",
       "    var cell = fig.cell_info[0];\n",
       "\n",
       "};\n",
       "\n",
       "mpl.figure.prototype.handle_close = function(fig, msg) {\n",
       "    var width = fig.canvas.width/mpl.ratio\n",
       "    fig.root.unbind('remove')\n",
       "\n",
       "    // Update the output cell to use the data from the current canvas.\n",
       "    fig.push_to_output();\n",
       "    var dataURL = fig.canvas.toDataURL();\n",
       "    // Re-enable the keyboard manager in IPython - without this line, in FF,\n",
       "    // the notebook keyboard shortcuts fail.\n",
       "    IPython.keyboard_manager.enable()\n",
       "    $(fig.parent_element).html('<img src=\"' + dataURL + '\" width=\"' + width + '\">');\n",
       "    fig.close_ws(fig, msg);\n",
       "}\n",
       "\n",
       "mpl.figure.prototype.close_ws = function(fig, msg){\n",
       "    fig.send_message('closing', msg);\n",
       "    // fig.ws.close()\n",
       "}\n",
       "\n",
       "mpl.figure.prototype.push_to_output = function(remove_interactive) {\n",
       "    // Turn the data on the canvas into data in the output cell.\n",
       "    var width = this.canvas.width/mpl.ratio\n",
       "    var dataURL = this.canvas.toDataURL();\n",
       "    this.cell_info[1]['text/html'] = '<img src=\"' + dataURL + '\" width=\"' + width + '\">';\n",
       "}\n",
       "\n",
       "mpl.figure.prototype.updated_canvas_event = function() {\n",
       "    // Tell IPython that the notebook contents must change.\n",
       "    IPython.notebook.set_dirty(true);\n",
       "    this.send_message(\"ack\", {});\n",
       "    var fig = this;\n",
       "    // Wait a second, then push the new image to the DOM so\n",
       "    // that it is saved nicely (might be nice to debounce this).\n",
       "    setTimeout(function () { fig.push_to_output() }, 1000);\n",
       "}\n",
       "\n",
       "mpl.figure.prototype._init_toolbar = function() {\n",
       "    var fig = this;\n",
       "\n",
       "    var nav_element = $('<div/>')\n",
       "    nav_element.attr('style', 'width: 100%');\n",
       "    this.root.append(nav_element);\n",
       "\n",
       "    // Define a callback function for later on.\n",
       "    function toolbar_event(event) {\n",
       "        return fig.toolbar_button_onclick(event['data']);\n",
       "    }\n",
       "    function toolbar_mouse_event(event) {\n",
       "        return fig.toolbar_button_onmouseover(event['data']);\n",
       "    }\n",
       "\n",
       "    for(var toolbar_ind in mpl.toolbar_items){\n",
       "        var name = mpl.toolbar_items[toolbar_ind][0];\n",
       "        var tooltip = mpl.toolbar_items[toolbar_ind][1];\n",
       "        var image = mpl.toolbar_items[toolbar_ind][2];\n",
       "        var method_name = mpl.toolbar_items[toolbar_ind][3];\n",
       "\n",
       "        if (!name) { continue; };\n",
       "\n",
       "        var button = $('<button class=\"btn btn-default\" href=\"#\" title=\"' + name + '\"><i class=\"fa ' + image + ' fa-lg\"></i></button>');\n",
       "        button.click(method_name, toolbar_event);\n",
       "        button.mouseover(tooltip, toolbar_mouse_event);\n",
       "        nav_element.append(button);\n",
       "    }\n",
       "\n",
       "    // Add the status bar.\n",
       "    var status_bar = $('<span class=\"mpl-message\" style=\"text-align:right; float: right;\"/>');\n",
       "    nav_element.append(status_bar);\n",
       "    this.message = status_bar[0];\n",
       "\n",
       "    // Add the close button to the window.\n",
       "    var buttongrp = $('<div class=\"btn-group inline pull-right\"></div>');\n",
       "    var button = $('<button class=\"btn btn-mini btn-primary\" href=\"#\" title=\"Stop Interaction\"><i class=\"fa fa-power-off icon-remove icon-large\"></i></button>');\n",
       "    button.click(function (evt) { fig.handle_close(fig, {}); } );\n",
       "    button.mouseover('Stop Interaction', toolbar_mouse_event);\n",
       "    buttongrp.append(button);\n",
       "    var titlebar = this.root.find($('.ui-dialog-titlebar'));\n",
       "    titlebar.prepend(buttongrp);\n",
       "}\n",
       "\n",
       "mpl.figure.prototype._root_extra_style = function(el){\n",
       "    var fig = this\n",
       "    el.on(\"remove\", function(){\n",
       "\tfig.close_ws(fig, {});\n",
       "    });\n",
       "}\n",
       "\n",
       "mpl.figure.prototype._canvas_extra_style = function(el){\n",
       "    // this is important to make the div 'focusable\n",
       "    el.attr('tabindex', 0)\n",
       "    // reach out to IPython and tell the keyboard manager to turn it's self\n",
       "    // off when our div gets focus\n",
       "\n",
       "    // location in version 3\n",
       "    if (IPython.notebook.keyboard_manager) {\n",
       "        IPython.notebook.keyboard_manager.register_events(el);\n",
       "    }\n",
       "    else {\n",
       "        // location in version 2\n",
       "        IPython.keyboard_manager.register_events(el);\n",
       "    }\n",
       "\n",
       "}\n",
       "\n",
       "mpl.figure.prototype._key_event_extra = function(event, name) {\n",
       "    var manager = IPython.notebook.keyboard_manager;\n",
       "    if (!manager)\n",
       "        manager = IPython.keyboard_manager;\n",
       "\n",
       "    // Check for shift+enter\n",
       "    if (event.shiftKey && event.which == 13) {\n",
       "        this.canvas_div.blur();\n",
       "        // select the cell after this one\n",
       "        var index = IPython.notebook.find_cell_index(this.cell_info[0]);\n",
       "        IPython.notebook.select(index + 1);\n",
       "    }\n",
       "}\n",
       "\n",
       "mpl.figure.prototype.handle_save = function(fig, msg) {\n",
       "    fig.ondownload(fig, null);\n",
       "}\n",
       "\n",
       "\n",
       "mpl.find_output_cell = function(html_output) {\n",
       "    // Return the cell and output element which can be found *uniquely* in the notebook.\n",
       "    // Note - this is a bit hacky, but it is done because the \"notebook_saving.Notebook\"\n",
       "    // IPython event is triggered only after the cells have been serialised, which for\n",
       "    // our purposes (turning an active figure into a static one), is too late.\n",
       "    var cells = IPython.notebook.get_cells();\n",
       "    var ncells = cells.length;\n",
       "    for (var i=0; i<ncells; i++) {\n",
       "        var cell = cells[i];\n",
       "        if (cell.cell_type === 'code'){\n",
       "            for (var j=0; j<cell.output_area.outputs.length; j++) {\n",
       "                var data = cell.output_area.outputs[j];\n",
       "                if (data.data) {\n",
       "                    // IPython >= 3 moved mimebundle to data attribute of output\n",
       "                    data = data.data;\n",
       "                }\n",
       "                if (data['text/html'] == html_output) {\n",
       "                    return [cell, data, j];\n",
       "                }\n",
       "            }\n",
       "        }\n",
       "    }\n",
       "}\n",
       "\n",
       "// Register the function which deals with the matplotlib target/channel.\n",
       "// The kernel may be null if the page has been refreshed.\n",
       "if (IPython.notebook.kernel != null) {\n",
       "    IPython.notebook.kernel.comm_manager.register_target('matplotlib', mpl.mpl_figure_comm);\n",
       "}\n"
      ],
      "text/plain": [
       "<IPython.core.display.Javascript object>"
      ]
     },
     "metadata": {},
     "output_type": "display_data"
    },
    {
     "data": {
      "text/html": [
       "<img src=\"data:image/png;base64,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\" width=\"640\">"
      ],
      "text/plain": [
       "<IPython.core.display.HTML object>"
      ]
     },
     "metadata": {},
     "output_type": "display_data"
    },
    {
     "data": {
      "application/javascript": [
       "/* Put everything inside the global mpl namespace */\n",
       "window.mpl = {};\n",
       "\n",
       "\n",
       "mpl.get_websocket_type = function() {\n",
       "    if (typeof(WebSocket) !== 'undefined') {\n",
       "        return WebSocket;\n",
       "    } else if (typeof(MozWebSocket) !== 'undefined') {\n",
       "        return MozWebSocket;\n",
       "    } else {\n",
       "        alert('Your browser does not have WebSocket support.' +\n",
       "              'Please try Chrome, Safari or Firefox ≥ 6. ' +\n",
       "              'Firefox 4 and 5 are also supported but you ' +\n",
       "              'have to enable WebSockets in about:config.');\n",
       "    };\n",
       "}\n",
       "\n",
       "mpl.figure = function(figure_id, websocket, ondownload, parent_element) {\n",
       "    this.id = figure_id;\n",
       "\n",
       "    this.ws = websocket;\n",
       "\n",
       "    this.supports_binary = (this.ws.binaryType != undefined);\n",
       "\n",
       "    if (!this.supports_binary) {\n",
       "        var warnings = document.getElementById(\"mpl-warnings\");\n",
       "        if (warnings) {\n",
       "            warnings.style.display = 'block';\n",
       "            warnings.textContent = (\n",
       "                \"This browser does not support binary websocket messages. \" +\n",
       "                    \"Performance may be slow.\");\n",
       "        }\n",
       "    }\n",
       "\n",
       "    this.imageObj = new Image();\n",
       "\n",
       "    this.context = undefined;\n",
       "    this.message = undefined;\n",
       "    this.canvas = undefined;\n",
       "    this.rubberband_canvas = undefined;\n",
       "    this.rubberband_context = undefined;\n",
       "    this.format_dropdown = undefined;\n",
       "\n",
       "    this.image_mode = 'full';\n",
       "\n",
       "    this.root = $('<div/>');\n",
       "    this._root_extra_style(this.root)\n",
       "    this.root.attr('style', 'display: inline-block');\n",
       "\n",
       "    $(parent_element).append(this.root);\n",
       "\n",
       "    this._init_header(this);\n",
       "    this._init_canvas(this);\n",
       "    this._init_toolbar(this);\n",
       "\n",
       "    var fig = this;\n",
       "\n",
       "    this.waiting = false;\n",
       "\n",
       "    this.ws.onopen =  function () {\n",
       "            fig.send_message(\"supports_binary\", {value: fig.supports_binary});\n",
       "            fig.send_message(\"send_image_mode\", {});\n",
       "            if (mpl.ratio != 1) {\n",
       "                fig.send_message(\"set_dpi_ratio\", {'dpi_ratio': mpl.ratio});\n",
       "            }\n",
       "            fig.send_message(\"refresh\", {});\n",
       "        }\n",
       "\n",
       "    this.imageObj.onload = function() {\n",
       "            if (fig.image_mode == 'full') {\n",
       "                // Full images could contain transparency (where diff images\n",
       "                // almost always do), so we need to clear the canvas so that\n",
       "                // there is no ghosting.\n",
       "                fig.context.clearRect(0, 0, fig.canvas.width, fig.canvas.height);\n",
       "            }\n",
       "            fig.context.drawImage(fig.imageObj, 0, 0);\n",
       "        };\n",
       "\n",
       "    this.imageObj.onunload = function() {\n",
       "        this.ws.close();\n",
       "    }\n",
       "\n",
       "    this.ws.onmessage = this._make_on_message_function(this);\n",
       "\n",
       "    this.ondownload = ondownload;\n",
       "}\n",
       "\n",
       "mpl.figure.prototype._init_header = function() {\n",
       "    var titlebar = $(\n",
       "        '<div class=\"ui-dialog-titlebar ui-widget-header ui-corner-all ' +\n",
       "        'ui-helper-clearfix\"/>');\n",
       "    var titletext = $(\n",
       "        '<div class=\"ui-dialog-title\" style=\"width: 100%; ' +\n",
       "        'text-align: center; padding: 3px;\"/>');\n",
       "    titlebar.append(titletext)\n",
       "    this.root.append(titlebar);\n",
       "    this.header = titletext[0];\n",
       "}\n",
       "\n",
       "\n",
       "\n",
       "mpl.figure.prototype._canvas_extra_style = function(canvas_div) {\n",
       "\n",
       "}\n",
       "\n",
       "\n",
       "mpl.figure.prototype._root_extra_style = function(canvas_div) {\n",
       "\n",
       "}\n",
       "\n",
       "mpl.figure.prototype._init_canvas = function() {\n",
       "    var fig = this;\n",
       "\n",
       "    var canvas_div = $('<div/>');\n",
       "\n",
       "    canvas_div.attr('style', 'position: relative; clear: both; outline: 0');\n",
       "\n",
       "    function canvas_keyboard_event(event) {\n",
       "        return fig.key_event(event, event['data']);\n",
       "    }\n",
       "\n",
       "    canvas_div.keydown('key_press', canvas_keyboard_event);\n",
       "    canvas_div.keyup('key_release', canvas_keyboard_event);\n",
       "    this.canvas_div = canvas_div\n",
       "    this._canvas_extra_style(canvas_div)\n",
       "    this.root.append(canvas_div);\n",
       "\n",
       "    var canvas = $('<canvas/>');\n",
       "    canvas.addClass('mpl-canvas');\n",
       "    canvas.attr('style', \"left: 0; top: 0; z-index: 0; outline: 0\")\n",
       "\n",
       "    this.canvas = canvas[0];\n",
       "    this.context = canvas[0].getContext(\"2d\");\n",
       "\n",
       "    var backingStore = this.context.backingStorePixelRatio ||\n",
       "\tthis.context.webkitBackingStorePixelRatio ||\n",
       "\tthis.context.mozBackingStorePixelRatio ||\n",
       "\tthis.context.msBackingStorePixelRatio ||\n",
       "\tthis.context.oBackingStorePixelRatio ||\n",
       "\tthis.context.backingStorePixelRatio || 1;\n",
       "\n",
       "    mpl.ratio = (window.devicePixelRatio || 1) / backingStore;\n",
       "\n",
       "    var rubberband = $('<canvas/>');\n",
       "    rubberband.attr('style', \"position: absolute; left: 0; top: 0; z-index: 1;\")\n",
       "\n",
       "    var pass_mouse_events = true;\n",
       "\n",
       "    canvas_div.resizable({\n",
       "        start: function(event, ui) {\n",
       "            pass_mouse_events = false;\n",
       "        },\n",
       "        resize: function(event, ui) {\n",
       "            fig.request_resize(ui.size.width, ui.size.height);\n",
       "        },\n",
       "        stop: function(event, ui) {\n",
       "            pass_mouse_events = true;\n",
       "            fig.request_resize(ui.size.width, ui.size.height);\n",
       "        },\n",
       "    });\n",
       "\n",
       "    function mouse_event_fn(event) {\n",
       "        if (pass_mouse_events)\n",
       "            return fig.mouse_event(event, event['data']);\n",
       "    }\n",
       "\n",
       "    rubberband.mousedown('button_press', mouse_event_fn);\n",
       "    rubberband.mouseup('button_release', mouse_event_fn);\n",
       "    // Throttle sequential mouse events to 1 every 20ms.\n",
       "    rubberband.mousemove('motion_notify', mouse_event_fn);\n",
       "\n",
       "    rubberband.mouseenter('figure_enter', mouse_event_fn);\n",
       "    rubberband.mouseleave('figure_leave', mouse_event_fn);\n",
       "\n",
       "    canvas_div.on(\"wheel\", function (event) {\n",
       "        event = event.originalEvent;\n",
       "        event['data'] = 'scroll'\n",
       "        if (event.deltaY < 0) {\n",
       "            event.step = 1;\n",
       "        } else {\n",
       "            event.step = -1;\n",
       "        }\n",
       "        mouse_event_fn(event);\n",
       "    });\n",
       "\n",
       "    canvas_div.append(canvas);\n",
       "    canvas_div.append(rubberband);\n",
       "\n",
       "    this.rubberband = rubberband;\n",
       "    this.rubberband_canvas = rubberband[0];\n",
       "    this.rubberband_context = rubberband[0].getContext(\"2d\");\n",
       "    this.rubberband_context.strokeStyle = \"#000000\";\n",
       "\n",
       "    this._resize_canvas = function(width, height) {\n",
       "        // Keep the size of the canvas, canvas container, and rubber band\n",
       "        // canvas in synch.\n",
       "        canvas_div.css('width', width)\n",
       "        canvas_div.css('height', height)\n",
       "\n",
       "        canvas.attr('width', width * mpl.ratio);\n",
       "        canvas.attr('height', height * mpl.ratio);\n",
       "        canvas.attr('style', 'width: ' + width + 'px; height: ' + height + 'px;');\n",
       "\n",
       "        rubberband.attr('width', width);\n",
       "        rubberband.attr('height', height);\n",
       "    }\n",
       "\n",
       "    // Set the figure to an initial 600x600px, this will subsequently be updated\n",
       "    // upon first draw.\n",
       "    this._resize_canvas(600, 600);\n",
       "\n",
       "    // Disable right mouse context menu.\n",
       "    $(this.rubberband_canvas).bind(\"contextmenu\",function(e){\n",
       "        return false;\n",
       "    });\n",
       "\n",
       "    function set_focus () {\n",
       "        canvas.focus();\n",
       "        canvas_div.focus();\n",
       "    }\n",
       "\n",
       "    window.setTimeout(set_focus, 100);\n",
       "}\n",
       "\n",
       "mpl.figure.prototype._init_toolbar = function() {\n",
       "    var fig = this;\n",
       "\n",
       "    var nav_element = $('<div/>')\n",
       "    nav_element.attr('style', 'width: 100%');\n",
       "    this.root.append(nav_element);\n",
       "\n",
       "    // Define a callback function for later on.\n",
       "    function toolbar_event(event) {\n",
       "        return fig.toolbar_button_onclick(event['data']);\n",
       "    }\n",
       "    function toolbar_mouse_event(event) {\n",
       "        return fig.toolbar_button_onmouseover(event['data']);\n",
       "    }\n",
       "\n",
       "    for(var toolbar_ind in mpl.toolbar_items) {\n",
       "        var name = mpl.toolbar_items[toolbar_ind][0];\n",
       "        var tooltip = mpl.toolbar_items[toolbar_ind][1];\n",
       "        var image = mpl.toolbar_items[toolbar_ind][2];\n",
       "        var method_name = mpl.toolbar_items[toolbar_ind][3];\n",
       "\n",
       "        if (!name) {\n",
       "            // put a spacer in here.\n",
       "            continue;\n",
       "        }\n",
       "        var button = $('<button/>');\n",
       "        button.addClass('ui-button ui-widget ui-state-default ui-corner-all ' +\n",
       "                        'ui-button-icon-only');\n",
       "        button.attr('role', 'button');\n",
       "        button.attr('aria-disabled', 'false');\n",
       "        button.click(method_name, toolbar_event);\n",
       "        button.mouseover(tooltip, toolbar_mouse_event);\n",
       "\n",
       "        var icon_img = $('<span/>');\n",
       "        icon_img.addClass('ui-button-icon-primary ui-icon');\n",
       "        icon_img.addClass(image);\n",
       "        icon_img.addClass('ui-corner-all');\n",
       "\n",
       "        var tooltip_span = $('<span/>');\n",
       "        tooltip_span.addClass('ui-button-text');\n",
       "        tooltip_span.html(tooltip);\n",
       "\n",
       "        button.append(icon_img);\n",
       "        button.append(tooltip_span);\n",
       "\n",
       "        nav_element.append(button);\n",
       "    }\n",
       "\n",
       "    var fmt_picker_span = $('<span/>');\n",
       "\n",
       "    var fmt_picker = $('<select/>');\n",
       "    fmt_picker.addClass('mpl-toolbar-option ui-widget ui-widget-content');\n",
       "    fmt_picker_span.append(fmt_picker);\n",
       "    nav_element.append(fmt_picker_span);\n",
       "    this.format_dropdown = fmt_picker[0];\n",
       "\n",
       "    for (var ind in mpl.extensions) {\n",
       "        var fmt = mpl.extensions[ind];\n",
       "        var option = $(\n",
       "            '<option/>', {selected: fmt === mpl.default_extension}).html(fmt);\n",
       "        fmt_picker.append(option)\n",
       "    }\n",
       "\n",
       "    // Add hover states to the ui-buttons\n",
       "    $( \".ui-button\" ).hover(\n",
       "        function() { $(this).addClass(\"ui-state-hover\");},\n",
       "        function() { $(this).removeClass(\"ui-state-hover\");}\n",
       "    );\n",
       "\n",
       "    var status_bar = $('<span class=\"mpl-message\"/>');\n",
       "    nav_element.append(status_bar);\n",
       "    this.message = status_bar[0];\n",
       "}\n",
       "\n",
       "mpl.figure.prototype.request_resize = function(x_pixels, y_pixels) {\n",
       "    // Request matplotlib to resize the figure. Matplotlib will then trigger a resize in the client,\n",
       "    // which will in turn request a refresh of the image.\n",
       "    this.send_message('resize', {'width': x_pixels, 'height': y_pixels});\n",
       "}\n",
       "\n",
       "mpl.figure.prototype.send_message = function(type, properties) {\n",
       "    properties['type'] = type;\n",
       "    properties['figure_id'] = this.id;\n",
       "    this.ws.send(JSON.stringify(properties));\n",
       "}\n",
       "\n",
       "mpl.figure.prototype.send_draw_message = function() {\n",
       "    if (!this.waiting) {\n",
       "        this.waiting = true;\n",
       "        this.ws.send(JSON.stringify({type: \"draw\", figure_id: this.id}));\n",
       "    }\n",
       "}\n",
       "\n",
       "\n",
       "mpl.figure.prototype.handle_save = function(fig, msg) {\n",
       "    var format_dropdown = fig.format_dropdown;\n",
       "    var format = format_dropdown.options[format_dropdown.selectedIndex].value;\n",
       "    fig.ondownload(fig, format);\n",
       "}\n",
       "\n",
       "\n",
       "mpl.figure.prototype.handle_resize = function(fig, msg) {\n",
       "    var size = msg['size'];\n",
       "    if (size[0] != fig.canvas.width || size[1] != fig.canvas.height) {\n",
       "        fig._resize_canvas(size[0], size[1]);\n",
       "        fig.send_message(\"refresh\", {});\n",
       "    };\n",
       "}\n",
       "\n",
       "mpl.figure.prototype.handle_rubberband = function(fig, msg) {\n",
       "    var x0 = msg['x0'] / mpl.ratio;\n",
       "    var y0 = (fig.canvas.height - msg['y0']) / mpl.ratio;\n",
       "    var x1 = msg['x1'] / mpl.ratio;\n",
       "    var y1 = (fig.canvas.height - msg['y1']) / mpl.ratio;\n",
       "    x0 = Math.floor(x0) + 0.5;\n",
       "    y0 = Math.floor(y0) + 0.5;\n",
       "    x1 = Math.floor(x1) + 0.5;\n",
       "    y1 = Math.floor(y1) + 0.5;\n",
       "    var min_x = Math.min(x0, x1);\n",
       "    var min_y = Math.min(y0, y1);\n",
       "    var width = Math.abs(x1 - x0);\n",
       "    var height = Math.abs(y1 - y0);\n",
       "\n",
       "    fig.rubberband_context.clearRect(\n",
       "        0, 0, fig.canvas.width, fig.canvas.height);\n",
       "\n",
       "    fig.rubberband_context.strokeRect(min_x, min_y, width, height);\n",
       "}\n",
       "\n",
       "mpl.figure.prototype.handle_figure_label = function(fig, msg) {\n",
       "    // Updates the figure title.\n",
       "    fig.header.textContent = msg['label'];\n",
       "}\n",
       "\n",
       "mpl.figure.prototype.handle_cursor = function(fig, msg) {\n",
       "    var cursor = msg['cursor'];\n",
       "    switch(cursor)\n",
       "    {\n",
       "    case 0:\n",
       "        cursor = 'pointer';\n",
       "        break;\n",
       "    case 1:\n",
       "        cursor = 'default';\n",
       "        break;\n",
       "    case 2:\n",
       "        cursor = 'crosshair';\n",
       "        break;\n",
       "    case 3:\n",
       "        cursor = 'move';\n",
       "        break;\n",
       "    }\n",
       "    fig.rubberband_canvas.style.cursor = cursor;\n",
       "}\n",
       "\n",
       "mpl.figure.prototype.handle_message = function(fig, msg) {\n",
       "    fig.message.textContent = msg['message'];\n",
       "}\n",
       "\n",
       "mpl.figure.prototype.handle_draw = function(fig, msg) {\n",
       "    // Request the server to send over a new figure.\n",
       "    fig.send_draw_message();\n",
       "}\n",
       "\n",
       "mpl.figure.prototype.handle_image_mode = function(fig, msg) {\n",
       "    fig.image_mode = msg['mode'];\n",
       "}\n",
       "\n",
       "mpl.figure.prototype.updated_canvas_event = function() {\n",
       "    // Called whenever the canvas gets updated.\n",
       "    this.send_message(\"ack\", {});\n",
       "}\n",
       "\n",
       "// A function to construct a web socket function for onmessage handling.\n",
       "// Called in the figure constructor.\n",
       "mpl.figure.prototype._make_on_message_function = function(fig) {\n",
       "    return function socket_on_message(evt) {\n",
       "        if (evt.data instanceof Blob) {\n",
       "            /* FIXME: We get \"Resource interpreted as Image but\n",
       "             * transferred with MIME type text/plain:\" errors on\n",
       "             * Chrome.  But how to set the MIME type?  It doesn't seem\n",
       "             * to be part of the websocket stream */\n",
       "            evt.data.type = \"image/png\";\n",
       "\n",
       "            /* Free the memory for the previous frames */\n",
       "            if (fig.imageObj.src) {\n",
       "                (window.URL || window.webkitURL).revokeObjectURL(\n",
       "                    fig.imageObj.src);\n",
       "            }\n",
       "\n",
       "            fig.imageObj.src = (window.URL || window.webkitURL).createObjectURL(\n",
       "                evt.data);\n",
       "            fig.updated_canvas_event();\n",
       "            fig.waiting = false;\n",
       "            return;\n",
       "        }\n",
       "        else if (typeof evt.data === 'string' && evt.data.slice(0, 21) == \"data:image/png;base64\") {\n",
       "            fig.imageObj.src = evt.data;\n",
       "            fig.updated_canvas_event();\n",
       "            fig.waiting = false;\n",
       "            return;\n",
       "        }\n",
       "\n",
       "        var msg = JSON.parse(evt.data);\n",
       "        var msg_type = msg['type'];\n",
       "\n",
       "        // Call the  \"handle_{type}\" callback, which takes\n",
       "        // the figure and JSON message as its only arguments.\n",
       "        try {\n",
       "            var callback = fig[\"handle_\" + msg_type];\n",
       "        } catch (e) {\n",
       "            console.log(\"No handler for the '\" + msg_type + \"' message type: \", msg);\n",
       "            return;\n",
       "        }\n",
       "\n",
       "        if (callback) {\n",
       "            try {\n",
       "                // console.log(\"Handling '\" + msg_type + \"' message: \", msg);\n",
       "                callback(fig, msg);\n",
       "            } catch (e) {\n",
       "                console.log(\"Exception inside the 'handler_\" + msg_type + \"' callback:\", e, e.stack, msg);\n",
       "            }\n",
       "        }\n",
       "    };\n",
       "}\n",
       "\n",
       "// from http://stackoverflow.com/questions/1114465/getting-mouse-location-in-canvas\n",
       "mpl.findpos = function(e) {\n",
       "    //this section is from http://www.quirksmode.org/js/events_properties.html\n",
       "    var targ;\n",
       "    if (!e)\n",
       "        e = window.event;\n",
       "    if (e.target)\n",
       "        targ = e.target;\n",
       "    else if (e.srcElement)\n",
       "        targ = e.srcElement;\n",
       "    if (targ.nodeType == 3) // defeat Safari bug\n",
       "        targ = targ.parentNode;\n",
       "\n",
       "    // jQuery normalizes the pageX and pageY\n",
       "    // pageX,Y are the mouse positions relative to the document\n",
       "    // offset() returns the position of the element relative to the document\n",
       "    var x = e.pageX - $(targ).offset().left;\n",
       "    var y = e.pageY - $(targ).offset().top;\n",
       "\n",
       "    return {\"x\": x, \"y\": y};\n",
       "};\n",
       "\n",
       "/*\n",
       " * return a copy of an object with only non-object keys\n",
       " * we need this to avoid circular references\n",
       " * http://stackoverflow.com/a/24161582/3208463\n",
       " */\n",
       "function simpleKeys (original) {\n",
       "  return Object.keys(original).reduce(function (obj, key) {\n",
       "    if (typeof original[key] !== 'object')\n",
       "        obj[key] = original[key]\n",
       "    return obj;\n",
       "  }, {});\n",
       "}\n",
       "\n",
       "mpl.figure.prototype.mouse_event = function(event, name) {\n",
       "    var canvas_pos = mpl.findpos(event)\n",
       "\n",
       "    if (name === 'button_press')\n",
       "    {\n",
       "        this.canvas.focus();\n",
       "        this.canvas_div.focus();\n",
       "    }\n",
       "\n",
       "    var x = canvas_pos.x * mpl.ratio;\n",
       "    var y = canvas_pos.y * mpl.ratio;\n",
       "\n",
       "    this.send_message(name, {x: x, y: y, button: event.button,\n",
       "                             step: event.step,\n",
       "                             guiEvent: simpleKeys(event)});\n",
       "\n",
       "    /* This prevents the web browser from automatically changing to\n",
       "     * the text insertion cursor when the button is pressed.  We want\n",
       "     * to control all of the cursor setting manually through the\n",
       "     * 'cursor' event from matplotlib */\n",
       "    event.preventDefault();\n",
       "    return false;\n",
       "}\n",
       "\n",
       "mpl.figure.prototype._key_event_extra = function(event, name) {\n",
       "    // Handle any extra behaviour associated with a key event\n",
       "}\n",
       "\n",
       "mpl.figure.prototype.key_event = function(event, name) {\n",
       "\n",
       "    // Prevent repeat events\n",
       "    if (name == 'key_press')\n",
       "    {\n",
       "        if (event.which === this._key)\n",
       "            return;\n",
       "        else\n",
       "            this._key = event.which;\n",
       "    }\n",
       "    if (name == 'key_release')\n",
       "        this._key = null;\n",
       "\n",
       "    var value = '';\n",
       "    if (event.ctrlKey && event.which != 17)\n",
       "        value += \"ctrl+\";\n",
       "    if (event.altKey && event.which != 18)\n",
       "        value += \"alt+\";\n",
       "    if (event.shiftKey && event.which != 16)\n",
       "        value += \"shift+\";\n",
       "\n",
       "    value += 'k';\n",
       "    value += event.which.toString();\n",
       "\n",
       "    this._key_event_extra(event, name);\n",
       "\n",
       "    this.send_message(name, {key: value,\n",
       "                             guiEvent: simpleKeys(event)});\n",
       "    return false;\n",
       "}\n",
       "\n",
       "mpl.figure.prototype.toolbar_button_onclick = function(name) {\n",
       "    if (name == 'download') {\n",
       "        this.handle_save(this, null);\n",
       "    } else {\n",
       "        this.send_message(\"toolbar_button\", {name: name});\n",
       "    }\n",
       "};\n",
       "\n",
       "mpl.figure.prototype.toolbar_button_onmouseover = function(tooltip) {\n",
       "    this.message.textContent = tooltip;\n",
       "};\n",
       "mpl.toolbar_items = [[\"Home\", \"Reset original view\", \"fa fa-home icon-home\", \"home\"], [\"Back\", \"Back to  previous view\", \"fa fa-arrow-left icon-arrow-left\", \"back\"], [\"Forward\", \"Forward to next view\", \"fa fa-arrow-right icon-arrow-right\", \"forward\"], [\"\", \"\", \"\", \"\"], [\"Pan\", \"Pan axes with left mouse, zoom with right\", \"fa fa-arrows icon-move\", \"pan\"], [\"Zoom\", \"Zoom to rectangle\", \"fa fa-square-o icon-check-empty\", \"zoom\"], [\"\", \"\", \"\", \"\"], [\"Download\", \"Download plot\", \"fa fa-floppy-o icon-save\", \"download\"]];\n",
       "\n",
       "mpl.extensions = [\"eps\", \"jpeg\", \"pdf\", \"png\", \"ps\", \"raw\", \"svg\", \"tif\"];\n",
       "\n",
       "mpl.default_extension = \"png\";var comm_websocket_adapter = function(comm) {\n",
       "    // Create a \"websocket\"-like object which calls the given IPython comm\n",
       "    // object with the appropriate methods. Currently this is a non binary\n",
       "    // socket, so there is still some room for performance tuning.\n",
       "    var ws = {};\n",
       "\n",
       "    ws.close = function() {\n",
       "        comm.close()\n",
       "    };\n",
       "    ws.send = function(m) {\n",
       "        //console.log('sending', m);\n",
       "        comm.send(m);\n",
       "    };\n",
       "    // Register the callback with on_msg.\n",
       "    comm.on_msg(function(msg) {\n",
       "        //console.log('receiving', msg['content']['data'], msg);\n",
       "        // Pass the mpl event to the overriden (by mpl) onmessage function.\n",
       "        ws.onmessage(msg['content']['data'])\n",
       "    });\n",
       "    return ws;\n",
       "}\n",
       "\n",
       "mpl.mpl_figure_comm = function(comm, msg) {\n",
       "    // This is the function which gets called when the mpl process\n",
       "    // starts-up an IPython Comm through the \"matplotlib\" channel.\n",
       "\n",
       "    var id = msg.content.data.id;\n",
       "    // Get hold of the div created by the display call when the Comm\n",
       "    // socket was opened in Python.\n",
       "    var element = $(\"#\" + id);\n",
       "    var ws_proxy = comm_websocket_adapter(comm)\n",
       "\n",
       "    function ondownload(figure, format) {\n",
       "        window.open(figure.imageObj.src);\n",
       "    }\n",
       "\n",
       "    var fig = new mpl.figure(id, ws_proxy,\n",
       "                           ondownload,\n",
       "                           element.get(0));\n",
       "\n",
       "    // Call onopen now - mpl needs it, as it is assuming we've passed it a real\n",
       "    // web socket which is closed, not our websocket->open comm proxy.\n",
       "    ws_proxy.onopen();\n",
       "\n",
       "    fig.parent_element = element.get(0);\n",
       "    fig.cell_info = mpl.find_output_cell(\"<div id='\" + id + \"'></div>\");\n",
       "    if (!fig.cell_info) {\n",
       "        console.error(\"Failed to find cell for figure\", id, fig);\n",
       "        return;\n",
       "    }\n",
       "\n",
       "    var output_index = fig.cell_info[2]\n",
       "    var cell = fig.cell_info[0];\n",
       "\n",
       "};\n",
       "\n",
       "mpl.figure.prototype.handle_close = function(fig, msg) {\n",
       "    var width = fig.canvas.width/mpl.ratio\n",
       "    fig.root.unbind('remove')\n",
       "\n",
       "    // Update the output cell to use the data from the current canvas.\n",
       "    fig.push_to_output();\n",
       "    var dataURL = fig.canvas.toDataURL();\n",
       "    // Re-enable the keyboard manager in IPython - without this line, in FF,\n",
       "    // the notebook keyboard shortcuts fail.\n",
       "    IPython.keyboard_manager.enable()\n",
       "    $(fig.parent_element).html('<img src=\"' + dataURL + '\" width=\"' + width + '\">');\n",
       "    fig.close_ws(fig, msg);\n",
       "}\n",
       "\n",
       "mpl.figure.prototype.close_ws = function(fig, msg){\n",
       "    fig.send_message('closing', msg);\n",
       "    // fig.ws.close()\n",
       "}\n",
       "\n",
       "mpl.figure.prototype.push_to_output = function(remove_interactive) {\n",
       "    // Turn the data on the canvas into data in the output cell.\n",
       "    var width = this.canvas.width/mpl.ratio\n",
       "    var dataURL = this.canvas.toDataURL();\n",
       "    this.cell_info[1]['text/html'] = '<img src=\"' + dataURL + '\" width=\"' + width + '\">';\n",
       "}\n",
       "\n",
       "mpl.figure.prototype.updated_canvas_event = function() {\n",
       "    // Tell IPython that the notebook contents must change.\n",
       "    IPython.notebook.set_dirty(true);\n",
       "    this.send_message(\"ack\", {});\n",
       "    var fig = this;\n",
       "    // Wait a second, then push the new image to the DOM so\n",
       "    // that it is saved nicely (might be nice to debounce this).\n",
       "    setTimeout(function () { fig.push_to_output() }, 1000);\n",
       "}\n",
       "\n",
       "mpl.figure.prototype._init_toolbar = function() {\n",
       "    var fig = this;\n",
       "\n",
       "    var nav_element = $('<div/>')\n",
       "    nav_element.attr('style', 'width: 100%');\n",
       "    this.root.append(nav_element);\n",
       "\n",
       "    // Define a callback function for later on.\n",
       "    function toolbar_event(event) {\n",
       "        return fig.toolbar_button_onclick(event['data']);\n",
       "    }\n",
       "    function toolbar_mouse_event(event) {\n",
       "        return fig.toolbar_button_onmouseover(event['data']);\n",
       "    }\n",
       "\n",
       "    for(var toolbar_ind in mpl.toolbar_items){\n",
       "        var name = mpl.toolbar_items[toolbar_ind][0];\n",
       "        var tooltip = mpl.toolbar_items[toolbar_ind][1];\n",
       "        var image = mpl.toolbar_items[toolbar_ind][2];\n",
       "        var method_name = mpl.toolbar_items[toolbar_ind][3];\n",
       "\n",
       "        if (!name) { continue; };\n",
       "\n",
       "        var button = $('<button class=\"btn btn-default\" href=\"#\" title=\"' + name + '\"><i class=\"fa ' + image + ' fa-lg\"></i></button>');\n",
       "        button.click(method_name, toolbar_event);\n",
       "        button.mouseover(tooltip, toolbar_mouse_event);\n",
       "        nav_element.append(button);\n",
       "    }\n",
       "\n",
       "    // Add the status bar.\n",
       "    var status_bar = $('<span class=\"mpl-message\" style=\"text-align:right; float: right;\"/>');\n",
       "    nav_element.append(status_bar);\n",
       "    this.message = status_bar[0];\n",
       "\n",
       "    // Add the close button to the window.\n",
       "    var buttongrp = $('<div class=\"btn-group inline pull-right\"></div>');\n",
       "    var button = $('<button class=\"btn btn-mini btn-primary\" href=\"#\" title=\"Stop Interaction\"><i class=\"fa fa-power-off icon-remove icon-large\"></i></button>');\n",
       "    button.click(function (evt) { fig.handle_close(fig, {}); } );\n",
       "    button.mouseover('Stop Interaction', toolbar_mouse_event);\n",
       "    buttongrp.append(button);\n",
       "    var titlebar = this.root.find($('.ui-dialog-titlebar'));\n",
       "    titlebar.prepend(buttongrp);\n",
       "}\n",
       "\n",
       "mpl.figure.prototype._root_extra_style = function(el){\n",
       "    var fig = this\n",
       "    el.on(\"remove\", function(){\n",
       "\tfig.close_ws(fig, {});\n",
       "    });\n",
       "}\n",
       "\n",
       "mpl.figure.prototype._canvas_extra_style = function(el){\n",
       "    // this is important to make the div 'focusable\n",
       "    el.attr('tabindex', 0)\n",
       "    // reach out to IPython and tell the keyboard manager to turn it's self\n",
       "    // off when our div gets focus\n",
       "\n",
       "    // location in version 3\n",
       "    if (IPython.notebook.keyboard_manager) {\n",
       "        IPython.notebook.keyboard_manager.register_events(el);\n",
       "    }\n",
       "    else {\n",
       "        // location in version 2\n",
       "        IPython.keyboard_manager.register_events(el);\n",
       "    }\n",
       "\n",
       "}\n",
       "\n",
       "mpl.figure.prototype._key_event_extra = function(event, name) {\n",
       "    var manager = IPython.notebook.keyboard_manager;\n",
       "    if (!manager)\n",
       "        manager = IPython.keyboard_manager;\n",
       "\n",
       "    // Check for shift+enter\n",
       "    if (event.shiftKey && event.which == 13) {\n",
       "        this.canvas_div.blur();\n",
       "        // select the cell after this one\n",
       "        var index = IPython.notebook.find_cell_index(this.cell_info[0]);\n",
       "        IPython.notebook.select(index + 1);\n",
       "    }\n",
       "}\n",
       "\n",
       "mpl.figure.prototype.handle_save = function(fig, msg) {\n",
       "    fig.ondownload(fig, null);\n",
       "}\n",
       "\n",
       "\n",
       "mpl.find_output_cell = function(html_output) {\n",
       "    // Return the cell and output element which can be found *uniquely* in the notebook.\n",
       "    // Note - this is a bit hacky, but it is done because the \"notebook_saving.Notebook\"\n",
       "    // IPython event is triggered only after the cells have been serialised, which for\n",
       "    // our purposes (turning an active figure into a static one), is too late.\n",
       "    var cells = IPython.notebook.get_cells();\n",
       "    var ncells = cells.length;\n",
       "    for (var i=0; i<ncells; i++) {\n",
       "        var cell = cells[i];\n",
       "        if (cell.cell_type === 'code'){\n",
       "            for (var j=0; j<cell.output_area.outputs.length; j++) {\n",
       "                var data = cell.output_area.outputs[j];\n",
       "                if (data.data) {\n",
       "                    // IPython >= 3 moved mimebundle to data attribute of output\n",
       "                    data = data.data;\n",
       "                }\n",
       "                if (data['text/html'] == html_output) {\n",
       "                    return [cell, data, j];\n",
       "                }\n",
       "            }\n",
       "        }\n",
       "    }\n",
       "}\n",
       "\n",
       "// Register the function which deals with the matplotlib target/channel.\n",
       "// The kernel may be null if the page has been refreshed.\n",
       "if (IPython.notebook.kernel != null) {\n",
       "    IPython.notebook.kernel.comm_manager.register_target('matplotlib', mpl.mpl_figure_comm);\n",
       "}\n"
      ],
      "text/plain": [
       "<IPython.core.display.Javascript object>"
      ]
     },
     "metadata": {},
     "output_type": "display_data"
    },
    {
     "data": {
      "text/html": [
       "<img src=\"data:image/png;base64,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\" width=\"300\">"
      ],
      "text/plain": [
       "<IPython.core.display.HTML object>"
      ]
     },
     "metadata": {},
     "output_type": "display_data"
    }
   ],
   "source": [
    "rgb_im.PLOT_Im(M_DF_parallel[100])"
   ]
  },
  {
   "cell_type": "markdown",
   "metadata": {},
   "source": [
    "# 4- WND CHARM Method"
   ]
  },
  {
   "cell_type": "markdown",
   "metadata": {},
   "source": [
    "## 4.1- Convert RGB images to Grayscale"
   ]
  },
  {
   "cell_type": "code",
   "execution_count": null,
   "metadata": {
    "collapsed": true
   },
   "outputs": [],
   "source": [
    "%%time\n",
    "%run ./RGB2GRAY.ipynb"
   ]
  },
  {
   "cell_type": "markdown",
   "metadata": {},
   "source": [
    "## Load the gray images as numpy array"
   ]
  },
  {
   "cell_type": "code",
   "execution_count": null,
   "metadata": {
    "collapsed": true
   },
   "outputs": [],
   "source": [
    "filename_Gray_IM =projectpath+'io/Output/GRAY_IM.npy'"
   ]
  },
  {
   "cell_type": "code",
   "execution_count": null,
   "metadata": {
    "collapsed": true
   },
   "outputs": [],
   "source": [
    "GRAY_IM_parallel=np.load(filename_Gray_IM)"
   ]
  },
  {
   "cell_type": "markdown",
   "metadata": {},
   "source": [
    "# Display images by class ( 1 or 2)"
   ]
  },
  {
   "cell_type": "raw",
   "metadata": {
    "collapsed": true
   },
   "source": [
    "AA=Data_FRAMES.loc[Data_FRAMES.TYPE==1].copy()\n",
    "AA=AA.indice\n",
    "AA = np.asarray(AA)\n",
    "\n",
    "NN=Data_FRAMES.loc[Data_FRAMES.TYPE==2].copy()\n",
    "NN=NN.indice\n",
    "NN = np.asarray(NN)\n",
    "\n",
    "NNN=Data_FRAMES.loc[Data_FRAMES.TYPE==3].copy()\n",
    "NNN=NNN.indice\n",
    "NNN = np.asarray(NNN)"
   ]
  },
  {
   "cell_type": "code",
   "execution_count": null,
   "metadata": {
    "collapsed": true
   },
   "outputs": [],
   "source": []
  },
  {
   "cell_type": "raw",
   "metadata": {
    "collapsed": true
   },
   "source": [
    "def Plot_IMG_By_Class(GRAY_IM, fail_IMG):\n",
    "    fig = plt.figure(figsize=(12, 12))\n",
    "    fig.subplots_adjust(hspace=0.3, wspace=0.2)\n",
    "    for i in range(1,100 ): \n",
    "        plt.subplot(10, 10, i)\n",
    "        plt.title(int(fail_IMG[i-1]))\n",
    "        plt.imshow(GRAY_IM[int(fail_IMG[i-1])])"
   ]
  },
  {
   "cell_type": "raw",
   "metadata": {},
   "source": [
    "Plot_IMG_By_Class(GRAY_IM_parallel, AA)"
   ]
  },
  {
   "cell_type": "raw",
   "metadata": {},
   "source": [
    "Plot_IMG_By_Class(GRAY_IM_parallel, NN)"
   ]
  },
  {
   "cell_type": "markdown",
   "metadata": {},
   "source": [
    "## 4.2- Extraction of the WND-CHARM Features"
   ]
  },
  {
   "cell_type": "code",
   "execution_count": null,
   "metadata": {
    "collapsed": true
   },
   "outputs": [],
   "source": [
    "%%time\n",
    "%run ./Features_Exctraction.ipynb"
   ]
  },
  {
   "cell_type": "markdown",
   "metadata": {},
   "source": []
  },
  {
   "cell_type": "markdown",
   "metadata": {},
   "source": [
    "## Load the extracted Features"
   ]
  },
  {
   "cell_type": "code",
   "execution_count": null,
   "metadata": {
    "collapsed": true
   },
   "outputs": [],
   "source": [
    "filename_FEATURES =projectpath+'io/Output/FEATURES.npy'"
   ]
  },
  {
   "cell_type": "code",
   "execution_count": null,
   "metadata": {
    "collapsed": true
   },
   "outputs": [],
   "source": [
    "FEATURES=np.load(filename_FEATURES)"
   ]
  },
  {
   "cell_type": "markdown",
   "metadata": {},
   "source": [
    "## Etablish one np.array for the Features' Names & another one for Features' Values"
   ]
  },
  {
   "cell_type": "code",
   "execution_count": null,
   "metadata": {
    "collapsed": true
   },
   "outputs": [],
   "source": [
    "FEAT_NAMES=FEATURES[:,1,:]"
   ]
  },
  {
   "cell_type": "code",
   "execution_count": null,
   "metadata": {
    "collapsed": true
   },
   "outputs": [],
   "source": [
    "FEAT_VALUES=FEATURES[:,0,:]"
   ]
  },
  {
   "cell_type": "code",
   "execution_count": null,
   "metadata": {
    "collapsed": true
   },
   "outputs": [],
   "source": [
    "FEAT_VALUES=FEAT_VALUES.astype(float)"
   ]
  },
  {
   "cell_type": "code",
   "execution_count": null,
   "metadata": {
    "collapsed": true
   },
   "outputs": [],
   "source": [
    "filename_FEATURES_Val =projectpath+'io/Output/FEATURES_Val.npy'"
   ]
  },
  {
   "cell_type": "code",
   "execution_count": null,
   "metadata": {
    "collapsed": true
   },
   "outputs": [],
   "source": [
    "np.save(filename_FEATURES_Val,FEAT_VALUES)"
   ]
  },
  {
   "cell_type": "code",
   "execution_count": null,
   "metadata": {
    "collapsed": true
   },
   "outputs": [],
   "source": [
    "FEAT_VALUES=np.load(filename_FEATURES_Val)"
   ]
  },
  {
   "cell_type": "markdown",
   "metadata": {},
   "source": [
    "# 4.3- Features Post- processing"
   ]
  },
  {
   "cell_type": "markdown",
   "metadata": {},
   "source": [
    "## A- Get the normalized Features"
   ]
  },
  {
   "cell_type": "code",
   "execution_count": null,
   "metadata": {
    "collapsed": true
   },
   "outputs": [],
   "source": [
    "%%time\n",
    "%run ./Features_Normalization.ipynb"
   ]
  },
  {
   "cell_type": "markdown",
   "metadata": {},
   "source": [
    "## Load the Normalized Features values"
   ]
  },
  {
   "cell_type": "code",
   "execution_count": null,
   "metadata": {
    "collapsed": true
   },
   "outputs": [],
   "source": [
    "filename_FVN =projectpath+'io/Output/FV_N.npy'"
   ]
  },
  {
   "cell_type": "code",
   "execution_count": null,
   "metadata": {
    "collapsed": true
   },
   "outputs": [],
   "source": [
    "FV_N=np.load(filename_FVN)"
   ]
  },
  {
   "cell_type": "code",
   "execution_count": null,
   "metadata": {
    "collapsed": true
   },
   "outputs": [],
   "source": [
    "FV_N.shape"
   ]
  },
  {
   "cell_type": "markdown",
   "metadata": {},
   "source": [
    "# PCA & Random Forest Classification"
   ]
  },
  {
   "cell_type": "code",
   "execution_count": null,
   "metadata": {
    "collapsed": true
   },
   "outputs": [],
   "source": [
    "%%time\n",
    "%run ./Pipeline_PCA_RANDOM_Forest_Copy1.ipynb\n",
    "# CPU times: user 16min 53s, sys: 1h 52s, total: 1h 17min 45s\n",
    "# Wall time: 6min 58s"
   ]
  },
  {
   "cell_type": "markdown",
   "metadata": {},
   "source": [
    "# Imshow specific images to understand non differentiation in PCA model"
   ]
  },
  {
   "cell_type": "raw",
   "metadata": {
    "collapsed": true
   },
   "source": [
    "%run ./track_images_from_PCA.ipynb"
   ]
  },
  {
   "cell_type": "raw",
   "metadata": {
    "collapsed": true
   },
   "source": [
    "ddf=indexing_DF_borders(Data_FRAMES, M, 25, 38)"
   ]
  },
  {
   "cell_type": "raw",
   "metadata": {
    "collapsed": true
   },
   "source": [
    "# save to file\n",
    "filename_DF_PCA =projectpath+'io/Output/DF_PCA.npy'"
   ]
  },
  {
   "cell_type": "raw",
   "metadata": {
    "collapsed": true
   },
   "source": [
    "np.save(filename_DF_PCA, ddf)"
   ]
  },
  {
   "cell_type": "raw",
   "metadata": {
    "collapsed": true
   },
   "source": [
    "DF_PCA=np.load(filename_DF_PCA)"
   ]
  },
  {
   "cell_type": "raw",
   "metadata": {
    "collapsed": true
   },
   "source": [
    "sns.reset_orig() "
   ]
  },
  {
   "cell_type": "raw",
   "metadata": {
    "collapsed": true
   },
   "source": [
    "%matplotlib notebook"
   ]
  },
  {
   "cell_type": "raw",
   "metadata": {},
   "source": [
    "Plot_Strange_Vol_per_Class(GRAY_IM_parallel, 2, DF_PCA)"
   ]
  },
  {
   "cell_type": "markdown",
   "metadata": {},
   "source": [
    "# process in order to display false predicted images"
   ]
  },
  {
   "cell_type": "raw",
   "metadata": {
    "collapsed": true
   },
   "source": [
    "def Get_IMG_failed_prediction(Validation_label_,predictions_RFC):\n",
    "\n",
    "    fail_img_pred_N=np.zeros(Validation_label_.shape[0])\n",
    "    fail_img_pred_A=np.zeros(Validation_label_.shape[0])\n",
    "#     fail_img_pred_R=np.zeros(Validation_label_.shape[0])\n",
    "\n",
    "    for t in range(0,Validation_label_.shape[0] ):\n",
    "        if ((predictions_RFC[t]==1) & (Validation_label_[t]!=1)):\n",
    "            fail_img_pred_A[t]=t\n",
    "\n",
    "        if ((predictions_RFC[t]==2) & (Validation_label_[t]!=2)):\n",
    "            fail_img_pred_N[t]=t\n",
    "               \n",
    "#         if ((predictions_RFC[t]!=0) & (Validation_label_[t]==0) ):\n",
    "#             fail_img_pred_R[t]=t\n",
    "        \n",
    "\n",
    "    fail_img_pred_N=fail_img_pred_N[fail_img_pred_N!=0]\n",
    "    fail_img_pred_A=fail_img_pred_A[fail_img_pred_A!=0]\n",
    "#     fail_img_pred_R=fail_img_pred_R[fail_img_pred_R!=0]\n",
    "#     return(fail_img_pred_N,fail_img_pred_A,fail_img_pred_R)\n",
    "    return(fail_img_pred_N,fail_img_pred_A)"
   ]
  },
  {
   "cell_type": "raw",
   "metadata": {
    "collapsed": true
   },
   "source": [
    "(fail_img_pred_Neurons,fail_img_pred_Astrocytes)=Get_IMG_failed_prediction(yr,predictedVAL)"
   ]
  },
  {
   "cell_type": "raw",
   "metadata": {
    "collapsed": true
   },
   "source": [
    "sns.reset_orig() # sns.set()"
   ]
  },
  {
   "cell_type": "raw",
   "metadata": {
    "collapsed": true
   },
   "source": [
    "def Plot_Failed_IMG(GRAY_IM, fail_IMG):\n",
    "    fig = plt.figure(figsize=(12, 12))\n",
    "    fig.subplots_adjust(hspace=0.2, wspace=0.2)\n",
    "    for i in range(1,23): \n",
    "        plt.subplot(6,4, i)\n",
    "        plt.title(int(fail_IMG[i-1]))\n",
    "        plt.imshow(GRAY_IM[int(fail_IMG[i-1])])\n",
    "       "
   ]
  },
  {
   "cell_type": "raw",
   "metadata": {
    "collapsed": true
   },
   "source": [
    "%matplotlib notebook"
   ]
  },
  {
   "cell_type": "raw",
   "metadata": {
    "collapsed": true
   },
   "source": [
    "Plot_Failed_IMG(GRAY_IM_parallel, fail_img_pred_Astrocytes)"
   ]
  },
  {
   "cell_type": "raw",
   "metadata": {
    "collapsed": true
   },
   "source": [
    "Plot_Failed_IMG(GRAY_IM_parallel, fail_img_pred_Neurons)"
   ]
  },
  {
   "cell_type": "raw",
   "metadata": {
    "collapsed": true
   },
   "source": [
    "def Get_DF_failed_predicions(Data_frame, fail_img_prediction):\n",
    "    newDF=pd.DataFrame(data=None, columns=Data_frame.columns)\n",
    "    for i in range(0, len(fail_img_prediction) ):\n",
    "        newDF = newDF.append(Data_frame.loc[Data_frame.indice==(fail_img_prediction[i])].copy())\n",
    "    return(newDF)"
   ]
  },
  {
   "cell_type": "raw",
   "metadata": {
    "collapsed": true
   },
   "source": [
    "Data_F_fail_Neurons=Get_DF_failed_predicions(Data_FRAMES, fail_img_pred_Neurons)"
   ]
  },
  {
   "cell_type": "raw",
   "metadata": {
    "collapsed": true
   },
   "source": [
    "Data_F_fail_Astrocytes=Get_DF_failed_predicions(Data_FRAMES, fail_img_pred_Astrocytes)"
   ]
  },
  {
   "cell_type": "markdown",
   "metadata": {
    "collapsed": true
   },
   "source": [
    "# test prediction sur  1 clone"
   ]
  },
  {
   "cell_type": "code",
   "execution_count": null,
   "metadata": {
    "collapsed": true
   },
   "outputs": [],
   "source": [
    "import numpy as np\n",
    "import pandas as pd\n",
    "from functools import partial\n",
    "import multiprocessing\n",
    "from multiprocessing import Pool\n",
    "from functools import partial"
   ]
  },
  {
   "cell_type": "markdown",
   "metadata": {},
   "source": [
    "# FAIRE DES MODIFS !"
   ]
  },
  {
   "cell_type": "code",
   "execution_count": null,
   "metadata": {
    "collapsed": true
   },
   "outputs": [],
   "source": [
    "def get_coordinates(index_ligne,imageId, large):\n",
    "    conn = BlitzGateway('tbacoyannis','d33pl34rn1ng',port=4064,host='chinensis.polytechnique.fr')\n",
    "    connected = conn.connect()\n",
    "\n",
    "    image = conn.getObject(\"Image\", imageId)\n",
    "    pixels = image.getPrimaryPixels() # get raw pixels information\n",
    "    \n",
    "    size_x= image.getSizeX()\n",
    "    size_y= image.getSizeY()\n",
    "    size_z = image.getSizeZ()\n",
    "    size_c = image.getSizeC()\n",
    "    size_t = image.getSizeT()\n",
    "   \n",
    "   \n",
    "    delta_x=int(large/int(large/2))\n",
    "    \n",
    "    nb_fenetres=np.arange(size_x/delta_x)\n",
    "    index=nb_fenetres\n",
    "    \n",
    "    x=(index*delta_x)+delta_x\n",
    "    x=x[22:-22]\n",
    "    print len(x)\n",
    "    #x=x[2:-2]\n",
    "    y=((index_ligne*delta_x)+delta_x)*np.ones(len(x)) #(index))\n",
    "    \n",
    "    \n",
    "    index_colonne=index+2\n",
    "    index_lignee=(2+index_ligne)*np.ones(len(x)) # FAUDRA CHANGER PAR index_lignee=(2+index_ligne)*np.ones(len(x))\n",
    "    \n",
    "    Tuple_Coord=(x,y,index_lignee, index_colonne) # RENOMMER CAR C EST TUPLE ET PAS UNE MATRICE\n",
    "    \n",
    "    Matrix=np.zeros((len(x),large,large,3))\n",
    "    \n",
    "    z=103\n",
    "    \n",
    "    tilewidths = np.ones(len(x),dtype=int)*large\n",
    "    tileheights = tilewidths\n",
    "    tilestacks = zip(x,y,tilewidths,tileheights)\n",
    "    \n",
    "    zstacks= np.ones(len(x),dtype=int)*z\n",
    "    \n",
    "    tstacks=np.zeros(len(x), dtype=int)\n",
    "    \n",
    "    for c in range(0,3):\n",
    "        cstacks=np.ones(len(x), dtype=int)*c\n",
    "        liste=zip(zstacks,cstacks,tstacks, tilestacks)\n",
    "        pxobj = pixels.getTiles(liste)\n",
    "        for i, p in enumerate(pxobj):\n",
    "            Matrix[i,:,:,c]=p\n",
    "    \n",
    "    conn._closeSession()\n",
    "    return(Matrix,Tuple_Coord)"
   ]
  },
  {
   "cell_type": "raw",
   "metadata": {},
   "source": [
    "conn = BlitzGateway('tbacoyannis','d33pl34rn1ng',port=4064,host='chinensis.polytechnique.fr')\n",
    "connected = conn.connect()\n",
    "\n",
    "image = conn.getObject(\"Image\", imageId)\n",
    "pixels = image.getPrimaryPixels() # get raw pixels information\n",
    "\n",
    "size_x= image.getSizeX()\n",
    "\n",
    "nb_fenetres=np.arange(size_x/delta_x)\n",
    "index=nb_fenetres\n",
    "print max(index)"
   ]
  },
  {
   "cell_type": "raw",
   "metadata": {},
   "source": [
    "XXx=( max(index)*delta_x)+delta_x\n",
    "print XXx-2924"
   ]
  },
  {
   "cell_type": "markdown",
   "metadata": {},
   "source": [
    "## STOP"
   ]
  },
  {
   "cell_type": "code",
   "execution_count": null,
   "metadata": {
    "collapsed": true
   },
   "outputs": [],
   "source": [
    "conn = BlitzGateway('tbacoyannis','d33pl34rn1ng',port=4064,host='chinensis.polytechnique.fr')\n",
    "connected = conn.connect()\n",
    "\n",
    "image = conn.getObject(\"Image\", imageId)\n",
    "pixels = image.getPrimaryPixels() # get raw pixels information\n",
    "\n",
    "size_x=image.getSizeX()\n",
    "size_y=image.getSizeY()\n",
    "size_z = image.getSizeZ()\n",
    "size_c = image.getSizeC()\n",
    "size_t = image.getSizeT()\n",
    "\n",
    "imageId=451\n",
    "zsize=3\n",
    "large= 25  #50\n",
    "#nidX=size_x/int(large/2)\n",
    "nidY=size_x/(int(large/int(large/2)))-3"
   ]
  },
  {
   "cell_type": "code",
   "execution_count": null,
   "metadata": {
    "collapsed": true
   },
   "outputs": [],
   "source": [
    "nidY"
   ]
  },
  {
   "cell_type": "raw",
   "metadata": {
    "collapsed": true
   },
   "source": [
    "partial_getDATA_coord = partial(get_coordinates, imageId=imageId, large=large)"
   ]
  },
  {
   "cell_type": "raw",
   "metadata": {},
   "source": [
    "pool = multiprocessing.Pool(28)\n",
    "(res)  = pool.map(partial_getDATA_coord, xrange(nidY))\n",
    "pool.close()"
   ]
  },
  {
   "cell_type": "code",
   "execution_count": null,
   "metadata": {
    "collapsed": true
   },
   "outputs": [],
   "source": [
    "filename_res =projectpath+'io/Output/res.npy'"
   ]
  },
  {
   "cell_type": "raw",
   "metadata": {
    "collapsed": true
   },
   "source": [
    "np.save(filename_res,res)"
   ]
  },
  {
   "cell_type": "code",
   "execution_count": null,
   "metadata": {
    "collapsed": true
   },
   "outputs": [],
   "source": [
    "res=np.load(filename_res)"
   ]
  },
  {
   "cell_type": "code",
   "execution_count": null,
   "metadata": {
    "collapsed": true
   },
   "outputs": [],
   "source": [
    "nn=res"
   ]
  },
  {
   "cell_type": "code",
   "execution_count": null,
   "metadata": {
    "collapsed": true
   },
   "outputs": [],
   "source": [
    "nn.shape"
   ]
  },
  {
   "cell_type": "code",
   "execution_count": null,
   "metadata": {
    "collapsed": true
   },
   "outputs": [],
   "source": [
    "M_Mv=nn[:,0]\n",
    "liste_coordonnees=nn[:,1]"
   ]
  },
  {
   "cell_type": "code",
   "execution_count": null,
   "metadata": {
    "collapsed": true
   },
   "outputs": [],
   "source": [
    "x_min=48+367\n",
    "y_min=2064+646\n",
    "w=615-367\n",
    "h=920-646\n",
    "x_max=x_min+w\n",
    "y_max=y_min+h"
   ]
  },
  {
   "cell_type": "code",
   "execution_count": null,
   "metadata": {
    "collapsed": true
   },
   "outputs": [],
   "source": [
    "b=np.vstack(liste_coordonnees)"
   ]
  },
  {
   "cell_type": "code",
   "execution_count": null,
   "metadata": {
    "collapsed": true
   },
   "outputs": [],
   "source": [
    "x_from_liste_coordonnees=b[:,0]\n",
    "y_from_liste_coordonnees=b[:,1]\n",
    "ind_lign_from_liste_coordonnees=b[:,2]\n",
    "ind_col_from_liste_coordonnees=b[:,3]"
   ]
  },
  {
   "cell_type": "code",
   "execution_count": null,
   "metadata": {
    "collapsed": true
   },
   "outputs": [],
   "source": [
    "imag=M_Mv[:]"
   ]
  },
  {
   "cell_type": "raw",
   "metadata": {
    "collapsed": true
   },
   "source": [
    "Matrix_TEST=np.vstack(imag)"
   ]
  },
  {
   "cell_type": "raw",
   "metadata": {
    "collapsed": true
   },
   "source": [
    "Matrix_TEST=Matrix_TEST/255.0"
   ]
  },
  {
   "cell_type": "raw",
   "metadata": {
    "collapsed": true
   },
   "source": [
    "PLOT_Im(Matrix_TEST[234])"
   ]
  },
  {
   "cell_type": "code",
   "execution_count": null,
   "metadata": {
    "collapsed": true
   },
   "outputs": [],
   "source": [
    "filename_Matrix_TEST =projectpath+'io/Output/Matrix_TEST.npy'"
   ]
  },
  {
   "cell_type": "raw",
   "metadata": {},
   "source": [
    "np.save(filename_Matrix_TEST,Matrix_TEST)"
   ]
  },
  {
   "cell_type": "code",
   "execution_count": null,
   "metadata": {
    "collapsed": true
   },
   "outputs": [],
   "source": [
    "Matrix_TEST=np.load(filename_Matrix_TEST)"
   ]
  },
  {
   "cell_type": "code",
   "execution_count": null,
   "metadata": {
    "collapsed": true
   },
   "outputs": [],
   "source": [
    "Matrix_TEST.shape"
   ]
  },
  {
   "cell_type": "code",
   "execution_count": null,
   "metadata": {
    "collapsed": true
   },
   "outputs": [],
   "source": [
    "coords=np.where((np.hstack(x_from_liste_coordonnees)>=x_min) & (np.hstack(x_from_liste_coordonnees)<=x_max) & (np.hstack(y_from_liste_coordonnees)>=y_min) & (np.hstack(y_from_liste_coordonnees)<=y_max))[0]"
   ]
  },
  {
   "cell_type": "code",
   "execution_count": null,
   "metadata": {
    "collapsed": true
   },
   "outputs": [],
   "source": [
    "filename_Im_to_convert_GRAY =projectpath+'io/Output/Im_to_convert_GRAY.npy'"
   ]
  },
  {
   "cell_type": "code",
   "execution_count": null,
   "metadata": {
    "collapsed": true
   },
   "outputs": [],
   "source": [
    "Im_to_convert_GRAY=Matrix_TEST[coords]"
   ]
  },
  {
   "cell_type": "code",
   "execution_count": null,
   "metadata": {
    "collapsed": true
   },
   "outputs": [],
   "source": [
    "np.save(filename_Im_to_convert_GRAY ,Im_to_convert_GRAY)"
   ]
  },
  {
   "cell_type": "code",
   "execution_count": null,
   "metadata": {
    "collapsed": true
   },
   "outputs": [],
   "source": [
    "Im_to_convert_GRAY.shape"
   ]
  },
  {
   "cell_type": "code",
   "execution_count": null,
   "metadata": {
    "collapsed": true
   },
   "outputs": [],
   "source": []
  },
  {
   "cell_type": "code",
   "execution_count": null,
   "metadata": {
    "collapsed": true
   },
   "outputs": [],
   "source": [
    "%%time\n",
    "%run ./RGB2GRAY_PREDICT.ipynb\n",
    "# CPU times: user 1min 11s, sys: 2min 56s, total: 4min 7s\n",
    "# Wall time: 10min 30s"
   ]
  },
  {
   "cell_type": "code",
   "execution_count": null,
   "metadata": {
    "collapsed": true
   },
   "outputs": [],
   "source": [
    "filename_GRAY_IM_TEST8PRED =projectpath+'io/Output/GRAY_IM_TEST8PRED.npy'"
   ]
  },
  {
   "cell_type": "code",
   "execution_count": null,
   "metadata": {
    "collapsed": true
   },
   "outputs": [],
   "source": [
    "GRAY_IM_TEST8PRED_parallel=np.load(filename_GRAY_IM_TEST8PRED)"
   ]
  },
  {
   "cell_type": "code",
   "execution_count": null,
   "metadata": {
    "collapsed": true
   },
   "outputs": [],
   "source": [
    "GRAY_IM_TEST8PRED_parallel.shape"
   ]
  },
  {
   "cell_type": "raw",
   "metadata": {
    "collapsed": true
   },
   "source": [
    "# Display the image in FIJI AND SELECT THE ROI\n",
    "x_min=48\n",
    "x_max=948\n",
    "\n",
    "y_min=2064\n",
    "y_max=3652"
   ]
  },
  {
   "cell_type": "code",
   "execution_count": null,
   "metadata": {
    "collapsed": true
   },
   "outputs": [],
   "source": [
    "x_min=48+367\n",
    "y_min=2064+646\n",
    "w=615-367\n",
    "h=920-646\n",
    "x_max=x_min+w\n",
    "y_max=y_min+h"
   ]
  },
  {
   "cell_type": "code",
   "execution_count": null,
   "metadata": {
    "collapsed": true
   },
   "outputs": [],
   "source": [
    "b=np.vstack(liste_coordonnees)"
   ]
  },
  {
   "cell_type": "code",
   "execution_count": null,
   "metadata": {
    "collapsed": true
   },
   "outputs": [],
   "source": [
    "x_from_liste_coordonnees=b[:,0]\n",
    "y_from_liste_coordonnees=b[:,1]\n",
    "ind_lign_from_liste_coordonnees=b[:,2]\n",
    "ind_col_from_liste_coordonnees=b[:,3]"
   ]
  },
  {
   "cell_type": "code",
   "execution_count": null,
   "metadata": {
    "collapsed": true
   },
   "outputs": [],
   "source": [
    "coords=np.where((np.hstack(x_from_liste_coordonnees)>=x_min) & (np.hstack(x_from_liste_coordonnees)<=x_max) & (np.hstack(y_from_liste_coordonnees)>=y_min) & (np.hstack(y_from_liste_coordonnees)<=y_max))[0]"
   ]
  },
  {
   "cell_type": "raw",
   "metadata": {},
   "source": [
    "#plt.plot(coords)\n",
    "len(coords[:1+(x_max-x_min)/int(large/2)])\n",
    "#coords[:(x_max-x_min)/int(large/2)+1]"
   ]
  },
  {
   "cell_type": "code",
   "execution_count": null,
   "metadata": {
    "collapsed": true
   },
   "outputs": [],
   "source": [
    "filename_GRAY_IM_TEST_PRED =projectpath+'io/Output/GRAY_IM_TEST_PRED.npy'"
   ]
  },
  {
   "cell_type": "code",
   "execution_count": null,
   "metadata": {
    "collapsed": true
   },
   "outputs": [],
   "source": [
    "GRAY_IM_TEST_PRED_parallel=GRAY_IM_TEST8PRED_parallel[coords]"
   ]
  },
  {
   "cell_type": "code",
   "execution_count": null,
   "metadata": {
    "collapsed": true
   },
   "outputs": [],
   "source": [
    "np.save(filename_GRAY_IM_TEST_PRED,GRAY_IM_TEST_PRED_parallel)"
   ]
  },
  {
   "cell_type": "code",
   "execution_count": null,
   "metadata": {
    "collapsed": true
   },
   "outputs": [],
   "source": [
    "GRAY_IM_TEST8PRED_parallel=np.load(filename_GRAY_IM_TEST_PRED)"
   ]
  },
  {
   "cell_type": "code",
   "execution_count": null,
   "metadata": {
    "collapsed": true
   },
   "outputs": [],
   "source": [
    "GRAY_IM_TEST8PRED_parallel.shape"
   ]
  },
  {
   "cell_type": "code",
   "execution_count": null,
   "metadata": {
    "collapsed": true
   },
   "outputs": [],
   "source": [
    "%%time\n",
    "%run ./Features_Exctraction_PREDICT.ipynb\n",
    "# CPU times: user 19.7 s, sys: 13.6 s, total: 33.3 s\n",
    "# Wall time: 18min 9s"
   ]
  },
  {
   "cell_type": "code",
   "execution_count": null,
   "metadata": {
    "collapsed": true
   },
   "outputs": [],
   "source": []
  },
  {
   "cell_type": "code",
   "execution_count": null,
   "metadata": {
    "collapsed": true
   },
   "outputs": [],
   "source": [
    "filename_FEATURES_TEST =projectpath+'io/Output/FEATURES_TEST.npy'"
   ]
  },
  {
   "cell_type": "code",
   "execution_count": null,
   "metadata": {
    "collapsed": true
   },
   "outputs": [],
   "source": [
    "FEATURES_TEST=np.load(filename_FEATURES_TEST)"
   ]
  },
  {
   "cell_type": "code",
   "execution_count": null,
   "metadata": {
    "collapsed": true
   },
   "outputs": [],
   "source": [
    "FEATURES_TEST.shape"
   ]
  },
  {
   "cell_type": "code",
   "execution_count": null,
   "metadata": {
    "collapsed": true
   },
   "outputs": [],
   "source": [
    "FEATURES_TEST_NAMES=FEATURES_TEST[:,1,:]"
   ]
  },
  {
   "cell_type": "code",
   "execution_count": null,
   "metadata": {
    "collapsed": true
   },
   "outputs": [],
   "source": [
    "FEATURES_TEST_VALUES=FEATURES_TEST[:,0,:]"
   ]
  },
  {
   "cell_type": "code",
   "execution_count": null,
   "metadata": {
    "collapsed": true
   },
   "outputs": [],
   "source": [
    "FEATURES_TEST_VALUES=FEATURES_TEST_VALUES.astype(float)"
   ]
  },
  {
   "cell_type": "code",
   "execution_count": null,
   "metadata": {
    "collapsed": true
   },
   "outputs": [],
   "source": [
    "filename_FEATURES_TEST_VALUES =projectpath+'io/Output/FEATURES_TEST_VALUES.npy'"
   ]
  },
  {
   "cell_type": "code",
   "execution_count": null,
   "metadata": {
    "collapsed": true
   },
   "outputs": [],
   "source": [
    "np.save(filename_FEATURES_TEST_VALUES,FEATURES_TEST_VALUES)"
   ]
  },
  {
   "cell_type": "code",
   "execution_count": null,
   "metadata": {
    "collapsed": true
   },
   "outputs": [],
   "source": [
    "FEATURES_TEST_VALUES=np.load(filename_FEATURES_TEST_VALUES)"
   ]
  },
  {
   "cell_type": "code",
   "execution_count": null,
   "metadata": {
    "collapsed": true
   },
   "outputs": [],
   "source": []
  },
  {
   "cell_type": "code",
   "execution_count": null,
   "metadata": {
    "collapsed": true
   },
   "outputs": [],
   "source": [
    "%%time\n",
    "%run ./Features_Normalization_PREDICT.ipynb\n",
    "#CPU times: user 10.2 s, sys: 24.4 s, total: 34.6 s\n",
    "#Wall time: 44.9 s"
   ]
  },
  {
   "cell_type": "code",
   "execution_count": null,
   "metadata": {
    "collapsed": true
   },
   "outputs": [],
   "source": [
    "filename_FVN_TEST =projectpath+'io/Output/FV_N_TEST.npy'"
   ]
  },
  {
   "cell_type": "code",
   "execution_count": null,
   "metadata": {
    "collapsed": true
   },
   "outputs": [],
   "source": [
    "FV_N_TEST=np.load(filename_FVN_TEST)"
   ]
  },
  {
   "cell_type": "code",
   "execution_count": null,
   "metadata": {
    "collapsed": true
   },
   "outputs": [],
   "source": [
    "FV_N_TEST.shape"
   ]
  },
  {
   "cell_type": "code",
   "execution_count": null,
   "metadata": {
    "collapsed": true
   },
   "outputs": [],
   "source": [
    "%%time\n",
    "%run ./Pipeline_PCA_RANDOM_Forest_Copy1_PREDICT.ipynb"
   ]
  },
  {
   "cell_type": "code",
   "execution_count": null,
   "metadata": {
    "collapsed": true
   },
   "outputs": [],
   "source": [
    "filename_prediction_TEST =projectpath+'io/Output/prediction_TEST.npy'\n",
    "prediction_TEST=np.load(filename_prediction_TEST)"
   ]
  },
  {
   "cell_type": "code",
   "execution_count": null,
   "metadata": {
    "collapsed": true
   },
   "outputs": [],
   "source": [
    "filename_predict_probability=projectpath+'io/Output/predict_probability.npy'\n",
    "predict_probability=np.load(filename_predict_probability)"
   ]
  },
  {
   "cell_type": "code",
   "execution_count": null,
   "metadata": {
    "collapsed": true
   },
   "outputs": [],
   "source": [
    "predict_probability[0]"
   ]
  },
  {
   "cell_type": "raw",
   "metadata": {},
   "source": [
    "mm=predict_probability_test\n",
    "mm.shape"
   ]
  },
  {
   "cell_type": "markdown",
   "metadata": {},
   "source": [
    "## Process for one tile ipynb"
   ]
  },
  {
   "cell_type": "code",
   "execution_count": null,
   "metadata": {
    "collapsed": true
   },
   "outputs": [],
   "source": [
    "filename_Im_Proba =projectpath+'io/Output/Im_Proba.npy'\n",
    "Im_Proba=np.load(filename_Im_Proba)"
   ]
  },
  {
   "cell_type": "code",
   "execution_count": null,
   "metadata": {
    "collapsed": true
   },
   "outputs": [],
   "source": [
    "Im_proba=np.zeros([Im_Proba.shape[0], Im_Proba.shape[2]])\n",
    "\n",
    "for g in range(0,Im_Proba.shape[0]):\n",
    "    Im_proba[g]=Im_Proba[g][g]"
   ]
  },
  {
   "cell_type": "code",
   "execution_count": null,
   "metadata": {
    "collapsed": true
   },
   "outputs": [],
   "source": [
    "filename_Im_proba =projectpath+'io/Output/Im_proba.npy'"
   ]
  },
  {
   "cell_type": "code",
   "execution_count": null,
   "metadata": {
    "collapsed": true
   },
   "outputs": [],
   "source": [
    "Im_Proba=np.save(filename_Im_proba,Im_proba)"
   ]
  },
  {
   "cell_type": "code",
   "execution_count": null,
   "metadata": {
    "collapsed": true
   },
   "outputs": [],
   "source": [
    "Im_Proba=np.load(filename_Im_proba)"
   ]
  },
  {
   "cell_type": "code",
   "execution_count": null,
   "metadata": {
    "collapsed": true
   },
   "outputs": [],
   "source": []
  },
  {
   "cell_type": "code",
   "execution_count": null,
   "metadata": {
    "collapsed": true
   },
   "outputs": [],
   "source": [
    "plt.figure()\n",
    "plt.title('predict_probability Neurons VS predict_probability Background')\n",
    "plt.scatter(Im_Proba[:,1],Im_Proba[:,0])"
   ]
  },
  {
   "cell_type": "code",
   "execution_count": null,
   "metadata": {
    "collapsed": true
   },
   "outputs": [],
   "source": [
    "plt.figure()\n",
    "plt.title('histogram of Astrocytes proba')\n",
    "plt.xlabel(\"Value\")\n",
    "plt.ylabel(\"Frequency\")\n",
    "plt.hist(Im_Proba[:,0],bins=50)"
   ]
  },
  {
   "cell_type": "code",
   "execution_count": null,
   "metadata": {
    "collapsed": true
   },
   "outputs": [],
   "source": [
    "# predict_probabiConversion_test_predict_probability=np.reshape(Conversion_test_predict_probability, (-1,3,72))\n",
    "#%matplotlib notebook"
   ]
  },
  {
   "cell_type": "code",
   "execution_count": null,
   "metadata": {
    "collapsed": true
   },
   "outputs": [],
   "source": [
    "Probability_img=np.zeros([Im_Proba.shape[0]+1,Im_Proba.shape[1]])\n",
    "Probability_img[:Im_Proba.shape[0]]=Im_Proba\n",
    "Probability_img[Im_Proba.shape[0]]=Probability_img[Im_Proba.shape[0]-1]"
   ]
  },
  {
   "cell_type": "code",
   "execution_count": null,
   "metadata": {
    "collapsed": true
   },
   "outputs": [],
   "source": [
    "CH1=Probability_img[:,0]\n",
    "# CH1=np.reshape(CH1, (-1, 76) )\n",
    "e=len(coords[:1+(x_max-x_min)/int(large/2)])\n",
    "e=124\n",
    "CH1=np.reshape(CH1, (-1, e) )\n",
    "\n",
    "CH1=CH1[:,:, np.newaxis]\n",
    "#     plt.title('Proba Astrocytes')\n",
    "\n",
    "CH2=Probability_img[:,1]\n",
    "#CH2=np.reshape(CH2,(-1,76))\n",
    "\n",
    "CH2=np.reshape(CH2,(-1,e))\n",
    "\n",
    "CH2=CH2[:,:,np.newaxis]\n",
    "#     plt.title('Proba Neurons')\n",
    "\n",
    "\n",
    "CH3=Probability_img[:,2]\n",
    "#CH3=np.reshape(CH3, (-1, 76) )\n",
    "\n",
    "CH3=np.reshape(CH3, (-1, e) )\n",
    "\n",
    "CH3=CH3[:,:,np.newaxis]\n",
    "#     plt.title('Proba Background')\n",
    "\n",
    "Z=np.dstack([CH1,CH2,CH3])"
   ]
  },
  {
   "cell_type": "code",
   "execution_count": null,
   "metadata": {
    "collapsed": true
   },
   "outputs": [],
   "source": []
  },
  {
   "cell_type": "code",
   "execution_count": null,
   "metadata": {
    "collapsed": true
   },
   "outputs": [],
   "source": [
    "CH1=predict_probability[:,0]\n",
    "# CH1=np.reshape(CH1, (-1, 76) )\n",
    "e=len(coords[:1+(x_max-x_min)/int(large/2)])\n",
    "\n",
    "CH1=np.reshape(CH1, (-1, e) )\n",
    "\n",
    "CH1=CH1[:,:, np.newaxis]\n",
    "#     plt.title('Proba Astrocytes')\n",
    "\n",
    "CH2=predict_probability[:,1]\n",
    "#CH2=np.reshape(CH2,(-1,76))\n",
    "\n",
    "CH2=np.reshape(CH2,(-1,e))\n",
    "\n",
    "CH2=CH2[:,:,np.newaxis]\n",
    "#     plt.title('Proba Neurons')\n",
    "\n",
    "\n",
    "CH3=predict_probability[:,2]\n",
    "#CH3=np.reshape(CH3, (-1, 76) )\n",
    "\n",
    "CH3=np.reshape(CH3, (-1, e) )\n",
    "\n",
    "CH3=CH3[:,:,np.newaxis]\n",
    "#     plt.title('Proba Background')\n",
    "\n",
    "Z=np.dstack([CH1,CH2,CH3])"
   ]
  },
  {
   "cell_type": "code",
   "execution_count": null,
   "metadata": {
    "collapsed": true
   },
   "outputs": [],
   "source": [
    "filename_RGB_proba_im =projectpath+'io/Output/RGB_proba_im.npy'"
   ]
  },
  {
   "cell_type": "code",
   "execution_count": null,
   "metadata": {
    "collapsed": true
   },
   "outputs": [],
   "source": [
    "np.save(filename_RGB_proba_im,Z)"
   ]
  },
  {
   "cell_type": "code",
   "execution_count": null,
   "metadata": {
    "collapsed": true
   },
   "outputs": [],
   "source": [
    "Z=np.load(filename_RGB_proba_im)"
   ]
  },
  {
   "cell_type": "code",
   "execution_count": null,
   "metadata": {
    "collapsed": true
   },
   "outputs": [],
   "source": [
    "plt.figure()\n",
    "plt.scatter(Z[:,:,0], Z[:,:,1], s = 130, c = 'yellow', marker = '*', edgecolors = 'green', label=['Proba Astrocytes', 'Proba Neurons'])\n",
    "plt.scatter(Z[:,:,0], Z[:,:,2], s = 50, c = 'red', marker = '+', linewidth = 3, label=['Proba Astrocytes', 'Proba Background'])\n",
    "plt.scatter(Z[:,:,1], Z[:,:,2], s = 50, c = 'cyan', marker = 'o', edgecolors = 'none', label=['Proba Neurons', 'Proba Background'])\n",
    "plt.title('scatter plot')\n",
    "plt.legend()"
   ]
  },
  {
   "cell_type": "code",
   "execution_count": null,
   "metadata": {
    "collapsed": true
   },
   "outputs": [],
   "source": [
    "conn = BlitzGateway('tbacoyannis','d33pl34rn1ng',port=4064,host='chinensis.polytechnique.fr')\n",
    "connected = conn.connect()\n",
    "imageId=451\n",
    "image = conn.getObject(\"Image\", imageId)\n",
    "pixels = image.getPrimaryPixels() # get raw pixels information\n",
    "\n",
    "pxobj_CH1 = pixels.getTile(theZ=103, theC=0, theT=0, tile=(x_min,y_min, x_max-x_min , y_max-y_min ))\n",
    "pxobj_CH2 = pixels.getTile(theZ=103, theC=1, theT=0, tile=(x_min,y_min, x_max-x_min , y_max-y_min ))\n",
    "pxobj_CH3 = pixels.getTile(theZ=103, theC=2, theT=0, tile=(x_min,y_min, x_max-x_min , y_max-y_min ))"
   ]
  },
  {
   "cell_type": "code",
   "execution_count": null,
   "metadata": {
    "collapsed": true
   },
   "outputs": [],
   "source": [
    "pxobj=(pxobj_CH1+pxobj_CH2+pxobj_CH3)/3"
   ]
  },
  {
   "cell_type": "code",
   "execution_count": null,
   "metadata": {
    "collapsed": true
   },
   "outputs": [],
   "source": [
    "plt.figure()\n",
    "plt.imshow(pxobj)"
   ]
  },
  {
   "cell_type": "code",
   "execution_count": null,
   "metadata": {
    "collapsed": true
   },
   "outputs": [],
   "source": [
    "pxobj_=pxobj[:,:,np.newaxis]\n",
    "pxobj_.shape"
   ]
  },
  {
   "cell_type": "code",
   "execution_count": null,
   "metadata": {
    "collapsed": true
   },
   "outputs": [],
   "source": [
    "filename_pxobj_ =projectpath+'io/Output/pxobj_.npy'"
   ]
  },
  {
   "cell_type": "code",
   "execution_count": null,
   "metadata": {
    "collapsed": true
   },
   "outputs": [],
   "source": [
    "np.save(filename_pxobj_,pxobj_)"
   ]
  },
  {
   "cell_type": "code",
   "execution_count": null,
   "metadata": {
    "collapsed": true
   },
   "outputs": [],
   "source": [
    "%run ./IM_Display_RGB.ipynb"
   ]
  },
  {
   "cell_type": "code",
   "execution_count": null,
   "metadata": {
    "collapsed": true
   },
   "outputs": [],
   "source": [
    "plt.figure(figsize=(10,10))\n",
    "plt.title('original image cropped')\n",
    "plt.imshow(pxobj,cmap='spectral')\n",
    "plt.colorbar()\n",
    "#plt.imshow(pxobj)"
   ]
  },
  {
   "cell_type": "code",
   "execution_count": null,
   "metadata": {
    "collapsed": true
   },
   "outputs": [],
   "source": []
  },
  {
   "cell_type": "code",
   "execution_count": null,
   "metadata": {
    "collapsed": true
   },
   "outputs": [],
   "source": []
  },
  {
   "cell_type": "code",
   "execution_count": null,
   "metadata": {
    "collapsed": true
   },
   "outputs": [],
   "source": []
  },
  {
   "cell_type": "code",
   "execution_count": null,
   "metadata": {
    "collapsed": true
   },
   "outputs": [],
   "source": []
  },
  {
   "cell_type": "code",
   "execution_count": null,
   "metadata": {
    "collapsed": true
   },
   "outputs": [],
   "source": []
  },
  {
   "cell_type": "code",
   "execution_count": null,
   "metadata": {
    "collapsed": true
   },
   "outputs": [],
   "source": []
  },
  {
   "cell_type": "raw",
   "metadata": {},
   "source": []
  },
  {
   "cell_type": "code",
   "execution_count": null,
   "metadata": {
    "collapsed": true
   },
   "outputs": [],
   "source": []
  },
  {
   "cell_type": "raw",
   "metadata": {},
   "source": []
  },
  {
   "cell_type": "raw",
   "metadata": {},
   "source": []
  },
  {
   "cell_type": "code",
   "execution_count": null,
   "metadata": {
    "collapsed": true
   },
   "outputs": [],
   "source": []
  },
  {
   "cell_type": "code",
   "execution_count": null,
   "metadata": {
    "collapsed": true
   },
   "outputs": [],
   "source": []
  },
  {
   "cell_type": "code",
   "execution_count": null,
   "metadata": {
    "collapsed": true
   },
   "outputs": [],
   "source": []
  },
  {
   "cell_type": "code",
   "execution_count": null,
   "metadata": {
    "collapsed": true
   },
   "outputs": [],
   "source": []
  },
  {
   "cell_type": "code",
   "execution_count": null,
   "metadata": {
    "collapsed": true
   },
   "outputs": [],
   "source": [
    "filename_matrixtest_im_real =projectpath+'io/Output/matrixtest_im_real.npy'"
   ]
  },
  {
   "cell_type": "code",
   "execution_count": null,
   "metadata": {
    "collapsed": true
   },
   "outputs": [],
   "source": [
    "np.save(filename_matrixtest_im_real,matrixtest_im_real)"
   ]
  },
  {
   "cell_type": "code",
   "execution_count": null,
   "metadata": {
    "collapsed": true
   },
   "outputs": [],
   "source": [
    "matrixtest_im_real=np.load(matrixtest_im_real)"
   ]
  },
  {
   "cell_type": "code",
   "execution_count": null,
   "metadata": {
    "collapsed": true
   },
   "outputs": [],
   "source": []
  },
  {
   "cell_type": "code",
   "execution_count": null,
   "metadata": {
    "collapsed": true
   },
   "outputs": [],
   "source": []
  },
  {
   "cell_type": "code",
   "execution_count": null,
   "metadata": {
    "collapsed": true
   },
   "outputs": [],
   "source": []
  },
  {
   "cell_type": "code",
   "execution_count": null,
   "metadata": {
    "collapsed": true
   },
   "outputs": [],
   "source": []
  },
  {
   "cell_type": "code",
   "execution_count": null,
   "metadata": {
    "collapsed": true
   },
   "outputs": [],
   "source": []
  },
  {
   "cell_type": "code",
   "execution_count": null,
   "metadata": {
    "collapsed": true
   },
   "outputs": [],
   "source": [
    "predict_probability[0:50,:]"
   ]
  },
  {
   "cell_type": "code",
   "execution_count": null,
   "metadata": {
    "collapsed": true
   },
   "outputs": [],
   "source": [
    "astrocytes_predicted=np.zeros(prediction_TEST.shape[0])\n",
    "for i in range(0,prediction_TEST.shape[0]):\n",
    "    if prediction_TEST[i]!=1.0:\n",
    "        astrocytes_predicted[i]=0"
   ]
  },
  {
   "cell_type": "code",
   "execution_count": null,
   "metadata": {
    "collapsed": true
   },
   "outputs": [],
   "source": [
    "idx_Astro=np.argwhere(astrocytes_predicted!=0)\n",
    "idx_Astro=idx_Astro.flatten()"
   ]
  },
  {
   "cell_type": "code",
   "execution_count": null,
   "metadata": {
    "collapsed": true
   },
   "outputs": [],
   "source": [
    "len(idx_Astro)\n"
   ]
  },
  {
   "cell_type": "code",
   "execution_count": null,
   "metadata": {
    "collapsed": true
   },
   "outputs": [],
   "source": [
    "idx_Neuro=np.argwhere(astrocytes_predicted==0)\n",
    "idx_Neuro=idx_Neuro.flatten()"
   ]
  },
  {
   "cell_type": "code",
   "execution_count": null,
   "metadata": {
    "collapsed": true
   },
   "outputs": [],
   "source": [
    "len(idx_Neuro)"
   ]
  },
  {
   "cell_type": "code",
   "execution_count": null,
   "metadata": {
    "collapsed": true
   },
   "outputs": [],
   "source": []
  },
  {
   "cell_type": "code",
   "execution_count": null,
   "metadata": {
    "collapsed": true
   },
   "outputs": [],
   "source": [
    "plt.imshow(Matrix_TEST[idx_Astro[4]])"
   ]
  },
  {
   "cell_type": "code",
   "execution_count": null,
   "metadata": {
    "collapsed": true
   },
   "outputs": [],
   "source": [
    "PLOT_Im(Matrix_TEST[idx_Neuro[3]])"
   ]
  },
  {
   "cell_type": "code",
   "execution_count": null,
   "metadata": {
    "collapsed": true
   },
   "outputs": [],
   "source": [
    "PLOT_Im(Matrix_TEST[idx_Astro[0]])"
   ]
  },
  {
   "cell_type": "code",
   "execution_count": null,
   "metadata": {
    "collapsed": true
   },
   "outputs": [],
   "source": [
    "lign_nan=np.ones(len(FV_N_TEST))\n",
    "for i in range(0,len(FV_N_TEST)):\n",
    "    a=np.isnan(FV_N_TEST[i])\n",
    "    if np.any(a)==True:\n",
    "        lign_nan[i]=0"
   ]
  },
  {
   "cell_type": "code",
   "execution_count": null,
   "metadata": {
    "collapsed": true
   },
   "outputs": [],
   "source": [
    "idx=np.argwhere(lign_nan==1)\n",
    "idx_new=idx.flatten()\n",
    "\n",
    "FV_N_TEST=FV_N_TEST[idx_new]"
   ]
  },
  {
   "cell_type": "code",
   "execution_count": null,
   "metadata": {
    "collapsed": true
   },
   "outputs": [],
   "source": [
    "FV_N_TEST.shape"
   ]
  },
  {
   "cell_type": "code",
   "execution_count": null,
   "metadata": {
    "collapsed": true
   },
   "outputs": [],
   "source": [
    "np.argwhere(lign_nan==1)\n",
    "idx_new[4]"
   ]
  },
  {
   "cell_type": "code",
   "execution_count": null,
   "metadata": {
    "collapsed": true
   },
   "outputs": [],
   "source": []
  },
  {
   "cell_type": "code",
   "execution_count": null,
   "metadata": {
    "collapsed": true
   },
   "outputs": [],
   "source": [
    "len(idx_Astro)"
   ]
  },
  {
   "cell_type": "code",
   "execution_count": null,
   "metadata": {
    "collapsed": true
   },
   "outputs": [],
   "source": [
    "Data_FRAMES__test_fct=np.asarray(Data_FRAMES)"
   ]
  },
  {
   "cell_type": "code",
   "execution_count": null,
   "metadata": {
    "collapsed": true
   },
   "outputs": [],
   "source": [
    "X_coord=np.zeros(Data_FRAMES__test_fct.shape[0])\n",
    "Y_coord=np.zeros(Data_FRAMES__test_fct.shape[0])\n",
    "Z_coord=np.zeros(Data_FRAMES__test_fct.shape[0])\n",
    "for i in range(0,Data_FRAMES__test_fct.shape[0]):\n",
    "    X_coord[i]=Data_FRAMES__test_fct[i][3:4]\n",
    "    Y_coord[i]=Data_FRAMES__test_fct[i][4:5]\n",
    "    Z_coord[i]=Data_FRAMES__test_fct[i][10:11]"
   ]
  },
  {
   "cell_type": "code",
   "execution_count": null,
   "metadata": {
    "collapsed": true
   },
   "outputs": [],
   "source": [
    "print X_coord\n",
    "print Y_coord\n",
    "print Z_coord"
   ]
  },
  {
   "cell_type": "code",
   "execution_count": null,
   "metadata": {
    "collapsed": true
   },
   "outputs": [],
   "source": [
    "a=np.zeros(Data_FRAMES__test_fct.shape[0])\n",
    "idx_Astro_test=np.zeros(Data_FRAMES__test_fct.shape[0])\n",
    "for j in range(0, len(idx_Astro)):\n",
    "    idx_Astro_test[j]=idx_Astro[j]\n",
    "\n",
    "for i in range(0,Data_FRAMES__test_fct.shape[0]):\n",
    "    if X_coord[i]==idx_Astro_test[i]:\n",
    "        a[i]=1"
   ]
  },
  {
   "cell_type": "code",
   "execution_count": null,
   "metadata": {
    "collapsed": true
   },
   "outputs": [],
   "source": [
    "np.argwhere(a!=0)\n"
   ]
  },
  {
   "cell_type": "code",
   "execution_count": null,
   "metadata": {
    "collapsed": true
   },
   "outputs": [],
   "source": [
    "def corresponding_tiles_original_DF(data_frame, idx_Astrocytes, idx_Neurons, z_stack):\n",
    "    data_frame=np.asarray(data_frame)\n",
    "    \n",
    "    X_coord=np.zeros(data_frame.shape[0])\n",
    "    Y_coord=np.zeros(data_frame.shape[0])\n",
    "    Z_coord=np.zeros(data_frame.shape[0])\n",
    "    for i in range(0,data_frame.shape[0]):\n",
    "        X_coord[i]=data_frame[i][3:4]\n",
    "        Y_coord[i]=data_frame[i][4:5]\n",
    "        Z_coord[i]=data_frame[i][10:11]\n",
    "    \n",
    "    "
   ]
  },
  {
   "cell_type": "code",
   "execution_count": null,
   "metadata": {
    "collapsed": true
   },
   "outputs": [],
   "source": []
  },
  {
   "cell_type": "code",
   "execution_count": null,
   "metadata": {
    "collapsed": true
   },
   "outputs": [],
   "source": []
  },
  {
   "cell_type": "code",
   "execution_count": null,
   "metadata": {
    "collapsed": true
   },
   "outputs": [],
   "source": []
  },
  {
   "cell_type": "code",
   "execution_count": null,
   "metadata": {
    "collapsed": true
   },
   "outputs": [],
   "source": []
  },
  {
   "cell_type": "code",
   "execution_count": null,
   "metadata": {
    "collapsed": true
   },
   "outputs": [],
   "source": []
  },
  {
   "cell_type": "code",
   "execution_count": null,
   "metadata": {
    "collapsed": true
   },
   "outputs": [],
   "source": []
  },
  {
   "cell_type": "code",
   "execution_count": null,
   "metadata": {
    "collapsed": true
   },
   "outputs": [],
   "source": []
  },
  {
   "cell_type": "code",
   "execution_count": null,
   "metadata": {
    "collapsed": true
   },
   "outputs": [],
   "source": []
  },
  {
   "cell_type": "code",
   "execution_count": null,
   "metadata": {
    "collapsed": true
   },
   "outputs": [],
   "source": []
  },
  {
   "cell_type": "code",
   "execution_count": null,
   "metadata": {
    "collapsed": true
   },
   "outputs": [],
   "source": []
  },
  {
   "cell_type": "code",
   "execution_count": null,
   "metadata": {
    "collapsed": true
   },
   "outputs": [],
   "source": []
  },
  {
   "cell_type": "code",
   "execution_count": null,
   "metadata": {
    "collapsed": true
   },
   "outputs": [],
   "source": []
  },
  {
   "cell_type": "code",
   "execution_count": null,
   "metadata": {
    "collapsed": true
   },
   "outputs": [],
   "source": []
  },
  {
   "cell_type": "code",
   "execution_count": null,
   "metadata": {
    "collapsed": true
   },
   "outputs": [],
   "source": []
  }
 ],
 "metadata": {
  "kernelspec": {
   "display_name": "Python 2",
   "language": "python",
   "name": "python2"
  },
  "language_info": {
   "codemirror_mode": {
    "name": "ipython",
    "version": 2
   },
   "file_extension": ".py",
   "mimetype": "text/x-python",
   "name": "python",
   "nbconvert_exporter": "python",
   "pygments_lexer": "ipython2",
   "version": "2.7.12"
  }
 },
 "nbformat": 4,
 "nbformat_minor": 2
}
