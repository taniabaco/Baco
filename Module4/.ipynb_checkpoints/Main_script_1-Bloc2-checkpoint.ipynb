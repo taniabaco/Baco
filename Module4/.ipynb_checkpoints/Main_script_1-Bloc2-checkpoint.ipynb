{
 "cells": [
  {
   "cell_type": "markdown",
   "metadata": {},
   "source": [
    "# Pipeline : \n",
    "### data processing of the manually annoted dataset\n",
    "### image processing : extraction of RGB volumes\n",
    "### classifier based on WND-charm Model\n",
    "### PCA & RDF\n",
    "### Build a classifier\n",
    "### Analyse False Positives\n",
    "### Prediction of Neurons, Astrocytes, Background in ROI's clone"
   ]
  },
  {
   "cell_type": "code",
   "execution_count": 1,
   "metadata": {
    "collapsed": true
   },
   "outputs": [],
   "source": [
    "import numpy as np\n",
    "import pandas as pd\n",
    "from functools import partial\n",
    "import multiprocessing\n",
    "%matplotlib notebook\n",
    "import matplotlib.pyplot as plt\n",
    "import matplotlib.image as mpimg\n",
    "import matplotlib.colors as cm\n",
    "import pickle\n",
    "from pandas import DataFrame, read_csv,concat,merge"
   ]
  },
  {
   "cell_type": "code",
   "execution_count": 2,
   "metadata": {
    "collapsed": true
   },
   "outputs": [],
   "source": [
    "%run ./configure.ipynb"
   ]
  },
  {
   "cell_type": "code",
   "execution_count": 3,
   "metadata": {
    "collapsed": true
   },
   "outputs": [],
   "source": [
    "%run ../Connection_to_server.ipynb"
   ]
  },
  {
   "cell_type": "code",
   "execution_count": 4,
   "metadata": {
    "collapsed": true
   },
   "outputs": [],
   "source": [
    "imageId = 462 #451\n",
    "weight=25\n",
    "height=25"
   ]
  },
  {
   "cell_type": "markdown",
   "metadata": {},
   "source": [
    "## Pre-pocessing of the manually annotated Dataset"
   ]
  },
  {
   "cell_type": "code",
   "execution_count": 5,
   "metadata": {
    "collapsed": true
   },
   "outputs": [],
   "source": [
    "import Pre_Processing_the_annotated_dataset as pp\n",
    "reload(pp);"
   ]
  },
  {
   "cell_type": "raw",
   "metadata": {
    "collapsed": true
   },
   "source": [
    "dfpoints1=read_csv(projectpath+'io/Input/Bloc01_pointes_first_mod.csv')"
   ]
  },
  {
   "cell_type": "raw",
   "metadata": {
    "collapsed": true
   },
   "source": [
    "dfpoints1=pp.Get_Dataframe(imageId, dfpoints1)\n",
    "dfpoints=dfpoints1"
   ]
  },
  {
   "cell_type": "code",
   "execution_count": 6,
   "metadata": {
    "collapsed": true
   },
   "outputs": [],
   "source": [
    "# Bloc 2\n",
    "dfpoints2=read_csv(projectpath+'io/Input/Bloc02_pointes_second.csv')"
   ]
  },
  {
   "cell_type": "code",
   "execution_count": 7,
   "metadata": {
    "collapsed": true
   },
   "outputs": [],
   "source": [
    "dfpoints2=pp.Get_Dataframe(imageId, dfpoints2)"
   ]
  },
  {
   "cell_type": "code",
   "execution_count": 8,
   "metadata": {
    "collapsed": true
   },
   "outputs": [],
   "source": [
    "import Pre_Processing_the_annotated_dataset_block2 as pp2\n",
    "reload(pp2);"
   ]
  },
  {
   "cell_type": "code",
   "execution_count": 9,
   "metadata": {},
   "outputs": [
    {
     "name": "stderr",
     "output_type": "stream",
     "text": [
      "Pre_Processing_the_annotated_dataset_block2.py:13: SettingWithCopyWarning: \n",
      "A value is trying to be set on a copy of a slice from a DataFrame\n",
      "\n",
      "See the caveats in the documentation: http://pandas.pydata.org/pandas-docs/stable/indexing.html#indexing-view-versus-copy\n",
      "  Data_frame_N.X[i]=Data_frame.X[i]+60\n",
      "Pre_Processing_the_annotated_dataset_block2.py:14: SettingWithCopyWarning: \n",
      "A value is trying to be set on a copy of a slice from a DataFrame\n",
      "\n",
      "See the caveats in the documentation: http://pandas.pydata.org/pandas-docs/stable/indexing.html#indexing-view-versus-copy\n",
      "  Data_frame_N.Y[i]=Data_frame.Y[i]+54\n"
     ]
    }
   ],
   "source": [
    "dfpoints3=pp2.Get_Real_coordinates_Dataframe(dfpoints2)"
   ]
  },
  {
   "cell_type": "raw",
   "metadata": {
    "collapsed": true
   },
   "source": [
    "# Join the 2 DataFrames\n",
    "dfpoints=pd.concat([dfpoints1, dfpoints3], axis=0)"
   ]
  },
  {
   "cell_type": "code",
   "execution_count": 11,
   "metadata": {},
   "outputs": [
    {
     "data": {
      "text/plain": [
       "7304"
      ]
     },
     "execution_count": 11,
     "metadata": {},
     "output_type": "execute_result"
    }
   ],
   "source": [
    "dfpoints=dfpoints3.copy()\n",
    "len(dfpoints)"
   ]
  },
  {
   "cell_type": "markdown",
   "metadata": {},
   "source": [
    "## Reduce the number of Neurons in order to have as many as Astrocytes"
   ]
  },
  {
   "cell_type": "code",
   "execution_count": 12,
   "metadata": {
    "collapsed": true
   },
   "outputs": [],
   "source": [
    "import Reduction_of_Neurons_in_the_DataFrame as nr\n",
    "reload(nr);"
   ]
  },
  {
   "cell_type": "code",
   "execution_count": 13,
   "metadata": {
    "collapsed": true
   },
   "outputs": [],
   "source": [
    "dfpoints=nr.Get_DataFrame_less_Neurons(dfpoints)"
   ]
  },
  {
   "cell_type": "markdown",
   "metadata": {
    "collapsed": true
   },
   "source": []
  },
  {
   "cell_type": "code",
   "execution_count": 14,
   "metadata": {
    "collapsed": true
   },
   "outputs": [],
   "source": [
    "DF_=nr.Get_Data_frame(imageId, dfpoints)"
   ]
  },
  {
   "cell_type": "code",
   "execution_count": 15,
   "metadata": {
    "collapsed": true
   },
   "outputs": [],
   "source": [
    "import Fonctions_used_for_many_DF_pre_processing as fct_pp\n",
    "reload(fct_pp);"
   ]
  },
  {
   "cell_type": "code",
   "execution_count": 16,
   "metadata": {
    "collapsed": true
   },
   "outputs": [],
   "source": [
    "Data_FRAMES=fct_pp.getDF(DF_)"
   ]
  },
  {
   "cell_type": "code",
   "execution_count": 17,
   "metadata": {
    "collapsed": true
   },
   "outputs": [],
   "source": [
    "Data_FRAMES=fct_pp.Switch_Indices(Data_FRAMES)"
   ]
  },
  {
   "cell_type": "code",
   "execution_count": 18,
   "metadata": {
    "collapsed": true
   },
   "outputs": [],
   "source": [
    "Data_FRAMES=fct_pp.exclure(Data_FRAMES,weight, height)"
   ]
  },
  {
   "cell_type": "code",
   "execution_count": 19,
   "metadata": {
    "collapsed": true
   },
   "outputs": [],
   "source": [
    "D_F=fct_pp.getDF(Data_FRAMES)"
   ]
  },
  {
   "cell_type": "code",
   "execution_count": 20,
   "metadata": {
    "collapsed": true
   },
   "outputs": [],
   "source": [
    "Data_FRAMES=fct_pp.Switch_Indices(D_F)"
   ]
  },
  {
   "cell_type": "code",
   "execution_count": 21,
   "metadata": {
    "collapsed": true
   },
   "outputs": [],
   "source": [
    "Data_FRAMES.to_pickle(projectpath+'io/Output/Data_FRAMES.pkl')"
   ]
  },
  {
   "cell_type": "code",
   "execution_count": 23,
   "metadata": {},
   "outputs": [
    {
     "data": {
      "text/plain": [
       "604"
      ]
     },
     "execution_count": 23,
     "metadata": {},
     "output_type": "execute_result"
    }
   ],
   "source": [
    "hhj=Data_FRAMES.loc[Data_FRAMES.TYPE==1.0].copy()\n",
    "len(hhj)"
   ]
  },
  {
   "cell_type": "markdown",
   "metadata": {},
   "source": [
    "# Add a fourth class to the data Frame (Background Type :4)"
   ]
  },
  {
   "cell_type": "code",
   "execution_count": 24,
   "metadata": {
    "collapsed": true
   },
   "outputs": [],
   "source": [
    "Data_FRAMES=pd.read_pickle(projectpath+'io/Output/Data_FRAMES.pkl')"
   ]
  },
  {
   "cell_type": "code",
   "execution_count": 25,
   "metadata": {
    "collapsed": true
   },
   "outputs": [],
   "source": [
    "import Add_Background_class_to_Dataframe as Bc\n",
    "reload(Bc);"
   ]
  },
  {
   "cell_type": "raw",
   "metadata": {
    "collapsed": true
   },
   "source": [
    "New_DF=Bc.Get_Df_with_backgroung_class(Data_FRAMES,imageId)"
   ]
  },
  {
   "cell_type": "raw",
   "metadata": {
    "collapsed": true
   },
   "source": [
    "New_DF=fct_pp.exclure_Bc(New_DF,weight,height)"
   ]
  },
  {
   "cell_type": "raw",
   "metadata": {
    "collapsed": true
   },
   "source": [
    "New_DF=fct_pp.getDF(New_DF)"
   ]
  },
  {
   "cell_type": "raw",
   "metadata": {
    "collapsed": true
   },
   "source": [
    "New_DF=fct_pp.Switch_Indices(New_DF)"
   ]
  },
  {
   "cell_type": "code",
   "execution_count": 26,
   "metadata": {},
   "outputs": [
    {
     "data": {
      "text/plain": [
       "462"
      ]
     },
     "execution_count": 26,
     "metadata": {},
     "output_type": "execute_result"
    }
   ],
   "source": [
    "imageId"
   ]
  },
  {
   "cell_type": "code",
   "execution_count": 27,
   "metadata": {
    "collapsed": true
   },
   "outputs": [],
   "source": [
    "New_Df2=Bc.Get_Df_with_backgroung_class_Im2(Data_FRAMES,imageId)"
   ]
  },
  {
   "cell_type": "code",
   "execution_count": 28,
   "metadata": {
    "collapsed": true
   },
   "outputs": [],
   "source": [
    "New_Df2=fct_pp.exclure_Bc(New_Df2,weight,height)"
   ]
  },
  {
   "cell_type": "code",
   "execution_count": 29,
   "metadata": {
    "collapsed": true
   },
   "outputs": [],
   "source": [
    "New_Df2=fct_pp.getDF(New_Df2)"
   ]
  },
  {
   "cell_type": "code",
   "execution_count": 30,
   "metadata": {
    "collapsed": true
   },
   "outputs": [],
   "source": [
    "New_Df2=fct_pp.Switch_Indices(New_Df2)"
   ]
  },
  {
   "cell_type": "code",
   "execution_count": 35,
   "metadata": {
    "collapsed": true
   },
   "outputs": [],
   "source": [
    "New_DF=New_Df2.copy()"
   ]
  },
  {
   "cell_type": "raw",
   "metadata": {},
   "source": [
    "#Join the 2 data frames\n",
    "New_Df=pd.concat([New_DF, New_Df2], axis=0)"
   ]
  },
  {
   "cell_type": "markdown",
   "metadata": {},
   "source": [
    "# Create the full data Frame ( 1135 Adtrocytes, 1135 Neurons, 1151 background) "
   ]
  },
  {
   "cell_type": "code",
   "execution_count": 36,
   "metadata": {
    "collapsed": true
   },
   "outputs": [],
   "source": [
    "# Join the 2 DataFrames\n",
    "Dataframe_=pd.concat([Data_FRAMES, New_DF], axis=0)"
   ]
  },
  {
   "cell_type": "code",
   "execution_count": 37,
   "metadata": {
    "collapsed": true
   },
   "outputs": [],
   "source": [
    "Dataframe_=fct_pp.getDF(Dataframe_)"
   ]
  },
  {
   "cell_type": "code",
   "execution_count": 38,
   "metadata": {
    "collapsed": true
   },
   "outputs": [],
   "source": [
    "Dataframe_=fct_pp.Switch_Indices(Dataframe_)"
   ]
  },
  {
   "cell_type": "code",
   "execution_count": 39,
   "metadata": {
    "collapsed": true
   },
   "outputs": [],
   "source": [
    "Dataframe_.to_pickle(projectpath+'io/Output/Dataframe_.pkl')"
   ]
  },
  {
   "cell_type": "code",
   "execution_count": 40,
   "metadata": {
    "collapsed": true
   },
   "outputs": [],
   "source": [
    "Data_FRAMES=pd.read_pickle(projectpath+'io/Output/Dataframe_.pkl')"
   ]
  },
  {
   "cell_type": "markdown",
   "metadata": {},
   "source": [
    "# Get volumes with Multiprocessing"
   ]
  },
  {
   "cell_type": "code",
   "execution_count": 43,
   "metadata": {
    "collapsed": true
   },
   "outputs": [],
   "source": [
    "import configure as cc\n",
    "reload(cc);"
   ]
  },
  {
   "cell_type": "code",
   "execution_count": 57,
   "metadata": {},
   "outputs": [],
   "source": [
    "import Get_Partial_Data as gpd\n",
    "reload(gpd);"
   ]
  },
  {
   "cell_type": "code",
   "execution_count": 58,
   "metadata": {
    "collapsed": true
   },
   "outputs": [],
   "source": [
    "#Metrics\n",
    "zsize=3\n",
    "nidx=Data_FRAMES.shape[0] "
   ]
  },
  {
   "cell_type": "code",
   "execution_count": 59,
   "metadata": {
    "collapsed": true
   },
   "outputs": [],
   "source": [
    "partial_getDATA_MEAN = partial(gpd.get_mean_zstacks_data, imageId=imageId, zsize=zsize, h=height, w=weight, Data_F=Data_FRAMES)"
   ]
  },
  {
   "cell_type": "code",
   "execution_count": 60,
   "metadata": {},
   "outputs": [],
   "source": [
    "# get raw data using multiprocesses\n",
    "\n",
    "pool = multiprocessing.Pool(27)\n",
    "M_Means = pool.map(partial_getDATA_MEAN,xrange(nidx))\n",
    "pool.close()"
   ]
  },
  {
   "cell_type": "code",
   "execution_count": 61,
   "metadata": {
    "collapsed": true
   },
   "outputs": [],
   "source": [
    "filename_M_DF =projectpath+'io/Output/M_DF.npy'"
   ]
  },
  {
   "cell_type": "raw",
   "metadata": {},
   "source": [
    "np.save(filename_M_DF,M_Means)"
   ]
  },
  {
   "cell_type": "markdown",
   "metadata": {},
   "source": [
    "## Load Normalized volums as numpy array"
   ]
  },
  {
   "cell_type": "code",
   "execution_count": 63,
   "metadata": {
    "collapsed": true
   },
   "outputs": [],
   "source": [
    "M_DF_parallel=np.load(filename_M_DF)"
   ]
  },
  {
   "cell_type": "markdown",
   "metadata": {},
   "source": [
    "# Display the RGB images corresponding to normalized volums"
   ]
  },
  {
   "cell_type": "code",
   "execution_count": 64,
   "metadata": {
    "collapsed": true
   },
   "outputs": [],
   "source": [
    "import Display_RGB_Vol as rgb_im\n",
    "reload(rgb_im);"
   ]
  },
  {
   "cell_type": "raw",
   "metadata": {},
   "source": [
    "rgb_im.PLOT_Im(M_DF_parallel[1590])"
   ]
  },
  {
   "cell_type": "markdown",
   "metadata": {},
   "source": [
    "# 4- WND CHARM Method"
   ]
  },
  {
   "cell_type": "markdown",
   "metadata": {},
   "source": [
    "## 4.1- Convert RGB images to Grayscale"
   ]
  },
  {
   "cell_type": "code",
   "execution_count": 65,
   "metadata": {
    "collapsed": true
   },
   "outputs": [],
   "source": [
    "import RGB2GRAY\n",
    "reload(RGB2GRAY);"
   ]
  },
  {
   "cell_type": "code",
   "execution_count": 66,
   "metadata": {
    "collapsed": true
   },
   "outputs": [],
   "source": [
    "partial_get_Gray_Img = partial(RGB2GRAY.Convert_Im_in_Gray_levels, h=height, w=weight, M_mean=M_DF_parallel)"
   ]
  },
  {
   "cell_type": "raw",
   "metadata": {},
   "source": [
    "pool = multiprocessing.Pool(27)\n",
    "GRAY_IM = pool.map(partial_get_Gray_Img,xrange(nidx))\n",
    "pool.close()"
   ]
  },
  {
   "cell_type": "code",
   "execution_count": 68,
   "metadata": {
    "collapsed": true
   },
   "outputs": [],
   "source": [
    "filename_Gray_IM =projectpath+'io/Output/GRAY_IM.npy'"
   ]
  },
  {
   "cell_type": "raw",
   "metadata": {},
   "source": [
    "np.save(filename_Gray_IM,GRAY_IM)"
   ]
  },
  {
   "cell_type": "markdown",
   "metadata": {},
   "source": [
    "## Load the gray images as numpy array"
   ]
  },
  {
   "cell_type": "code",
   "execution_count": 70,
   "metadata": {
    "collapsed": true
   },
   "outputs": [],
   "source": [
    "filename_Gray_IM =projectpath+'io/Output/GRAY_IM.npy'"
   ]
  },
  {
   "cell_type": "code",
   "execution_count": 71,
   "metadata": {
    "collapsed": true
   },
   "outputs": [],
   "source": [
    "GRAY_IM_parallel=np.load(filename_Gray_IM)"
   ]
  },
  {
   "cell_type": "markdown",
   "metadata": {},
   "source": [
    "# Display images by class ( 1 or 2) in order to detect the false predictions"
   ]
  },
  {
   "cell_type": "code",
   "execution_count": 72,
   "metadata": {
    "collapsed": true
   },
   "outputs": [],
   "source": [
    "import Display_img_false_prediction as imf\n",
    "reload(imf);"
   ]
  },
  {
   "cell_type": "code",
   "execution_count": 73,
   "metadata": {
    "collapsed": true
   },
   "outputs": [],
   "source": [
    "(Astrocytes, Neurons, Background)=imf.separate_in_3_classes(Data_FRAMES)"
   ]
  },
  {
   "cell_type": "raw",
   "metadata": {},
   "source": [
    "imf.Plot_IMG_By_Class(GRAY_IM_parallel, Astrocytes)"
   ]
  },
  {
   "cell_type": "markdown",
   "metadata": {},
   "source": [
    "## 4.2- Extraction of the WND-CHARM Features"
   ]
  },
  {
   "cell_type": "code",
   "execution_count": 75,
   "metadata": {
    "collapsed": true
   },
   "outputs": [],
   "source": [
    "nb_features=2919"
   ]
  },
  {
   "cell_type": "code",
   "execution_count": 76,
   "metadata": {
    "collapsed": true
   },
   "outputs": [],
   "source": [
    "import Features_computing as FC\n",
    "reload(FC);"
   ]
  },
  {
   "cell_type": "code",
   "execution_count": 77,
   "metadata": {
    "collapsed": true
   },
   "outputs": [],
   "source": [
    "partial_get_FEATURES = partial(FC.Features_calcul_np_GrayscaleIm_WND, nb_features=nb_features, w=weight, h=height, GRAY=GRAY_IM_parallel)"
   ]
  },
  {
   "cell_type": "raw",
   "metadata": {},
   "source": [
    "pool = multiprocessing.Pool(27)\n",
    "Featur = pool.map(partial_get_FEATURES,xrange(nidx))\n",
    "pool.close()"
   ]
  },
  {
   "cell_type": "code",
   "execution_count": 79,
   "metadata": {
    "collapsed": true
   },
   "outputs": [],
   "source": [
    "filename_FEATURES =projectpath+'io/Output/FEATURES.npy'"
   ]
  },
  {
   "cell_type": "raw",
   "metadata": {},
   "source": [
    "np.save(filename_FEATURES,Featur)"
   ]
  },
  {
   "cell_type": "markdown",
   "metadata": {},
   "source": []
  },
  {
   "cell_type": "markdown",
   "metadata": {},
   "source": [
    "## Load the extracted Features"
   ]
  },
  {
   "cell_type": "code",
   "execution_count": 81,
   "metadata": {
    "collapsed": true
   },
   "outputs": [],
   "source": [
    "FEATURES=np.load(filename_FEATURES)"
   ]
  },
  {
   "cell_type": "markdown",
   "metadata": {},
   "source": [
    "## Etablish one np.array for the Features' Names & another one for Features' Values"
   ]
  },
  {
   "cell_type": "code",
   "execution_count": 82,
   "metadata": {
    "collapsed": true
   },
   "outputs": [],
   "source": [
    "FEAT_NAMES=FEATURES[:,1,:]"
   ]
  },
  {
   "cell_type": "code",
   "execution_count": 83,
   "metadata": {
    "collapsed": true
   },
   "outputs": [],
   "source": [
    "FEAT_VALUES=FEATURES[:,0,:]"
   ]
  },
  {
   "cell_type": "code",
   "execution_count": 84,
   "metadata": {
    "collapsed": true
   },
   "outputs": [],
   "source": [
    "FEAT_VALUES=FEAT_VALUES.astype(float)"
   ]
  },
  {
   "cell_type": "code",
   "execution_count": 85,
   "metadata": {
    "collapsed": true
   },
   "outputs": [],
   "source": [
    "filename_FEATURES_Val =projectpath+'io/Output/FEATURES_Val.npy'"
   ]
  },
  {
   "cell_type": "code",
   "execution_count": 86,
   "metadata": {
    "collapsed": true
   },
   "outputs": [],
   "source": [
    "np.save(filename_FEATURES_Val,FEAT_VALUES)"
   ]
  },
  {
   "cell_type": "code",
   "execution_count": 87,
   "metadata": {
    "collapsed": true
   },
   "outputs": [],
   "source": [
    "FEAT_VALUES=np.load(filename_FEATURES_Val)"
   ]
  },
  {
   "cell_type": "markdown",
   "metadata": {},
   "source": [
    "# 4.3- Features Post- processing"
   ]
  },
  {
   "cell_type": "markdown",
   "metadata": {},
   "source": [
    "## A- Get the normalized Features"
   ]
  },
  {
   "cell_type": "code",
   "execution_count": 88,
   "metadata": {
    "collapsed": true
   },
   "outputs": [],
   "source": [
    "partial_get_NORMALIZED_FEAT = partial(FC.Get_Normalized_FEATURES, FV=FEAT_VALUES)"
   ]
  },
  {
   "cell_type": "raw",
   "metadata": {},
   "source": [
    "# get raw data using multiprocesses\n",
    "pool = multiprocessing.Pool(27)\n",
    "FV_N = pool.map(partial_get_NORMALIZED_FEAT,xrange(nidx))\n",
    "pool.close()"
   ]
  },
  {
   "cell_type": "code",
   "execution_count": 90,
   "metadata": {
    "collapsed": true
   },
   "outputs": [],
   "source": [
    "filename_FVN =projectpath+'io/Output/FV_N.npy'"
   ]
  },
  {
   "cell_type": "raw",
   "metadata": {
    "collapsed": true
   },
   "source": [
    "np.save(filename_FVN,FV_N)"
   ]
  },
  {
   "cell_type": "code",
   "execution_count": 92,
   "metadata": {
    "collapsed": true
   },
   "outputs": [],
   "source": [
    "FV_N=np.load(filename_FVN)"
   ]
  },
  {
   "cell_type": "markdown",
   "metadata": {},
   "source": [
    "# PCA & Random Forest Classification"
   ]
  },
  {
   "cell_type": "code",
   "execution_count": 93,
   "metadata": {
    "collapsed": true
   },
   "outputs": [],
   "source": [
    "import join_two_blocs as jb\n",
    "reload(jb);"
   ]
  },
  {
   "cell_type": "code",
   "execution_count": 97,
   "metadata": {
    "collapsed": true
   },
   "outputs": [],
   "source": [
    "filename_fv_b1=projectpath+'io/Output/FV_N_bloc1.npy'\n",
    "feature_vectors1=np.load(filename_fv_b1)"
   ]
  },
  {
   "cell_type": "code",
   "execution_count": 96,
   "metadata": {
    "collapsed": true
   },
   "outputs": [],
   "source": [
    "filename_fv_b2=projectpath+'io/Output/FV_N_bloc2.npy'\n",
    "feature_vectors2=np.load(filename_fv_b2)"
   ]
  },
  {
   "cell_type": "code",
   "execution_count": 99,
   "metadata": {},
   "outputs": [],
   "source": [
    "\n",
    "dataframe1=pd.read_pickle(projectpath+'io/Output/Dataframe_bloc1.pkl')\n",
    "\n",
    "dataframe2=pd.read_pickle(projectpath+'io/Output/Dataframe_bloc2.pkl')"
   ]
  },
  {
   "cell_type": "code",
   "execution_count": 108,
   "metadata": {
    "collapsed": true
   },
   "outputs": [],
   "source": [
    "(Dataframe_, FV_N)=jb.join_blocs(dataframe1,dataframe2, feature_vectors1, feature_vectors2)"
   ]
  },
  {
   "cell_type": "code",
   "execution_count": 110,
   "metadata": {},
   "outputs": [],
   "source": [
    "np.save(filename_FVN,FV_N)"
   ]
  },
  {
   "cell_type": "code",
   "execution_count": 111,
   "metadata": {
    "collapsed": true
   },
   "outputs": [],
   "source": [
    "FV_N=np.load(filename_FVN)"
   ]
  },
  {
   "cell_type": "code",
   "execution_count": 115,
   "metadata": {
    "collapsed": true
   },
   "outputs": [],
   "source": [
    "Dataframe_=fct_pp.getDF(Dataframe_)"
   ]
  },
  {
   "cell_type": "code",
   "execution_count": 116,
   "metadata": {
    "collapsed": true
   },
   "outputs": [],
   "source": [
    "Dataframe_=fct_pp.Switch_Indices(Dataframe_)"
   ]
  },
  {
   "cell_type": "code",
   "execution_count": 117,
   "metadata": {
    "collapsed": true
   },
   "outputs": [],
   "source": [
    "Dataframe_.to_pickle(projectpath+'io/Output/Dataframe_.pkl')"
   ]
  },
  {
   "cell_type": "code",
   "execution_count": 118,
   "metadata": {},
   "outputs": [
    {
     "name": "stdout",
     "output_type": "stream",
     "text": [
      "Pipeline(steps=[('reduce_dim', PCA(copy=True, iterated_power='auto', n_components=70, random_state=None,\n",
      "  svd_solver='auto', tol=0.0, whiten=False)), ('Random_Forest', RandomForestClassifier(bootstrap=True, class_weight=None, criterion='gini',\n",
      "            max_depth=None, max_features='auto', max_leaf_nodes=...stimators=200, n_jobs=1, oob_score=False, random_state=0,\n",
      "            verbose=0, warm_start=False))])\n"
     ]
    },
    {
     "data": {
      "application/javascript": [
       "/* Put everything inside the global mpl namespace */\n",
       "window.mpl = {};\n",
       "\n",
       "\n",
       "mpl.get_websocket_type = function() {\n",
       "    if (typeof(WebSocket) !== 'undefined') {\n",
       "        return WebSocket;\n",
       "    } else if (typeof(MozWebSocket) !== 'undefined') {\n",
       "        return MozWebSocket;\n",
       "    } else {\n",
       "        alert('Your browser does not have WebSocket support.' +\n",
       "              'Please try Chrome, Safari or Firefox ≥ 6. ' +\n",
       "              'Firefox 4 and 5 are also supported but you ' +\n",
       "              'have to enable WebSockets in about:config.');\n",
       "    };\n",
       "}\n",
       "\n",
       "mpl.figure = function(figure_id, websocket, ondownload, parent_element) {\n",
       "    this.id = figure_id;\n",
       "\n",
       "    this.ws = websocket;\n",
       "\n",
       "    this.supports_binary = (this.ws.binaryType != undefined);\n",
       "\n",
       "    if (!this.supports_binary) {\n",
       "        var warnings = document.getElementById(\"mpl-warnings\");\n",
       "        if (warnings) {\n",
       "            warnings.style.display = 'block';\n",
       "            warnings.textContent = (\n",
       "                \"This browser does not support binary websocket messages. \" +\n",
       "                    \"Performance may be slow.\");\n",
       "        }\n",
       "    }\n",
       "\n",
       "    this.imageObj = new Image();\n",
       "\n",
       "    this.context = undefined;\n",
       "    this.message = undefined;\n",
       "    this.canvas = undefined;\n",
       "    this.rubberband_canvas = undefined;\n",
       "    this.rubberband_context = undefined;\n",
       "    this.format_dropdown = undefined;\n",
       "\n",
       "    this.image_mode = 'full';\n",
       "\n",
       "    this.root = $('<div/>');\n",
       "    this._root_extra_style(this.root)\n",
       "    this.root.attr('style', 'display: inline-block');\n",
       "\n",
       "    $(parent_element).append(this.root);\n",
       "\n",
       "    this._init_header(this);\n",
       "    this._init_canvas(this);\n",
       "    this._init_toolbar(this);\n",
       "\n",
       "    var fig = this;\n",
       "\n",
       "    this.waiting = false;\n",
       "\n",
       "    this.ws.onopen =  function () {\n",
       "            fig.send_message(\"supports_binary\", {value: fig.supports_binary});\n",
       "            fig.send_message(\"send_image_mode\", {});\n",
       "            if (mpl.ratio != 1) {\n",
       "                fig.send_message(\"set_dpi_ratio\", {'dpi_ratio': mpl.ratio});\n",
       "            }\n",
       "            fig.send_message(\"refresh\", {});\n",
       "        }\n",
       "\n",
       "    this.imageObj.onload = function() {\n",
       "            if (fig.image_mode == 'full') {\n",
       "                // Full images could contain transparency (where diff images\n",
       "                // almost always do), so we need to clear the canvas so that\n",
       "                // there is no ghosting.\n",
       "                fig.context.clearRect(0, 0, fig.canvas.width, fig.canvas.height);\n",
       "            }\n",
       "            fig.context.drawImage(fig.imageObj, 0, 0);\n",
       "        };\n",
       "\n",
       "    this.imageObj.onunload = function() {\n",
       "        this.ws.close();\n",
       "    }\n",
       "\n",
       "    this.ws.onmessage = this._make_on_message_function(this);\n",
       "\n",
       "    this.ondownload = ondownload;\n",
       "}\n",
       "\n",
       "mpl.figure.prototype._init_header = function() {\n",
       "    var titlebar = $(\n",
       "        '<div class=\"ui-dialog-titlebar ui-widget-header ui-corner-all ' +\n",
       "        'ui-helper-clearfix\"/>');\n",
       "    var titletext = $(\n",
       "        '<div class=\"ui-dialog-title\" style=\"width: 100%; ' +\n",
       "        'text-align: center; padding: 3px;\"/>');\n",
       "    titlebar.append(titletext)\n",
       "    this.root.append(titlebar);\n",
       "    this.header = titletext[0];\n",
       "}\n",
       "\n",
       "\n",
       "\n",
       "mpl.figure.prototype._canvas_extra_style = function(canvas_div) {\n",
       "\n",
       "}\n",
       "\n",
       "\n",
       "mpl.figure.prototype._root_extra_style = function(canvas_div) {\n",
       "\n",
       "}\n",
       "\n",
       "mpl.figure.prototype._init_canvas = function() {\n",
       "    var fig = this;\n",
       "\n",
       "    var canvas_div = $('<div/>');\n",
       "\n",
       "    canvas_div.attr('style', 'position: relative; clear: both; outline: 0');\n",
       "\n",
       "    function canvas_keyboard_event(event) {\n",
       "        return fig.key_event(event, event['data']);\n",
       "    }\n",
       "\n",
       "    canvas_div.keydown('key_press', canvas_keyboard_event);\n",
       "    canvas_div.keyup('key_release', canvas_keyboard_event);\n",
       "    this.canvas_div = canvas_div\n",
       "    this._canvas_extra_style(canvas_div)\n",
       "    this.root.append(canvas_div);\n",
       "\n",
       "    var canvas = $('<canvas/>');\n",
       "    canvas.addClass('mpl-canvas');\n",
       "    canvas.attr('style', \"left: 0; top: 0; z-index: 0; outline: 0\")\n",
       "\n",
       "    this.canvas = canvas[0];\n",
       "    this.context = canvas[0].getContext(\"2d\");\n",
       "\n",
       "    var backingStore = this.context.backingStorePixelRatio ||\n",
       "\tthis.context.webkitBackingStorePixelRatio ||\n",
       "\tthis.context.mozBackingStorePixelRatio ||\n",
       "\tthis.context.msBackingStorePixelRatio ||\n",
       "\tthis.context.oBackingStorePixelRatio ||\n",
       "\tthis.context.backingStorePixelRatio || 1;\n",
       "\n",
       "    mpl.ratio = (window.devicePixelRatio || 1) / backingStore;\n",
       "\n",
       "    var rubberband = $('<canvas/>');\n",
       "    rubberband.attr('style', \"position: absolute; left: 0; top: 0; z-index: 1;\")\n",
       "\n",
       "    var pass_mouse_events = true;\n",
       "\n",
       "    canvas_div.resizable({\n",
       "        start: function(event, ui) {\n",
       "            pass_mouse_events = false;\n",
       "        },\n",
       "        resize: function(event, ui) {\n",
       "            fig.request_resize(ui.size.width, ui.size.height);\n",
       "        },\n",
       "        stop: function(event, ui) {\n",
       "            pass_mouse_events = true;\n",
       "            fig.request_resize(ui.size.width, ui.size.height);\n",
       "        },\n",
       "    });\n",
       "\n",
       "    function mouse_event_fn(event) {\n",
       "        if (pass_mouse_events)\n",
       "            return fig.mouse_event(event, event['data']);\n",
       "    }\n",
       "\n",
       "    rubberband.mousedown('button_press', mouse_event_fn);\n",
       "    rubberband.mouseup('button_release', mouse_event_fn);\n",
       "    // Throttle sequential mouse events to 1 every 20ms.\n",
       "    rubberband.mousemove('motion_notify', mouse_event_fn);\n",
       "\n",
       "    rubberband.mouseenter('figure_enter', mouse_event_fn);\n",
       "    rubberband.mouseleave('figure_leave', mouse_event_fn);\n",
       "\n",
       "    canvas_div.on(\"wheel\", function (event) {\n",
       "        event = event.originalEvent;\n",
       "        event['data'] = 'scroll'\n",
       "        if (event.deltaY < 0) {\n",
       "            event.step = 1;\n",
       "        } else {\n",
       "            event.step = -1;\n",
       "        }\n",
       "        mouse_event_fn(event);\n",
       "    });\n",
       "\n",
       "    canvas_div.append(canvas);\n",
       "    canvas_div.append(rubberband);\n",
       "\n",
       "    this.rubberband = rubberband;\n",
       "    this.rubberband_canvas = rubberband[0];\n",
       "    this.rubberband_context = rubberband[0].getContext(\"2d\");\n",
       "    this.rubberband_context.strokeStyle = \"#000000\";\n",
       "\n",
       "    this._resize_canvas = function(width, height) {\n",
       "        // Keep the size of the canvas, canvas container, and rubber band\n",
       "        // canvas in synch.\n",
       "        canvas_div.css('width', width)\n",
       "        canvas_div.css('height', height)\n",
       "\n",
       "        canvas.attr('width', width * mpl.ratio);\n",
       "        canvas.attr('height', height * mpl.ratio);\n",
       "        canvas.attr('style', 'width: ' + width + 'px; height: ' + height + 'px;');\n",
       "\n",
       "        rubberband.attr('width', width);\n",
       "        rubberband.attr('height', height);\n",
       "    }\n",
       "\n",
       "    // Set the figure to an initial 600x600px, this will subsequently be updated\n",
       "    // upon first draw.\n",
       "    this._resize_canvas(600, 600);\n",
       "\n",
       "    // Disable right mouse context menu.\n",
       "    $(this.rubberband_canvas).bind(\"contextmenu\",function(e){\n",
       "        return false;\n",
       "    });\n",
       "\n",
       "    function set_focus () {\n",
       "        canvas.focus();\n",
       "        canvas_div.focus();\n",
       "    }\n",
       "\n",
       "    window.setTimeout(set_focus, 100);\n",
       "}\n",
       "\n",
       "mpl.figure.prototype._init_toolbar = function() {\n",
       "    var fig = this;\n",
       "\n",
       "    var nav_element = $('<div/>')\n",
       "    nav_element.attr('style', 'width: 100%');\n",
       "    this.root.append(nav_element);\n",
       "\n",
       "    // Define a callback function for later on.\n",
       "    function toolbar_event(event) {\n",
       "        return fig.toolbar_button_onclick(event['data']);\n",
       "    }\n",
       "    function toolbar_mouse_event(event) {\n",
       "        return fig.toolbar_button_onmouseover(event['data']);\n",
       "    }\n",
       "\n",
       "    for(var toolbar_ind in mpl.toolbar_items) {\n",
       "        var name = mpl.toolbar_items[toolbar_ind][0];\n",
       "        var tooltip = mpl.toolbar_items[toolbar_ind][1];\n",
       "        var image = mpl.toolbar_items[toolbar_ind][2];\n",
       "        var method_name = mpl.toolbar_items[toolbar_ind][3];\n",
       "\n",
       "        if (!name) {\n",
       "            // put a spacer in here.\n",
       "            continue;\n",
       "        }\n",
       "        var button = $('<button/>');\n",
       "        button.addClass('ui-button ui-widget ui-state-default ui-corner-all ' +\n",
       "                        'ui-button-icon-only');\n",
       "        button.attr('role', 'button');\n",
       "        button.attr('aria-disabled', 'false');\n",
       "        button.click(method_name, toolbar_event);\n",
       "        button.mouseover(tooltip, toolbar_mouse_event);\n",
       "\n",
       "        var icon_img = $('<span/>');\n",
       "        icon_img.addClass('ui-button-icon-primary ui-icon');\n",
       "        icon_img.addClass(image);\n",
       "        icon_img.addClass('ui-corner-all');\n",
       "\n",
       "        var tooltip_span = $('<span/>');\n",
       "        tooltip_span.addClass('ui-button-text');\n",
       "        tooltip_span.html(tooltip);\n",
       "\n",
       "        button.append(icon_img);\n",
       "        button.append(tooltip_span);\n",
       "\n",
       "        nav_element.append(button);\n",
       "    }\n",
       "\n",
       "    var fmt_picker_span = $('<span/>');\n",
       "\n",
       "    var fmt_picker = $('<select/>');\n",
       "    fmt_picker.addClass('mpl-toolbar-option ui-widget ui-widget-content');\n",
       "    fmt_picker_span.append(fmt_picker);\n",
       "    nav_element.append(fmt_picker_span);\n",
       "    this.format_dropdown = fmt_picker[0];\n",
       "\n",
       "    for (var ind in mpl.extensions) {\n",
       "        var fmt = mpl.extensions[ind];\n",
       "        var option = $(\n",
       "            '<option/>', {selected: fmt === mpl.default_extension}).html(fmt);\n",
       "        fmt_picker.append(option)\n",
       "    }\n",
       "\n",
       "    // Add hover states to the ui-buttons\n",
       "    $( \".ui-button\" ).hover(\n",
       "        function() { $(this).addClass(\"ui-state-hover\");},\n",
       "        function() { $(this).removeClass(\"ui-state-hover\");}\n",
       "    );\n",
       "\n",
       "    var status_bar = $('<span class=\"mpl-message\"/>');\n",
       "    nav_element.append(status_bar);\n",
       "    this.message = status_bar[0];\n",
       "}\n",
       "\n",
       "mpl.figure.prototype.request_resize = function(x_pixels, y_pixels) {\n",
       "    // Request matplotlib to resize the figure. Matplotlib will then trigger a resize in the client,\n",
       "    // which will in turn request a refresh of the image.\n",
       "    this.send_message('resize', {'width': x_pixels, 'height': y_pixels});\n",
       "}\n",
       "\n",
       "mpl.figure.prototype.send_message = function(type, properties) {\n",
       "    properties['type'] = type;\n",
       "    properties['figure_id'] = this.id;\n",
       "    this.ws.send(JSON.stringify(properties));\n",
       "}\n",
       "\n",
       "mpl.figure.prototype.send_draw_message = function() {\n",
       "    if (!this.waiting) {\n",
       "        this.waiting = true;\n",
       "        this.ws.send(JSON.stringify({type: \"draw\", figure_id: this.id}));\n",
       "    }\n",
       "}\n",
       "\n",
       "\n",
       "mpl.figure.prototype.handle_save = function(fig, msg) {\n",
       "    var format_dropdown = fig.format_dropdown;\n",
       "    var format = format_dropdown.options[format_dropdown.selectedIndex].value;\n",
       "    fig.ondownload(fig, format);\n",
       "}\n",
       "\n",
       "\n",
       "mpl.figure.prototype.handle_resize = function(fig, msg) {\n",
       "    var size = msg['size'];\n",
       "    if (size[0] != fig.canvas.width || size[1] != fig.canvas.height) {\n",
       "        fig._resize_canvas(size[0], size[1]);\n",
       "        fig.send_message(\"refresh\", {});\n",
       "    };\n",
       "}\n",
       "\n",
       "mpl.figure.prototype.handle_rubberband = function(fig, msg) {\n",
       "    var x0 = msg['x0'] / mpl.ratio;\n",
       "    var y0 = (fig.canvas.height - msg['y0']) / mpl.ratio;\n",
       "    var x1 = msg['x1'] / mpl.ratio;\n",
       "    var y1 = (fig.canvas.height - msg['y1']) / mpl.ratio;\n",
       "    x0 = Math.floor(x0) + 0.5;\n",
       "    y0 = Math.floor(y0) + 0.5;\n",
       "    x1 = Math.floor(x1) + 0.5;\n",
       "    y1 = Math.floor(y1) + 0.5;\n",
       "    var min_x = Math.min(x0, x1);\n",
       "    var min_y = Math.min(y0, y1);\n",
       "    var width = Math.abs(x1 - x0);\n",
       "    var height = Math.abs(y1 - y0);\n",
       "\n",
       "    fig.rubberband_context.clearRect(\n",
       "        0, 0, fig.canvas.width, fig.canvas.height);\n",
       "\n",
       "    fig.rubberband_context.strokeRect(min_x, min_y, width, height);\n",
       "}\n",
       "\n",
       "mpl.figure.prototype.handle_figure_label = function(fig, msg) {\n",
       "    // Updates the figure title.\n",
       "    fig.header.textContent = msg['label'];\n",
       "}\n",
       "\n",
       "mpl.figure.prototype.handle_cursor = function(fig, msg) {\n",
       "    var cursor = msg['cursor'];\n",
       "    switch(cursor)\n",
       "    {\n",
       "    case 0:\n",
       "        cursor = 'pointer';\n",
       "        break;\n",
       "    case 1:\n",
       "        cursor = 'default';\n",
       "        break;\n",
       "    case 2:\n",
       "        cursor = 'crosshair';\n",
       "        break;\n",
       "    case 3:\n",
       "        cursor = 'move';\n",
       "        break;\n",
       "    }\n",
       "    fig.rubberband_canvas.style.cursor = cursor;\n",
       "}\n",
       "\n",
       "mpl.figure.prototype.handle_message = function(fig, msg) {\n",
       "    fig.message.textContent = msg['message'];\n",
       "}\n",
       "\n",
       "mpl.figure.prototype.handle_draw = function(fig, msg) {\n",
       "    // Request the server to send over a new figure.\n",
       "    fig.send_draw_message();\n",
       "}\n",
       "\n",
       "mpl.figure.prototype.handle_image_mode = function(fig, msg) {\n",
       "    fig.image_mode = msg['mode'];\n",
       "}\n",
       "\n",
       "mpl.figure.prototype.updated_canvas_event = function() {\n",
       "    // Called whenever the canvas gets updated.\n",
       "    this.send_message(\"ack\", {});\n",
       "}\n",
       "\n",
       "// A function to construct a web socket function for onmessage handling.\n",
       "// Called in the figure constructor.\n",
       "mpl.figure.prototype._make_on_message_function = function(fig) {\n",
       "    return function socket_on_message(evt) {\n",
       "        if (evt.data instanceof Blob) {\n",
       "            /* FIXME: We get \"Resource interpreted as Image but\n",
       "             * transferred with MIME type text/plain:\" errors on\n",
       "             * Chrome.  But how to set the MIME type?  It doesn't seem\n",
       "             * to be part of the websocket stream */\n",
       "            evt.data.type = \"image/png\";\n",
       "\n",
       "            /* Free the memory for the previous frames */\n",
       "            if (fig.imageObj.src) {\n",
       "                (window.URL || window.webkitURL).revokeObjectURL(\n",
       "                    fig.imageObj.src);\n",
       "            }\n",
       "\n",
       "            fig.imageObj.src = (window.URL || window.webkitURL).createObjectURL(\n",
       "                evt.data);\n",
       "            fig.updated_canvas_event();\n",
       "            fig.waiting = false;\n",
       "            return;\n",
       "        }\n",
       "        else if (typeof evt.data === 'string' && evt.data.slice(0, 21) == \"data:image/png;base64\") {\n",
       "            fig.imageObj.src = evt.data;\n",
       "            fig.updated_canvas_event();\n",
       "            fig.waiting = false;\n",
       "            return;\n",
       "        }\n",
       "\n",
       "        var msg = JSON.parse(evt.data);\n",
       "        var msg_type = msg['type'];\n",
       "\n",
       "        // Call the  \"handle_{type}\" callback, which takes\n",
       "        // the figure and JSON message as its only arguments.\n",
       "        try {\n",
       "            var callback = fig[\"handle_\" + msg_type];\n",
       "        } catch (e) {\n",
       "            console.log(\"No handler for the '\" + msg_type + \"' message type: \", msg);\n",
       "            return;\n",
       "        }\n",
       "\n",
       "        if (callback) {\n",
       "            try {\n",
       "                // console.log(\"Handling '\" + msg_type + \"' message: \", msg);\n",
       "                callback(fig, msg);\n",
       "            } catch (e) {\n",
       "                console.log(\"Exception inside the 'handler_\" + msg_type + \"' callback:\", e, e.stack, msg);\n",
       "            }\n",
       "        }\n",
       "    };\n",
       "}\n",
       "\n",
       "// from http://stackoverflow.com/questions/1114465/getting-mouse-location-in-canvas\n",
       "mpl.findpos = function(e) {\n",
       "    //this section is from http://www.quirksmode.org/js/events_properties.html\n",
       "    var targ;\n",
       "    if (!e)\n",
       "        e = window.event;\n",
       "    if (e.target)\n",
       "        targ = e.target;\n",
       "    else if (e.srcElement)\n",
       "        targ = e.srcElement;\n",
       "    if (targ.nodeType == 3) // defeat Safari bug\n",
       "        targ = targ.parentNode;\n",
       "\n",
       "    // jQuery normalizes the pageX and pageY\n",
       "    // pageX,Y are the mouse positions relative to the document\n",
       "    // offset() returns the position of the element relative to the document\n",
       "    var x = e.pageX - $(targ).offset().left;\n",
       "    var y = e.pageY - $(targ).offset().top;\n",
       "\n",
       "    return {\"x\": x, \"y\": y};\n",
       "};\n",
       "\n",
       "/*\n",
       " * return a copy of an object with only non-object keys\n",
       " * we need this to avoid circular references\n",
       " * http://stackoverflow.com/a/24161582/3208463\n",
       " */\n",
       "function simpleKeys (original) {\n",
       "  return Object.keys(original).reduce(function (obj, key) {\n",
       "    if (typeof original[key] !== 'object')\n",
       "        obj[key] = original[key]\n",
       "    return obj;\n",
       "  }, {});\n",
       "}\n",
       "\n",
       "mpl.figure.prototype.mouse_event = function(event, name) {\n",
       "    var canvas_pos = mpl.findpos(event)\n",
       "\n",
       "    if (name === 'button_press')\n",
       "    {\n",
       "        this.canvas.focus();\n",
       "        this.canvas_div.focus();\n",
       "    }\n",
       "\n",
       "    var x = canvas_pos.x * mpl.ratio;\n",
       "    var y = canvas_pos.y * mpl.ratio;\n",
       "\n",
       "    this.send_message(name, {x: x, y: y, button: event.button,\n",
       "                             step: event.step,\n",
       "                             guiEvent: simpleKeys(event)});\n",
       "\n",
       "    /* This prevents the web browser from automatically changing to\n",
       "     * the text insertion cursor when the button is pressed.  We want\n",
       "     * to control all of the cursor setting manually through the\n",
       "     * 'cursor' event from matplotlib */\n",
       "    event.preventDefault();\n",
       "    return false;\n",
       "}\n",
       "\n",
       "mpl.figure.prototype._key_event_extra = function(event, name) {\n",
       "    // Handle any extra behaviour associated with a key event\n",
       "}\n",
       "\n",
       "mpl.figure.prototype.key_event = function(event, name) {\n",
       "\n",
       "    // Prevent repeat events\n",
       "    if (name == 'key_press')\n",
       "    {\n",
       "        if (event.which === this._key)\n",
       "            return;\n",
       "        else\n",
       "            this._key = event.which;\n",
       "    }\n",
       "    if (name == 'key_release')\n",
       "        this._key = null;\n",
       "\n",
       "    var value = '';\n",
       "    if (event.ctrlKey && event.which != 17)\n",
       "        value += \"ctrl+\";\n",
       "    if (event.altKey && event.which != 18)\n",
       "        value += \"alt+\";\n",
       "    if (event.shiftKey && event.which != 16)\n",
       "        value += \"shift+\";\n",
       "\n",
       "    value += 'k';\n",
       "    value += event.which.toString();\n",
       "\n",
       "    this._key_event_extra(event, name);\n",
       "\n",
       "    this.send_message(name, {key: value,\n",
       "                             guiEvent: simpleKeys(event)});\n",
       "    return false;\n",
       "}\n",
       "\n",
       "mpl.figure.prototype.toolbar_button_onclick = function(name) {\n",
       "    if (name == 'download') {\n",
       "        this.handle_save(this, null);\n",
       "    } else {\n",
       "        this.send_message(\"toolbar_button\", {name: name});\n",
       "    }\n",
       "};\n",
       "\n",
       "mpl.figure.prototype.toolbar_button_onmouseover = function(tooltip) {\n",
       "    this.message.textContent = tooltip;\n",
       "};\n",
       "mpl.toolbar_items = [[\"Home\", \"Reset original view\", \"fa fa-home icon-home\", \"home\"], [\"Back\", \"Back to  previous view\", \"fa fa-arrow-left icon-arrow-left\", \"back\"], [\"Forward\", \"Forward to next view\", \"fa fa-arrow-right icon-arrow-right\", \"forward\"], [\"\", \"\", \"\", \"\"], [\"Pan\", \"Pan axes with left mouse, zoom with right\", \"fa fa-arrows icon-move\", \"pan\"], [\"Zoom\", \"Zoom to rectangle\", \"fa fa-square-o icon-check-empty\", \"zoom\"], [\"\", \"\", \"\", \"\"], [\"Download\", \"Download plot\", \"fa fa-floppy-o icon-save\", \"download\"]];\n",
       "\n",
       "mpl.extensions = [\"eps\", \"jpeg\", \"pdf\", \"png\", \"ps\", \"raw\", \"svg\", \"tif\"];\n",
       "\n",
       "mpl.default_extension = \"png\";var comm_websocket_adapter = function(comm) {\n",
       "    // Create a \"websocket\"-like object which calls the given IPython comm\n",
       "    // object with the appropriate methods. Currently this is a non binary\n",
       "    // socket, so there is still some room for performance tuning.\n",
       "    var ws = {};\n",
       "\n",
       "    ws.close = function() {\n",
       "        comm.close()\n",
       "    };\n",
       "    ws.send = function(m) {\n",
       "        //console.log('sending', m);\n",
       "        comm.send(m);\n",
       "    };\n",
       "    // Register the callback with on_msg.\n",
       "    comm.on_msg(function(msg) {\n",
       "        //console.log('receiving', msg['content']['data'], msg);\n",
       "        // Pass the mpl event to the overriden (by mpl) onmessage function.\n",
       "        ws.onmessage(msg['content']['data'])\n",
       "    });\n",
       "    return ws;\n",
       "}\n",
       "\n",
       "mpl.mpl_figure_comm = function(comm, msg) {\n",
       "    // This is the function which gets called when the mpl process\n",
       "    // starts-up an IPython Comm through the \"matplotlib\" channel.\n",
       "\n",
       "    var id = msg.content.data.id;\n",
       "    // Get hold of the div created by the display call when the Comm\n",
       "    // socket was opened in Python.\n",
       "    var element = $(\"#\" + id);\n",
       "    var ws_proxy = comm_websocket_adapter(comm)\n",
       "\n",
       "    function ondownload(figure, format) {\n",
       "        window.open(figure.imageObj.src);\n",
       "    }\n",
       "\n",
       "    var fig = new mpl.figure(id, ws_proxy,\n",
       "                           ondownload,\n",
       "                           element.get(0));\n",
       "\n",
       "    // Call onopen now - mpl needs it, as it is assuming we've passed it a real\n",
       "    // web socket which is closed, not our websocket->open comm proxy.\n",
       "    ws_proxy.onopen();\n",
       "\n",
       "    fig.parent_element = element.get(0);\n",
       "    fig.cell_info = mpl.find_output_cell(\"<div id='\" + id + \"'></div>\");\n",
       "    if (!fig.cell_info) {\n",
       "        console.error(\"Failed to find cell for figure\", id, fig);\n",
       "        return;\n",
       "    }\n",
       "\n",
       "    var output_index = fig.cell_info[2]\n",
       "    var cell = fig.cell_info[0];\n",
       "\n",
       "};\n",
       "\n",
       "mpl.figure.prototype.handle_close = function(fig, msg) {\n",
       "    var width = fig.canvas.width/mpl.ratio\n",
       "    fig.root.unbind('remove')\n",
       "\n",
       "    // Update the output cell to use the data from the current canvas.\n",
       "    fig.push_to_output();\n",
       "    var dataURL = fig.canvas.toDataURL();\n",
       "    // Re-enable the keyboard manager in IPython - without this line, in FF,\n",
       "    // the notebook keyboard shortcuts fail.\n",
       "    IPython.keyboard_manager.enable()\n",
       "    $(fig.parent_element).html('<img src=\"' + dataURL + '\" width=\"' + width + '\">');\n",
       "    fig.close_ws(fig, msg);\n",
       "}\n",
       "\n",
       "mpl.figure.prototype.close_ws = function(fig, msg){\n",
       "    fig.send_message('closing', msg);\n",
       "    // fig.ws.close()\n",
       "}\n",
       "\n",
       "mpl.figure.prototype.push_to_output = function(remove_interactive) {\n",
       "    // Turn the data on the canvas into data in the output cell.\n",
       "    var width = this.canvas.width/mpl.ratio\n",
       "    var dataURL = this.canvas.toDataURL();\n",
       "    this.cell_info[1]['text/html'] = '<img src=\"' + dataURL + '\" width=\"' + width + '\">';\n",
       "}\n",
       "\n",
       "mpl.figure.prototype.updated_canvas_event = function() {\n",
       "    // Tell IPython that the notebook contents must change.\n",
       "    IPython.notebook.set_dirty(true);\n",
       "    this.send_message(\"ack\", {});\n",
       "    var fig = this;\n",
       "    // Wait a second, then push the new image to the DOM so\n",
       "    // that it is saved nicely (might be nice to debounce this).\n",
       "    setTimeout(function () { fig.push_to_output() }, 1000);\n",
       "}\n",
       "\n",
       "mpl.figure.prototype._init_toolbar = function() {\n",
       "    var fig = this;\n",
       "\n",
       "    var nav_element = $('<div/>')\n",
       "    nav_element.attr('style', 'width: 100%');\n",
       "    this.root.append(nav_element);\n",
       "\n",
       "    // Define a callback function for later on.\n",
       "    function toolbar_event(event) {\n",
       "        return fig.toolbar_button_onclick(event['data']);\n",
       "    }\n",
       "    function toolbar_mouse_event(event) {\n",
       "        return fig.toolbar_button_onmouseover(event['data']);\n",
       "    }\n",
       "\n",
       "    for(var toolbar_ind in mpl.toolbar_items){\n",
       "        var name = mpl.toolbar_items[toolbar_ind][0];\n",
       "        var tooltip = mpl.toolbar_items[toolbar_ind][1];\n",
       "        var image = mpl.toolbar_items[toolbar_ind][2];\n",
       "        var method_name = mpl.toolbar_items[toolbar_ind][3];\n",
       "\n",
       "        if (!name) { continue; };\n",
       "\n",
       "        var button = $('<button class=\"btn btn-default\" href=\"#\" title=\"' + name + '\"><i class=\"fa ' + image + ' fa-lg\"></i></button>');\n",
       "        button.click(method_name, toolbar_event);\n",
       "        button.mouseover(tooltip, toolbar_mouse_event);\n",
       "        nav_element.append(button);\n",
       "    }\n",
       "\n",
       "    // Add the status bar.\n",
       "    var status_bar = $('<span class=\"mpl-message\" style=\"text-align:right; float: right;\"/>');\n",
       "    nav_element.append(status_bar);\n",
       "    this.message = status_bar[0];\n",
       "\n",
       "    // Add the close button to the window.\n",
       "    var buttongrp = $('<div class=\"btn-group inline pull-right\"></div>');\n",
       "    var button = $('<button class=\"btn btn-mini btn-primary\" href=\"#\" title=\"Stop Interaction\"><i class=\"fa fa-power-off icon-remove icon-large\"></i></button>');\n",
       "    button.click(function (evt) { fig.handle_close(fig, {}); } );\n",
       "    button.mouseover('Stop Interaction', toolbar_mouse_event);\n",
       "    buttongrp.append(button);\n",
       "    var titlebar = this.root.find($('.ui-dialog-titlebar'));\n",
       "    titlebar.prepend(buttongrp);\n",
       "}\n",
       "\n",
       "mpl.figure.prototype._root_extra_style = function(el){\n",
       "    var fig = this\n",
       "    el.on(\"remove\", function(){\n",
       "\tfig.close_ws(fig, {});\n",
       "    });\n",
       "}\n",
       "\n",
       "mpl.figure.prototype._canvas_extra_style = function(el){\n",
       "    // this is important to make the div 'focusable\n",
       "    el.attr('tabindex', 0)\n",
       "    // reach out to IPython and tell the keyboard manager to turn it's self\n",
       "    // off when our div gets focus\n",
       "\n",
       "    // location in version 3\n",
       "    if (IPython.notebook.keyboard_manager) {\n",
       "        IPython.notebook.keyboard_manager.register_events(el);\n",
       "    }\n",
       "    else {\n",
       "        // location in version 2\n",
       "        IPython.keyboard_manager.register_events(el);\n",
       "    }\n",
       "\n",
       "}\n",
       "\n",
       "mpl.figure.prototype._key_event_extra = function(event, name) {\n",
       "    var manager = IPython.notebook.keyboard_manager;\n",
       "    if (!manager)\n",
       "        manager = IPython.keyboard_manager;\n",
       "\n",
       "    // Check for shift+enter\n",
       "    if (event.shiftKey && event.which == 13) {\n",
       "        this.canvas_div.blur();\n",
       "        // select the cell after this one\n",
       "        var index = IPython.notebook.find_cell_index(this.cell_info[0]);\n",
       "        IPython.notebook.select(index + 1);\n",
       "    }\n",
       "}\n",
       "\n",
       "mpl.figure.prototype.handle_save = function(fig, msg) {\n",
       "    fig.ondownload(fig, null);\n",
       "}\n",
       "\n",
       "\n",
       "mpl.find_output_cell = function(html_output) {\n",
       "    // Return the cell and output element which can be found *uniquely* in the notebook.\n",
       "    // Note - this is a bit hacky, but it is done because the \"notebook_saving.Notebook\"\n",
       "    // IPython event is triggered only after the cells have been serialised, which for\n",
       "    // our purposes (turning an active figure into a static one), is too late.\n",
       "    var cells = IPython.notebook.get_cells();\n",
       "    var ncells = cells.length;\n",
       "    for (var i=0; i<ncells; i++) {\n",
       "        var cell = cells[i];\n",
       "        if (cell.cell_type === 'code'){\n",
       "            for (var j=0; j<cell.output_area.outputs.length; j++) {\n",
       "                var data = cell.output_area.outputs[j];\n",
       "                if (data.data) {\n",
       "                    // IPython >= 3 moved mimebundle to data attribute of output\n",
       "                    data = data.data;\n",
       "                }\n",
       "                if (data['text/html'] == html_output) {\n",
       "                    return [cell, data, j];\n",
       "                }\n",
       "            }\n",
       "        }\n",
       "    }\n",
       "}\n",
       "\n",
       "// Register the function which deals with the matplotlib target/channel.\n",
       "// The kernel may be null if the page has been refreshed.\n",
       "if (IPython.notebook.kernel != null) {\n",
       "    IPython.notebook.kernel.comm_manager.register_target('matplotlib', mpl.mpl_figure_comm);\n",
       "}\n"
      ],
      "text/plain": [
       "<IPython.core.display.Javascript object>"
      ]
     },
     "metadata": {},
     "output_type": "display_data"
    },
    {
     "data": {
      "text/html": [
       "<img src=\"data:image/png;base64,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\" width=\"800\">"
      ],
      "text/plain": [
       "<IPython.core.display.HTML object>"
      ]
     },
     "metadata": {},
     "output_type": "display_data"
    },
    {
     "data": {
      "application/javascript": [
       "/* Put everything inside the global mpl namespace */\n",
       "window.mpl = {};\n",
       "\n",
       "\n",
       "mpl.get_websocket_type = function() {\n",
       "    if (typeof(WebSocket) !== 'undefined') {\n",
       "        return WebSocket;\n",
       "    } else if (typeof(MozWebSocket) !== 'undefined') {\n",
       "        return MozWebSocket;\n",
       "    } else {\n",
       "        alert('Your browser does not have WebSocket support.' +\n",
       "              'Please try Chrome, Safari or Firefox ≥ 6. ' +\n",
       "              'Firefox 4 and 5 are also supported but you ' +\n",
       "              'have to enable WebSockets in about:config.');\n",
       "    };\n",
       "}\n",
       "\n",
       "mpl.figure = function(figure_id, websocket, ondownload, parent_element) {\n",
       "    this.id = figure_id;\n",
       "\n",
       "    this.ws = websocket;\n",
       "\n",
       "    this.supports_binary = (this.ws.binaryType != undefined);\n",
       "\n",
       "    if (!this.supports_binary) {\n",
       "        var warnings = document.getElementById(\"mpl-warnings\");\n",
       "        if (warnings) {\n",
       "            warnings.style.display = 'block';\n",
       "            warnings.textContent = (\n",
       "                \"This browser does not support binary websocket messages. \" +\n",
       "                    \"Performance may be slow.\");\n",
       "        }\n",
       "    }\n",
       "\n",
       "    this.imageObj = new Image();\n",
       "\n",
       "    this.context = undefined;\n",
       "    this.message = undefined;\n",
       "    this.canvas = undefined;\n",
       "    this.rubberband_canvas = undefined;\n",
       "    this.rubberband_context = undefined;\n",
       "    this.format_dropdown = undefined;\n",
       "\n",
       "    this.image_mode = 'full';\n",
       "\n",
       "    this.root = $('<div/>');\n",
       "    this._root_extra_style(this.root)\n",
       "    this.root.attr('style', 'display: inline-block');\n",
       "\n",
       "    $(parent_element).append(this.root);\n",
       "\n",
       "    this._init_header(this);\n",
       "    this._init_canvas(this);\n",
       "    this._init_toolbar(this);\n",
       "\n",
       "    var fig = this;\n",
       "\n",
       "    this.waiting = false;\n",
       "\n",
       "    this.ws.onopen =  function () {\n",
       "            fig.send_message(\"supports_binary\", {value: fig.supports_binary});\n",
       "            fig.send_message(\"send_image_mode\", {});\n",
       "            if (mpl.ratio != 1) {\n",
       "                fig.send_message(\"set_dpi_ratio\", {'dpi_ratio': mpl.ratio});\n",
       "            }\n",
       "            fig.send_message(\"refresh\", {});\n",
       "        }\n",
       "\n",
       "    this.imageObj.onload = function() {\n",
       "            if (fig.image_mode == 'full') {\n",
       "                // Full images could contain transparency (where diff images\n",
       "                // almost always do), so we need to clear the canvas so that\n",
       "                // there is no ghosting.\n",
       "                fig.context.clearRect(0, 0, fig.canvas.width, fig.canvas.height);\n",
       "            }\n",
       "            fig.context.drawImage(fig.imageObj, 0, 0);\n",
       "        };\n",
       "\n",
       "    this.imageObj.onunload = function() {\n",
       "        this.ws.close();\n",
       "    }\n",
       "\n",
       "    this.ws.onmessage = this._make_on_message_function(this);\n",
       "\n",
       "    this.ondownload = ondownload;\n",
       "}\n",
       "\n",
       "mpl.figure.prototype._init_header = function() {\n",
       "    var titlebar = $(\n",
       "        '<div class=\"ui-dialog-titlebar ui-widget-header ui-corner-all ' +\n",
       "        'ui-helper-clearfix\"/>');\n",
       "    var titletext = $(\n",
       "        '<div class=\"ui-dialog-title\" style=\"width: 100%; ' +\n",
       "        'text-align: center; padding: 3px;\"/>');\n",
       "    titlebar.append(titletext)\n",
       "    this.root.append(titlebar);\n",
       "    this.header = titletext[0];\n",
       "}\n",
       "\n",
       "\n",
       "\n",
       "mpl.figure.prototype._canvas_extra_style = function(canvas_div) {\n",
       "\n",
       "}\n",
       "\n",
       "\n",
       "mpl.figure.prototype._root_extra_style = function(canvas_div) {\n",
       "\n",
       "}\n",
       "\n",
       "mpl.figure.prototype._init_canvas = function() {\n",
       "    var fig = this;\n",
       "\n",
       "    var canvas_div = $('<div/>');\n",
       "\n",
       "    canvas_div.attr('style', 'position: relative; clear: both; outline: 0');\n",
       "\n",
       "    function canvas_keyboard_event(event) {\n",
       "        return fig.key_event(event, event['data']);\n",
       "    }\n",
       "\n",
       "    canvas_div.keydown('key_press', canvas_keyboard_event);\n",
       "    canvas_div.keyup('key_release', canvas_keyboard_event);\n",
       "    this.canvas_div = canvas_div\n",
       "    this._canvas_extra_style(canvas_div)\n",
       "    this.root.append(canvas_div);\n",
       "\n",
       "    var canvas = $('<canvas/>');\n",
       "    canvas.addClass('mpl-canvas');\n",
       "    canvas.attr('style', \"left: 0; top: 0; z-index: 0; outline: 0\")\n",
       "\n",
       "    this.canvas = canvas[0];\n",
       "    this.context = canvas[0].getContext(\"2d\");\n",
       "\n",
       "    var backingStore = this.context.backingStorePixelRatio ||\n",
       "\tthis.context.webkitBackingStorePixelRatio ||\n",
       "\tthis.context.mozBackingStorePixelRatio ||\n",
       "\tthis.context.msBackingStorePixelRatio ||\n",
       "\tthis.context.oBackingStorePixelRatio ||\n",
       "\tthis.context.backingStorePixelRatio || 1;\n",
       "\n",
       "    mpl.ratio = (window.devicePixelRatio || 1) / backingStore;\n",
       "\n",
       "    var rubberband = $('<canvas/>');\n",
       "    rubberband.attr('style', \"position: absolute; left: 0; top: 0; z-index: 1;\")\n",
       "\n",
       "    var pass_mouse_events = true;\n",
       "\n",
       "    canvas_div.resizable({\n",
       "        start: function(event, ui) {\n",
       "            pass_mouse_events = false;\n",
       "        },\n",
       "        resize: function(event, ui) {\n",
       "            fig.request_resize(ui.size.width, ui.size.height);\n",
       "        },\n",
       "        stop: function(event, ui) {\n",
       "            pass_mouse_events = true;\n",
       "            fig.request_resize(ui.size.width, ui.size.height);\n",
       "        },\n",
       "    });\n",
       "\n",
       "    function mouse_event_fn(event) {\n",
       "        if (pass_mouse_events)\n",
       "            return fig.mouse_event(event, event['data']);\n",
       "    }\n",
       "\n",
       "    rubberband.mousedown('button_press', mouse_event_fn);\n",
       "    rubberband.mouseup('button_release', mouse_event_fn);\n",
       "    // Throttle sequential mouse events to 1 every 20ms.\n",
       "    rubberband.mousemove('motion_notify', mouse_event_fn);\n",
       "\n",
       "    rubberband.mouseenter('figure_enter', mouse_event_fn);\n",
       "    rubberband.mouseleave('figure_leave', mouse_event_fn);\n",
       "\n",
       "    canvas_div.on(\"wheel\", function (event) {\n",
       "        event = event.originalEvent;\n",
       "        event['data'] = 'scroll'\n",
       "        if (event.deltaY < 0) {\n",
       "            event.step = 1;\n",
       "        } else {\n",
       "            event.step = -1;\n",
       "        }\n",
       "        mouse_event_fn(event);\n",
       "    });\n",
       "\n",
       "    canvas_div.append(canvas);\n",
       "    canvas_div.append(rubberband);\n",
       "\n",
       "    this.rubberband = rubberband;\n",
       "    this.rubberband_canvas = rubberband[0];\n",
       "    this.rubberband_context = rubberband[0].getContext(\"2d\");\n",
       "    this.rubberband_context.strokeStyle = \"#000000\";\n",
       "\n",
       "    this._resize_canvas = function(width, height) {\n",
       "        // Keep the size of the canvas, canvas container, and rubber band\n",
       "        // canvas in synch.\n",
       "        canvas_div.css('width', width)\n",
       "        canvas_div.css('height', height)\n",
       "\n",
       "        canvas.attr('width', width * mpl.ratio);\n",
       "        canvas.attr('height', height * mpl.ratio);\n",
       "        canvas.attr('style', 'width: ' + width + 'px; height: ' + height + 'px;');\n",
       "\n",
       "        rubberband.attr('width', width);\n",
       "        rubberband.attr('height', height);\n",
       "    }\n",
       "\n",
       "    // Set the figure to an initial 600x600px, this will subsequently be updated\n",
       "    // upon first draw.\n",
       "    this._resize_canvas(600, 600);\n",
       "\n",
       "    // Disable right mouse context menu.\n",
       "    $(this.rubberband_canvas).bind(\"contextmenu\",function(e){\n",
       "        return false;\n",
       "    });\n",
       "\n",
       "    function set_focus () {\n",
       "        canvas.focus();\n",
       "        canvas_div.focus();\n",
       "    }\n",
       "\n",
       "    window.setTimeout(set_focus, 100);\n",
       "}\n",
       "\n",
       "mpl.figure.prototype._init_toolbar = function() {\n",
       "    var fig = this;\n",
       "\n",
       "    var nav_element = $('<div/>')\n",
       "    nav_element.attr('style', 'width: 100%');\n",
       "    this.root.append(nav_element);\n",
       "\n",
       "    // Define a callback function for later on.\n",
       "    function toolbar_event(event) {\n",
       "        return fig.toolbar_button_onclick(event['data']);\n",
       "    }\n",
       "    function toolbar_mouse_event(event) {\n",
       "        return fig.toolbar_button_onmouseover(event['data']);\n",
       "    }\n",
       "\n",
       "    for(var toolbar_ind in mpl.toolbar_items) {\n",
       "        var name = mpl.toolbar_items[toolbar_ind][0];\n",
       "        var tooltip = mpl.toolbar_items[toolbar_ind][1];\n",
       "        var image = mpl.toolbar_items[toolbar_ind][2];\n",
       "        var method_name = mpl.toolbar_items[toolbar_ind][3];\n",
       "\n",
       "        if (!name) {\n",
       "            // put a spacer in here.\n",
       "            continue;\n",
       "        }\n",
       "        var button = $('<button/>');\n",
       "        button.addClass('ui-button ui-widget ui-state-default ui-corner-all ' +\n",
       "                        'ui-button-icon-only');\n",
       "        button.attr('role', 'button');\n",
       "        button.attr('aria-disabled', 'false');\n",
       "        button.click(method_name, toolbar_event);\n",
       "        button.mouseover(tooltip, toolbar_mouse_event);\n",
       "\n",
       "        var icon_img = $('<span/>');\n",
       "        icon_img.addClass('ui-button-icon-primary ui-icon');\n",
       "        icon_img.addClass(image);\n",
       "        icon_img.addClass('ui-corner-all');\n",
       "\n",
       "        var tooltip_span = $('<span/>');\n",
       "        tooltip_span.addClass('ui-button-text');\n",
       "        tooltip_span.html(tooltip);\n",
       "\n",
       "        button.append(icon_img);\n",
       "        button.append(tooltip_span);\n",
       "\n",
       "        nav_element.append(button);\n",
       "    }\n",
       "\n",
       "    var fmt_picker_span = $('<span/>');\n",
       "\n",
       "    var fmt_picker = $('<select/>');\n",
       "    fmt_picker.addClass('mpl-toolbar-option ui-widget ui-widget-content');\n",
       "    fmt_picker_span.append(fmt_picker);\n",
       "    nav_element.append(fmt_picker_span);\n",
       "    this.format_dropdown = fmt_picker[0];\n",
       "\n",
       "    for (var ind in mpl.extensions) {\n",
       "        var fmt = mpl.extensions[ind];\n",
       "        var option = $(\n",
       "            '<option/>', {selected: fmt === mpl.default_extension}).html(fmt);\n",
       "        fmt_picker.append(option)\n",
       "    }\n",
       "\n",
       "    // Add hover states to the ui-buttons\n",
       "    $( \".ui-button\" ).hover(\n",
       "        function() { $(this).addClass(\"ui-state-hover\");},\n",
       "        function() { $(this).removeClass(\"ui-state-hover\");}\n",
       "    );\n",
       "\n",
       "    var status_bar = $('<span class=\"mpl-message\"/>');\n",
       "    nav_element.append(status_bar);\n",
       "    this.message = status_bar[0];\n",
       "}\n",
       "\n",
       "mpl.figure.prototype.request_resize = function(x_pixels, y_pixels) {\n",
       "    // Request matplotlib to resize the figure. Matplotlib will then trigger a resize in the client,\n",
       "    // which will in turn request a refresh of the image.\n",
       "    this.send_message('resize', {'width': x_pixels, 'height': y_pixels});\n",
       "}\n",
       "\n",
       "mpl.figure.prototype.send_message = function(type, properties) {\n",
       "    properties['type'] = type;\n",
       "    properties['figure_id'] = this.id;\n",
       "    this.ws.send(JSON.stringify(properties));\n",
       "}\n",
       "\n",
       "mpl.figure.prototype.send_draw_message = function() {\n",
       "    if (!this.waiting) {\n",
       "        this.waiting = true;\n",
       "        this.ws.send(JSON.stringify({type: \"draw\", figure_id: this.id}));\n",
       "    }\n",
       "}\n",
       "\n",
       "\n",
       "mpl.figure.prototype.handle_save = function(fig, msg) {\n",
       "    var format_dropdown = fig.format_dropdown;\n",
       "    var format = format_dropdown.options[format_dropdown.selectedIndex].value;\n",
       "    fig.ondownload(fig, format);\n",
       "}\n",
       "\n",
       "\n",
       "mpl.figure.prototype.handle_resize = function(fig, msg) {\n",
       "    var size = msg['size'];\n",
       "    if (size[0] != fig.canvas.width || size[1] != fig.canvas.height) {\n",
       "        fig._resize_canvas(size[0], size[1]);\n",
       "        fig.send_message(\"refresh\", {});\n",
       "    };\n",
       "}\n",
       "\n",
       "mpl.figure.prototype.handle_rubberband = function(fig, msg) {\n",
       "    var x0 = msg['x0'] / mpl.ratio;\n",
       "    var y0 = (fig.canvas.height - msg['y0']) / mpl.ratio;\n",
       "    var x1 = msg['x1'] / mpl.ratio;\n",
       "    var y1 = (fig.canvas.height - msg['y1']) / mpl.ratio;\n",
       "    x0 = Math.floor(x0) + 0.5;\n",
       "    y0 = Math.floor(y0) + 0.5;\n",
       "    x1 = Math.floor(x1) + 0.5;\n",
       "    y1 = Math.floor(y1) + 0.5;\n",
       "    var min_x = Math.min(x0, x1);\n",
       "    var min_y = Math.min(y0, y1);\n",
       "    var width = Math.abs(x1 - x0);\n",
       "    var height = Math.abs(y1 - y0);\n",
       "\n",
       "    fig.rubberband_context.clearRect(\n",
       "        0, 0, fig.canvas.width, fig.canvas.height);\n",
       "\n",
       "    fig.rubberband_context.strokeRect(min_x, min_y, width, height);\n",
       "}\n",
       "\n",
       "mpl.figure.prototype.handle_figure_label = function(fig, msg) {\n",
       "    // Updates the figure title.\n",
       "    fig.header.textContent = msg['label'];\n",
       "}\n",
       "\n",
       "mpl.figure.prototype.handle_cursor = function(fig, msg) {\n",
       "    var cursor = msg['cursor'];\n",
       "    switch(cursor)\n",
       "    {\n",
       "    case 0:\n",
       "        cursor = 'pointer';\n",
       "        break;\n",
       "    case 1:\n",
       "        cursor = 'default';\n",
       "        break;\n",
       "    case 2:\n",
       "        cursor = 'crosshair';\n",
       "        break;\n",
       "    case 3:\n",
       "        cursor = 'move';\n",
       "        break;\n",
       "    }\n",
       "    fig.rubberband_canvas.style.cursor = cursor;\n",
       "}\n",
       "\n",
       "mpl.figure.prototype.handle_message = function(fig, msg) {\n",
       "    fig.message.textContent = msg['message'];\n",
       "}\n",
       "\n",
       "mpl.figure.prototype.handle_draw = function(fig, msg) {\n",
       "    // Request the server to send over a new figure.\n",
       "    fig.send_draw_message();\n",
       "}\n",
       "\n",
       "mpl.figure.prototype.handle_image_mode = function(fig, msg) {\n",
       "    fig.image_mode = msg['mode'];\n",
       "}\n",
       "\n",
       "mpl.figure.prototype.updated_canvas_event = function() {\n",
       "    // Called whenever the canvas gets updated.\n",
       "    this.send_message(\"ack\", {});\n",
       "}\n",
       "\n",
       "// A function to construct a web socket function for onmessage handling.\n",
       "// Called in the figure constructor.\n",
       "mpl.figure.prototype._make_on_message_function = function(fig) {\n",
       "    return function socket_on_message(evt) {\n",
       "        if (evt.data instanceof Blob) {\n",
       "            /* FIXME: We get \"Resource interpreted as Image but\n",
       "             * transferred with MIME type text/plain:\" errors on\n",
       "             * Chrome.  But how to set the MIME type?  It doesn't seem\n",
       "             * to be part of the websocket stream */\n",
       "            evt.data.type = \"image/png\";\n",
       "\n",
       "            /* Free the memory for the previous frames */\n",
       "            if (fig.imageObj.src) {\n",
       "                (window.URL || window.webkitURL).revokeObjectURL(\n",
       "                    fig.imageObj.src);\n",
       "            }\n",
       "\n",
       "            fig.imageObj.src = (window.URL || window.webkitURL).createObjectURL(\n",
       "                evt.data);\n",
       "            fig.updated_canvas_event();\n",
       "            fig.waiting = false;\n",
       "            return;\n",
       "        }\n",
       "        else if (typeof evt.data === 'string' && evt.data.slice(0, 21) == \"data:image/png;base64\") {\n",
       "            fig.imageObj.src = evt.data;\n",
       "            fig.updated_canvas_event();\n",
       "            fig.waiting = false;\n",
       "            return;\n",
       "        }\n",
       "\n",
       "        var msg = JSON.parse(evt.data);\n",
       "        var msg_type = msg['type'];\n",
       "\n",
       "        // Call the  \"handle_{type}\" callback, which takes\n",
       "        // the figure and JSON message as its only arguments.\n",
       "        try {\n",
       "            var callback = fig[\"handle_\" + msg_type];\n",
       "        } catch (e) {\n",
       "            console.log(\"No handler for the '\" + msg_type + \"' message type: \", msg);\n",
       "            return;\n",
       "        }\n",
       "\n",
       "        if (callback) {\n",
       "            try {\n",
       "                // console.log(\"Handling '\" + msg_type + \"' message: \", msg);\n",
       "                callback(fig, msg);\n",
       "            } catch (e) {\n",
       "                console.log(\"Exception inside the 'handler_\" + msg_type + \"' callback:\", e, e.stack, msg);\n",
       "            }\n",
       "        }\n",
       "    };\n",
       "}\n",
       "\n",
       "// from http://stackoverflow.com/questions/1114465/getting-mouse-location-in-canvas\n",
       "mpl.findpos = function(e) {\n",
       "    //this section is from http://www.quirksmode.org/js/events_properties.html\n",
       "    var targ;\n",
       "    if (!e)\n",
       "        e = window.event;\n",
       "    if (e.target)\n",
       "        targ = e.target;\n",
       "    else if (e.srcElement)\n",
       "        targ = e.srcElement;\n",
       "    if (targ.nodeType == 3) // defeat Safari bug\n",
       "        targ = targ.parentNode;\n",
       "\n",
       "    // jQuery normalizes the pageX and pageY\n",
       "    // pageX,Y are the mouse positions relative to the document\n",
       "    // offset() returns the position of the element relative to the document\n",
       "    var x = e.pageX - $(targ).offset().left;\n",
       "    var y = e.pageY - $(targ).offset().top;\n",
       "\n",
       "    return {\"x\": x, \"y\": y};\n",
       "};\n",
       "\n",
       "/*\n",
       " * return a copy of an object with only non-object keys\n",
       " * we need this to avoid circular references\n",
       " * http://stackoverflow.com/a/24161582/3208463\n",
       " */\n",
       "function simpleKeys (original) {\n",
       "  return Object.keys(original).reduce(function (obj, key) {\n",
       "    if (typeof original[key] !== 'object')\n",
       "        obj[key] = original[key]\n",
       "    return obj;\n",
       "  }, {});\n",
       "}\n",
       "\n",
       "mpl.figure.prototype.mouse_event = function(event, name) {\n",
       "    var canvas_pos = mpl.findpos(event)\n",
       "\n",
       "    if (name === 'button_press')\n",
       "    {\n",
       "        this.canvas.focus();\n",
       "        this.canvas_div.focus();\n",
       "    }\n",
       "\n",
       "    var x = canvas_pos.x * mpl.ratio;\n",
       "    var y = canvas_pos.y * mpl.ratio;\n",
       "\n",
       "    this.send_message(name, {x: x, y: y, button: event.button,\n",
       "                             step: event.step,\n",
       "                             guiEvent: simpleKeys(event)});\n",
       "\n",
       "    /* This prevents the web browser from automatically changing to\n",
       "     * the text insertion cursor when the button is pressed.  We want\n",
       "     * to control all of the cursor setting manually through the\n",
       "     * 'cursor' event from matplotlib */\n",
       "    event.preventDefault();\n",
       "    return false;\n",
       "}\n",
       "\n",
       "mpl.figure.prototype._key_event_extra = function(event, name) {\n",
       "    // Handle any extra behaviour associated with a key event\n",
       "}\n",
       "\n",
       "mpl.figure.prototype.key_event = function(event, name) {\n",
       "\n",
       "    // Prevent repeat events\n",
       "    if (name == 'key_press')\n",
       "    {\n",
       "        if (event.which === this._key)\n",
       "            return;\n",
       "        else\n",
       "            this._key = event.which;\n",
       "    }\n",
       "    if (name == 'key_release')\n",
       "        this._key = null;\n",
       "\n",
       "    var value = '';\n",
       "    if (event.ctrlKey && event.which != 17)\n",
       "        value += \"ctrl+\";\n",
       "    if (event.altKey && event.which != 18)\n",
       "        value += \"alt+\";\n",
       "    if (event.shiftKey && event.which != 16)\n",
       "        value += \"shift+\";\n",
       "\n",
       "    value += 'k';\n",
       "    value += event.which.toString();\n",
       "\n",
       "    this._key_event_extra(event, name);\n",
       "\n",
       "    this.send_message(name, {key: value,\n",
       "                             guiEvent: simpleKeys(event)});\n",
       "    return false;\n",
       "}\n",
       "\n",
       "mpl.figure.prototype.toolbar_button_onclick = function(name) {\n",
       "    if (name == 'download') {\n",
       "        this.handle_save(this, null);\n",
       "    } else {\n",
       "        this.send_message(\"toolbar_button\", {name: name});\n",
       "    }\n",
       "};\n",
       "\n",
       "mpl.figure.prototype.toolbar_button_onmouseover = function(tooltip) {\n",
       "    this.message.textContent = tooltip;\n",
       "};\n",
       "mpl.toolbar_items = [[\"Home\", \"Reset original view\", \"fa fa-home icon-home\", \"home\"], [\"Back\", \"Back to  previous view\", \"fa fa-arrow-left icon-arrow-left\", \"back\"], [\"Forward\", \"Forward to next view\", \"fa fa-arrow-right icon-arrow-right\", \"forward\"], [\"\", \"\", \"\", \"\"], [\"Pan\", \"Pan axes with left mouse, zoom with right\", \"fa fa-arrows icon-move\", \"pan\"], [\"Zoom\", \"Zoom to rectangle\", \"fa fa-square-o icon-check-empty\", \"zoom\"], [\"\", \"\", \"\", \"\"], [\"Download\", \"Download plot\", \"fa fa-floppy-o icon-save\", \"download\"]];\n",
       "\n",
       "mpl.extensions = [\"eps\", \"jpeg\", \"pdf\", \"png\", \"ps\", \"raw\", \"svg\", \"tif\"];\n",
       "\n",
       "mpl.default_extension = \"png\";var comm_websocket_adapter = function(comm) {\n",
       "    // Create a \"websocket\"-like object which calls the given IPython comm\n",
       "    // object with the appropriate methods. Currently this is a non binary\n",
       "    // socket, so there is still some room for performance tuning.\n",
       "    var ws = {};\n",
       "\n",
       "    ws.close = function() {\n",
       "        comm.close()\n",
       "    };\n",
       "    ws.send = function(m) {\n",
       "        //console.log('sending', m);\n",
       "        comm.send(m);\n",
       "    };\n",
       "    // Register the callback with on_msg.\n",
       "    comm.on_msg(function(msg) {\n",
       "        //console.log('receiving', msg['content']['data'], msg);\n",
       "        // Pass the mpl event to the overriden (by mpl) onmessage function.\n",
       "        ws.onmessage(msg['content']['data'])\n",
       "    });\n",
       "    return ws;\n",
       "}\n",
       "\n",
       "mpl.mpl_figure_comm = function(comm, msg) {\n",
       "    // This is the function which gets called when the mpl process\n",
       "    // starts-up an IPython Comm through the \"matplotlib\" channel.\n",
       "\n",
       "    var id = msg.content.data.id;\n",
       "    // Get hold of the div created by the display call when the Comm\n",
       "    // socket was opened in Python.\n",
       "    var element = $(\"#\" + id);\n",
       "    var ws_proxy = comm_websocket_adapter(comm)\n",
       "\n",
       "    function ondownload(figure, format) {\n",
       "        window.open(figure.imageObj.src);\n",
       "    }\n",
       "\n",
       "    var fig = new mpl.figure(id, ws_proxy,\n",
       "                           ondownload,\n",
       "                           element.get(0));\n",
       "\n",
       "    // Call onopen now - mpl needs it, as it is assuming we've passed it a real\n",
       "    // web socket which is closed, not our websocket->open comm proxy.\n",
       "    ws_proxy.onopen();\n",
       "\n",
       "    fig.parent_element = element.get(0);\n",
       "    fig.cell_info = mpl.find_output_cell(\"<div id='\" + id + \"'></div>\");\n",
       "    if (!fig.cell_info) {\n",
       "        console.error(\"Failed to find cell for figure\", id, fig);\n",
       "        return;\n",
       "    }\n",
       "\n",
       "    var output_index = fig.cell_info[2]\n",
       "    var cell = fig.cell_info[0];\n",
       "\n",
       "};\n",
       "\n",
       "mpl.figure.prototype.handle_close = function(fig, msg) {\n",
       "    var width = fig.canvas.width/mpl.ratio\n",
       "    fig.root.unbind('remove')\n",
       "\n",
       "    // Update the output cell to use the data from the current canvas.\n",
       "    fig.push_to_output();\n",
       "    var dataURL = fig.canvas.toDataURL();\n",
       "    // Re-enable the keyboard manager in IPython - without this line, in FF,\n",
       "    // the notebook keyboard shortcuts fail.\n",
       "    IPython.keyboard_manager.enable()\n",
       "    $(fig.parent_element).html('<img src=\"' + dataURL + '\" width=\"' + width + '\">');\n",
       "    fig.close_ws(fig, msg);\n",
       "}\n",
       "\n",
       "mpl.figure.prototype.close_ws = function(fig, msg){\n",
       "    fig.send_message('closing', msg);\n",
       "    // fig.ws.close()\n",
       "}\n",
       "\n",
       "mpl.figure.prototype.push_to_output = function(remove_interactive) {\n",
       "    // Turn the data on the canvas into data in the output cell.\n",
       "    var width = this.canvas.width/mpl.ratio\n",
       "    var dataURL = this.canvas.toDataURL();\n",
       "    this.cell_info[1]['text/html'] = '<img src=\"' + dataURL + '\" width=\"' + width + '\">';\n",
       "}\n",
       "\n",
       "mpl.figure.prototype.updated_canvas_event = function() {\n",
       "    // Tell IPython that the notebook contents must change.\n",
       "    IPython.notebook.set_dirty(true);\n",
       "    this.send_message(\"ack\", {});\n",
       "    var fig = this;\n",
       "    // Wait a second, then push the new image to the DOM so\n",
       "    // that it is saved nicely (might be nice to debounce this).\n",
       "    setTimeout(function () { fig.push_to_output() }, 1000);\n",
       "}\n",
       "\n",
       "mpl.figure.prototype._init_toolbar = function() {\n",
       "    var fig = this;\n",
       "\n",
       "    var nav_element = $('<div/>')\n",
       "    nav_element.attr('style', 'width: 100%');\n",
       "    this.root.append(nav_element);\n",
       "\n",
       "    // Define a callback function for later on.\n",
       "    function toolbar_event(event) {\n",
       "        return fig.toolbar_button_onclick(event['data']);\n",
       "    }\n",
       "    function toolbar_mouse_event(event) {\n",
       "        return fig.toolbar_button_onmouseover(event['data']);\n",
       "    }\n",
       "\n",
       "    for(var toolbar_ind in mpl.toolbar_items){\n",
       "        var name = mpl.toolbar_items[toolbar_ind][0];\n",
       "        var tooltip = mpl.toolbar_items[toolbar_ind][1];\n",
       "        var image = mpl.toolbar_items[toolbar_ind][2];\n",
       "        var method_name = mpl.toolbar_items[toolbar_ind][3];\n",
       "\n",
       "        if (!name) { continue; };\n",
       "\n",
       "        var button = $('<button class=\"btn btn-default\" href=\"#\" title=\"' + name + '\"><i class=\"fa ' + image + ' fa-lg\"></i></button>');\n",
       "        button.click(method_name, toolbar_event);\n",
       "        button.mouseover(tooltip, toolbar_mouse_event);\n",
       "        nav_element.append(button);\n",
       "    }\n",
       "\n",
       "    // Add the status bar.\n",
       "    var status_bar = $('<span class=\"mpl-message\" style=\"text-align:right; float: right;\"/>');\n",
       "    nav_element.append(status_bar);\n",
       "    this.message = status_bar[0];\n",
       "\n",
       "    // Add the close button to the window.\n",
       "    var buttongrp = $('<div class=\"btn-group inline pull-right\"></div>');\n",
       "    var button = $('<button class=\"btn btn-mini btn-primary\" href=\"#\" title=\"Stop Interaction\"><i class=\"fa fa-power-off icon-remove icon-large\"></i></button>');\n",
       "    button.click(function (evt) { fig.handle_close(fig, {}); } );\n",
       "    button.mouseover('Stop Interaction', toolbar_mouse_event);\n",
       "    buttongrp.append(button);\n",
       "    var titlebar = this.root.find($('.ui-dialog-titlebar'));\n",
       "    titlebar.prepend(buttongrp);\n",
       "}\n",
       "\n",
       "mpl.figure.prototype._root_extra_style = function(el){\n",
       "    var fig = this\n",
       "    el.on(\"remove\", function(){\n",
       "\tfig.close_ws(fig, {});\n",
       "    });\n",
       "}\n",
       "\n",
       "mpl.figure.prototype._canvas_extra_style = function(el){\n",
       "    // this is important to make the div 'focusable\n",
       "    el.attr('tabindex', 0)\n",
       "    // reach out to IPython and tell the keyboard manager to turn it's self\n",
       "    // off when our div gets focus\n",
       "\n",
       "    // location in version 3\n",
       "    if (IPython.notebook.keyboard_manager) {\n",
       "        IPython.notebook.keyboard_manager.register_events(el);\n",
       "    }\n",
       "    else {\n",
       "        // location in version 2\n",
       "        IPython.keyboard_manager.register_events(el);\n",
       "    }\n",
       "\n",
       "}\n",
       "\n",
       "mpl.figure.prototype._key_event_extra = function(event, name) {\n",
       "    var manager = IPython.notebook.keyboard_manager;\n",
       "    if (!manager)\n",
       "        manager = IPython.keyboard_manager;\n",
       "\n",
       "    // Check for shift+enter\n",
       "    if (event.shiftKey && event.which == 13) {\n",
       "        this.canvas_div.blur();\n",
       "        // select the cell after this one\n",
       "        var index = IPython.notebook.find_cell_index(this.cell_info[0]);\n",
       "        IPython.notebook.select(index + 1);\n",
       "    }\n",
       "}\n",
       "\n",
       "mpl.figure.prototype.handle_save = function(fig, msg) {\n",
       "    fig.ondownload(fig, null);\n",
       "}\n",
       "\n",
       "\n",
       "mpl.find_output_cell = function(html_output) {\n",
       "    // Return the cell and output element which can be found *uniquely* in the notebook.\n",
       "    // Note - this is a bit hacky, but it is done because the \"notebook_saving.Notebook\"\n",
       "    // IPython event is triggered only after the cells have been serialised, which for\n",
       "    // our purposes (turning an active figure into a static one), is too late.\n",
       "    var cells = IPython.notebook.get_cells();\n",
       "    var ncells = cells.length;\n",
       "    for (var i=0; i<ncells; i++) {\n",
       "        var cell = cells[i];\n",
       "        if (cell.cell_type === 'code'){\n",
       "            for (var j=0; j<cell.output_area.outputs.length; j++) {\n",
       "                var data = cell.output_area.outputs[j];\n",
       "                if (data.data) {\n",
       "                    // IPython >= 3 moved mimebundle to data attribute of output\n",
       "                    data = data.data;\n",
       "                }\n",
       "                if (data['text/html'] == html_output) {\n",
       "                    return [cell, data, j];\n",
       "                }\n",
       "            }\n",
       "        }\n",
       "    }\n",
       "}\n",
       "\n",
       "// Register the function which deals with the matplotlib target/channel.\n",
       "// The kernel may be null if the page has been refreshed.\n",
       "if (IPython.notebook.kernel != null) {\n",
       "    IPython.notebook.kernel.comm_manager.register_target('matplotlib', mpl.mpl_figure_comm);\n",
       "}\n"
      ],
      "text/plain": [
       "<IPython.core.display.Javascript object>"
      ]
     },
     "metadata": {},
     "output_type": "display_data"
    },
    {
     "data": {
      "text/html": [
       "<img src=\"data:image/png;base64,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\" width=\"800\">"
      ],
      "text/plain": [
       "<IPython.core.display.HTML object>"
      ]
     },
     "metadata": {},
     "output_type": "display_data"
    },
    {
     "name": "stdout",
     "output_type": "stream",
     "text": [
      "CPU times: user 21min 29s, sys: 1h 4min 22s, total: 1h 25min 51s\n",
      "Wall time: 9min 7s\n"
     ]
    }
   ],
   "source": [
    "%%time\n",
    "%run ./Pipeline_PCA_RANDOM_Forest_Copy1.ipynb\n",
    "# CPU times: user 16min 53s, sys: 1h 52s, total: 1h 17min 45s\n",
    "# Wall time: 6min 58s"
   ]
  },
  {
   "cell_type": "markdown",
   "metadata": {},
   "source": [
    "# Imshow specific images to understand non differentiation in PCA model"
   ]
  },
  {
   "cell_type": "raw",
   "metadata": {
    "collapsed": true
   },
   "source": [
    "%run ./track_images_from_PCA.ipynb"
   ]
  },
  {
   "cell_type": "raw",
   "metadata": {
    "collapsed": true
   },
   "source": [
    "ddf=indexing_DF_borders(Data_FRAMES, M, 25, 38)"
   ]
  },
  {
   "cell_type": "raw",
   "metadata": {
    "collapsed": true
   },
   "source": [
    "# save to file\n",
    "filename_DF_PCA =projectpath+'io/Output/DF_PCA.npy'"
   ]
  },
  {
   "cell_type": "raw",
   "metadata": {
    "collapsed": true
   },
   "source": [
    "np.save(filename_DF_PCA, ddf)"
   ]
  },
  {
   "cell_type": "raw",
   "metadata": {
    "collapsed": true
   },
   "source": [
    "DF_PCA=np.load(filename_DF_PCA)"
   ]
  },
  {
   "cell_type": "raw",
   "metadata": {
    "collapsed": true
   },
   "source": [
    "sns.reset_orig() "
   ]
  },
  {
   "cell_type": "raw",
   "metadata": {
    "collapsed": true
   },
   "source": [
    "%matplotlib notebook"
   ]
  },
  {
   "cell_type": "raw",
   "metadata": {},
   "source": [
    "Plot_Strange_Vol_per_Class(GRAY_IM_parallel, 2, DF_PCA)"
   ]
  },
  {
   "cell_type": "markdown",
   "metadata": {},
   "source": [
    "# process in order to display false predicted images"
   ]
  },
  {
   "cell_type": "code",
   "execution_count": null,
   "metadata": {
    "collapsed": true
   },
   "outputs": [],
   "source": [
    "(fail_img_pred_Neurons,fail_img_pred_Astrocytes,fail_img_pred_Background)=imf.Get_IMG_failed_prediction(yr,predictedVAL)"
   ]
  },
  {
   "cell_type": "code",
   "execution_count": null,
   "metadata": {
    "collapsed": true
   },
   "outputs": [],
   "source": [
    "sns.reset_orig() # sns.set()"
   ]
  },
  {
   "cell_type": "raw",
   "metadata": {
    "collapsed": true
   },
   "source": [
    "imf.Plot_Failed_IMG(GRAY_IM_parallel, fail_img_pred_Astrocytes)"
   ]
  },
  {
   "cell_type": "raw",
   "metadata": {
    "collapsed": true
   },
   "source": [
    "def Get_DF_failed_predicions(Data_frame, fail_img_prediction):\n",
    "    \" display the dataFrame corresponding to the tiles where the prediction has failed\"\n",
    "    newDF=pd.DataFrame(data=None, columns=Data_frame.columns)\n",
    "    for i in range(0, len(fail_img_prediction) ):\n",
    "        newDF = newDF.append(Data_frame.loc[Data_frame.indice==(fail_img_prediction[i])].copy())\n",
    "    return(newDF)"
   ]
  },
  {
   "cell_type": "raw",
   "metadata": {
    "collapsed": true
   },
   "source": [
    "Data_F_fail_Neurons=Get_DF_failed_predicions(Data_FRAMES, fail_img_pred_Neurons)"
   ]
  },
  {
   "cell_type": "raw",
   "metadata": {
    "collapsed": true
   },
   "source": [
    "Data_F_fail_Astrocytes=Get_DF_failed_predicions(Data_FRAMES, fail_img_pred_Astrocytes)"
   ]
  },
  {
   "cell_type": "markdown",
   "metadata": {
    "collapsed": true
   },
   "source": [
    "# test prediction sur  1 clone"
   ]
  },
  {
   "cell_type": "code",
   "execution_count": 136,
   "metadata": {
    "collapsed": true
   },
   "outputs": [],
   "source": [
    "import Get_coordinates as gC\n",
    "reload(gC);"
   ]
  },
  {
   "cell_type": "code",
   "execution_count": 137,
   "metadata": {
    "collapsed": true
   },
   "outputs": [],
   "source": [
    "conn = BlitzGateway('tbacoyannis','d33pl34rn1ng',port=4064,host='chinensis.polytechnique.fr')\n",
    "connected = conn.connect()\n",
    "\n",
    "image = conn.getObject(\"Image\", imageId)\n",
    "pixels = image.getPrimaryPixels() # get raw pixels information\n",
    "\n",
    "size_x=image.getSizeX()\n",
    "size_y=image.getSizeY()\n",
    "size_z = image.getSizeZ()\n",
    "size_c = image.getSizeC()\n",
    "size_t = image.getSizeT()\n",
    "\n",
    "large= weight  \n",
    "nidY=size_x/(int(large/int(large/2)))-3"
   ]
  },
  {
   "cell_type": "code",
   "execution_count": 138,
   "metadata": {
    "collapsed": true
   },
   "outputs": [],
   "source": [
    "partial_getDATA_coord = partial(gC.get_coordinates, imageId=imageId, large=large)"
   ]
  },
  {
   "cell_type": "code",
   "execution_count": 139,
   "metadata": {},
   "outputs": [],
   "source": [
    "pool = multiprocessing.Pool(28)\n",
    "(res)  = pool.map(partial_getDATA_coord, xrange(nidY))\n",
    "pool.close()"
   ]
  },
  {
   "cell_type": "code",
   "execution_count": 140,
   "metadata": {
    "collapsed": true
   },
   "outputs": [],
   "source": [
    "filename_res2 =projectpath+'io/Output/res_bloc2.npy'"
   ]
  },
  {
   "cell_type": "code",
   "execution_count": 141,
   "metadata": {},
   "outputs": [],
   "source": [
    "np.save(filename_res2,res)"
   ]
  },
  {
   "cell_type": "code",
   "execution_count": null,
   "metadata": {
    "collapsed": true
   },
   "outputs": [],
   "source": [
    "res=np.load(filename_res)"
   ]
  },
  {
   "cell_type": "code",
   "execution_count": null,
   "metadata": {
    "collapsed": true
   },
   "outputs": [],
   "source": [
    "M_Mv=res[:,0]\n",
    "liste_coordonnees=res[:,1]"
   ]
  },
  {
   "cell_type": "code",
   "execution_count": null,
   "metadata": {
    "collapsed": true
   },
   "outputs": [],
   "source": [
    "# Coordinates of the ROI in the original image\n",
    "x_min=48+367\n",
    "y_min=2064+646\n",
    "w=615-367\n",
    "h=920-646\n",
    "x_max=x_min+w\n",
    "y_max=y_min+h"
   ]
  },
  {
   "cell_type": "code",
   "execution_count": null,
   "metadata": {
    "collapsed": true
   },
   "outputs": [],
   "source": [
    "# Reshape the list of coordinates\n",
    "b=np.vstack(liste_coordonnees)"
   ]
  },
  {
   "cell_type": "code",
   "execution_count": null,
   "metadata": {
    "collapsed": true
   },
   "outputs": [],
   "source": [
    "x_from_liste_coordonnees=b[:,0]\n",
    "y_from_liste_coordonnees=b[:,1]\n",
    "ind_lign_from_liste_coordonnees=b[:,2]\n",
    "ind_col_from_liste_coordonnees=b[:,3]"
   ]
  },
  {
   "cell_type": "raw",
   "metadata": {
    "collapsed": true
   },
   "source": [
    "Matrix_TEST=np.vstack(M_Mv)"
   ]
  },
  {
   "cell_type": "raw",
   "metadata": {
    "collapsed": true
   },
   "source": [
    "Matrix_TEST=Matrix_TEST/255.0"
   ]
  },
  {
   "cell_type": "raw",
   "metadata": {
    "collapsed": true
   },
   "source": [
    "PLOT_Im(Matrix_TEST[234])"
   ]
  },
  {
   "cell_type": "code",
   "execution_count": null,
   "metadata": {
    "collapsed": true
   },
   "outputs": [],
   "source": [
    "filename_Matrix_TEST =projectpath+'io/Output/Matrix_TEST.npy'"
   ]
  },
  {
   "cell_type": "raw",
   "metadata": {},
   "source": [
    "np.save(filename_Matrix_TEST,Matrix_TEST)"
   ]
  },
  {
   "cell_type": "code",
   "execution_count": null,
   "metadata": {
    "collapsed": true
   },
   "outputs": [],
   "source": [
    "Matrix_TEST=np.load(filename_Matrix_TEST)"
   ]
  },
  {
   "cell_type": "code",
   "execution_count": null,
   "metadata": {
    "collapsed": true
   },
   "outputs": [],
   "source": [
    "coords=np.where((np.hstack(x_from_liste_coordonnees)>=x_min) & (np.hstack(x_from_liste_coordonnees)<=x_max) & (np.hstack(y_from_liste_coordonnees)>=y_min) & (np.hstack(y_from_liste_coordonnees)<=y_max))[0]"
   ]
  },
  {
   "cell_type": "code",
   "execution_count": null,
   "metadata": {
    "collapsed": true
   },
   "outputs": [],
   "source": [
    "filename_Im_to_convert_GRAY =projectpath+'io/Output/Im_to_convert_GRAY.npy'"
   ]
  },
  {
   "cell_type": "code",
   "execution_count": null,
   "metadata": {
    "collapsed": true
   },
   "outputs": [],
   "source": [
    "Im_to_convert_GRAY=Matrix_TEST[coords]"
   ]
  },
  {
   "cell_type": "code",
   "execution_count": null,
   "metadata": {
    "collapsed": true
   },
   "outputs": [],
   "source": [
    "np.save(filename_Im_to_convert_GRAY ,Im_to_convert_GRAY)"
   ]
  },
  {
   "cell_type": "markdown",
   "metadata": {},
   "source": [
    "## Process for one tile ipynb"
   ]
  },
  {
   "cell_type": "code",
   "execution_count": null,
   "metadata": {},
   "outputs": [],
   "source": [
    "import process_for_one_tile as pt\n",
    "reload(pt);"
   ]
  },
  {
   "cell_type": "code",
   "execution_count": null,
   "metadata": {
    "collapsed": true
   },
   "outputs": [],
   "source": [
    "Im_to_convert_GRAY=np.load(filename_Im_to_convert_GRAY)"
   ]
  },
  {
   "cell_type": "code",
   "execution_count": null,
   "metadata": {
    "collapsed": true
   },
   "outputs": [],
   "source": [
    "size_=Im_to_convert_GRAY.shape[0]-1\n",
    "nidx=Im_to_convert_GRAY.shape[0]"
   ]
  },
  {
   "cell_type": "code",
   "execution_count": null,
   "metadata": {
    "collapsed": true
   },
   "outputs": [],
   "source": [
    "partial_get_Get_proba = partial(pt.Get_proba, h=height, w=weight, M_mean=Im_to_convert_GRAY, nb_features=nb_features)"
   ]
  },
  {
   "cell_type": "raw",
   "metadata": {},
   "source": [
    "pool = multiprocessing.Pool(27)\n",
    "Im_Proba = pool.map(partial_get_Get_proba,xrange(size_))\n",
    "pool.close()"
   ]
  },
  {
   "cell_type": "code",
   "execution_count": null,
   "metadata": {
    "collapsed": true
   },
   "outputs": [],
   "source": [
    "filename_Im_Proba =projectpath+'io/Output/Im_Proba.npy'"
   ]
  },
  {
   "cell_type": "raw",
   "metadata": {},
   "source": [
    "np.save(filename_Im_Proba, Im_Proba)"
   ]
  },
  {
   "cell_type": "code",
   "execution_count": null,
   "metadata": {
    "collapsed": true
   },
   "outputs": [],
   "source": [
    "################################\""
   ]
  },
  {
   "cell_type": "code",
   "execution_count": null,
   "metadata": {
    "collapsed": true
   },
   "outputs": [],
   "source": [
    "Im_Proba=np.load(filename_Im_Proba)"
   ]
  },
  {
   "cell_type": "code",
   "execution_count": null,
   "metadata": {
    "collapsed": true
   },
   "outputs": [],
   "source": [
    "Im_proba=np.zeros([Im_Proba.shape[0], Im_Proba.shape[2]])\n",
    "\n",
    "for g in range(0,Im_Proba.shape[0]):\n",
    "    Im_proba[g]=Im_Proba[g][g]"
   ]
  },
  {
   "cell_type": "code",
   "execution_count": null,
   "metadata": {
    "collapsed": true
   },
   "outputs": [],
   "source": [
    "filename_Im_proba =projectpath+'io/Output/Im_proba.npy'"
   ]
  },
  {
   "cell_type": "code",
   "execution_count": null,
   "metadata": {
    "collapsed": true
   },
   "outputs": [],
   "source": [
    "Im_proba=np.save(filename_Im_proba,Im_proba)"
   ]
  },
  {
   "cell_type": "code",
   "execution_count": null,
   "metadata": {
    "collapsed": true
   },
   "outputs": [],
   "source": [
    "Im_proba=np.load(filename_Im_proba)"
   ]
  },
  {
   "cell_type": "code",
   "execution_count": null,
   "metadata": {
    "collapsed": true
   },
   "outputs": [],
   "source": []
  },
  {
   "cell_type": "raw",
   "metadata": {
    "collapsed": true
   },
   "source": [
    "plt.figure()\n",
    "plt.title('predict_probability Astrocytes VS predict_probability Background')\n",
    "plt.scatter(Im_proba[:,0],Im_proba[:,2])"
   ]
  },
  {
   "cell_type": "raw",
   "metadata": {
    "collapsed": true
   },
   "source": [
    "plt.figure()\n",
    "plt.title('histogram of Neurons proba')\n",
    "plt.xlabel(\"Value\")\n",
    "plt.ylabel(\"Frequency\")\n",
    "plt.hist(Im_proba[:,1],bins=50)"
   ]
  },
  {
   "cell_type": "code",
   "execution_count": null,
   "metadata": {
    "collapsed": true
   },
   "outputs": [],
   "source": [
    "Probability_img=np.zeros([Im_proba.shape[0]+1,Im_proba.shape[1]])\n",
    "Probability_img[:Im_proba.shape[0]]=Im_proba\n",
    "Probability_img[Im_proba.shape[0]]=Probability_img[Im_proba.shape[0]-1]"
   ]
  },
  {
   "cell_type": "code",
   "execution_count": null,
   "metadata": {
    "collapsed": true
   },
   "outputs": [],
   "source": [
    "conn = BlitzGateway('tbacoyannis','d33pl34rn1ng',port=4064,host='chinensis.polytechnique.fr')\n",
    "connected = conn.connect()\n",
    "imageId=451\n",
    "image = conn.getObject(\"Image\", imageId)\n",
    "pixels = image.getPrimaryPixels() # get raw pixels information\n",
    "\n",
    "pxobj_CH1 = pixels.getTile(theZ=103, theC=0, theT=0, tile=(x_min,y_min, x_max-x_min , y_max-y_min ))\n",
    "pxobj_CH2 = pixels.getTile(theZ=103, theC=1, theT=0, tile=(x_min,y_min, x_max-x_min , y_max-y_min ))\n",
    "pxobj_CH3 = pixels.getTile(theZ=103, theC=2, theT=0, tile=(x_min,y_min, x_max-x_min , y_max-y_min ))"
   ]
  },
  {
   "cell_type": "code",
   "execution_count": null,
   "metadata": {
    "collapsed": true
   },
   "outputs": [],
   "source": [
    "# Get the normalized original image\n",
    "pxobj=(pxobj_CH1+pxobj_CH2+pxobj_CH3)/3"
   ]
  },
  {
   "cell_type": "code",
   "execution_count": null,
   "metadata": {
    "collapsed": true
   },
   "outputs": [],
   "source": [
    "e=124\n",
    "CH1=Probability_img[:,0]\n",
    "CH1=np.reshape(CH1, (-1, e) )\n",
    "CH1=CH1[:,:, np.newaxis]\n",
    "#     plt.title('Proba Astrocytes')\n",
    "\n",
    "CH2=Probability_img[:,1]\n",
    "CH2=np.reshape(CH2,(-1,e))\n",
    "CH2=CH2[:,:,np.newaxis]\n",
    "#     plt.title('Proba Neurons')\n",
    "\n",
    "\n",
    "CH3=Probability_img[:,2]\n",
    "CH3=np.reshape(CH3, (-1, e) )\n",
    "CH3=CH3[:,:,np.newaxis]\n",
    "#     plt.title('Proba Background')\n",
    "\n",
    "Z=np.dstack([CH1,CH2,CH3])"
   ]
  },
  {
   "cell_type": "code",
   "execution_count": null,
   "metadata": {
    "collapsed": true
   },
   "outputs": [],
   "source": [
    "filename_RGB_proba_im =projectpath+'io/Output/RGB_proba_im.npy'"
   ]
  },
  {
   "cell_type": "code",
   "execution_count": null,
   "metadata": {
    "collapsed": true
   },
   "outputs": [],
   "source": [
    "np.save(filename_RGB_proba_im,Z)"
   ]
  },
  {
   "cell_type": "code",
   "execution_count": null,
   "metadata": {
    "collapsed": true
   },
   "outputs": [],
   "source": [
    "Z=np.load(filename_RGB_proba_im)"
   ]
  },
  {
   "cell_type": "raw",
   "metadata": {
    "collapsed": true
   },
   "source": [
    "plt.figure()\n",
    "plt.scatter(Z[:,:,0], Z[:,:,1], s = 130, c = 'yellow', marker = '*', edgecolors = 'green', label=['Proba Astrocytes', 'Proba Neurons'])\n",
    "plt.scatter(Z[:,:,0], Z[:,:,2], s = 50, c = 'red', marker = '+', linewidth = 3, label=['Proba Astrocytes', 'Proba Background'])\n",
    "plt.scatter(Z[:,:,1], Z[:,:,2], s = 50, c = 'cyan', marker = 'o', edgecolors = 'none', label=['Proba Neurons', 'Proba Background'])\n",
    "plt.title('scatter plot')\n",
    "plt.legend()"
   ]
  },
  {
   "cell_type": "code",
   "execution_count": null,
   "metadata": {
    "collapsed": true
   },
   "outputs": [],
   "source": [
    "import IM_Display_RGB as imd\n",
    "reload(imd);"
   ]
  },
  {
   "cell_type": "code",
   "execution_count": null,
   "metadata": {},
   "outputs": [],
   "source": [
    "imd.imshowRGB(Z,pxobj,10)"
   ]
  },
  {
   "cell_type": "code",
   "execution_count": null,
   "metadata": {
    "collapsed": true
   },
   "outputs": [],
   "source": []
  },
  {
   "cell_type": "code",
   "execution_count": null,
   "metadata": {
    "collapsed": true
   },
   "outputs": [],
   "source": []
  },
  {
   "cell_type": "code",
   "execution_count": null,
   "metadata": {
    "collapsed": true
   },
   "outputs": [],
   "source": []
  },
  {
   "cell_type": "code",
   "execution_count": null,
   "metadata": {
    "collapsed": true
   },
   "outputs": [],
   "source": []
  },
  {
   "cell_type": "raw",
   "metadata": {},
   "source": []
  },
  {
   "cell_type": "code",
   "execution_count": null,
   "metadata": {
    "collapsed": true
   },
   "outputs": [],
   "source": []
  },
  {
   "cell_type": "raw",
   "metadata": {},
   "source": []
  },
  {
   "cell_type": "raw",
   "metadata": {},
   "source": []
  },
  {
   "cell_type": "code",
   "execution_count": null,
   "metadata": {
    "collapsed": true
   },
   "outputs": [],
   "source": []
  },
  {
   "cell_type": "code",
   "execution_count": null,
   "metadata": {
    "collapsed": true
   },
   "outputs": [],
   "source": []
  },
  {
   "cell_type": "code",
   "execution_count": null,
   "metadata": {
    "collapsed": true
   },
   "outputs": [],
   "source": []
  },
  {
   "cell_type": "code",
   "execution_count": null,
   "metadata": {
    "collapsed": true
   },
   "outputs": [],
   "source": []
  },
  {
   "cell_type": "code",
   "execution_count": null,
   "metadata": {
    "collapsed": true
   },
   "outputs": [],
   "source": []
  },
  {
   "cell_type": "code",
   "execution_count": null,
   "metadata": {
    "collapsed": true
   },
   "outputs": [],
   "source": []
  },
  {
   "cell_type": "code",
   "execution_count": null,
   "metadata": {
    "collapsed": true
   },
   "outputs": [],
   "source": []
  },
  {
   "cell_type": "code",
   "execution_count": null,
   "metadata": {
    "collapsed": true
   },
   "outputs": [],
   "source": []
  },
  {
   "cell_type": "code",
   "execution_count": null,
   "metadata": {
    "collapsed": true
   },
   "outputs": [],
   "source": []
  },
  {
   "cell_type": "code",
   "execution_count": null,
   "metadata": {
    "collapsed": true
   },
   "outputs": [],
   "source": []
  },
  {
   "cell_type": "code",
   "execution_count": null,
   "metadata": {
    "collapsed": true
   },
   "outputs": [],
   "source": []
  },
  {
   "cell_type": "code",
   "execution_count": null,
   "metadata": {
    "collapsed": true
   },
   "outputs": [],
   "source": []
  },
  {
   "cell_type": "code",
   "execution_count": null,
   "metadata": {
    "collapsed": true
   },
   "outputs": [],
   "source": []
  },
  {
   "cell_type": "code",
   "execution_count": null,
   "metadata": {
    "collapsed": true
   },
   "outputs": [],
   "source": []
  },
  {
   "cell_type": "code",
   "execution_count": null,
   "metadata": {
    "collapsed": true
   },
   "outputs": [],
   "source": []
  },
  {
   "cell_type": "code",
   "execution_count": null,
   "metadata": {
    "collapsed": true
   },
   "outputs": [],
   "source": []
  },
  {
   "cell_type": "code",
   "execution_count": null,
   "metadata": {
    "collapsed": true
   },
   "outputs": [],
   "source": []
  },
  {
   "cell_type": "code",
   "execution_count": null,
   "metadata": {
    "collapsed": true
   },
   "outputs": [],
   "source": []
  },
  {
   "cell_type": "code",
   "execution_count": null,
   "metadata": {
    "collapsed": true
   },
   "outputs": [],
   "source": []
  },
  {
   "cell_type": "code",
   "execution_count": null,
   "metadata": {
    "collapsed": true
   },
   "outputs": [],
   "source": []
  },
  {
   "cell_type": "code",
   "execution_count": null,
   "metadata": {
    "collapsed": true
   },
   "outputs": [],
   "source": []
  },
  {
   "cell_type": "code",
   "execution_count": null,
   "metadata": {
    "collapsed": true
   },
   "outputs": [],
   "source": []
  },
  {
   "cell_type": "code",
   "execution_count": null,
   "metadata": {
    "collapsed": true
   },
   "outputs": [],
   "source": []
  },
  {
   "cell_type": "code",
   "execution_count": null,
   "metadata": {
    "collapsed": true
   },
   "outputs": [],
   "source": []
  },
  {
   "cell_type": "code",
   "execution_count": null,
   "metadata": {
    "collapsed": true
   },
   "outputs": [],
   "source": []
  },
  {
   "cell_type": "code",
   "execution_count": null,
   "metadata": {
    "collapsed": true
   },
   "outputs": [],
   "source": []
  },
  {
   "cell_type": "code",
   "execution_count": null,
   "metadata": {
    "collapsed": true
   },
   "outputs": [],
   "source": []
  },
  {
   "cell_type": "code",
   "execution_count": null,
   "metadata": {
    "collapsed": true
   },
   "outputs": [],
   "source": []
  },
  {
   "cell_type": "code",
   "execution_count": null,
   "metadata": {
    "collapsed": true
   },
   "outputs": [],
   "source": []
  },
  {
   "cell_type": "code",
   "execution_count": null,
   "metadata": {
    "collapsed": true
   },
   "outputs": [],
   "source": []
  },
  {
   "cell_type": "code",
   "execution_count": null,
   "metadata": {
    "collapsed": true
   },
   "outputs": [],
   "source": []
  },
  {
   "cell_type": "code",
   "execution_count": null,
   "metadata": {
    "collapsed": true
   },
   "outputs": [],
   "source": []
  },
  {
   "cell_type": "code",
   "execution_count": null,
   "metadata": {
    "collapsed": true
   },
   "outputs": [],
   "source": []
  },
  {
   "cell_type": "code",
   "execution_count": null,
   "metadata": {
    "collapsed": true
   },
   "outputs": [],
   "source": []
  },
  {
   "cell_type": "code",
   "execution_count": null,
   "metadata": {
    "collapsed": true
   },
   "outputs": [],
   "source": []
  },
  {
   "cell_type": "code",
   "execution_count": null,
   "metadata": {
    "collapsed": true
   },
   "outputs": [],
   "source": []
  },
  {
   "cell_type": "code",
   "execution_count": null,
   "metadata": {
    "collapsed": true
   },
   "outputs": [],
   "source": []
  },
  {
   "cell_type": "code",
   "execution_count": null,
   "metadata": {
    "collapsed": true
   },
   "outputs": [],
   "source": []
  },
  {
   "cell_type": "code",
   "execution_count": null,
   "metadata": {
    "collapsed": true
   },
   "outputs": [],
   "source": []
  },
  {
   "cell_type": "code",
   "execution_count": null,
   "metadata": {
    "collapsed": true
   },
   "outputs": [],
   "source": []
  },
  {
   "cell_type": "code",
   "execution_count": null,
   "metadata": {
    "collapsed": true
   },
   "outputs": [],
   "source": []
  },
  {
   "cell_type": "code",
   "execution_count": null,
   "metadata": {
    "collapsed": true
   },
   "outputs": [],
   "source": []
  },
  {
   "cell_type": "code",
   "execution_count": null,
   "metadata": {
    "collapsed": true
   },
   "outputs": [],
   "source": []
  },
  {
   "cell_type": "code",
   "execution_count": null,
   "metadata": {
    "collapsed": true
   },
   "outputs": [],
   "source": []
  },
  {
   "cell_type": "code",
   "execution_count": null,
   "metadata": {
    "collapsed": true
   },
   "outputs": [],
   "source": []
  },
  {
   "cell_type": "code",
   "execution_count": null,
   "metadata": {
    "collapsed": true
   },
   "outputs": [],
   "source": []
  },
  {
   "cell_type": "code",
   "execution_count": null,
   "metadata": {
    "collapsed": true
   },
   "outputs": [],
   "source": []
  },
  {
   "cell_type": "code",
   "execution_count": null,
   "metadata": {
    "collapsed": true
   },
   "outputs": [],
   "source": []
  }
 ],
 "metadata": {
  "kernelspec": {
   "display_name": "Python 2",
   "language": "python",
   "name": "python2"
  },
  "language_info": {
   "codemirror_mode": {
    "name": "ipython",
    "version": 2
   },
   "file_extension": ".py",
   "mimetype": "text/x-python",
   "name": "python",
   "nbconvert_exporter": "python",
   "pygments_lexer": "ipython2",
   "version": "2.7.12"
  }
 },
 "nbformat": 4,
 "nbformat_minor": 2
}
