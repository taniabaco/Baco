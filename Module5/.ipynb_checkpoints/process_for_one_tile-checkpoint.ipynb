{
 "cells": [
  {
   "cell_type": "code",
   "execution_count": 31,
   "metadata": {
    "collapsed": true
   },
   "outputs": [],
   "source": [
    "import numpy as np\n",
    "import pandas as pd\n",
    "from skimage.io import imshow, imsave\n",
    "from skimage.color import rgb2gray\n",
    "from functools import partial\n",
    "import multiprocessing"
   ]
  },
  {
   "cell_type": "code",
   "execution_count": 32,
   "metadata": {
    "collapsed": true
   },
   "outputs": [],
   "source": [
    "from sklearn.pipeline import Pipeline\n",
    "from sklearn import decomposition\n",
    "from sklearn.decomposition import PCA\n",
    "from mpl_toolkits.mplot3d import Axes3D\n",
    "import matplotlib.pyplot as plt\n",
    "from sklearn.ensemble import RandomForestClassifier\n",
    "from sklearn import datasets, linear_model, cross_validation, grid_search\n",
    "from sklearn.metrics import confusion_matrix\n",
    "import seaborn as sns\n",
    "%matplotlib notebook\n",
    "from sklearn import metrics\n",
    "from sklearn.model_selection import cross_val_predict\n",
    "from sklearn.model_selection import train_test_split\n",
    "from sklearn.model_selection import GridSearchCV"
   ]
  },
  {
   "cell_type": "code",
   "execution_count": 33,
   "metadata": {
    "collapsed": true
   },
   "outputs": [],
   "source": [
    "from wndcharm.PyImageMatrix import PyImageMatrix\n",
    "from wndcharm.FeatureVector import FeatureVector\n",
    "import time"
   ]
  },
  {
   "cell_type": "code",
   "execution_count": 34,
   "metadata": {
    "collapsed": true
   },
   "outputs": [],
   "source": [
    "%run ./configure.ipynb"
   ]
  },
  {
   "cell_type": "code",
   "execution_count": 35,
   "metadata": {
    "collapsed": true
   },
   "outputs": [],
   "source": [
    "filename_Im_to_convert_GRAY=projectpath+'io/Output/Im_to_convert_GRAY.npy'"
   ]
  },
  {
   "cell_type": "code",
   "execution_count": 36,
   "metadata": {
    "collapsed": true
   },
   "outputs": [],
   "source": [
    "Im_to_convert_GRAY=np.load(filename_Im_to_convert_GRAY)"
   ]
  },
  {
   "cell_type": "code",
   "execution_count": 37,
   "metadata": {
    "collapsed": true
   },
   "outputs": [],
   "source": [
    "size_=Im_to_convert_GRAY.shape[0]-1"
   ]
  },
  {
   "cell_type": "code",
   "execution_count": 38,
   "metadata": {
    "collapsed": true
   },
   "outputs": [],
   "source": [
    "imageId=451\n",
    "zsize=3\n",
    "heigth=25\n",
    "weigth=25\n",
    "nidx=Im_to_convert_GRAY.shape[0]\n",
    "\n",
    "nb_features=2919"
   ]
  },
  {
   "cell_type": "code",
   "execution_count": 39,
   "metadata": {
    "collapsed": true
   },
   "outputs": [],
   "source": [
    "def Get_true_y(DF):\n",
    "    y=np.zeros([DF.shape[0]])\n",
    "    for j in range(0,DF.shape[0]):\n",
    "        if (DF.TYPE[j]==1):\n",
    "            y[j]=1\n",
    "        elif (DF.TYPE[j]==2):\n",
    "            y[j]=2\n",
    "        else :\n",
    "            y[j]=3\n",
    "        yr=(y.reshape(-1,1)).ravel() \n",
    "            #yr = yr.ravel()   \n",
    "    return(yr)"
   ]
  },
  {
   "cell_type": "code",
   "execution_count": 40,
   "metadata": {
    "collapsed": true
   },
   "outputs": [],
   "source": [
    "def Get_proba(ind,h,w, M_mean,nb_features):\n",
    "    img=np.empty([h,w,3])\n",
    "    GRAY_IM=np.empty([h,w])\n",
    "    img=M_mean[:,:,:][ind]\n",
    "    for d, label in enumerate( ('r', 'g', 'b')):\n",
    "        plane = img[:,:,d]\n",
    "    gray_img = rgb2gray(img)\n",
    "    gray_img = (gray_img * 255 ).astype( np.uint8 )\n",
    "    GRAY_IM[:,:]=gray_img-np.mean(gray_img)\n",
    "    GRAY_IM\n",
    "    \n",
    "    FV=np.empty([nb_features])\n",
    "    matrix = PyImageMatrix()\n",
    "    matrix.allocate(h, w)\n",
    "    numpy_matrix = matrix.as_ndarray()\n",
    "    numpy_matrix[:] = GRAY_IM[:,:]\n",
    "    fv = FeatureVector( name='stufff', long=True, original_px_plane=matrix )\n",
    "    t1 = time.time()\n",
    "    fv.GenerateFeatures(quiet=True, write_to_disk=False)\n",
    "    t2 = time.time()\n",
    "    \n",
    "    FV[:]=fv.values\n",
    "    Names=fv.feature_names\n",
    "    FV\n",
    "    FV=FV.astype(float)\n",
    "    \n",
    "    pca = decomposition.PCA()\n",
    "    RFC= RandomForestClassifier()\n",
    "\n",
    "    estimators = [('reduce_dim', pca), ('Random_Forest', RFC)]\n",
    "    pipe = Pipeline(estimators)\n",
    "    \n",
    "    params = dict(reduce_dim__n_components=90,Random_Forest__n_estimators=200,Random_Forest__random_state=0)\n",
    "    \n",
    "    \n",
    "    filename_FVN =projectpath+'io/Output/FV_N.npy'\n",
    "    FV_N=np.load(filename_FVN)\n",
    "    X=FV_N  \n",
    "    \n",
    "    Data_FRAMES=pd.read_pickle(projectpath+'io/Output/Dataframe_.pkl')\n",
    "    yr=Get_true_y(Data_FRAMES)\n",
    "    \n",
    "    filename_yr =projectpath+'io/Output/yr.npy'\n",
    "    yr=np.load(filename_yr)\n",
    "  \n",
    "    RFC=RandomForestClassifier(n_estimators=200, random_state=0)\n",
    "    \n",
    "    \n",
    "    predictedVAL = cross_val_predict(RFC, X, yr , n_jobs =-1)\n",
    "    metrics.accuracy_score(yr, predictedVAL) \n",
    "    Conf_Mat=confusion_matrix(yr, predictedVAL)\n",
    "\n",
    "    \n",
    "    RFC.fit(X, yr)\n",
    "    \n",
    "    predict_probab=np.ones([M_mean.shape[0],3])\n",
    "    \n",
    "    predict_proba=RFC.predict_proba(FV)\n",
    "    \n",
    "    predict_probab[ind,0]=predict_proba[:,0]\n",
    "    predict_probab[ind,1]=predict_proba[:,1]\n",
    "    predict_probab[ind,2]=predict_proba[:,2]\n",
    "    \n",
    "    return(predict_probab)"
   ]
  },
  {
   "cell_type": "raw",
   "metadata": {
    "collapsed": true
   },
   "source": [
    "partial_get_Get_proba = partial(Get_proba, h=heigth, w=weigth, M_mean=Im_to_convert_GRAY, nb_features=nb_features)"
   ]
  },
  {
   "cell_type": "raw",
   "metadata": {},
   "source": [
    "# get raw data using multiprocesses\n",
    "pool = multiprocessing.Pool(27)\n",
    "Im_Pproba = pool.map(partial_get_Get_proba,xrange(size_))\n",
    "pool.close()"
   ]
  },
  {
   "cell_type": "code",
   "execution_count": 43,
   "metadata": {
    "collapsed": true
   },
   "outputs": [],
   "source": [
    "filename_Im_PProba =projectpath+'io/Output/Im_PProba.npy'"
   ]
  },
  {
   "cell_type": "raw",
   "metadata": {},
   "source": [
    "np.save(filename_Im_PProba, Im_Pproba)"
   ]
  },
  {
   "cell_type": "code",
   "execution_count": null,
   "metadata": {
    "collapsed": true
   },
   "outputs": [],
   "source": []
  }
 ],
 "metadata": {
  "kernelspec": {
   "display_name": "Python 2",
   "language": "python",
   "name": "python2"
  },
  "language_info": {
   "codemirror_mode": {
    "name": "ipython",
    "version": 2
   },
   "file_extension": ".py",
   "mimetype": "text/x-python",
   "name": "python",
   "nbconvert_exporter": "python",
   "pygments_lexer": "ipython2",
   "version": "2.7.12"
  }
 },
 "nbformat": 4,
 "nbformat_minor": 2
}
