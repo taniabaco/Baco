{
 "cells": [
  {
   "cell_type": "code",
   "execution_count": 56,
   "metadata": {
    "collapsed": true
   },
   "outputs": [],
   "source": [
    "%matplotlib notebook\n",
    "import matplotlib.pyplot as plt\n",
    "from ipywidgets import interact, interactive, fixed\n",
    "import ipywidgets as widgets\n",
    "import numpy as np"
   ]
  },
  {
   "cell_type": "code",
   "execution_count": 57,
   "metadata": {
    "collapsed": true
   },
   "outputs": [],
   "source": [
    "%run ./configure.ipynb"
   ]
  },
  {
   "cell_type": "code",
   "execution_count": 58,
   "metadata": {
    "collapsed": true
   },
   "outputs": [],
   "source": [
    "def imshowRGB(IM,original_Im,s):\n",
    "    \n",
    "    def imshowsim(IM,original_Im,s,color):\n",
    "        fig = plt.subplots(figsize=(s, s))\n",
    "\n",
    "        if color=='RGB':\n",
    "            plt.title('Original image')\n",
    "            plt.imshow(original_Im[:,:],cmap='spectral')\n",
    "            plt.colorbar()\n",
    "        elif color=='Red':\n",
    "            plt.title('Image of Proba Astrocytes ')\n",
    "            plt.imshow(IM[:,:,0],cmap='Reds')\n",
    "            plt.colorbar()\n",
    "        elif color=='Green':\n",
    "            plt.title('Image of Proba Neurons ')\n",
    "            plt.imshow(IM[:,:,1],cmap='Greens')\n",
    "            plt.colorbar()\n",
    "        else:\n",
    "            plt.title('Image of Proba Background ')\n",
    "            plt.imshow(IM[:,:,2],cmap='Blues')\n",
    "            plt.colorbar()\n",
    "\n",
    "    interact(imshowsim, IM=fixed(IM),original_Im=fixed(original_Im),s=fixed(s), color=['RGB','Red','Green','Blue'])"
   ]
  },
  {
   "cell_type": "code",
   "execution_count": 73,
   "metadata": {
    "collapsed": true
   },
   "outputs": [],
   "source": [
    "filename_RGB_proba_im =projectpath+'io/Output/RGB_proba_im.npy'\n",
    "Z=np.load(filename_RGB_proba_im)\n",
    "\n",
    "# filename_pxobj_ =projectpath+'io/Output/pxobj_.npy'\n",
    "# pxobj_=np.load(filename_pxobj_)"
   ]
  },
  {
   "cell_type": "code",
   "execution_count": 74,
   "metadata": {},
   "outputs": [
    {
     "data": {
      "application/vnd.jupyter.widget-view+json": {
       "model_id": "27d53520264a4702b6b3154d8106a7e3"
      }
     },
     "metadata": {},
     "output_type": "display_data"
    }
   ],
   "source": [
    "imshowRGB(Z,10)"
   ]
  },
  {
   "cell_type": "code",
   "execution_count": null,
   "metadata": {
    "collapsed": true
   },
   "outputs": [],
   "source": []
  }
 ],
 "metadata": {
  "kernelspec": {
   "display_name": "Python 2",
   "language": "python",
   "name": "python2"
  },
  "language_info": {
   "codemirror_mode": {
    "name": "ipython",
    "version": 2
   },
   "file_extension": ".py",
   "mimetype": "text/x-python",
   "name": "python",
   "nbconvert_exporter": "python",
   "pygments_lexer": "ipython2",
   "version": "2.7.12"
  }
 },
 "nbformat": 4,
 "nbformat_minor": 2
}
