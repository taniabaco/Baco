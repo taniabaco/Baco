{
 "cells": [
  {
   "cell_type": "markdown",
   "metadata": {},
   "source": [
    "# Get the Partial Data\n",
    "## Mean volume of n- z-stacks"
   ]
  },
  {
   "cell_type": "markdown",
   "metadata": {},
   "source": [
    "### Divide the Pre-processed Data for Multiprocessing"
   ]
  },
  {
   "cell_type": "code",
   "execution_count": 15,
   "metadata": {
    "collapsed": true
   },
   "outputs": [],
   "source": [
    "import numpy as np\n",
    "import pandas as pd\n",
    "from functools import partial\n",
    "import multiprocessing"
   ]
  },
  {
   "cell_type": "code",
   "execution_count": 6,
   "metadata": {
    "collapsed": true
   },
   "outputs": [],
   "source": [
    "%run ./configure.ipynb"
   ]
  },
  {
   "cell_type": "code",
   "execution_count": 7,
   "metadata": {
    "collapsed": true
   },
   "outputs": [],
   "source": [
    "Data_FRAMES=pd.read_pickle(projectpath+'io/Output/Dataframe_.pkl')\n",
    "# Data_FRAMES=pd.read_pickle(projectpath+'io/Output/New_DF.pkl')"
   ]
  },
  {
   "cell_type": "code",
   "execution_count": 16,
   "metadata": {
    "collapsed": true
   },
   "outputs": [],
   "source": [
    "def get_mean_zstacks_data( index,imageId,zsize,h,w,Data_F):\n",
    "\n",
    "    conn = BlitzGateway('tbacoyannis','d33pl34rn1ng',port=4064,host='chinensis.polytechnique.fr')\n",
    "    connected = conn.connect()\n",
    "    \n",
    "    #imageId = 451\n",
    "    image = conn.getObject(\"Image\", imageId)\n",
    "    pixels = image.getPrimaryPixels() # get raw pixels information\n",
    "    \n",
    "    Matrix=np.zeros((zsize,h,w,3))\n",
    "   \n",
    "    x=Data_F.iloc[index].X - w/2\n",
    "    y=(Data_F.iloc[index].Y) - h/2\n",
    "    z=(Data_F.iloc[index].Pos)\n",
    "    \n",
    "    xtiles = np.ones(zsize,dtype=int)*x\n",
    "    ytiles = np.ones(zsize,dtype=int)*y\n",
    "    tilewidths = np.ones(zsize,dtype=int)*w\n",
    "    tileheights = np.ones(zsize,dtype=int)*h\n",
    "    tilestacks = zip(xtiles,ytiles,tilewidths,tileheights)\n",
    "    \n",
    "    zstacks=np.tile(np.arange(z-zsize/2,z+zsize/2+1),3)\n",
    "    \n",
    "    tstacks=np.zeros(zsize, dtype=int)\n",
    "    \n",
    "    for c in range(0,3):\n",
    "        cstacks=np.ones(zsize, dtype=int)*c\n",
    "        liste=zip(zstacks,cstacks,tstacks, tilestacks)\n",
    "        pxobj = pixels.getTiles(liste)\n",
    "        for i, p in enumerate(pxobj):\n",
    "            Matrix[i,:,:,c]=p\n",
    "            Norm_Matrix=(Matrix-np.min(Matrix))*1.0/(np.max(Matrix)-np.min(Matrix))\n",
    "    M_mean=np.mean(Norm_Matrix, axis=0)\n",
    "    \n",
    "    conn._closeSession()\n",
    "    \n",
    "    return(M_mean)"
   ]
  },
  {
   "cell_type": "markdown",
   "metadata": {
    "collapsed": true
   },
   "source": [
    "## Define Metrics values"
   ]
  },
  {
   "cell_type": "code",
   "execution_count": 5,
   "metadata": {
    "collapsed": true
   },
   "outputs": [],
   "source": [
    "# imageId=451\n",
    "# zsize=3\n",
    "# heigth=50\n",
    "# weigth=50\n",
    "# nidx=Data_FRAMES.shape[0]"
   ]
  },
  {
   "cell_type": "code",
   "execution_count": 17,
   "metadata": {
    "collapsed": true
   },
   "outputs": [],
   "source": [
    "# TEST avec H=W=25\n",
    "\n",
    "imageId=451\n",
    "zsize=3\n",
    "heigth=25\n",
    "weigth=25\n",
    "nidx=Data_FRAMES.shape[0]"
   ]
  },
  {
   "cell_type": "markdown",
   "metadata": {},
   "source": [
    "## Compute "
   ]
  },
  {
   "cell_type": "raw",
   "metadata": {
    "collapsed": true
   },
   "source": [
    "partial_getDATA_MEAN = partial(get_mean_zstacks_data, imageId=imageId, zsize=zsize, h=heigth, w=weigth, Data_F=Data_FRAMES)"
   ]
  },
  {
   "cell_type": "raw",
   "metadata": {
    "collapsed": true
   },
   "source": [
    "# get raw data using multiprocesses\n",
    "pool = multiprocessing.Pool(27)\n",
    "M_Means = pool.map(partial_getDATA_MEAN,xrange(nidx))\n",
    "pool.close()"
   ]
  },
  {
   "cell_type": "markdown",
   "metadata": {},
   "source": [
    "## Save Normalized volums as numpy array"
   ]
  },
  {
   "cell_type": "code",
   "execution_count": null,
   "metadata": {
    "collapsed": true
   },
   "outputs": [],
   "source": [
    "filename_M_DF =projectpath+'io/Output/M_DF.npy'"
   ]
  },
  {
   "cell_type": "raw",
   "metadata": {
    "collapsed": true
   },
   "source": [
    "np.save(filename_M_DF,M_Means)"
   ]
  }
 ],
 "metadata": {
  "kernelspec": {
   "display_name": "Python 2",
   "language": "python",
   "name": "python2"
  },
  "language_info": {
   "codemirror_mode": {
    "name": "ipython",
    "version": 2
   },
   "file_extension": ".py",
   "mimetype": "text/x-python",
   "name": "python",
   "nbconvert_exporter": "python",
   "pygments_lexer": "ipython2",
   "version": "2.7.12"
  }
 },
 "nbformat": 4,
 "nbformat_minor": 2
}
