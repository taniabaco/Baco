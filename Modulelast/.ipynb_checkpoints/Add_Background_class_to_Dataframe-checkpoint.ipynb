{
 "cells": [
  {
   "cell_type": "code",
   "execution_count": 3,
   "metadata": {
    "collapsed": true
   },
   "outputs": [],
   "source": [
    "import numpy as np\n",
    "import pandas as pd"
   ]
  },
  {
   "cell_type": "code",
   "execution_count": 4,
   "metadata": {
    "collapsed": true
   },
   "outputs": [],
   "source": [
    "%run ./configure.ipynb"
   ]
  },
  {
   "cell_type": "code",
   "execution_count": 5,
   "metadata": {
    "collapsed": true
   },
   "outputs": [],
   "source": [
    "Data_FRAMES=pd.read_pickle(projectpath+'io/Output/Data_FRAMES.pkl')"
   ]
  },
  {
   "cell_type": "code",
   "execution_count": 6,
   "metadata": {
    "collapsed": true
   },
   "outputs": [],
   "source": [
    "datafr=np.zeros([18])\n",
    "datafr=pd.DataFrame(data=datafr)"
   ]
  },
  {
   "cell_type": "code",
   "execution_count": 7,
   "metadata": {
    "collapsed": true
   },
   "outputs": [],
   "source": [
    "ROI_nb=np.zeros(datafr.shape[0])\n",
    "ROI_nb=ROI_nb.reshape(-1,1)\n",
    "x=ROI_nb\n",
    "id_IMG=ROI_nb\n",
    "y=ROI_nb\n",
    "h=ROI_nb\n",
    "w=ROI_nb\n",
    "theZ=ROI_nb\n",
    "theT=ROI_nb"
   ]
  },
  {
   "cell_type": "code",
   "execution_count": 8,
   "metadata": {
    "collapsed": true
   },
   "outputs": [],
   "source": [
    "datafr['id']=id_IMG \n",
    "datafr['ROI_nb']=ROI_nb\n",
    "datafr['x']=x\n",
    "datafr['y']=y\n",
    "datafr['h']=h\n",
    "datafr['w']=w\n",
    "datafr['theZ']=theZ\n",
    "datafr['theT']=theT\n",
    "Background_DF=datafr.copy()"
   ]
  },
  {
   "cell_type": "code",
   "execution_count": 9,
   "metadata": {
    "collapsed": true
   },
   "outputs": [],
   "source": [
    "# Manually anotated ROIs (rectangles shapes) of background\n",
    "Background_DF.id[0]=451\n",
    "Background_DF.ROI_nb[0]=1\n",
    "Background_DF.x[0]=664\n",
    "Background_DF.y[0]=912\n",
    "Background_DF.theZ[0]=155\n",
    "Background_DF.w[0]=672\n",
    "Background_DF.h[0]=352\n",
    "\n",
    "Background_DF.id[1]=451\n",
    "Background_DF.ROI_nb[1]=2\n",
    "Background_DF.x[1]=1136\n",
    "Background_DF.y[1]=296\n",
    "Background_DF.theZ[1]=155\n",
    "Background_DF.w[1]=640\n",
    "Background_DF.h[1]=448\n",
    "\n",
    "Background_DF.id[ 2]=451\n",
    "Background_DF.ROI_nb[ 2]=3\n",
    "Background_DF.x[ 2]=1960\n",
    "Background_DF.y[ 2]=2756\n",
    "Background_DF.theZ[2 ]=158\n",
    "Background_DF.w[ 2]=344\n",
    "Background_DF.h[ 2]=128\n",
    "\n",
    "Background_DF.id[ 3]=451\n",
    "Background_DF.ROI_nb[ 3]=4\n",
    "Background_DF.x[3 ]=624\n",
    "Background_DF.y[ 3]=2020\n",
    "Background_DF.theZ[ 3]=158\n",
    "Background_DF.w[3]=268\n",
    "Background_DF.h[ 3]=216\n",
    "\n",
    "Background_DF.id[ 4]=451\n",
    "Background_DF.ROI_nb[ 4]=5\n",
    "Background_DF.x[4 ]=2044\n",
    "Background_DF.y[ 4]=2352\n",
    "Background_DF.theZ[4 ]=41\n",
    "Background_DF.w[4 ]=352\n",
    "Background_DF.h[ 4]=376\n",
    "\n",
    "Background_DF.id[ 5]=451\n",
    "Background_DF.ROI_nb[5 ]=6\n",
    "Background_DF.x[5 ]=1692\n",
    "Background_DF.y[ 5]=2088\n",
    "Background_DF.theZ[5 ]=45\n",
    "Background_DF.w[5 ]=609\n",
    "Background_DF.h[5 ]=336\n",
    "\n",
    "Background_DF.id[6 ]=451\n",
    "Background_DF.ROI_nb[6 ]=7\n",
    "Background_DF.x[6 ]=261\n",
    "Background_DF.y[ 6]=414\n",
    "Background_DF.theZ[6 ]=45\n",
    "Background_DF.w[6 ]=534\n",
    "Background_DF.h[6 ]=486\n",
    "\n",
    "Background_DF.id[7 ]=451\n",
    "Background_DF.ROI_nb[ 7]=8\n",
    "Background_DF.x[7 ]=654\n",
    "Background_DF.y[ 7]=3294\n",
    "Background_DF.theZ[ 7]=201\n",
    "Background_DF.w[7 ]=402\n",
    "Background_DF.h[ 7]=357\n",
    "\n",
    "Background_DF.id[8 ]=451\n",
    "Background_DF.ROI_nb[8 ]=9\n",
    "Background_DF.x[ 8]=732\n",
    "Background_DF.y[ 8]=1185\n",
    "Background_DF.theZ[8 ]=201\n",
    "Background_DF.w[8 ]=378\n",
    "Background_DF.h[ 8]=207\n",
    "\n",
    "Background_DF.id[ 9]=451\n",
    "Background_DF.ROI_nb[ 9]=10\n",
    "Background_DF.x[ 9]=36\n",
    "Background_DF.y[9 ]=2124\n",
    "Background_DF.theZ[9 ]=201\n",
    "Background_DF.w[ 9]=303\n",
    "Background_DF.h[9 ]=564\n",
    "\n",
    "Background_DF.id[ 10]=451\n",
    "Background_DF.ROI_nb[ 10]=11\n",
    "Background_DF.x[10 ]=835\n",
    "Background_DF.y[10 ]=2421\n",
    "Background_DF.theZ[ 10]=279\n",
    "Background_DF.w[10 ]=333\n",
    "Background_DF.h[10]=366\n",
    "\n",
    "Background_DF.id[11]=451\n",
    "Background_DF.ROI_nb[11 ]=12\n",
    "Background_DF.x[11 ]=334\n",
    "Background_DF.y[11]=3306\n",
    "Background_DF.theZ[11 ]=279\n",
    "Background_DF.w[11 ]=642\n",
    "Background_DF.h[11 ]=315\n",
    "\n",
    "Background_DF.id[12]=451\n",
    "Background_DF.ROI_nb[ 12]=13\n",
    "Background_DF.x[ 12]=595\n",
    "Background_DF.y[ 12]=3396\n",
    "Background_DF.theZ[12 ]=276\n",
    "Background_DF.w[12]=459\n",
    "Background_DF.h[12]=225\n",
    "\n",
    "Background_DF.id[13]=451\n",
    "Background_DF.ROI_nb[13]=14\n",
    "Background_DF.x[13]=853\n",
    "Background_DF.y[13]=2457\n",
    "Background_DF.theZ[13]=276\n",
    "Background_DF.w[13]=321\n",
    "Background_DF.h[13]=255\n",
    "\n",
    "Background_DF.id[14]=451\n",
    "Background_DF.ROI_nb[14]=15\n",
    "Background_DF.x[14]=367\n",
    "Background_DF.y[14]=2727\n",
    "Background_DF.theZ[14]=276\n",
    "Background_DF.w[14]=255\n",
    "Background_DF.h[14]=288\n",
    "\n",
    "Background_DF.id[15]=451\n",
    "Background_DF.ROI_nb[15]=16\n",
    "Background_DF.x[15]=1708\n",
    "Background_DF.y[15]=3135\n",
    "Background_DF.theZ[15]=276\n",
    "Background_DF.w[15]=189\n",
    "Background_DF.h[15]=156\n",
    "\n",
    "Background_DF.id[16]=451\n",
    "Background_DF.ROI_nb[16]=17\n",
    "Background_DF.x[16]=2506\n",
    "Background_DF.y[16]=2964\n",
    "Background_DF.theZ[16]=276\n",
    "Background_DF.w[16]=381\n",
    "Background_DF.h[16]=279"
   ]
  },
  {
   "cell_type": "code",
   "execution_count": 10,
   "metadata": {
    "collapsed": true
   },
   "outputs": [],
   "source": [
    "# choose randomly 31 points in each ROI \n",
    "xx=np.ones([Background_DF.shape[0]-1,31],dtype=int)\n",
    "yy=np.ones([Background_DF.shape[0]-1,31],dtype=int)\n",
    "zz=np.ones([Background_DF.shape[0]-1,31],dtype=int)\n",
    "\n",
    "for i in range(0,Background_DF.shape[0]-1):\n",
    "#     print i,int(Background_DF.x[i]), int(Background_DF.h[i])+int(Background_DF.x[i])\n",
    "    xx[i,:]=np.random.randint(int(Background_DF.x[i]), int(Background_DF.w[i])+int(Background_DF.x[i]), size=31)\n",
    "    yy[i,:]=np.random.randint(int(Background_DF.y[i]), int(Background_DF.h[i])+int(Background_DF.y[i]), size=31)  \n",
    "    zz[i,:]=np.ones([31])*(int(Background_DF.theZ[i]))\n",
    "    \n",
    "xx=np.reshape(xx, xx.shape[0]*xx.shape[1])\n",
    "yy=np.reshape(yy, yy.shape[0]*yy.shape[1])\n",
    "zz=np.reshape(zz, zz.shape[0]*zz.shape[1])"
   ]
  },
  {
   "cell_type": "code",
   "execution_count": 11,
   "metadata": {
    "collapsed": true
   },
   "outputs": [],
   "source": [
    "new_Background_DF_Shape0=(Background_DF.shape[0]+xx.shape[0])\n",
    "Background_DF_new=np.zeros([new_Background_DF_Shape0,Background_DF.shape[1]])"
   ]
  },
  {
   "cell_type": "code",
   "execution_count": 12,
   "metadata": {
    "collapsed": true
   },
   "outputs": [],
   "source": [
    "imageId=451"
   ]
  },
  {
   "cell_type": "code",
   "execution_count": 13,
   "metadata": {
    "collapsed": true
   },
   "outputs": [],
   "source": [
    "for i in range(0,Background_DF.shape[0]):\n",
    "    Background_DF_new[i,:]=Background_DF.iloc[i,:].copy()\n",
    "\n",
    "for k in range(0,xx.shape[0]):\n",
    "    Background_DF_new[k+Background_DF.shape[0],3]=xx[k]\n",
    "    Background_DF_new[k+Background_DF.shape[0],4]=yy[k]\n",
    "    Background_DF_new[k+Background_DF.shape[0],7]=zz[k]\n",
    "    Background_DF_new[k+Background_DF.shape[0],1]=imageId"
   ]
  },
  {
   "cell_type": "code",
   "execution_count": 14,
   "metadata": {
    "collapsed": true
   },
   "outputs": [],
   "source": [
    "df_Background_DF_new=pd.DataFrame(data=Background_DF_new)"
   ]
  },
  {
   "cell_type": "code",
   "execution_count": 15,
   "metadata": {
    "collapsed": true
   },
   "outputs": [],
   "source": [
    "columns_names = list(Data_FRAMES.columns.values)\n",
    "New_DF=np.zeros([df_Background_DF_new.shape[0],len(columns_names)])\n",
    "New_DF=pd.DataFrame(data=New_DF,columns= Data_FRAMES.columns)\n",
    "\n",
    "New_DF['X']=df_Background_DF_new.loc[:,3].copy()\n",
    "New_DF['Y']=df_Background_DF_new.loc[:,4].copy()\n",
    "New_DF['Pos']=df_Background_DF_new.loc[:,7].copy()\n",
    "New_DF['Height']=df_Background_DF_new.loc[:,5].copy()\n",
    "New_DF['Width']=df_Background_DF_new.loc[:,6].copy()\n",
    "New_DF['TYPE']=3.0\n",
    "New_DF['ID_Image']=imageId"
   ]
  },
  {
   "cell_type": "code",
   "execution_count": 27,
   "metadata": {
    "collapsed": true
   },
   "outputs": [],
   "source": [
    "# Exclure les x et y negatifs sinon ca ne fonctionne pas!\n",
    "def exclure(dfin,weight,height):\n",
    "    d=dfin.loc[dfin.Y<=(np.max([dfin.Y])-height/2)]\n",
    "    dfout=d.loc[d.X<=(max(d.X)-weight/2)]\n",
    "    return(dfout)"
   ]
  },
  {
   "cell_type": "code",
   "execution_count": 20,
   "metadata": {
    "collapsed": true
   },
   "outputs": [],
   "source": [
    "def getDF(DF):\n",
    "    D_Indexc=np.arange(0,DF.shape[0])\n",
    "    D_Indexc=np.ones(D_Indexc.shape[0])\n",
    "    D_Indexc=D_Indexc.reshape(-1,1)\n",
    "    for i in range(0, DF.shape[0]):\n",
    "        D_Indexc[i]=i*D_Indexc[i]\n",
    "    D_Indexc\n",
    "    DFS=DF\n",
    "    DFS['indice']=D_Indexc\n",
    "    return(DFS)"
   ]
  },
  {
   "cell_type": "code",
   "execution_count": 21,
   "metadata": {
    "collapsed": true
   },
   "outputs": [],
   "source": [
    "def Switch_Indices(DF):\n",
    "    (DF.index)=(DF.indice)[:]\n",
    "    return(DF)"
   ]
  },
  {
   "cell_type": "code",
   "execution_count": 26,
   "metadata": {},
   "outputs": [
    {
     "name": "stdout",
     "output_type": "stream",
     "text": [
      "2866.0\n",
      "3611.0\n"
     ]
    },
    {
     "data": {
      "text/plain": [
       "2863"
      ]
     },
     "execution_count": 26,
     "metadata": {},
     "output_type": "execute_result"
    }
   ],
   "source": [
    "New_DF=exclure(New_DF,25,25)"
   ]
  },
  {
   "cell_type": "code",
   "execution_count": null,
   "metadata": {
    "collapsed": true
   },
   "outputs": [],
   "source": [
    "New_DF=getDF(New_DF)"
   ]
  },
  {
   "cell_type": "code",
   "execution_count": null,
   "metadata": {
    "collapsed": true
   },
   "outputs": [],
   "source": [
    "New_DF=Switch_Indices(New_DF)"
   ]
  },
  {
   "cell_type": "code",
   "execution_count": 25,
   "metadata": {
    "collapsed": true
   },
   "outputs": [],
   "source": [
    "New_DF=New_DF.loc[New_DF.indice!=17].copy()"
   ]
  },
  {
   "cell_type": "code",
   "execution_count": null,
   "metadata": {
    "collapsed": true
   },
   "outputs": [],
   "source": [
    "New_DF=getDF(New_DF)\n",
    "New_DF=Switch_Indices(New_DF)"
   ]
  },
  {
   "cell_type": "code",
   "execution_count": null,
   "metadata": {
    "collapsed": true
   },
   "outputs": [],
   "source": [
    "# New_DF.to_pickle(projectpath+'io/Output/New_DF.pkl')"
   ]
  },
  {
   "cell_type": "code",
   "execution_count": 18,
   "metadata": {
    "collapsed": true
   },
   "outputs": [],
   "source": [
    "Dataframe_=pd.concat([Data_FRAMES, New_DF], axis=0)"
   ]
  },
  {
   "cell_type": "code",
   "execution_count": 23,
   "metadata": {
    "collapsed": true
   },
   "outputs": [],
   "source": [
    "Dataframe_=getDF(Dataframe_)"
   ]
  },
  {
   "cell_type": "code",
   "execution_count": 24,
   "metadata": {
    "collapsed": true
   },
   "outputs": [],
   "source": [
    "Dataframe_=Switch_Indices(Dataframe_)"
   ]
  },
  {
   "cell_type": "code",
   "execution_count": 19,
   "metadata": {
    "collapsed": true
   },
   "outputs": [],
   "source": [
    "import pickle\n",
    "import pandas as pd\n",
    "Dataframe_.to_pickle(projectpath+'io/Output/Dataframe_.pkl')"
   ]
  }
 ],
 "metadata": {
  "kernelspec": {
   "display_name": "Python 2",
   "language": "python",
   "name": "python2"
  },
  "language_info": {
   "codemirror_mode": {
    "name": "ipython",
    "version": 2
   },
   "file_extension": ".py",
   "mimetype": "text/x-python",
   "name": "python",
   "nbconvert_exporter": "python",
   "pygments_lexer": "ipython2",
   "version": "2.7.12"
  }
 },
 "nbformat": 4,
 "nbformat_minor": 2
}
